{
 "cells": [
  {
   "cell_type": "raw",
   "metadata": {},
   "source": [
    ".. _players:"
   ]
  },
  {
   "cell_type": "code",
   "execution_count": null,
   "metadata": {
    "tags": [
     "ha"
    ]
   },
   "outputs": [],
   "source": [
    "import numpy as np\n",
    "import itertools\n",
    "import random\n",
    "import math\n",
    "from typing import Union\n",
    "from datetime import timedelta, datetime\n",
    "\n",
    "import import_ipynb\n",
    "from index import Game, TreeGame, TreeStatsGame"
   ]
  },
  {
   "cell_type": "markdown",
   "metadata": {},
   "source": [
    "# Implementation of the agents\n",
    "\n",
    "This notebooks relies on the [implementation of the game rules](./rules.ipynb) to implement agents to play Awalé.\n",
    "Those agents range from plain simple (the random agent) to quite sophisticated (Greedy-weighted UCT)"
   ]
  },
  {
   "cell_type": "code",
   "execution_count": 1,
   "metadata": {},
   "outputs": [
    {
     "name": "stdout",
     "output_type": "stream",
     "text": [
      "importing Jupyter notebook from index.ipynb\n",
      "importing Jupyter notebook from /home/nikita/Code/Thesis/source/lib/draw.ipynb\n"
     ]
    }
   ],
   "source": [
    "def max_rand(iterable, key=lambda x: x):\n",
    "    '''Get the greatest element of an iterable and solve ties by a coin flip'''\n",
    "    maximum_value = max(key(x) for x in iterable)\n",
    "    keep = [x for x in iterable if key(x) == maximum_value]\n",
    "    return random.choice(keep)"
   ]
  },
  {
   "cell_type": "markdown",
   "metadata": {},
   "source": [
    "# Player class\n",
    "\n",
    "First we implement a player class. A player keeps track of the game state internaly. At each turn of the game, a player is called with the method `play()` to get the action played by the opponent (and thus update it's internal state) and then chooses an action with `get_action()`, updates once more it's internal state and then outputs it's action for the other player."
   ]
  },
  {
   "cell_type": "code",
   "execution_count": 2,
   "metadata": {},
   "outputs": [],
   "source": [
    "class Player:\n",
    "    def play(self, their_action):\n",
    "        # If we are the first player, there is no previous action\n",
    "        if their_action != -1:\n",
    "            # Play the opponent's move\n",
    "            self.root, _, _ = self.root.step(their_action)\n",
    "        else:\n",
    "            assert self.player_id == 0, \"Only the first player can have their_action=-1\"\n",
    "        \n",
    "        action = self.get_action()\n",
    "        self.root, _, _ = self.root.step(action)\n",
    "        \n",
    "        return action\n"
   ]
  },
  {
   "cell_type": "markdown",
   "metadata": {},
   "source": [
    "## Simple agents\n",
    "The random player just chooses an action at random between all the legal actions"
   ]
  },
  {
   "cell_type": "code",
   "execution_count": 3,
   "metadata": {},
   "outputs": [],
   "source": [
    "class RandomPlayer(Player):\n",
    "    def __init__(self, player_id):\n",
    "        self.root = Game()\n",
    "        self.player_id = player_id\n",
    "    \n",
    "    def get_action(self):\n",
    "        return random.choice(self.root.legal_actions)"
   ]
  },
  {
   "cell_type": "markdown",
   "metadata": {},
   "source": [
    "The greedy player tries all legal actions and chooses the one that gives him the best immediate reward : the number of seeds captured at that turn."
   ]
  },
  {
   "cell_type": "code",
   "execution_count": 4,
   "metadata": {},
   "outputs": [],
   "source": [
    "class GreedyPlayer(Player):\n",
    "    def __init__(self, player_id, eps=0):\n",
    "        self.root = Game()\n",
    "        self.player_id = player_id\n",
    "        self.eps = eps\n",
    "    \n",
    "    def get_action(self):\n",
    "        # Choose a move\n",
    "        children = []\n",
    "        \n",
    "        for legal_action in self.root.legal_actions:\n",
    "            new_state, captures, finished = self.root.step(legal_action)\n",
    "            if new_state.winner is None:\n",
    "                win = 0\n",
    "            elif new_state.winner == self.player_id:\n",
    "                win = 1\n",
    "            else:\n",
    "                win = -1\n",
    "            children.append((legal_action, captures, win))\n",
    "        \n",
    "        # order wins first, then by captures, then random\n",
    "        sorted_children = sorted(children, key=lambda a_c_w: (-a_c_w[2], -a_c_w[1], random.random()))\n",
    "        if random.random() < self.eps:\n",
    "            action = random.choice(self.root.legal_actions)\n",
    "        else:\n",
    "            action = sorted_children[0][0]\n",
    "            \n",
    "        return action"
   ]
  },
  {
   "cell_type": "markdown",
   "metadata": {},
   "source": [
    "## MCTS\n",
    "\n",
    "Now comes the agents using the MCTS algorithm.\n",
    "\n",
    "The MCTS first chooses a node to expand with the `tree_policy()` when the node is found, it is expanded with the `default_policy()`. When reaching a terminal node, the counters are updated. This is repeated `BUDGET` times and then the final action is chosen as the action that has the highest amount of wins.\n",
    "\n",
    "Both policies in this implementation are random walks."
   ]
  },
  {
   "cell_type": "code",
   "execution_count": 5,
   "metadata": {},
   "outputs": [],
   "source": [
    "class MCTSPlayer(Player):\n",
    "    def __init__(self, player_id, budget: Union[int, timedelta]):\n",
    "        self.root = TreeStatsGame()\n",
    "        self.player_id = player_id\n",
    "        self.budget = budget\n",
    "\n",
    "    def tree_policy(self, node):\n",
    "        while not node.is_leaf_game:\n",
    "            if node.is_fully_expanded:\n",
    "                node = random.choice(node.expanded_children)\n",
    "            else:\n",
    "                action = random.choice(node.legal_unvisited_actions)\n",
    "                node, _, _ = node.step(action)\n",
    "        return node\n",
    "    \n",
    "    def explore_tree(self):\n",
    "        # Choose a starting node\n",
    "        node = self.tree_policy(self.root)\n",
    "\n",
    "        # Run a simulation on that node\n",
    "        finished = node.game_finished\n",
    "        while not finished:\n",
    "            action = self.default_policy(node)\n",
    "            node, _, finished = node.step(action)\n",
    "\n",
    "        # Backtrack stats\n",
    "        node.update_stats(node.winner)\n",
    "    \n",
    "    def default_policy(self, node):\n",
    "        # Random walk\n",
    "        return random.choice(node.legal_actions)\n",
    "    \n",
    "    def action_score(self, x):\n",
    "        node = self.root.children[x]\n",
    "        if node is None:\n",
    "            return -random.random()\n",
    "\n",
    "        assert self.root.current_player == self.player_id\n",
    "        assert node.current_player != self.player_id\n",
    "\n",
    "        return node.wins[self.player_id]\n",
    "        \n",
    "    \n",
    "    def get_action(self):\n",
    "        if isinstance(self.budget, int):\n",
    "            for _ in range(self.budget):\n",
    "                self.explore_tree()\n",
    "        elif isinstance(self.budget, timedelta):\n",
    "            start = datetime.now()\n",
    "            end = start + self.budget\n",
    "            while datetime.now() < end:\n",
    "                self.explore_tree()\n",
    "        else:\n",
    "            raise TypeError(\"budget should be Union[int, timedelta], not %s\" % type(budget))\n",
    "        \n",
    "        possible_actions = self.root.legal_actions\n",
    "        return max(possible_actions, key=self.action_score)"
   ]
  },
  {
   "cell_type": "markdown",
   "metadata": {},
   "source": [
    "## Upper confidence for trees UCT\n",
    "\n",
    "`UCTPlayer` reuses the MCTS agent but subclasses the `tree_policy` and uses UCT"
   ]
  },
  {
   "cell_type": "code",
   "execution_count": 6,
   "metadata": {},
   "outputs": [],
   "source": [
    "class UCTPlayer(MCTSPlayer):\n",
    "    def __init__(self, player_id, budget: Union[int, timedelta], c: float):\n",
    "        super().__init__(player_id, budget)\n",
    "        self.c = c\n",
    "        \n",
    "    def node_score(self, node):\n",
    "        exporation = node.wins[node.current_opponent] / (node.n_playouts + 1)\n",
    "        exploitation = math.sqrt(math.log(node.parent().n_playouts) / (node.n_playouts + 1))\n",
    "        return exporation + self.c * exploitation\n",
    "\n",
    "    def tree_policy(self, node):\n",
    "        while not node.is_leaf_game:\n",
    "            if node.is_fully_expanded:\n",
    "                node = max_rand(node.expanded_children, key=self.node_score)\n",
    "            else:\n",
    "                action = random.choice(node.legal_unvisited_actions)\n",
    "                node, _, _ = node.step(action)\n",
    "        return node"
   ]
  },
  {
   "cell_type": "markdown",
   "metadata": {},
   "source": [
    " `GreedyUCTPlayer` subclasses `UCTPlayer` and changes the `default_policy` to weigh more the actions that will give more immediate rewards."
   ]
  },
  {
   "cell_type": "code",
   "execution_count": 7,
   "metadata": {},
   "outputs": [],
   "source": [
    "class GreedyUCTPlayer(UCTPlayer):    \n",
    "    def default_policy(self, node):\n",
    "        # Greedy walk\n",
    "        assert len(node.legal_actions) != 0\n",
    "        captures = [node.step(action)[1] + 1 for action in node.legal_actions]\n",
    "        return random.choices(node.legal_actions, weights=captures)[0]"
   ]
  },
  {
   "cell_type": "markdown",
   "metadata": {},
   "source": [
    "## Human player\n",
    "\n",
    "As a bonus, we implement a player that uses terminal/notebook inputs to choose its actions from a human.\n",
    "This enables us to play against the machine."
   ]
  },
  {
   "cell_type": "code",
   "execution_count": 8,
   "metadata": {},
   "outputs": [],
   "source": [
    " class HumanPlayer(Player):\n",
    "    def __init__(self, player_id):\n",
    "        self.root = Game()\n",
    "        self.player_id = player_id\n",
    "    \n",
    "    def get_action(self):\n",
    "        self.root.show_state()\n",
    "        action = -1\n",
    "        while action not in self.root.legal_actions:\n",
    "            action = int(input(\"Input move [0-5]: \"))\n",
    "            if action not in self.root.legal_actions:\n",
    "                print(\"Illegal move\")\n",
    "            print(\"\\n\")\n",
    "        return action"
   ]
  },
  {
   "cell_type": "code",
   "execution_count": null,
   "metadata": {},
   "outputs": [],
   "source": []
  }
 ],
 "metadata": {
  "celltoolbar": "Tags",
  "kernelspec": {
   "display_name": "Python 3",
   "language": "python",
   "name": "python3"
  },
  "language_info": {
   "codemirror_mode": {
    "name": "ipython",
    "version": 3
   },
   "file_extension": ".py",
   "mimetype": "text/x-python",
   "name": "python",
   "nbconvert_exporter": "python",
   "pygments_lexer": "ipython3",
   "version": "3.7.9"
  }
 },
 "nbformat": 4,
 "nbformat_minor": 2
}
