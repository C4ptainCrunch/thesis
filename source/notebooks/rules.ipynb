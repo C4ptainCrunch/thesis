{
 "cells": [
  {
   "cell_type": "code",
   "execution_count": 4,
   "metadata": {
    "tags": [
     "ha"
    ]
   },
   "outputs": [],
   "source": [
    "import numpy as np\n",
    "import itertools\n",
    "from recordclass import recordclass"
   ]
  },
  {
   "cell_type": "raw",
   "metadata": {},
   "source": [
    ":orphan:\n",
    "\n",
    "Implementation of the rules\n",
    "~~~~~~~~~~~~~~~~~~~~~~~~~~~\n",
    "\n",
    "This notebook implements the rules of Awalé.\n",
    "As the rest of this work is always using trees as the base model for a game,\n",
    "we also use it here in the implementation.\n",
    "\n",
    "\n",
    "Every node of the tree is immutable and new nodes are created when applying an action on a node.\n",
    "The only exception on immutability are the for counters used later by the MCTS (`wins` and `playouts`)"
   ]
  },
  {
   "cell_type": "markdown",
   "metadata": {},
   "source": [
    "Some rules have deliberately been excuded from this implementation :\n",
    "\n",
    "* Loops in the game state are not checked (this speeds up considerably the computations and we never encountered a loop in practice)\n",
    "* You are authorized to starve your opponent. This was made so the rules are a little bit simpler and should not change the complexity of the game.\n",
    "\n",
    "The main method you are interested in is `Game.step(i)` to play the i-th pit in the current sate. This will return the new state, the amount of seeds captured and a boolean informing you if the game is finished.\n",
    "\n",
    "On top of the simple implementation of Awalé, the `Game` class has a lot of helpers meant to be used by the MCTS algorithm and other agents.\n",
    "\n",
    "* `view_from_current_player` shows you the pits from the view of the current player\n",
    "* `legal_actions` gives you a list of the action the current player can make\n",
    "* `is_fully_expanded` tells you if all actions of this state have been computed\n",
    "* ..."
   ]
  },
  {
   "cell_type": "code",
   "execution_count": 2,
   "metadata": {},
   "outputs": [],
   "source": [
    "GAME_NODE_FIELDS = [\n",
    "    'n_pits', 'seeds_per_pit', 'pits', 'current_player',\n",
    "    'captures', 'parent', 'children', 'wins', 'n_playouts'\n",
    "]\n",
    "        \n",
    "class Game(recordclass('GameNode', GAME_NODE_FIELDS)):\n",
    "    @classmethod\n",
    "    def start_game(klass, n_pits=6, seeds_per_pit=4):\n",
    "        return klass(\n",
    "            n_pits,\n",
    "            seeds_per_pit,\n",
    "            pits=np.ones((n_pits * 2), dtype=int) * seeds_per_pit,\n",
    "            current_player=0,\n",
    "            captures=np.zeros((2,), dtype=int),\n",
    "            parent=None,\n",
    "            children=[None] * n_pits,\n",
    "            wins=[0, 0],\n",
    "            n_playouts=0\n",
    "        )\n",
    "    \n",
    "    @property\n",
    "    def view_from_current_player(self):\n",
    "        shift = 0 if self.current_player == 0 else self.n_pits\n",
    "        return np.roll(self.pits, shift)\n",
    "    \n",
    "    @property\n",
    "    def current_player_pits(self):\n",
    "        if self.current_player == 0:\n",
    "            return self.pits[:self.n_pits]\n",
    "        else:\n",
    "            return self.pits[self.n_pits:]\n",
    "\n",
    "    @property\n",
    "    def legal_actions(self):\n",
    "        # todo : add the Let the opponent play rule\n",
    "        our_pits = self.current_player_pits\n",
    "        return [x for x in range(self.n_pits) if our_pits[x] != 0]\n",
    "    \n",
    "    @property\n",
    "    def successors(self):\n",
    "        children = [x for x in self.children if x is not None]\n",
    "        successors = children + list(itertools.chain(*[x.successors for x in children]))\n",
    "        return successors\n",
    "\n",
    "    def step(self, action):\n",
    "        assert 0 <= action < self.n_pits\n",
    "        \n",
    "        if self.children[action] is not None:\n",
    "            new_game = self.children[action]\n",
    "            captures = new_game.captures[self.current_player] - self.captures[self.current_player]\n",
    "            return new_game, captures, new_game.game_finished\n",
    "        \n",
    "        target_pit = action if self.current_player == 0 else action - self.n_pits\n",
    "        \n",
    "        seeds = self.pits[target_pit]\n",
    "        assert seeds != 0\n",
    "        \n",
    "        # copy attributes\n",
    "        pits = np.copy(self.pits)\n",
    "        captures = np.copy(self.captures)\n",
    "        \n",
    "        # empty the target pit\n",
    "        pits[target_pit] = 0\n",
    "        \n",
    "        # fill the next pits\n",
    "        pit_to_sow = target_pit\n",
    "        while seeds > 0:\n",
    "            pit_to_sow = (pit_to_sow + 1) % (self.n_pits * 2)\n",
    "            if pit_to_sow != target_pit: # do not fill the target pit ever\n",
    "                pits[pit_to_sow] += 1\n",
    "                seeds -= 1\n",
    "        \n",
    "        # capture\n",
    "        # count the captures of the play\n",
    "        round_captures = 0\n",
    "        if pit_to_sow in self.adverse_pits_idx:\n",
    "            # if the last seed was in a adverse pit\n",
    "            # we can try to collect seeds\n",
    "            while pits[pit_to_sow] in (2, 3):\n",
    "                # if the pit contains 2 or 3 seeds, we capture them\n",
    "                captures[self.current_player] += pits[pit_to_sow]\n",
    "                round_captures += pits[pit_to_sow]\n",
    "                pits[pit_to_sow] = 0\n",
    "                \n",
    "                # go backwards\n",
    "                pit_to_sow = (pit_to_sow - 1) % (self.n_pits * 2)\n",
    "        \n",
    "        # change player\n",
    "        current_player = (self.current_player + 1) % 2\n",
    "        \n",
    "        new_game = type(self)(\n",
    "            self.n_pits,\n",
    "            self.seeds_per_pit,\n",
    "            pits,\n",
    "            current_player,\n",
    "            captures,\n",
    "            self,\n",
    "            [None] * self.n_pits,\n",
    "            [0, 0],\n",
    "            0\n",
    "        )\n",
    "        \n",
    "        self.children[action] = new_game\n",
    "        return new_game, round_captures, new_game.game_finished\n",
    "    \n",
    "    @property\n",
    "    def current_opponent(self):\n",
    "        return (self.current_player + 1) % 2\n",
    "    \n",
    "    @property\n",
    "    def adverse_pits_idx(self):\n",
    "        if self.current_player == 1:\n",
    "            return list(range(self.n_pits))\n",
    "        else:\n",
    "            return list(range(self.n_pits, self.n_pits * 2))\n",
    "    \n",
    "    @property\n",
    "    def is_state_loop(self):\n",
    "        return False\n",
    "        ancestor = self.parent\n",
    "        while ancestor is not None:\n",
    "            if np.all(ancestor.pits == self.pits):\n",
    "                return True\n",
    "            ancestor = ancestor.parent\n",
    "        return False\n",
    "    \n",
    "    \n",
    "    \n",
    "    @property\n",
    "    def game_finished(self):\n",
    "        no_moves_left = np.count_nonzero(self.current_player_pits) == 0\n",
    "        \n",
    "        half_seeds = self.n_pits * self.seeds_per_pit\n",
    "        enough_captures = self.captures[0] > half_seeds or self.captures[1] > half_seeds\n",
    "        \n",
    "        draw = self.captures[0] == half_seeds and self.captures[1] == half_seeds\n",
    "        \n",
    "        loop = self.is_state_loop\n",
    "        return no_moves_left or enough_captures or draw or loop\n",
    "    \n",
    "    def show_state(self):\n",
    "        if self.game_finished:\n",
    "            print(\"Game finished\")\n",
    "        print(\"Current player: {} - Score: {}/{}\\n{}\".format(\n",
    "            self.current_player,\n",
    "            self.captures[self.current_player],\n",
    "            self.captures[(self.current_player + 1) % 2],\n",
    "            \"-\" * self.n_pits * 3\n",
    "        ))\n",
    "        \n",
    "        pits = []\n",
    "        for seeds in self.view_from_current_player:\n",
    "            pits.append(\"{:3}\".format(seeds))\n",
    "        \n",
    "        print(\"\".join(reversed(pits[self.n_pits:])))\n",
    "        print(\"\".join(pits[:self.n_pits]))\n",
    "    \n",
    "    def update_stats(self, winner):\n",
    "        assert winner in [0, 1]\n",
    "        self.wins[winner] += 1\n",
    "        self.n_playouts += 1\n",
    "        if self.parent:\n",
    "            self.parent.update_stats(winner)\n",
    "    \n",
    "    @property\n",
    "    def winner(self):\n",
    "        if not self.game_finished:\n",
    "            return None\n",
    "        return np.argmax(self.captures)\n",
    "    \n",
    "    @property\n",
    "    def unvisited_actions(self):\n",
    "        return [i for i, x in enumerate(self.children) if x is None]\n",
    "\n",
    "    @property\n",
    "    def legal_unvisited_actions(self):\n",
    "        return list(set(self.unvisited_actions).intersection(set(self.legal_actions)))\n",
    "    \n",
    "    @property\n",
    "    def expanded_children(self):\n",
    "        return [x for x in self.children if x is not None]\n",
    "    \n",
    "    @property\n",
    "    def is_fully_expanded(self):\n",
    "        legal_actions = set(self.legal_actions)\n",
    "        unvisited_actions = set(self.unvisited_actions)\n",
    "        return len(legal_actions.intersection(unvisited_actions)) == 0\n",
    "    \n",
    "    @property\n",
    "    def is_leaf_game(self):\n",
    "        return self.children == [None] * self.n_pits\n",
    "    \n",
    "    @property\n",
    "    def depth(self):\n",
    "        if self.parent is None:\n",
    "            return 0\n",
    "        return 1 + self.parent.depth\n",
    "    \n",
    "    def __repr__(self):\n",
    "        return \"<Game {wins}/{n_playouts} player:{player} captures:{captures[0]}/{captures[1]}>\".format(\n",
    "            wins=self.wins,\n",
    "            n_playouts=self.n_playouts,\n",
    "            player=self.current_player,\n",
    "            captures=self.captures\n",
    "        )\n",
    "        "
   ]
  },
  {
   "cell_type": "markdown",
   "metadata": {
    "tags": [
     "ha"
    ]
   },
   "source": [
    "### Usage\n",
    "\n",
    "Here is an example of the usage of the API. We initialize a game and play the 5th pit"
   ]
  },
  {
   "cell_type": "code",
   "execution_count": 21,
   "metadata": {
    "tags": [
     "ha"
    ]
   },
   "outputs": [
    {
     "data": {
      "text/plain": [
       "1"
      ]
     },
     "execution_count": 21,
     "metadata": {},
     "output_type": "execute_result"
    }
   ],
   "source": [
    "initial_state = Game.start_game()\n",
    "new_state, captures, finished = initial_state.step(5)\n",
    "new_state.current_player"
   ]
  },
  {
   "cell_type": "markdown",
   "metadata": {
    "tags": [
     "ha"
    ]
   },
   "source": [
    "Now that the current player is the number 1 (the second player) we play the 2nd pit and show the board in a human friendly manner"
   ]
  },
  {
   "cell_type": "code",
   "execution_count": 22,
   "metadata": {
    "tags": [
     "ha"
    ]
   },
   "outputs": [
    {
     "name": "stdout",
     "output_type": "stream",
     "text": [
      "Current player: 0 - Score: 0/0\n",
      "------------------\n",
      "  5  5  6  0  5  5\n",
      "  5  5  4  4  4  0\n"
     ]
    }
   ],
   "source": [
    "new_state, captures, finished = new_state.step(2)\n",
    "new_state.show_state()"
   ]
  },
  {
   "cell_type": "markdown",
   "metadata": {
    "tags": [
     "ha"
    ]
   },
   "source": [
    "The pits are internaly represented as a numpy array, starting from the bottom left and going counter-clockwise to the top left"
   ]
  },
  {
   "cell_type": "code",
   "execution_count": 23,
   "metadata": {
    "tags": [
     "ha"
    ]
   },
   "outputs": [
    {
     "data": {
      "text/plain": [
       "array([5, 5, 4, 4, 4, 0, 5, 5, 0, 6, 5, 5])"
      ]
     },
     "execution_count": 23,
     "metadata": {},
     "output_type": "execute_result"
    }
   ],
   "source": [
    "new_state.pits"
   ]
  }
 ],
 "metadata": {
  "celltoolbar": "Tags",
  "kernelspec": {
   "display_name": "Python 3",
   "language": "python",
   "name": "python3"
  },
  "language_info": {
   "codemirror_mode": {
    "name": "ipython",
    "version": 3
   },
   "file_extension": ".py",
   "mimetype": "text/x-python",
   "name": "python",
   "nbconvert_exporter": "python",
   "pygments_lexer": "ipython3",
   "version": "3.6.6"
  }
 },
 "nbformat": 4,
 "nbformat_minor": 2
}
