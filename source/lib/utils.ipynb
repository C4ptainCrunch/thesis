{
 "cells": [
  {
   "cell_type": "code",
   "execution_count": 1,
   "metadata": {},
   "outputs": [],
   "source": [
    "ENABLE_JOB_SUBMISSION = False\n",
    "\n",
    "try:\n",
    "    import boto3\n",
    "    client = boto3.client('batch')\n",
    "except:\n",
    "    ENABLE_JOB_SUBMISSION = False\n",
    "    print(\"AWS is not configured\")\n",
    "\n",
    "\n",
    "def submit_aws_job(*args, **kwargs):\n",
    "    if ENABLE_JOB_SUBMISSION:\n",
    "        return client.submit_job(*args, **kwargs)"
   ]
  },
  {
   "cell_type": "code",
   "execution_count": null,
   "metadata": {},
   "outputs": [],
   "source": [
    "import random\n",
    "\n",
    "def max_rand(iterable, key=lambda x: x):\n",
    "    '''Get the greatest element of an iterable and solve ties by a coin flip'''\n",
    "    maximum_value = max(key(x) for x in iterable)\n",
    "    keep = [x for x in iterable if key(x) == maximum_value]\n",
    "    return random.choice(keep)"
   ]
  },
  {
   "cell_type": "code",
   "execution_count": null,
   "metadata": {},
   "outputs": [],
   "source": [
    "import numpy as np\n",
    "\n",
    "def fold(matrix):\n",
    "    folded = (matrix + (1 - np.transpose(matrix))) / 2\n",
    "\n",
    "    for i in range(folded.shape[0]):\n",
    "        for j in range(folded.shape[1]):\n",
    "            if i > j:\n",
    "                folded[i, j] = None\n",
    "    return folded"
   ]
  }
 ],
 "metadata": {
  "kernelspec": {
   "display_name": "Python 3",
   "language": "python",
   "name": "python3"
  },
  "language_info": {
   "codemirror_mode": {
    "name": "ipython",
    "version": 3
   },
   "file_extension": ".py",
   "mimetype": "text/x-python",
   "name": "python",
   "nbconvert_exporter": "python",
   "pygments_lexer": "ipython3",
   "version": "3.9.0"
  }
 },
 "nbformat": 4,
 "nbformat_minor": 4
}
