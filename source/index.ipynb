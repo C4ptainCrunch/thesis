{
 "cells": [
  {
   "cell_type": "raw",
   "metadata": {},
   "source": [
    ".. raw:: html\n",
    "\n",
    "    <section class=\"first-page\">\n",
    "        <h1>Playing Awale with MCTS</h1>\n",
    "        <h2>Master thesis submitted in partial fulfilment of the requirements\n",
    "        for the degree of Master of Science in Applied Sciences and Engineering:&nbsp;Computer Science\n",
    "        </h2>\n",
    "\n",
    "        2020-2021\n",
    "    </section>"
   ]
  },
  {
   "cell_type": "raw",
   "metadata": {},
   "source": [
    ".. contents:: Table of Contents\n",
    "   :depth: 3\n",
    "\n",
    ".. sectnum::"
   ]
  },
  {
   "cell_type": "raw",
   "metadata": {},
   "source": [
    "============\n",
    "Introduction\n",
    "============\n",
    "\n",
    "Awale is a popular board game played mainly in Africa. The board has two rows of six pits, each containing four seeds in the initial state.\n",
    "\n",
    "At each turn, the players move some seeds and can potentially capture some of them, according to deterministic rules. The goal of the game is to capture more seeds than one's opponent.\n",
    "\n",
    ".. _board:\n",
    "\n",
    ".. figure:: /_static/initial.jpg\n",
    "\n",
    "   A typical Awalé board in the initial state with both players on their side of the board.\n",
    "   \n",
    "\n",
    ".. todo:: Explain here what i'm going to do in my thesis, why it is interesting and why it is new.\n",
    "\n",
    "In Section 2, we present Awale in detail. We then introduce Game Theory frameworks in Section 3.\n",
    "Section 4 reviews various approaches to solve Awale: retrograde analysis, :math:`\\alpha-\\beta`-pruning Minimax, and basic Monte Carlo Tree Search.\n",
    "In Section 5, we describe more advanced versions of MCTS and in particular UCT.\n",
    "Section 6 presents some empirical results (simulations) allowing to compare several MCTS algorithms and Section 7 concludes."
   ]
  },
  {
   "cell_type": "raw",
   "metadata": {},
   "source": [
    "=====\n",
    "Awale\n",
    "=====\n",
    "\n",
    "The subject of our study, Awale is an ancient, two player board game originating from Ghana.\n",
    "This game is also sometimes called Awele, Oware, Owari or Ayo in the neighboring countries, languages and cultures :cite:`crane1982`.\n",
    "\n",
    "Originally, the game is played on the ground, by digging two rows of six small pits, each containing\n",
    "stones, seeds or shells. In the present document, we will name them seeds. The game is also often played on a wooden board symbolizing the original dirt pits.\n",
    "The board can be schematized as in :numref:`Figure %s <fig:initial_board>`, every big circle representing a pit and every small disc representing a seed.\n",
    "Numbers at the bottom right of each pit are the counts of seeds in each pit for better readability.\n",
    "Each row of pits is owned by a player that sits in front of it (:numref:`see Fig. %s <board>`).\n",
    "For the sake of convenience, the players are named North and South.\n",
    "The 6 pits from the top row belong to North and the 6 from the bottom to South.\n",
    "\n",
    "The players take turns, a player removing all the seeds from a pit and placing them in other pits following the rules. This is called sowing the seeds. This can result in a configuration in which the player is allowed to capture some seeds according to the rules.\n",
    "The goal for each player is to capture more seeds than his opponent.\n",
    "The rules vary slightly across countries and will be detailed in :ref:`sec:rules`. "
   ]
  },
  {
   "cell_type": "code",
   "execution_count": 1,
   "metadata": {
    "scrolled": true,
    "tags": [
     "ha"
    ]
   },
   "outputs": [
    {
     "name": "stdout",
     "output_type": "stream",
     "text": [
      "importing Jupyter notebook from /home/nikita/Code/Thesis/source/lib/draw.ipynb\n"
     ]
    }
   ],
   "source": [
    "import numpy as np\n",
    "import import_ipynb\n",
    "from lib.draw import board_to_svg, pit_numbering\n",
    "from IPython.display import SVG"
   ]
  },
  {
   "cell_type": "code",
   "execution_count": 2,
   "metadata": {
    "tags": [
     "hc",
     "fig:initial_board"
    ]
   },
   "outputs": [
    {
     "data": {
      "image/svg+xml": [
       "<svg height=\"180\" width=\"535\" xmlns=\"http://www.w3.org/2000/svg\" xmlns:xlink=\"http://www.w3.org/1999/xlink\">\n",
       "      <style>\n",
       "        circle {\n",
       "          fill: none;\n",
       "          stroke: #000;\n",
       "          stroke-width: 2;\n",
       "        }\n",
       "        .bean {\n",
       "          fill: #000\n",
       "        }\n",
       "        .highlight {\n",
       "          stroke: red;\n",
       "        }\n",
       "      </style>\n",
       "\n",
       "      <circle cx=\"48.0\" cy=\"48.0\" r=\"40\"/><text x=\"82.0\" y=\"82.0\">4</text><circle cx=\"136.0\" cy=\"48.0\" r=\"40\"/><text x=\"170.0\" y=\"82.0\">4</text><circle cx=\"224.0\" cy=\"48.0\" r=\"40\"/><text x=\"258.0\" y=\"82.0\">4</text><circle cx=\"312.0\" cy=\"48.0\" r=\"40\"/><text x=\"346.0\" y=\"82.0\">4</text><circle cx=\"400.0\" cy=\"48.0\" r=\"40\"/><text x=\"434.0\" y=\"82.0\">4</text><circle cx=\"488.0\" cy=\"48.0\" r=\"40\"/><text x=\"522.0\" y=\"82.0\">4</text><circle cx=\"48.0\" cy=\"136.0\" r=\"40\"/><text x=\"82.0\" y=\"170.0\">4</text><circle cx=\"136.0\" cy=\"136.0\" r=\"40\"/><text x=\"170.0\" y=\"170.0\">4</text><circle cx=\"224.0\" cy=\"136.0\" r=\"40\"/><text x=\"258.0\" y=\"170.0\">4</text><circle cx=\"312.0\" cy=\"136.0\" r=\"40\"/><text x=\"346.0\" y=\"170.0\">4</text><circle cx=\"400.0\" cy=\"136.0\" r=\"40\"/><text x=\"434.0\" y=\"170.0\">4</text><circle cx=\"488.0\" cy=\"136.0\" r=\"40\"/><text x=\"522.0\" y=\"170.0\">4</text>\n",
       "      <circle class=\"bean\" cx=\"58.0115793182522\" cy=\"45.212836647351864\" r=\"4\"/><circle class=\"bean\" cx=\"45.212836647351864\" cy=\"37.9884206817478\" r=\"4\"/><circle class=\"bean\" cx=\"37.9884206817478\" cy=\"50.787163352648136\" r=\"4\"/><circle class=\"bean\" cx=\"50.787163352648136\" cy=\"58.0115793182522\" r=\"4\"/><circle class=\"bean\" cx=\"140.78868048781285\" cy=\"38.776739232481795\" r=\"4\"/><circle class=\"bean\" cx=\"126.77673923248179\" cy=\"43.21131951218715\" r=\"4\"/><circle class=\"bean\" cx=\"131.21131951218715\" cy=\"57.223260767518205\" r=\"4\"/><circle class=\"bean\" cx=\"145.2232607675182\" cy=\"52.78868048781285\" r=\"4\"/><circle class=\"bean\" cx=\"233.60615271708198\" cy=\"51.96507628881188\" r=\"4\"/><circle class=\"bean\" cx=\"227.96507628881187\" cy=\"38.393847282918\" r=\"4\"/><circle class=\"bean\" cx=\"214.39384728291802\" cy=\"44.034923711188114\" r=\"4\"/><circle class=\"bean\" cx=\"220.0349237111881\" cy=\"57.606152717082\" r=\"4\"/><circle class=\"bean\" cx=\"312.2670516074875\" cy=\"58.38887305914065\" r=\"4\"/><circle class=\"bean\" cx=\"322.3888730591406\" cy=\"47.73294839251255\" r=\"4\"/><circle class=\"bean\" cx=\"311.7329483925125\" cy=\"37.61112694085935\" r=\"4\"/><circle class=\"bean\" cx=\"301.6111269408594\" cy=\"48.26705160748745\" r=\"4\"/><circle class=\"bean\" cx=\"406.7007946480753\" cy=\"55.94350999774818\" r=\"4\"/><circle class=\"bean\" cx=\"407.94350999774815\" cy=\"41.29920535192469\" r=\"4\"/><circle class=\"bean\" cx=\"393.2992053519247\" cy=\"40.05649000225182\" r=\"4\"/><circle class=\"bean\" cx=\"392.0564900022518\" cy=\"54.70079464807531\" r=\"4\"/><circle class=\"bean\" cx=\"498.3892201692712\" cy=\"48.25318821933162\" r=\"4\"/><circle class=\"bean\" cx=\"488.2531882193316\" cy=\"37.61077983072879\" r=\"4\"/><circle class=\"bean\" cx=\"477.6107798307288\" cy=\"47.746811780668374\" r=\"4\"/><circle class=\"bean\" cx=\"487.7468117806684\" cy=\"58.38922016927121\" r=\"4\"/><circle class=\"bean\" cx=\"53.60479452724035\" cy=\"144.75135865494133\" r=\"4\"/><circle class=\"bean\" cx=\"56.751358654941335\" cy=\"130.39520547275964\" r=\"4\"/><circle class=\"bean\" cx=\"42.39520547275965\" cy=\"127.24864134505866\" r=\"4\"/><circle class=\"bean\" cx=\"39.24864134505866\" cy=\"141.60479452724036\" r=\"4\"/><circle class=\"bean\" cx=\"146.17787837060206\" cy=\"133.89981146721763\" r=\"4\"/><circle class=\"bean\" cx=\"133.89981146721763\" cy=\"125.82212162939793\" r=\"4\"/><circle class=\"bean\" cx=\"125.82212162939793\" cy=\"138.10018853278237\" r=\"4\"/><circle class=\"bean\" cx=\"138.10018853278237\" cy=\"146.17787837060206\" r=\"4\"/><circle class=\"bean\" cx=\"233.0393444434569\" cy=\"141.1274020743984\" r=\"4\"/><circle class=\"bean\" cx=\"229.1274020743984\" cy=\"126.9606555565431\" r=\"4\"/><circle class=\"bean\" cx=\"214.9606555565431\" cy=\"130.8725979256016\" r=\"4\"/><circle class=\"bean\" cx=\"218.8725979256016\" cy=\"145.0393444434569\" r=\"4\"/><circle class=\"bean\" cx=\"314.39292748477476\" cy=\"146.11305582168958\" r=\"4\"/><circle class=\"bean\" cx=\"322.11305582168956\" cy=\"133.6070725152252\" r=\"4\"/><circle class=\"bean\" cx=\"309.60707251522524\" cy=\"125.88694417831042\" r=\"4\"/><circle class=\"bean\" cx=\"301.88694417831044\" cy=\"138.3929274847748\" r=\"4\"/><circle class=\"bean\" cx=\"404.1494927329943\" cy=\"145.5279436427189\" r=\"4\"/><circle class=\"bean\" cx=\"409.52794364271887\" cy=\"131.8505072670057\" r=\"4\"/><circle class=\"bean\" cx=\"395.8505072670057\" cy=\"126.4720563572811\" r=\"4\"/><circle class=\"bean\" cx=\"390.47205635728113\" cy=\"140.14949273299433\" r=\"4\"/><circle class=\"bean\" cx=\"496.385823919646\" cy=\"129.86176269693874\" r=\"4\"/><circle class=\"bean\" cx=\"481.86176269693874\" cy=\"127.61417608035399\" r=\"4\"/><circle class=\"bean\" cx=\"479.614176080354\" cy=\"142.13823730306126\" r=\"4\"/><circle class=\"bean\" cx=\"494.13823730306126\" cy=\"144.38582391964601\" r=\"4\"/>\n",
       "    </svg>"
      ],
      "text/plain": [
       "<IPython.core.display.SVG object>"
      ]
     },
     "execution_count": 2,
     "metadata": {},
     "output_type": "execute_result"
    }
   ],
   "source": [
    "board = np.full((2, 6), 4)\n",
    "SVG(board_to_svg(board, True))"
   ]
  },
  {
   "cell_type": "raw",
   "metadata": {},
   "source": [
    "  A schematized view of the initial state of the board."
   ]
  },
  {
   "cell_type": "raw",
   "metadata": {},
   "source": [
    "Mancala\n",
    "-------\n",
    "\n",
    "The Mancala games are an ancient family of game that are played on many continents :cite:`deVoogt2008`, Awale being one of them.\n",
    "The word mancala comes from the Arabic word \"نقلة\", transliterated as \"naqala\" and literally meaning \"to move\".\n",
    "\n",
    "Like Awale, Mancala games can consist of rows of pits, some of them having more than two rows (:numref:`see Fig. %s <bao>`) and sometimes extra pits with a special role. Mancala games can sometimes be played by more than two players.\n",
    " \n",
    ".. _bao:\n",
    "\n",
    ".. figure:: _static/bao.jpg\n",
    "\n",
    "  A wooden Bao game [#source_bao]_\n",
    "\n",
    "There are too many variants of the Mancala games to list them all here, but a\n",
    "few notable ones are Awale, Wari, Bao, Congkak and Kalah.\n",
    "\n",
    "Mancala games in general, while less known than Chess or Go, are quite popular and\n",
    "are played in tournaments around the world, both in offline and online competitions :cite:`owaresociety,fandom_tournaments`.\n",
    "\n",
    "\n",
    "\n",
    "In particular, Kalah is a commercial, modern variant of Mancala, introduced in the 1950s by William Julius Champion Jr., that is widespread in the United States. :cite:`irving2000solving`. This variant has been studied in Artifical Intelligence as early as 1964 by :cite:`russel1964`.\n",
    "Nowadays, Kalah is often used as an example game in computer-science courses.\n",
    "Other Mancala games have been studied in Computer Science and Artificial Intelligence :cite:`deVoogt2008`. Tournaments opposing computers on both sides have been organised multiple times, notably in the Computer Olympiad organized by the International Computer Games Association :cite:`icga_olympiad`.\n"
   ]
  },
  {
   "cell_type": "raw",
   "metadata": {},
   "source": [
    ".. _sec:rules:\n",
    "\n",
    "Rules of the game\n",
    "-----------------\n",
    "\n",
    "The basic rules of Awale are the same everywhere but there are some minor differences around the globe and in the literature.\n",
    "The rules presented here and implemented later in this thesis are inspired from :cite:`goot2001` and adapted by us.\n",
    "\n",
    "The goal for each player is to capture more seeds than his opponent. Because the\n",
    "game has 48 seeds, capturing 25 is enough for a player to win and ends the game.\n",
    "\n",
    "Each player plays alternatively, without the right to pass his turn. A\n",
    "player's turn consists in choosing one of his non-empty pits, picking all seeds\n",
    "contained in the pit and sowing them one by one in every consecutive pits on the right\n",
    "(rotating counter-clockwise). The player thus has at most 6 possible moves at\n",
    "each turn (one per non-empty pit owned by him).\n",
    "\n",
    "Usually, the player that starts the game is the oldest player. In this work, South will always play first.\n",
    "\n",
    "In this work, the pits of a player are numbered left to right from his point of view as shown in :numref:`Figure %s <fig:pit_numbering>`. :math:`1` being the leftmost pit of South, until :math:`6` at the far right. The same holds for North: :math:`1'` to :math:`6'`."
   ]
  },
  {
   "cell_type": "code",
   "execution_count": 3,
   "metadata": {
    "tags": [
     "hc",
     "fig:pit_numbering"
    ]
   },
   "outputs": [
    {
     "data": {
      "image/svg+xml": [
       "<svg height=\"140\" width=\"397\" xmlns=\"http://www.w3.org/2000/svg\" xmlns:xlink=\"http://www.w3.org/1999/xlink\">\n",
       "  <style>\n",
       "    circle {\n",
       "      fill: none;\n",
       "      stroke: #000;\n",
       "      stroke-width: 2;\n",
       "    }\n",
       "    text {\n",
       "      font-size: 1.5em;\n",
       "    }\n",
       "  </style>\n",
       "\n",
       "  <circle cx=\"36.0\" cy=\"36.0\" r=\"30\"/><text x=\"30.0\" y=\"42.0\">6'</text><circle cx=\"102.0\" cy=\"36.0\" r=\"30\"/><text x=\"96.0\" y=\"42.0\">5'</text><circle cx=\"168.0\" cy=\"36.0\" r=\"30\"/><text x=\"162.0\" y=\"42.0\">4'</text><circle cx=\"234.0\" cy=\"36.0\" r=\"30\"/><text x=\"228.0\" y=\"42.0\">3'</text><circle cx=\"300.0\" cy=\"36.0\" r=\"30\"/><text x=\"294.0\" y=\"42.0\">2'</text><circle cx=\"366.0\" cy=\"36.0\" r=\"30\"/><text x=\"360.0\" y=\"42.0\">1'</text><circle cx=\"36.0\" cy=\"102.0\" r=\"30\"/><text x=\"30.0\" y=\"108.0\">1</text><circle cx=\"102.0\" cy=\"102.0\" r=\"30\"/><text x=\"96.0\" y=\"108.0\">2</text><circle cx=\"168.0\" cy=\"102.0\" r=\"30\"/><text x=\"162.0\" y=\"108.0\">3</text><circle cx=\"234.0\" cy=\"102.0\" r=\"30\"/><text x=\"228.0\" y=\"108.0\">4</text><circle cx=\"300.0\" cy=\"102.0\" r=\"30\"/><text x=\"294.0\" y=\"108.0\">5</text><circle cx=\"366.0\" cy=\"102.0\" r=\"30\"/><text x=\"360.0\" y=\"108.0\">6</text>\n",
       "  \n",
       "</svg>"
      ],
      "text/plain": [
       "<IPython.core.display.SVG object>"
      ]
     },
     "execution_count": 3,
     "metadata": {},
     "output_type": "execute_result"
    }
   ],
   "source": [
    "pit_numbering"
   ]
  },
  {
   "cell_type": "raw",
   "metadata": {},
   "source": [
    "  Pit numbering convention: the pits of a player are numbered left to right from his point of view."
   ]
  },
  {
   "cell_type": "raw",
   "metadata": {},
   "source": [
    "\n",
    "As an example, in the initial state (:numref:`See Fig. %s <fig:initial_board>`), the first player to move is South (on the bottom) and he plays :math:`4` (highlighted in the figure in red), the board will then be in the  state shown in :numref:`Figure %s <fig:first_move>`."
   ]
  },
  {
   "cell_type": "code",
   "execution_count": 4,
   "metadata": {
    "tags": [
     "hc",
     "fig:first_move"
    ]
   },
   "outputs": [
    {
     "data": {
      "image/svg+xml": [
       "<svg height=\"180\" width=\"535\" xmlns=\"http://www.w3.org/2000/svg\" xmlns:xlink=\"http://www.w3.org/1999/xlink\">\n",
       "      <style>\n",
       "        circle {\n",
       "          fill: none;\n",
       "          stroke: #000;\n",
       "          stroke-width: 2;\n",
       "        }\n",
       "        .bean {\n",
       "          fill: #000\n",
       "        }\n",
       "        .highlight {\n",
       "          stroke: red;\n",
       "        }\n",
       "      </style>\n",
       "\n",
       "      <circle cx=\"48.0\" cy=\"48.0\" r=\"40\"/><text x=\"82.0\" y=\"82.0\">4</text><circle cx=\"136.0\" cy=\"48.0\" r=\"40\"/><text x=\"170.0\" y=\"82.0\">4</text><circle cx=\"224.0\" cy=\"48.0\" r=\"40\"/><text x=\"258.0\" y=\"82.0\">4</text><circle cx=\"312.0\" cy=\"48.0\" r=\"40\"/><text x=\"346.0\" y=\"82.0\">4</text><circle cx=\"400.0\" cy=\"48.0\" r=\"40\"/><text x=\"434.0\" y=\"82.0\">5</text><circle cx=\"488.0\" cy=\"48.0\" r=\"40\"/><text x=\"522.0\" y=\"82.0\">5</text><circle cx=\"48.0\" cy=\"136.0\" r=\"40\"/><text x=\"82.0\" y=\"170.0\">4</text><circle cx=\"136.0\" cy=\"136.0\" r=\"40\"/><text x=\"170.0\" y=\"170.0\">4</text><circle cx=\"224.0\" cy=\"136.0\" r=\"40\"/><text x=\"258.0\" y=\"170.0\">4</text><circle class=\"highlight\" cx=\"312.0\" cy=\"136.0\" r=\"40\"/><text x=\"346.0\" y=\"170.0\">0</text><circle cx=\"400.0\" cy=\"136.0\" r=\"40\"/><text x=\"434.0\" y=\"170.0\">5</text><circle cx=\"488.0\" cy=\"136.0\" r=\"40\"/><text x=\"522.0\" y=\"170.0\">5</text>\n",
       "      <circle class=\"bean\" cx=\"57.92336691090892\" cy=\"51.086549716346404\" r=\"4\"/><circle class=\"bean\" cx=\"51.0865497163464\" cy=\"38.07663308909108\" r=\"4\"/><circle class=\"bean\" cx=\"38.07663308909108\" cy=\"44.9134502836536\" r=\"4\"/><circle class=\"bean\" cx=\"44.913450283653596\" cy=\"57.92336691090892\" r=\"4\"/><circle class=\"bean\" cx=\"138.23119068147142\" cy=\"37.85003506691205\" r=\"4\"/><circle class=\"bean\" cx=\"125.85003506691204\" cy=\"45.76880931852858\" r=\"4\"/><circle class=\"bean\" cx=\"133.76880931852858\" cy=\"58.14996493308795\" r=\"4\"/><circle class=\"bean\" cx=\"146.14996493308794\" cy=\"50.23119068147142\" r=\"4\"/><circle class=\"bean\" cx=\"234.38976253529674\" cy=\"48.229857477894456\" r=\"4\"/><circle class=\"bean\" cx=\"224.22985747789446\" cy=\"37.610237464703246\" r=\"4\"/><circle class=\"bean\" cx=\"213.61023746470326\" cy=\"47.77014252210554\" r=\"4\"/><circle class=\"bean\" cx=\"223.77014252210554\" cy=\"58.389762535296754\" r=\"4\"/><circle class=\"bean\" cx=\"322.1291225165674\" cy=\"45.676021290035735\" r=\"4\"/><circle class=\"bean\" cx=\"309.67602129003575\" cy=\"37.870877483432594\" r=\"4\"/><circle class=\"bean\" cx=\"301.8708774834326\" cy=\"50.323978709964265\" r=\"4\"/><circle class=\"bean\" cx=\"314.32397870996425\" cy=\"58.129122516567406\" r=\"4\"/><circle class=\"bean\" cx=\"411.7579028745857\" cy=\"45.60172562207546\" r=\"4\"/><circle class=\"bean\" cx=\"401.3524973314682\" cy=\"36.07646231320707\" r=\"4\"/><circle class=\"bean\" cx=\"389.07798644595516\" cy=\"43.0291228213462\" r=\"4\"/><circle class=\"bean\" cx=\"391.8973270665451\" cy=\"56.851366636483704\" r=\"4\"/><circle class=\"bean\" cx=\"405.91428628144587\" cy=\"58.44132260688757\" r=\"4\"/><circle class=\"bean\" cx=\"499.4379128612597\" cy=\"44.370378893296056\" r=\"4\"/><circle class=\"bean\" cx=\"488.0825346490958\" cy=\"36.00028383536933\" r=\"4\"/><circle class=\"bean\" cx=\"476.6130963571311\" cy=\"44.21338866161065\" r=\"4\"/><circle class=\"bean\" cx=\"480.87997187299123\" cy=\"57.65946165532033\" r=\"4\"/><circle class=\"bean\" cx=\"494.98648425952223\" cy=\"57.75648695440363\" r=\"4\"/><circle class=\"bean\" cx=\"55.42900869094598\" cy=\"128.73296278598704\" r=\"4\"/><circle class=\"bean\" cx=\"40.73296278598704\" cy=\"128.57099130905402\" r=\"4\"/><circle class=\"bean\" cx=\"40.57099130905402\" cy=\"143.26703721401296\" r=\"4\"/><circle class=\"bean\" cx=\"55.26703721401295\" cy=\"143.42900869094598\" r=\"4\"/><circle class=\"bean\" cx=\"144.55015937135474\" cy=\"141.90717992991875\" r=\"4\"/><circle class=\"bean\" cx=\"141.90717992991875\" cy=\"127.44984062864526\" r=\"4\"/><circle class=\"bean\" cx=\"127.44984062864526\" cy=\"130.09282007008125\" r=\"4\"/><circle class=\"bean\" cx=\"130.09282007008125\" cy=\"144.55015937135474\" r=\"4\"/><circle class=\"bean\" cx=\"234.1491418639815\" cy=\"133.7650683623926\" r=\"4\"/><circle class=\"bean\" cx=\"221.7650683623926\" cy=\"125.85085813601852\" r=\"4\"/><circle class=\"bean\" cx=\"213.8508581360185\" cy=\"138.2349316376074\" r=\"4\"/><circle class=\"bean\" cx=\"226.2349316376074\" cy=\"146.1491418639815\" r=\"4\"/><circle class=\"bean\" cx=\"401.7166776322857\" cy=\"147.87657433382245\" r=\"4\"/><circle class=\"bean\" cx=\"411.8257759736852\" cy=\"138.037405855545\" r=\"4\"/><circle class=\"bean\" cx=\"405.59205386279365\" cy=\"125.38261173378243\" r=\"4\"/><circle class=\"bean\" cx=\"391.6303033804414\" cy=\"127.40068732417824\" r=\"4\"/><circle class=\"bean\" cx=\"389.23518915079404\" cy=\"141.30272075267192\" r=\"4\"/><circle class=\"bean\" cx=\"496.4775860288431\" cy=\"144.4929697470063\" r=\"4\"/><circle class=\"bean\" cx=\"498.6970123747761\" cy=\"130.56180854935326\" r=\"4\"/><circle class=\"bean\" cx=\"486.1335311968467\" cy=\"124.14604309916493\" r=\"4\"/><circle class=\"bean\" cx=\"476.14944646593386\" cy=\"134.1120431847543\" r=\"4\"/><circle class=\"bean\" cx=\"482.5424239336002\" cy=\"146.68713541972124\" r=\"4\"/>\n",
       "    </svg>"
      ],
      "text/plain": [
       "<IPython.core.display.SVG object>"
      ]
     },
     "execution_count": 4,
     "metadata": {},
     "output_type": "execute_result"
    }
   ],
   "source": [
    "board = np.array([[4, 4, 4, 4, 5, 5], [4, 4, 4, 0, 5, 5],])\n",
    "SVG(board_to_svg(board, True, highlight=[(1, 3)]))"
   ]
  },
  {
   "cell_type": "raw",
   "metadata": {},
   "source": [
    "  The board after the forst move, where South played pit 4."
   ]
  },
  {
   "cell_type": "raw",
   "metadata": {},
   "source": [
    "When the last sowed seed is placed in a pit owned by the opponent and, after sowing,\n",
    "the pit contains two or three seeds, the content of the pit is captured by\n",
    "the player and removed from the game. If the pit preceding the captured pit also\n",
    "contains two or three seeds, it is also captured. The capture continues until a\n",
    "pit without two or three seeds is encountered. When the capture is ended the\n",
    "next player's turn starts.\n",
    "\n",
    "Otherwise, when the last sowed seed is placed in a pit that, after sowing, contains one seed, more\n",
    "than 3 seeds or in the current player's own pits, the turn of the player is ended without\n",
    "any capture.\n",
    "For example, if South plays :math:`4` in the configuration shown in :numref:`Figure %s <fig:pre_capture>`, he will\n",
    "be able to capture the seeds in pits 2' and 3' (highlighted in red in :numref:`Figure %s <fig:post_capture>`)."
   ]
  },
  {
   "cell_type": "code",
   "execution_count": 5,
   "metadata": {
    "tags": [
     "hc",
     "fig:pre_capture"
    ]
   },
   "outputs": [
    {
     "data": {
      "image/svg+xml": [
       "<svg height=\"180\" width=\"535\" xmlns=\"http://www.w3.org/2000/svg\" xmlns:xlink=\"http://www.w3.org/1999/xlink\">\n",
       "      <style>\n",
       "        circle {\n",
       "          fill: none;\n",
       "          stroke: #000;\n",
       "          stroke-width: 2;\n",
       "        }\n",
       "        .bean {\n",
       "          fill: #000\n",
       "        }\n",
       "        .highlight {\n",
       "          stroke: red;\n",
       "        }\n",
       "      </style>\n",
       "\n",
       "      <circle cx=\"48.0\" cy=\"48.0\" r=\"40\"/><text x=\"82.0\" y=\"82.0\">4</text><circle cx=\"136.0\" cy=\"48.0\" r=\"40\"/><text x=\"170.0\" y=\"82.0\">6</text><circle cx=\"224.0\" cy=\"48.0\" r=\"40\"/><text x=\"258.0\" y=\"82.0\">4</text><circle cx=\"312.0\" cy=\"48.0\" r=\"40\"/><text x=\"346.0\" y=\"82.0\">1</text><circle cx=\"400.0\" cy=\"48.0\" r=\"40\"/><text x=\"434.0\" y=\"82.0\">2</text><circle cx=\"488.0\" cy=\"48.0\" r=\"40\"/><text x=\"522.0\" y=\"82.0\">3</text><circle cx=\"48.0\" cy=\"136.0\" r=\"40\"/><text x=\"82.0\" y=\"170.0\">3</text><circle cx=\"136.0\" cy=\"136.0\" r=\"40\"/><text x=\"170.0\" y=\"170.0\">3</text><circle cx=\"224.0\" cy=\"136.0\" r=\"40\"/><text x=\"258.0\" y=\"170.0\">3</text><circle class=\"highlight\" cx=\"312.0\" cy=\"136.0\" r=\"40\"/><text x=\"346.0\" y=\"170.0\">5</text><circle cx=\"400.0\" cy=\"136.0\" r=\"40\"/><text x=\"434.0\" y=\"170.0\">2</text><circle cx=\"488.0\" cy=\"136.0\" r=\"40\"/><text x=\"522.0\" y=\"170.0\">2</text>\n",
       "      <circle class=\"bean\" cx=\"54.24199281105918\" cy=\"39.691117659595506\" r=\"4\"/><circle class=\"bean\" cx=\"39.691117659595506\" cy=\"41.75800718894082\" r=\"4\"/><circle class=\"bean\" cx=\"41.75800718894082\" cy=\"56.308882340404494\" r=\"4\"/><circle class=\"bean\" cx=\"56.308882340404494\" cy=\"54.24199281105918\" r=\"4\"/><circle class=\"bean\" cx=\"136.15188003451613\" cy=\"61.415548160813834\" r=\"4\"/><circle class=\"bean\" cx=\"147.69414553021645\" cy=\"54.57624211218828\" r=\"4\"/><circle class=\"bean\" cx=\"147.54226549570032\" cy=\"41.160693951374455\" r=\"4\"/><circle class=\"bean\" cx=\"135.84811996548387\" cy=\"34.584451839186166\" r=\"4\"/><circle class=\"bean\" cx=\"124.30585446978355\" cy=\"41.42375788781171\" r=\"4\"/><circle class=\"bean\" cx=\"124.4577345042997\" cy=\"54.83930604862555\" r=\"4\"/><circle class=\"bean\" cx=\"224.70842931312225\" cy=\"37.631869604007235\" r=\"4\"/><circle class=\"bean\" cx=\"213.63186960400722\" cy=\"47.29157068687775\" r=\"4\"/><circle class=\"bean\" cx=\"223.29157068687775\" cy=\"58.368130395992765\" r=\"4\"/><circle class=\"bean\" cx=\"234.36813039599278\" cy=\"48.70842931312225\" r=\"4\"/><circle class=\"bean\" cx=\"312.0\" cy=\"48.0\" r=\"4\"/><circle class=\"bean\" cx=\"401.6816618018401\" cy=\"42.240484952339145\" r=\"4\"/><circle class=\"bean\" cx=\"398.3183381981599\" cy=\"53.759515047660855\" r=\"4\"/><circle class=\"bean\" cx=\"489.79869760696823\" cy=\"39.70755241688639\" r=\"4\"/><circle class=\"bean\" cx=\"479.9191809299886\" cy=\"50.588505970196024\" r=\"4\"/><circle class=\"bean\" cx=\"494.28212146304315\" cy=\"53.70394161291759\" r=\"4\"/><circle class=\"bean\" cx=\"52.38323730737175\" cy=\"128.7345178613347\" r=\"4\"/><circle class=\"bean\" cx=\"39.51628924348788\" cy=\"135.83674621033302\" r=\"4\"/><circle class=\"bean\" cx=\"52.10047344914036\" cy=\"143.4287359283323\" r=\"4\"/><circle class=\"bean\" cx=\"144.29043339602023\" cy=\"134.19204145341973\" r=\"4\"/><circle class=\"bean\" cx=\"130.2890452716622\" cy=\"129.72425334395373\" r=\"4\"/><circle class=\"bean\" cx=\"133.42052133231758\" cy=\"144.08370520262653\" r=\"4\"/><circle class=\"bean\" cx=\"232.46822176280864\" cy=\"135.46220805519772\" r=\"4\"/><circle class=\"bean\" cx=\"219.30014763244628\" cy=\"128.9352008009286\" r=\"4\"/><circle class=\"bean\" cx=\"220.23163060474508\" cy=\"143.60259114387367\" r=\"4\"/><circle class=\"bean\" cx=\"323.58718761022214\" cy=\"132.87957001592505\" r=\"4\"/><circle class=\"bean\" cx=\"312.61293261857224\" cy=\"124.01566382292744\" r=\"4\"/><circle class=\"bean\" cx=\"300.7916255808689\" cy=\"131.71370289403913\" r=\"4\"/><circle class=\"bean\" cx=\"304.45991103176993\" cy=\"145.33525887970842\" r=\"4\"/><circle class=\"bean\" cx=\"318.54834315856675\" cy=\"146.05580438739995\" r=\"4\"/><circle class=\"bean\" cx=\"405.306746122456\" cy=\"138.79972241334718\" r=\"4\"/><circle class=\"bean\" cx=\"394.693253877544\" cy=\"133.20027758665282\" r=\"4\"/><circle class=\"bean\" cx=\"493.9734381366792\" cy=\"136.56394753946296\" r=\"4\"/><circle class=\"bean\" cx=\"482.0265618633208\" cy=\"135.43605246053704\" r=\"4\"/>\n",
       "    </svg>"
      ],
      "text/plain": [
       "<IPython.core.display.SVG object>"
      ]
     },
     "execution_count": 5,
     "metadata": {},
     "output_type": "execute_result"
    }
   ],
   "source": [
    "board = np.array([[4, 6, 4, 1, 2, 3], [3, 3, 3, 5, 2, 2],])\n",
    "SVG(board_to_svg(board, True, highlight=[(1, 3)]))"
   ]
  },
  {
   "cell_type": "raw",
   "metadata": {},
   "source": [
    "  An example of a board configuration where South is to play pit 4."
   ]
  },
  {
   "cell_type": "code",
   "execution_count": 6,
   "metadata": {
    "scrolled": true,
    "tags": [
     "hc",
     "fig:post_capture"
    ]
   },
   "outputs": [
    {
     "data": {
      "image/svg+xml": [
       "<svg height=\"180\" width=\"535\" xmlns=\"http://www.w3.org/2000/svg\" xmlns:xlink=\"http://www.w3.org/1999/xlink\">\n",
       "      <style>\n",
       "        circle {\n",
       "          fill: none;\n",
       "          stroke: #000;\n",
       "          stroke-width: 2;\n",
       "        }\n",
       "        .bean {\n",
       "          fill: #000\n",
       "        }\n",
       "        .highlight {\n",
       "          stroke: red;\n",
       "        }\n",
       "      </style>\n",
       "\n",
       "      <circle cx=\"48.0\" cy=\"48.0\" r=\"40\"/><text x=\"82.0\" y=\"82.0\">4</text><circle cx=\"136.0\" cy=\"48.0\" r=\"40\"/><text x=\"170.0\" y=\"82.0\">6</text><circle cx=\"224.0\" cy=\"48.0\" r=\"40\"/><text x=\"258.0\" y=\"82.0\">4</text><circle class=\"highlight\" cx=\"312.0\" cy=\"48.0\" r=\"40\"/><text x=\"346.0\" y=\"82.0\">2</text><circle class=\"highlight\" cx=\"400.0\" cy=\"48.0\" r=\"40\"/><text x=\"434.0\" y=\"82.0\">3</text><circle cx=\"488.0\" cy=\"48.0\" r=\"40\"/><text x=\"522.0\" y=\"82.0\">4</text><circle cx=\"48.0\" cy=\"136.0\" r=\"40\"/><text x=\"82.0\" y=\"170.0\">3</text><circle cx=\"136.0\" cy=\"136.0\" r=\"40\"/><text x=\"170.0\" y=\"170.0\">3</text><circle cx=\"224.0\" cy=\"136.0\" r=\"40\"/><text x=\"258.0\" y=\"170.0\">3</text><circle cx=\"312.0\" cy=\"136.0\" r=\"40\"/><text x=\"346.0\" y=\"170.0\">0</text><circle cx=\"400.0\" cy=\"136.0\" r=\"40\"/><text x=\"434.0\" y=\"170.0\">3</text><circle cx=\"488.0\" cy=\"136.0\" r=\"40\"/><text x=\"522.0\" y=\"170.0\">3</text>\n",
       "      <circle class=\"bean\" cx=\"57.85442222375552\" cy=\"44.699945055616\" r=\"4\"/><circle class=\"bean\" cx=\"44.699945055616\" cy=\"38.14557777624448\" r=\"4\"/><circle class=\"bean\" cx=\"38.14557777624448\" cy=\"51.300054944384\" r=\"4\"/><circle class=\"bean\" cx=\"51.300054944383994\" cy=\"57.85442222375552\" r=\"4\"/><circle class=\"bean\" cx=\"140.44855366910537\" cy=\"60.657423523493605\" r=\"4\"/><circle class=\"bean\" cx=\"149.18592715235687\" cy=\"50.47615127420309\" r=\"4\"/><circle class=\"bean\" cx=\"144.73737348325153\" cy=\"37.818727750709485\" r=\"4\"/><circle class=\"bean\" cx=\"131.55144633089463\" cy=\"35.342576476506395\" r=\"4\"/><circle class=\"bean\" cx=\"122.81407284764312\" cy=\"45.5238487257969\" r=\"4\"/><circle class=\"bean\" cx=\"127.26262651674848\" cy=\"58.181272249290515\" r=\"4\"/><circle class=\"bean\" cx=\"234.30743668231082\" cy=\"49.32542409822414\" r=\"4\"/><circle class=\"bean\" cx=\"225.32542409822415\" cy=\"37.69256331768918\" r=\"4\"/><circle class=\"bean\" cx=\"213.69256331768918\" cy=\"46.67457590177586\" r=\"4\"/><circle class=\"bean\" cx=\"222.67457590177585\" cy=\"58.30743668231082\" r=\"4\"/><circle class=\"bean\" cx=\"313.5119659237185\" cy=\"42.19362772072664\" r=\"4\"/><circle class=\"bean\" cx=\"310.4880340762815\" cy=\"53.80637227927336\" r=\"4\"/><circle class=\"bean\" cx=\"406.4098947910241\" cy=\"42.44003158570105\" r=\"4\"/><circle class=\"bean\" cx=\"391.979978713466\" cy=\"45.22885248253704\" r=\"4\"/><circle class=\"bean\" cx=\"401.6101264955099\" cy=\"56.3311159317619\" r=\"4\"/><circle class=\"bean\" cx=\"497.3264611655903\" cy=\"52.58444349149784\" r=\"4\"/><circle class=\"bean\" cx=\"492.58444349149784\" cy=\"38.67353883440975\" r=\"4\"/><circle class=\"bean\" cx=\"478.6735388344097\" cy=\"43.41555650850216\" r=\"4\"/><circle class=\"bean\" cx=\"483.41555650850216\" cy=\"57.32646116559025\" r=\"4\"/><circle class=\"bean\" cx=\"51.897097958696236\" cy=\"128.46258482632635\" r=\"4\"/><circle class=\"bean\" cx=\"39.52385800138021\" cy=\"136.3937217535694\" r=\"4\"/><circle class=\"bean\" cx=\"52.57904403992355\" cy=\"143.14369342010423\" r=\"4\"/><circle class=\"bean\" cx=\"136.27701077086635\" cy=\"127.51924148246019\" r=\"4\"/><circle class=\"bean\" cx=\"128.5169422950161\" cy=\"140.00048089407773\" r=\"4\"/><circle class=\"bean\" cx=\"143.20604693411755\" cy=\"140.4802776234621\" r=\"4\"/><circle class=\"bean\" cx=\"229.06156569405834\" cy=\"129.1896730823894\" r=\"4\"/><circle class=\"bean\" cx=\"215.57130103424305\" cy=\"135.02171898482698\" r=\"4\"/><circle class=\"bean\" cx=\"227.3671332716986\" cy=\"143.78860793278363\" r=\"4\"/><circle class=\"bean\" cx=\"406.2524348568534\" cy=\"130.26353258870896\" r=\"4\"/><circle class=\"bean\" cx=\"391.9058560654137\" cy=\"133.45346628410311\" r=\"4\"/><circle class=\"bean\" cx=\"401.84170907773284\" cy=\"144.28300112718793\" r=\"4\"/><circle class=\"bean\" cx=\"493.2210690717912\" cy=\"129.31117067435673\" r=\"4\"/><circle class=\"bean\" cx=\"479.596769346519\" cy=\"134.8228362117372\" r=\"4\"/><circle class=\"bean\" cx=\"491.1821615816898\" cy=\"143.86599311390606\" r=\"4\"/>\n",
       "    </svg>"
      ],
      "text/plain": [
       "<IPython.core.display.SVG object>"
      ]
     },
     "execution_count": 6,
     "metadata": {},
     "output_type": "execute_result"
    }
   ],
   "source": [
    "board = np.array([[4, 6, 4, 2, 3, 4], [3, 3, 3, 0, 3, 3],])\n",
    "SVG(board_to_svg(board, True, highlight=[(0, 3), (0, 4)]))"
   ]
  },
  {
   "cell_type": "raw",
   "metadata": {},
   "source": [
    "  The resulting board after South played 4 in :numref:`Fig %s <fig:pre_capture>`. Pits 2' and 3' will be captured."
   ]
  },
  {
   "cell_type": "raw",
   "metadata": {},
   "source": [
    "If the pit chosen by the player contains more than 12 seeds, the sowing makes\n",
    "more than a full revolution of the board and the starting hole is skipped during the second\n",
    "and subsequent passes.\n",
    "\n",
    "If the current player's opponent has no seed left in his half board, the\n",
    "current player has to play a move that gives him seeds if such a move exists.\n",
    "This rule is called the \"feed your opponent\".\n",
    "In :numref:`Figure %s <fig:feed>`, South has to play pit 5 because playing pit 1 would leave the opponent without any move to play."
   ]
  },
  {
   "cell_type": "code",
   "execution_count": 7,
   "metadata": {
    "tags": [
     "hc",
     "fig:feed"
    ]
   },
   "outputs": [
    {
     "data": {
      "image/svg+xml": [
       "<svg height=\"180\" width=\"535\" xmlns=\"http://www.w3.org/2000/svg\" xmlns:xlink=\"http://www.w3.org/1999/xlink\">\n",
       "      <style>\n",
       "        circle {\n",
       "          fill: none;\n",
       "          stroke: #000;\n",
       "          stroke-width: 2;\n",
       "        }\n",
       "        .bean {\n",
       "          fill: #000\n",
       "        }\n",
       "        .highlight {\n",
       "          stroke: red;\n",
       "        }\n",
       "      </style>\n",
       "\n",
       "      <circle cx=\"48.0\" cy=\"48.0\" r=\"40\"/><text x=\"82.0\" y=\"82.0\">0</text><circle cx=\"136.0\" cy=\"48.0\" r=\"40\"/><text x=\"170.0\" y=\"82.0\">0</text><circle cx=\"224.0\" cy=\"48.0\" r=\"40\"/><text x=\"258.0\" y=\"82.0\">0</text><circle cx=\"312.0\" cy=\"48.0\" r=\"40\"/><text x=\"346.0\" y=\"82.0\">0</text><circle cx=\"400.0\" cy=\"48.0\" r=\"40\"/><text x=\"434.0\" y=\"82.0\">0</text><circle cx=\"488.0\" cy=\"48.0\" r=\"40\"/><text x=\"522.0\" y=\"82.0\">0</text><circle cx=\"48.0\" cy=\"136.0\" r=\"40\"/><text x=\"82.0\" y=\"170.0\">2</text><circle cx=\"136.0\" cy=\"136.0\" r=\"40\"/><text x=\"170.0\" y=\"170.0\">0</text><circle cx=\"224.0\" cy=\"136.0\" r=\"40\"/><text x=\"258.0\" y=\"170.0\">0</text><circle cx=\"312.0\" cy=\"136.0\" r=\"40\"/><text x=\"346.0\" y=\"170.0\">0</text><circle class=\"highlight\" cx=\"400.0\" cy=\"136.0\" r=\"40\"/><text x=\"434.0\" y=\"170.0\">3</text><circle cx=\"488.0\" cy=\"136.0\" r=\"40\"/><text x=\"522.0\" y=\"170.0\">0</text>\n",
       "      <circle class=\"bean\" cx=\"52.0223342613405\" cy=\"140.4520587473714\" r=\"4\"/><circle class=\"bean\" cx=\"43.9776657386595\" cy=\"131.5479412526286\" r=\"4\"/><circle class=\"bean\" cx=\"408.47062648506494\" cy=\"136.4984846542433\" r=\"4\"/><circle class=\"bean\" cx=\"396.19638713143894\" cy=\"128.4149799508428\" r=\"4\"/><circle class=\"bean\" cx=\"395.3329863834961\" cy=\"143.08653539491388\" r=\"4\"/>\n",
       "    </svg>"
      ],
      "text/plain": [
       "<IPython.core.display.SVG object>"
      ]
     },
     "execution_count": 7,
     "metadata": {},
     "output_type": "execute_result"
    }
   ],
   "source": [
    "board = np.array([[0, 0, 0, 0, 0, 0], [2, 0, 0, 0, 3, 0],])\n",
    "SVG(board_to_svg(board, True, highlight=[(1, 4)]))"
   ]
  },
  {
   "cell_type": "raw",
   "metadata": {},
   "source": [
    "  South is forced to play pit 5 because playing pit 1 would leave North without any seed to play."
   ]
  },
  {
   "cell_type": "raw",
   "metadata": {},
   "source": [
    "When a player has captured more than 25 seeds the game ends and he wins. If both\n",
    "players have captured 24 seeds, the game ends by a draw. If the current player's\n",
    "pits are all empty, the game ends and the player with the most captures wins.\n",
    "\n",
    "The last way to stop the game is when a position is encountered twice in the\n",
    "same game (there is a cycle): the game ends and the player with most captures\n",
    "wins."
   ]
  },
  {
   "cell_type": "raw",
   "metadata": {},
   "source": [
    "Implementation of the rules\n",
    "---------------------------\n",
    "\n",
    ".. todo:: Insert here some text explaining that we are showing inline code as this document is in fact a big jupyter notebook that is executed.\n",
    "\n",
    "In this subsection, we define in multiple steps a Python :code:`Game()` class holding the state of the game and its rules. We will then successively inherit from it to add the rules and some convenience methods.\n",
    "\n",
    "We set the following encoding conventions:\n",
    " - :code:`0` is South, :code:`1` is North,\n",
    " - player's actions are numbered from :code:`0` to :code:`5`, :code:`0` being the leftmost pit in front of him, :code:`5` being the rightmost.\n",
    "\n",
    "First, we define a dataclass with the minimal attributes needed to store a state of the game."
   ]
  },
  {
   "cell_type": "code",
   "execution_count": 8,
   "metadata": {
    "tags": [
     "ha"
    ]
   },
   "outputs": [],
   "source": [
    "import numpy as np\n",
    "import itertools\n",
    "from typing import List, Dict, Set, Optional, Tuple"
   ]
  },
  {
   "cell_type": "code",
   "execution_count": 9,
   "metadata": {
    "lines_to_next_cell": 2
   },
   "outputs": [],
   "source": [
    "from dataclasses import dataclass, field\n",
    "\n",
    "\n",
    "@dataclass\n",
    "class Game:\n",
    "    # a 2x6 matrix containing the number of seeds in each pits\n",
    "    pits: np.array = field(default_factory=lambda: np.ones(6 * 2, dtype=int) * 4)\n",
    "    # 0 for South and 1 for North\n",
    "    current_player: int = 0\n",
    "    # the number of seeds captured by each player\n",
    "    captures: np.array = field(default_factory=lambda: np.zeros(2, dtype=int))"
   ]
  },
  {
   "cell_type": "raw",
   "metadata": {
    "lines_to_next_cell": 2
   },
   "source": [
    "Next, we add some convenient methods that will be useful later."
   ]
  },
  {
   "cell_type": "code",
   "execution_count": 10,
   "metadata": {
    "lines_to_next_cell": 2
   },
   "outputs": [],
   "source": [
    "class Game(Game):\n",
    "    ...\n",
    "\n",
    "    @property\n",
    "    def view_from_current_player(self) -> List[int]:\n",
    "        \"\"\"Returns the board as seen by a player\"\"\"\n",
    "        if self.current_player == 0:\n",
    "            return self.pits\n",
    "        else:\n",
    "            return np.roll(self.pits, 6)\n",
    "\n",
    "    @property\n",
    "    def current_player_pits(self) -> List[int]:\n",
    "        \"\"\"Returns a 6-vector containing the pits owned by the current player\"\"\"\n",
    "        if self.current_player == 0:\n",
    "            return self.pits[:6]\n",
    "        else:\n",
    "            return self.pits[6:]\n",
    "\n",
    "    @property\n",
    "    def current_opponent(self) -> int:\n",
    "        return (self.current_player + 1) % 2\n",
    "\n",
    "    @property\n",
    "    def adverse_pits_idx(self) -> List[int]:\n",
    "        \"\"\"Returns the indices in the `self.pits` array owned by the opposing player\"\"\"\n",
    "        if self.current_player == 1:\n",
    "            return list(range(6))\n",
    "        else:\n",
    "            return list(range(6, 6 * 2))"
   ]
  },
  {
   "cell_type": "raw",
   "metadata": {
    "lines_to_next_cell": 2
   },
   "source": [
    "Now that the base is set, we start implementing the rules,\n",
    "some of them being deliberately excluded from this implementation:\n",
    "\n",
    "-  Loops in the game state are not checked (this considerably speeds up the computations and we did not encounter a loop in our preliminary work);\n",
    "-  The \"feed your opponent\" rule is removed; This makes the\n",
    "   rules simpler and we expect it does not tremendously change the complexity of the game.\n",
    "\n",
    ".. todo We did later encounter loops after running way more simulations. But this only happened yet using basic algorithms (greedy vs greedy for example). For now, we simulate 500 turns, if we hit this threshold, we declare a tie. This should be detailed in the experimental setup"
   ]
  },
  {
   "cell_type": "code",
   "execution_count": 11,
   "metadata": {
    "lines_to_next_cell": 2
   },
   "outputs": [],
   "source": [
    "class Game(Game):\n",
    "    ...\n",
    "\n",
    "    @property\n",
    "    def legal_actions(self) -> List[int]:\n",
    "        \"\"\"Returns a list of indices for each legal action for the current player\"\"\"\n",
    "        our_pits = self.current_player_pits\n",
    "        # Return every pit of the player that contains some seeds\n",
    "        return [x for x in range(6) if our_pits[x] != 0]\n",
    "\n",
    "    @property\n",
    "    def game_finished(self) -> bool:\n",
    "        # Does the current player has an available move ?\n",
    "        no_moves_left = np.sum(self.current_player_pits) == 0\n",
    "\n",
    "        # Has one player captured more than half the total seeds ?\n",
    "        HALF_SEEDS = 24  # (there are 2*6*4=48 seeds in total)\n",
    "        enough_captures = self.captures[0] > HALF_SEEDS or self.captures[1] > HALF_SEEDS\n",
    "\n",
    "        # Is it a draw ? Does both player have 24 seeds ?\n",
    "        draw = self.captures[0] == HALF_SEEDS and self.captures[1] == HALF_SEEDS\n",
    "\n",
    "        # If one of the above three are True, the game is finished\n",
    "        return no_moves_left or enough_captures or draw\n",
    "\n",
    "    @property\n",
    "    def winner(self) -> Optional[int]:\n",
    "        \"\"\"Returns the winner of the game or None if the game is not finished or in a draw\"\"\"\n",
    "        if not self.game_finished:\n",
    "            return None\n",
    "        # The game is finished but both player have the same amount of seeds: it's a draw\n",
    "        elif self.captures[0] == self.captures[1]:\n",
    "            return None\n",
    "        # Else, there is a winner: the player with the most seeds\n",
    "        else:\n",
    "            return 0 if self.captures[0] > self.captures[1] else 1"
   ]
  },
  {
   "cell_type": "raw",
   "metadata": {
    "lines_to_next_cell": 2
   },
   "source": [
    "We can now define the :code:`Game.step(i)` method that is called for every step of the game.\n",
    "It takes a single parameter, :code:`i`, and plays the i-th pit in the current sate.\n",
    "This method returns the new state, the amount of seeds captured and a boolean informing whether the game is finished."
   ]
  },
  {
   "cell_type": "code",
   "execution_count": 12,
   "metadata": {
    "lines_to_next_cell": 2
   },
   "outputs": [],
   "source": [
    "class Game(Game):\n",
    "    ...\n",
    "\n",
    "    def step(self, action: int) -> Tuple[Game, int, bool]:\n",
    "        \"\"\"Plays the action given as parameter and returns:\n",
    "            - a the new state as a new Game object,\n",
    "            - the amount of captured stones in the transition\n",
    "            - a bool indicating if the new state is the end of the game\n",
    "        \"\"\"\n",
    "        assert 0 <= action < 6, \"Illegal action\"\n",
    "\n",
    "        # Translate the action index to a pit index\n",
    "        target_pit = action if self.current_player == 0 else action - 6\n",
    "\n",
    "        seeds = self.pits[target_pit]\n",
    "        assert seeds != 0, \"Illegal action: pit % is empty\" % target_pit\n",
    "\n",
    "        # Copy the attributes of `Game` so that the original\n",
    "        # stays immutable\n",
    "        pits = np.copy(self.pits)\n",
    "        captures = np.copy(self.captures)\n",
    "\n",
    "        # Empty the pit targeted by the player\n",
    "        pits[target_pit] = 0\n",
    "\n",
    "        # Fill the next pits while there are still seeds\n",
    "        pit_to_sow = target_pit\n",
    "        while seeds > 0:\n",
    "            pit_to_sow = (pit_to_sow + 1) % (6 * 2)\n",
    "            # Do not fill the target pit ever\n",
    "            if pit_to_sow != target_pit:\n",
    "                pits[pit_to_sow] += 1\n",
    "                seeds -= 1\n",
    "\n",
    "        # Count the captures of the play\n",
    "        round_captures = 0\n",
    "\n",
    "        # If the last seed was in a adverse pit we can try to collect seeds\n",
    "        if pit_to_sow in self.adverse_pits_idx:\n",
    "            # If the pit contains 2 or 3 seeds, we capture them\n",
    "            while pits[pit_to_sow] in (2, 3):\n",
    "                captures[self.current_player] += pits[pit_to_sow]\n",
    "                round_captures += pits[pit_to_sow]\n",
    "                pits[pit_to_sow] = 0\n",
    "\n",
    "                # Select backwards the next pit to check\n",
    "                pit_to_sow = (pit_to_sow - 1) % 12\n",
    "\n",
    "        # Change the current player\n",
    "        current_player = (self.current_player + 1) % 2\n",
    "\n",
    "        # Create the new `Game` instance\n",
    "        new_game = type(self)(pits, current_player, captures)\n",
    "\n",
    "        return new_game, round_captures, new_game.game_finished"
   ]
  },
  {
   "cell_type": "raw",
   "metadata": {
    "lines_to_next_cell": 2
   },
   "source": [
    "As the game rules are now implemented, we can add some methods to display the current state of the board to the user, either in textual mode or as an SVG file that can be displayed inline in this document."
   ]
  },
  {
   "cell_type": "code",
   "execution_count": 13,
   "metadata": {},
   "outputs": [],
   "source": [
    "class Game(Game):\n",
    "    ...\n",
    "\n",
    "    def show_state(self):\n",
    "        \"\"\"Print a textual representation of the game to the standard output\"\"\"\n",
    "        if self.game_finished:\n",
    "            print(\"Game finished\")\n",
    "        print(\n",
    "            \"Current player: {} - Score: {}/{}\\n{}\".format(\n",
    "                self.current_player,\n",
    "                self.captures[self.current_player],\n",
    "                self.captures[(self.current_player + 1) % 2],\n",
    "                \"-\" * 6 * 3,\n",
    "            )\n",
    "        )\n",
    "\n",
    "        pits = []\n",
    "        for seeds in self.view_from_current_player:\n",
    "            pits.append(\"{:3}\".format(seeds))\n",
    "\n",
    "        print(\"\".join(reversed(pits[6:])))\n",
    "        print(\"\".join(pits[:6]))\n",
    "\n",
    "    def _repr_svg_(self):\n",
    "        \"\"\"Return a SVG file representing the current state to be displayed in a notebook\"\"\"\n",
    "        board = np.array([list(reversed(self.pits[6:])), self.pits[:6]])\n",
    "        return board_to_svg(board, True) "
   ]
  },
  {
   "cell_type": "raw",
   "metadata": {},
   "source": [
    "To show a minimal example of the implementation, we can now play a move and have its results displayed here."
   ]
  },
  {
   "cell_type": "code",
   "execution_count": 14,
   "metadata": {},
   "outputs": [
    {
     "data": {
      "image/svg+xml": [
       "\n",
       "    <svg xmlns=\"http://www.w3.org/2000/svg\" xmlns:xlink=\"http://www.w3.org/1999/xlink\" width=\"535\" height=\"180\">\n",
       "      <style>\n",
       "        circle {\n",
       "          fill: none;\n",
       "          stroke: #000;\n",
       "          stroke-width: 2;\n",
       "        }\n",
       "        .bean {\n",
       "          fill: #000\n",
       "        }\n",
       "        .highlight {\n",
       "          stroke: red;\n",
       "        }\n",
       "      </style>\n",
       "\n",
       "      <circle cx=\"48.0\" cy=\"48.0\" r=\"40\" /><text x=\"82.0\" y=\"82.0\" >4</text><circle cx=\"136.0\" cy=\"48.0\" r=\"40\" /><text x=\"170.0\" y=\"82.0\" >4</text><circle cx=\"224.0\" cy=\"48.0\" r=\"40\" /><text x=\"258.0\" y=\"82.0\" >4</text><circle cx=\"312.0\" cy=\"48.0\" r=\"40\" /><text x=\"346.0\" y=\"82.0\" >5</text><circle cx=\"400.0\" cy=\"48.0\" r=\"40\" /><text x=\"434.0\" y=\"82.0\" >5</text><circle cx=\"488.0\" cy=\"48.0\" r=\"40\" /><text x=\"522.0\" y=\"82.0\" >5</text><circle cx=\"48.0\" cy=\"136.0\" r=\"40\" /><text x=\"82.0\" y=\"170.0\" >4</text><circle cx=\"136.0\" cy=\"136.0\" r=\"40\" /><text x=\"170.0\" y=\"170.0\" >4</text><circle cx=\"224.0\" cy=\"136.0\" r=\"40\" /><text x=\"258.0\" y=\"170.0\" >4</text><circle cx=\"312.0\" cy=\"136.0\" r=\"40\" /><text x=\"346.0\" y=\"170.0\" >4</text><circle cx=\"400.0\" cy=\"136.0\" r=\"40\" /><text x=\"434.0\" y=\"170.0\" >0</text><circle cx=\"488.0\" cy=\"136.0\" r=\"40\" /><text x=\"522.0\" y=\"170.0\" >5</text>\n",
       "      <circle cx=\"56.080998544726405\" cy=\"54.53432953868488\" r=\"4\" class=\"bean\"/><circle cx=\"54.53432953868488\" cy=\"39.919001455273595\" r=\"4\" class=\"bean\"/><circle cx=\"39.9190014552736\" cy=\"41.46567046131512\" r=\"4\" class=\"bean\"/><circle cx=\"41.46567046131512\" cy=\"56.0809985447264\" r=\"4\" class=\"bean\"/><circle cx=\"145.7965389442903\" cy=\"51.46811544112992\" r=\"4\" class=\"bean\"/><circle cx=\"139.46811544112992\" cy=\"38.20346105570971\" r=\"4\" class=\"bean\"/><circle cx=\"126.20346105570971\" cy=\"44.53188455887008\" r=\"4\" class=\"bean\"/><circle cx=\"132.53188455887008\" cy=\"57.79653894429029\" r=\"4\" class=\"bean\"/><circle cx=\"229.58195345084962\" cy=\"39.23405477586427\" r=\"4\" class=\"bean\"/><circle cx=\"215.23405477586428\" cy=\"42.418046549150375\" r=\"4\" class=\"bean\"/><circle cx=\"218.41804654915038\" cy=\"56.76594522413573\" r=\"4\" class=\"bean\"/><circle cx=\"232.76594522413572\" cy=\"53.581953450849625\" r=\"4\" class=\"bean\"/><circle cx=\"321.7251230610011\" cy=\"40.96992308375049\" r=\"4\" class=\"bean\"/><circle cx=\"308.31922783698184\" cy=\"36.57844510217849\" r=\"4\" class=\"bean\"/><circle cx=\"300.00003463740916\" cy=\"47.97116778502299\" r=\"4\" class=\"bean\"/><circle cx=\"308.2643857051156\" cy=\"59.40373560899477\" r=\"4\" class=\"bean\"/><circle cx=\"321.6912287594923\" cy=\"55.07672842005326\" r=\"4\" class=\"bean\"/><circle cx=\"406.68922360634735\" cy=\"57.96264460594101\" r=\"4\" class=\"bean\"/><circle cx=\"411.54212184554837\" cy=\"44.71679679238166\" r=\"4\" class=\"bean\"/><circle cx=\"400.4441999964942\" cy=\"36.008224219778185\" r=\"4\" class=\"bean\"/><circle cx=\"388.73240885008767\" cy=\"43.871878189973465\" r=\"4\" class=\"bean\"/><circle cx=\"392.59204570152247\" cy=\"57.44045619192568\" r=\"4\" class=\"bean\"/><circle cx=\"498.5414334920149\" cy=\"53.73394976725702\" r=\"4\" class=\"bean\"/><circle cx=\"496.7107923843647\" cy=\"39.74638890930196\" r=\"4\" class=\"bean\"/><circle cx=\"482.84213227046627\" cy=\"37.165038048768494\" r=\"4\" class=\"bean\"/><circle cx=\"476.1014700493072\" cy=\"49.557236338025085\" r=\"4\" class=\"bean\"/><circle cx=\"485.804171803847\" cy=\"59.79738693664743\" r=\"4\" class=\"bean\"/><circle cx=\"57.0096548896464\" cy=\"141.17939366813053\" r=\"4\" class=\"bean\"/><circle cx=\"53.17939366813053\" cy=\"126.9903451103536\" r=\"4\" class=\"bean\"/><circle cx=\"38.990345110353594\" cy=\"130.82060633186947\" r=\"4\" class=\"bean\"/><circle cx=\"42.82060633186947\" cy=\"145.0096548896464\" r=\"4\" class=\"bean\"/><circle cx=\"140.9724865485293\" cy=\"145.1254795777918\" r=\"4\" class=\"bean\"/><circle cx=\"145.1254795777918\" cy=\"131.0275134514707\" r=\"4\" class=\"bean\"/><circle cx=\"131.0275134514707\" cy=\"126.8745204222082\" r=\"4\" class=\"bean\"/><circle cx=\"126.8745204222082\" cy=\"140.9724865485293\" r=\"4\" class=\"bean\"/><circle cx=\"234.20607385953159\" cy=\"134.04141470091645\" r=\"4\" class=\"bean\"/><circle cx=\"222.04141470091645\" cy=\"125.79392614046841\" r=\"4\" class=\"bean\"/><circle cx=\"213.79392614046841\" cy=\"137.95858529908355\" r=\"4\" class=\"bean\"/><circle cx=\"225.95858529908355\" cy=\"146.20607385953159\" r=\"4\" class=\"bean\"/><circle cx=\"322.2940277986482\" cy=\"137.42583017244644\" r=\"4\" class=\"bean\"/><circle cx=\"313.42583017244647\" cy=\"125.70597220135183\" r=\"4\" class=\"bean\"/><circle cx=\"301.7059722013518\" cy=\"134.57416982755356\" r=\"4\" class=\"bean\"/><circle cx=\"310.57416982755353\" cy=\"146.29402779864816\" r=\"4\" class=\"bean\"/><circle cx=\"496.13303111720245\" cy=\"127.1765196862793\" r=\"4\" class=\"bean\"/><circle cx=\"482.1216163822297\" cy=\"125.53842239228088\" r=\"4\" class=\"bean\"/><circle cx=\"476.23392800810495\" cy=\"138.35786977620546\" r=\"4\" class=\"bean\"/><circle cx=\"486.60655121270094\" cy=\"147.91882127046023\" r=\"4\" class=\"bean\"/><circle cx=\"498.9048732797619\" cy=\"141.00836687477417\" r=\"4\" class=\"bean\"/>\n",
       "    </svg>\n",
       "    "
      ],
      "text/plain": [
       "Game(pits=array([4, 4, 4, 4, 0, 5, 5, 5, 5, 4, 4, 4]), current_player=1, captures=array([0, 0]))"
      ]
     },
     "execution_count": 14,
     "metadata": {},
     "output_type": "execute_result"
    }
   ],
   "source": [
    "g = Game()  # Create a new game\n",
    "g, captures, done = g.step(4)  # play the 5th pit (our implementation starts at 0)\n",
    "g  # Display the resulting board inline"
   ]
  },
  {
   "cell_type": "raw",
   "metadata": {},
   "source": [
    "=====================\n",
    "Awale and Game Theory\n",
    "=====================\n",
    "\n",
    ".. warning::\n",
    "  Previouosly, this section contained text about perfect information games, strongly solved games, then represented perfect information games as finite state machines and trees. After reading more litterature, i decided to remove an rewrite it.\n",
    "  I plan to rewrite it with the following: Set the basics of Game Theory and the concept of a \"solution\" to a game, talk about the minimax, define perfect information/combinatorial games then their tree representation.\n"
   ]
  },
  {
   "cell_type": "raw",
   "metadata": {},
   "source": [
    "Tree representation\n",
    "~~~~~~~~~~~~~~~~~~~\n",
    "\n",
    "A combinatorial game like Awale can be represented as a tree in a straightforward way where every node is a state of the game.\n",
    "The root of the tree represents the initial state.\n",
    "If in a state :math:`s` the current player plays action :math:`i` resulting in state :math:`s'` then :math:`s'` will be the i-th child of the node representing :math:`s`.\n",
    "\n",
    "This results in the following properties:\n",
    "    - As the current player at the root node is South and that players alternate after each turn,\n",
    "      the tree contains alternating layers of current players:\n",
    "      the current player for nodes with an even depth is South and for odd depths is North;\n",
    "    - The leaf nodes of the tree correspond to final states;\n",
    "    - The path from the root to a leaf thus represents an instance of a full game.\n",
    "\n",
    ".. todo:: Insert a figure of an tree here\n",
    "\n",
    "\n",
    "We can now define the branching factor: the maximum number of children of a node in the game.\n",
    "In Awale the player can choose to sow his seeds from one of his non-empty pits.\n",
    "As the player has 6 pits, the branching factor is 6.\n",
    "\n",
    "We now implement this tree representation in Python by inheriting from :code:`Game()` class previously defined so that a state can hold references to its parent and children."
   ]
  },
  {
   "cell_type": "code",
   "execution_count": 15,
   "metadata": {
    "lines_to_next_cell": 2
   },
   "outputs": [],
   "source": [
    "from __future__ import annotations\n",
    "from typing import Optional, List\n",
    "from weakref import ref, ReferenceType\n",
    "\n",
    "\n",
    "@dataclass\n",
    "class TreeGame(Game):\n",
    "    # Hold an optional reference to the parent state\n",
    "    parent: Optional[ReferenceType[Game]] = None\n",
    "    # Hold a list of 6 optional references to the children\n",
    "    children: List[Optional[Game]] = field(default_factory=lambda: [None] * 6)\n",
    "    depth: int = 0"
   ]
  },
  {
   "cell_type": "raw",
   "metadata": {
    "lines_to_next_cell": 2
   },
   "source": [
    "Next, we overload the ``Game.step(i)`` method so that we do not compute twice state if it was already in the tree. If a new node was generated, we keep a reference to the parent when we create a new child."
   ]
  },
  {
   "cell_type": "code",
   "execution_count": 16,
   "metadata": {},
   "outputs": [],
   "source": [
    "class TreeGame(TreeGame):\n",
    "    ...\n",
    "\n",
    "    def step(self, action):\n",
    "        # If we already did compute the children node, just return it\n",
    "        if self.children[action] is not None:\n",
    "            new_game = self.children[action]\n",
    "            captures = (\n",
    "                new_game.captures[self.current_player]\n",
    "                - self.captures[self.current_player]\n",
    "            )\n",
    "            return new_game, captures, new_game.game_finished\n",
    "        # If not, call the original `step()` method and keep references in both directions\n",
    "        else:\n",
    "            new_game, captures, finished = super().step(action)\n",
    "            new_game.parent = ref(self)\n",
    "            new_game.depth = self.depth + 1\n",
    "            self.children[action] = new_game\n",
    "            return new_game, captures, finished"
   ]
  },
  {
   "cell_type": "code",
   "execution_count": 17,
   "metadata": {
    "lines_to_next_cell": 2
   },
   "outputs": [],
   "source": [
    "class TreeGame(TreeGame):\n",
    "    ...\n",
    "\n",
    "    @property\n",
    "    def successors(self):\n",
    "        children = [x for x in self.children if x is not None]\n",
    "        successors = children + list(itertools.chain(*[x.successors for x in children]))\n",
    "        return successors\n",
    "\n",
    "    @property\n",
    "    def unvisited_actions(self):\n",
    "        return [i for i, x in enumerate(self.children) if x is None]\n",
    "\n",
    "    @property\n",
    "    def legal_unvisited_actions(self):\n",
    "        return list(set(self.unvisited_actions).intersection(set(self.legal_actions)))\n",
    "\n",
    "    @property\n",
    "    def expanded_children(self):\n",
    "        return [x for x in self.children if x is not None]\n",
    "\n",
    "    @property\n",
    "    def is_fully_expanded(self):\n",
    "        legal_actions = set(self.legal_actions)\n",
    "        unvisited_actions = set(self.unvisited_actions)\n",
    "        return len(legal_actions.intersection(unvisited_actions)) == 0\n",
    "\n",
    "    @property\n",
    "    def is_leaf_game(self):\n",
    "        return self.children == [None] * 6"
   ]
  },
  {
   "cell_type": "raw",
   "metadata": {},
   "source": [
    "================================================\n",
    "Artificial Intelligence approaches to play Awale\n",
    "================================================\n",
    "\n",
    "Many algorithms have been proposed and studied to play sequential perfect information games.\n",
    "A few examples detailed here are retrograde analysis, Minimax, :math:`\\alpha-\\beta` pruning,\n",
    "Monte Carlo tree search (MCTS) and the new approach from Deepmind: Alpha Zero :cite:`AlphaGoZero`.\n",
    "\n",
    "We will quickly present those and then focus on MCTS and its variants as they are computationally feasible and do not require expert knowledge about the given game to make reasonable decisions.\n",
    "\n"
   ]
  },
  {
   "cell_type": "raw",
   "metadata": {},
   "source": [
    "First we implement a player class. A player keeps track of the game state internaly.\n",
    "At each turn of the game, a player is called with the method `play()` to get the action played by the opponent\n",
    "(and thus update it's internal state) and then chooses an action with `get_action()`,\n",
    "updates once more it's internal state and then outputs it's action for the other player."
   ]
  },
  {
   "cell_type": "code",
   "execution_count": 19,
   "metadata": {},
   "outputs": [],
   "source": [
    "class Player:\n",
    "    def play(self, their_action):\n",
    "        # If we are the first player, there is no previous action\n",
    "        if their_action != -1:\n",
    "            # Play the opponent's move\n",
    "            self.root, _, _ = self.root.step(their_action)\n",
    "        else:\n",
    "            assert self.player_id == 0, \"Only the first player can have their_action=-1\"\n",
    "        \n",
    "        action = self.get_action()\n",
    "        self.root, _, _ = self.root.step(action)\n",
    "        \n",
    "        return action"
   ]
  },
  {
   "cell_type": "raw",
   "metadata": {
    "lines_to_next_cell": 2
   },
   "source": [
    "Alpha-Beta pruning Minimax\n",
    "--------------------------\n",
    "\n",
    ".. todo:: Describe the algorithm and implement an agent for Awale\n",
    "\n",
    "\n",
    "\n",
    "Retrograde analysis\n",
    "-------------------\n",
    "\n",
    "\n",
    "For both divergent and convergent games search algorithms can prove the game result for positions near\n",
    "the end of a game. However, for divergent games the number of endgame\n",
    "positions is so big that enumerating all of them is computationally impossible (except for trivial\n",
    "games like Tic-Tac-Toe). However, for convergent games, the number of positions\n",
    "near the end of the game is small. Usually small enough to traverse them all, and collect\n",
    "their game values in a database, a so called endgame database.\n",
    "\n",
    "Retrograde Analysis computes endgame databases by going backward from values of final\n",
    "positions towards the initial position :cite:`goot2001`.\n",
    "First, Retrograde Analysis identifies all final positions in which the game value is known.\n",
    "By making reverse moves from these final positions the game value of some non-final positions can be deduced. And by making reverse moves from these newly proven non-final positions, the game value of other non-final positions can be deduced. This can continue either by running of available memory or by having enumerated all the legal positions in the game.\n",
    "\n",
    "Ströhlein is the first researcher who came up with the idea to create endgame databases and applied his idea to chess :cite:`endgame1970`.\n",
    "The first endgame database for Awale has been created by :cite:`allis1995` and was followed by many others, while the quest was ended by :cite:`romein2003solving` publishing a database for all legal positions.\n",
    "\n",
    "\n",
    "The above-mentioned results for Kalah and Awale both use an almost brute-force\n",
    "method to solve the game and use a database of all possible states. The database\n",
    "used by :cite:`romein2003solving` has 204 billion entries and weighs 178GiB.\n",
    "Such a huge database is of course not practical and  we thus think  there is still room for\n",
    "improvement if we can create an agent with a policy that does not need a\n",
    "exhaustive database, even if the agent is not capable of a perfect play.\n",
    "\n",
    "\n",
    "Monte Carlo Tree Search\n",
    "-----------------------\n",
    "\n",
    ".. todo:: This section and the next should be more detailed\n",
    "\n",
    "In this subsection, we define Markov Decision Processes (MDP) and model Awale with this framework. We then describe and detail Monte Carlo Tree Search, a policy-optimization algorithm for finite-horizon, finite-size MDPs.\n",
    "\n",
    "\n",
    "As Awale can be represented as an MDP, we could be tempted to use the usual framework of Q-Learning [Cite XXX] to find the best policy to maximise our reward. But since the state space is huge, this is computationally difficult or even impossible in memory and time constrained cases.\n",
    "To overcome this computational problem, the MCTS method constructs only a part of game the tree by sampling and tries to estimate the chance of winning based on this information.\n",
    "\n",
    "Algorithm\n",
    "~~~~~~~~\n",
    "\n",
    ".. figure:: _static/mcts-algorithm.png\n",
    "\n",
    "   The 4 steps of MCTS :cite:`chaslot2008monte`\n",
    "\n",
    "\n",
    "The (partial) tree is constructed as follows:\n",
    "\n",
    "* Selection: starting at the root node, recursively choose a child until\n",
    "  a leaf :math:`L` is reached\n",
    "* Expansion: if :math:`L` is not a terminal node\\footnote{As the tree is\n",
    "  not complete, a leaf could be a node that is missing its children, not\n",
    "  necessarily a terminal state}, create a child :math:`C`\n",
    "* Simulation: run a playout from :math:`C` until a terminal node :math:`T` is\n",
    "  reached (play a full game)\n",
    "* Back-propagation: update the counters described below of each ancestor\n",
    "  of :math:`T`.\n",
    "\n",
    "\n",
    "Each node holds 3 counters : (:math:`W_S`), the number of simulations using this node ended that\n",
    "with a win for South;  and North (:math:`W_N`). From this\n",
    "counters, a probability of North winning conditional on a given action can be computed\n",
    "immediately: :math:`\\frac{W_N}{N}`.\n",
    "\n",
    "This sampling can be ran as many times as allowed (most of the\n",
    "time, the agent is time constrained). One can also stop the sampling earlier if\n",
    "\n",
    "each time refining the probability of\n",
    "winning when choosing a child of the root node. When we are done sampling, the\n",
    "agent chooses the child with the highest probability of winning and plays the\n",
    "corresponding action in the game.\n",
    "\n",
    "the total number of times a node has been played during a\n",
    "sampling iteration (:math:`N`)"
   ]
  },
  {
   "cell_type": "raw",
   "metadata": {},
   "source": [
    "Implementation\n",
    "~~~~~~~~~~~~~~"
   ]
  },
  {
   "cell_type": "code",
   "execution_count": 18,
   "metadata": {
    "lines_to_next_cell": 2
   },
   "outputs": [],
   "source": [
    "@dataclass\n",
    "class TreeStatsGame(TreeGame):\n",
    "    wins: np.array = field(default_factory=lambda: np.zeros(2, dtype=int))\n",
    "    n_playouts: int = 0\n",
    "\n",
    "    def update_stats(self, winner):\n",
    "        if winner in [0, 1]:\n",
    "            self.wins[winner] += 1\n",
    "        self.n_playouts += 1\n",
    "        if self.parent and self.parent():\n",
    "            self.parent().update_stats(winner)"
   ]
  },
  {
   "cell_type": "raw",
   "metadata": {},
   "source": [
    "The MCTS first chooses a node to expand with the `tree_policy()` when the node is found, it is expanded with the `default_policy()`. When reaching a terminal node, the counters are updated. This is repeated `BUDGET` times and then the final action is chosen as the action that has the highest amount of wins.\n",
    "\n",
    "Both policies in this implementation are random walks."
   ]
  },
  {
   "cell_type": "code",
   "execution_count": null,
   "metadata": {},
   "outputs": [],
   "source": [
    "class MCTSPlayer(Player):\n",
    "    def __init__(self, player_id, budget: Union[int, timedelta]):\n",
    "        self.root = TreeStatsGame()\n",
    "        self.player_id = player_id\n",
    "        self.budget = budget\n",
    "\n",
    "    def tree_policy(self, node):\n",
    "        while not node.is_leaf_game:\n",
    "            if node.is_fully_expanded:\n",
    "                node = random.choice(node.expanded_children)\n",
    "            else:\n",
    "                action = random.choice(node.legal_unvisited_actions)\n",
    "                node, _, _ = node.step(action)\n",
    "        return node\n",
    "    \n",
    "    def explore_tree(self):\n",
    "        # Choose a starting node\n",
    "        node = self.tree_policy(self.root)\n",
    "\n",
    "        # Run a simulation on that node\n",
    "        finished = node.game_finished\n",
    "        while not finished:\n",
    "            action = self.default_policy(node)\n",
    "            node, _, finished = node.step(action)\n",
    "\n",
    "        # Backtrack stats\n",
    "        node.update_stats(node.winner)\n",
    "    \n",
    "    def default_policy(self, node):\n",
    "        # Random walk\n",
    "        return random.choice(node.legal_actions)\n",
    "    \n",
    "    def action_score(self, x):\n",
    "        node = self.root.children[x]\n",
    "        if node is None:\n",
    "            return -random.random()\n",
    "\n",
    "        assert self.root.current_player == self.player_id\n",
    "        assert node.current_player != self.player_id\n",
    "\n",
    "        return node.wins[self.player_id]\n",
    "        \n",
    "    \n",
    "    def get_action(self):\n",
    "        if isinstance(self.budget, int):\n",
    "            for _ in range(self.budget):\n",
    "                self.explore_tree()\n",
    "        elif isinstance(self.budget, timedelta):\n",
    "            start = datetime.now()\n",
    "            end = start + self.budget\n",
    "            while datetime.now() < end:\n",
    "                self.explore_tree()\n",
    "        else:\n",
    "            raise TypeError(\"budget should be Union[int, timedelta], not %s\" % type(budget))\n",
    "        \n",
    "        possible_actions = self.root.legal_actions\n",
    "        return max(possible_actions, key=self.action_score)"
   ]
  },
  {
   "cell_type": "raw",
   "metadata": {},
   "source": [
    "Naive agents\n",
    "------------\n",
    "\n",
    "To be able to benchmark our agents, we also implement two naive agents.\n",
    "The first is a random player thatchooses an action at random between all the legal actions"
   ]
  },
  {
   "cell_type": "code",
   "execution_count": null,
   "metadata": {},
   "outputs": [],
   "source": [
    "class RandomPlayer(Player):\n",
    "    def __init__(self, player_id):\n",
    "        self.root = Game()\n",
    "        self.player_id = player_id\n",
    "    \n",
    "    def get_action(self):\n",
    "        return random.choice(self.root.legal_actions)"
   ]
  },
  {
   "cell_type": "raw",
   "metadata": {},
   "source": [
    "The second is :math:`\\varepsilon`-Greedy: an agent that tries to maximise an immediate reward at each turn: the number of seeds captured during that turn. The :math:`\\varepsilon` parameter introduces randomness: at each turn, the agent draws an number between 0 and 1, if it is geater than :math:`\\varepsilon`, the agent plays at random."
   ]
  },
  {
   "cell_type": "code",
   "execution_count": null,
   "metadata": {},
   "outputs": [],
   "source": [
    "class GreedyPlayer(Player):\n",
    "    def __init__(self, player_id, eps=0):\n",
    "        self.root = Game()\n",
    "        self.player_id = player_id\n",
    "        self.eps = eps\n",
    "    \n",
    "    def get_action(self):\n",
    "        # Choose a move\n",
    "        children = []\n",
    "        \n",
    "        for legal_action in self.root.legal_actions:\n",
    "            new_state, captures, finished = self.root.step(legal_action)\n",
    "            if new_state.winner is None:\n",
    "                win = 0\n",
    "            elif new_state.winner == self.player_id:\n",
    "                win = 1\n",
    "            else:\n",
    "                win = -1\n",
    "            children.append((legal_action, captures, win))\n",
    "        \n",
    "        # order wins first, then by captures, then random\n",
    "        sorted_children = sorted(children, key=lambda a_c_w: (-a_c_w[2], -a_c_w[1], random.random()))\n",
    "        if random.random() < self.eps:\n",
    "            action = random.choice(self.root.legal_actions)\n",
    "        else:\n",
    "            action = sorted_children[0][0]\n",
    "            \n",
    "        return action"
   ]
  },
  {
   "cell_type": "raw",
   "metadata": {},
   "source": [
    "================================\n",
    "Monte Carlo tree search variants\n",
    "================================\n",
    "\n",
    "Node Selection\n",
    "--------------\n",
    "\n",
    "In step 1 and 3 of the algorithm, we have to choose nodes.\n",
    "There are multiples ways to choose those.\n",
    "\n",
    "In the original MCTS we take a child at random each time.\n",
    "This is easy to implement but it is not effective since it explores every part of the tree even if a part has no chance of leading to a win for the player."
   ]
  },
  {
   "cell_type": "raw",
   "metadata": {},
   "source": [
    "Upper Confidence Bounds for Trees\n",
    "---------------------------------\n",
    "\n",
    "A better method would be asymmetric and explore more often the interesting parts of the\n",
    "tree. Kocsis and Szepervari :cite:`kocsis2006bandit` defined Upper Confidence\n",
    "Bounds for Trees (UCT), a method mixing vanilla MCTS and Upper Confidence Bounds\n",
    "(UCB).\n",
    "\n",
    "Indeed, in step 1, selecting the node during the tree descent that maximizes the\n",
    "probability of winning is analogous to the multi-armed bandit problem in which a\n",
    "player has to choose the slot machine that maximizes the estimated reward.\n",
    "\n",
    "The UCB is\n",
    "\n",
    ".. math::\n",
    "\n",
    "    \\frac{W_1}{N} + c \\times \\sqrt{\\frac{ln N'}{N}},\n",
    "\n",
    "where :math:`N'` is the number of times the\n",
    "parent node has been visited and :math:`c` is a parameter that can be tuned to balance exploitation of known wins and exploration of\n",
    "less visited nodes. Kocsis et al. has shown that :math:`\\frac{\\sqrt{2}}{2}`\n",
    ":cite:`kocsis2006bandit` is a good value when rewards are in :math:`[0, 1]`.\n",
    "\n",
    "In step 3, the playouts are played by choosing an action from an uniform distribution since it is the first time these nodes\n",
    "are seen and we do not have a generic evaluation function do direct the playout\n",
    "towards 'better' states."
   ]
  },
  {
   "cell_type": "raw",
   "metadata": {},
   "source": [
    "\n",
    "`UCTPlayer` reuses the MCTS agent but subclasses the `tree_policy` and uses UCT"
   ]
  },
  {
   "cell_type": "code",
   "execution_count": null,
   "metadata": {},
   "outputs": [],
   "source": [
    "class UCTPlayer(MCTSPlayer):\n",
    "    def __init__(self, player_id, budget: Union[int, timedelta], c: float):\n",
    "        super().__init__(player_id, budget)\n",
    "        self.c = c\n",
    "        \n",
    "    def node_score(self, node):\n",
    "        exporation = node.wins[node.current_opponent] / (node.n_playouts + 1)\n",
    "        exploitation = math.sqrt(math.log(node.parent().n_playouts) / (node.n_playouts + 1))\n",
    "        return exporation + self.c * exploitation\n",
    "\n",
    "    def tree_policy(self, node):\n",
    "        while not node.is_leaf_game:\n",
    "            if node.is_fully_expanded:\n",
    "                node = max_rand(node.expanded_children, key=self.node_score)\n",
    "            else:\n",
    "                action = random.choice(node.legal_unvisited_actions)\n",
    "                node, _, _ = node.step(action)\n",
    "        return node"
   ]
  },
  {
   "cell_type": "raw",
   "metadata": {},
   "source": [
    "Informed UCT\n",
    "------------\n",
    "\n",
    " `GreedyUCTPlayer` subclasses `UCTPlayer` and changes the `default_policy` to weigh more the actions that will give more immediate rewards.\n"
   ]
  },
  {
   "cell_type": "code",
   "execution_count": null,
   "metadata": {},
   "outputs": [],
   "source": [
    "class GreedyUCTPlayer(UCTPlayer):    \n",
    "    def default_policy(self, node):\n",
    "        # Greedy walk\n",
    "        assert len(node.legal_actions) != 0\n",
    "        captures = [node.step(action)[1] + 1 for action in node.legal_actions]\n",
    "        return random.choices(node.legal_actions, weights=captures)[0]"
   ]
  },
  {
   "cell_type": "raw",
   "metadata": {},
   "source": [
    "Alpha Zero\n",
    "----------\n",
    "\n",
    "To replace the random play in step 3, D. Silver et al. propose\n",
    ":cite:`AlphaGoZero` to use a neural network to estimate the value of a\n",
    "game state without having to play it. This can greatly enhances the performance\n",
    "of the algorithm as much less playouts are required."
   ]
  },
  {
   "cell_type": "raw",
   "metadata": {},
   "source": [
    "=================\n",
    "Empirical results\n",
    "=================\n",
    "\n",
    "\n",
    "Experimental setup\n",
    "------------------\n",
    "\n",
    ".. todo:: As an algorithm might have an advantage we will always play A vs B and then B vs A. We thus have an even number or matches so we pick 50 and not 49 matches. Here we should also explain where we run the simulations (hardware setup) some explanation of the software distribution of the computation and then describe the simulation in itself and the limit to 500 steps.\n",
    "\n",
    "\n",
    "\n",
    "Algorithm tuning\n",
    "----------------\n",
    "\n",
    "\n",
    "\n",
    ":math:`\\varepsilon`-Greedy\n",
    "~~~~~~~~~~~~~~~~~~~~~~~~~~\n",
    "\n",
    "The first agent we have to tune is :math:`\\varepsilon`-Greedy and it has one parameter, :math:`\\varepsilon` that can very in the interval :math:`[0, 1]`. As running a match between two :math:`\\varepsilon`-Greedy agents takes less than 100ms, playing thousands of matches is computaionaly feasible.\n",
    "\n",
    "We thus pick 21 evenly spaced values of :math:`\\varepsilon` in the interval :math:`[0, 1]` and play 50 matches for each pair of values of :math:`\\varepsilon`. The results of these matches is shown in Fig. XXX below.\n",
    "\n",
    "\n",
    ".. figure:: /notebooks/plot-eps.png\n",
    "\n",
    "\n",
    "\n",
    "MCTS\n",
    "~~~~\n",
    "\n",
    "The MCTS agent has a parameter :math:`t` that states how much time the agent may spend on simulation during its turn.\n",
    "As (Kocsis and Szepesvári) XXX have shown that given enough time MCTS converges to the minimax tree and thus is optimal, we know that the higher is :math:`t`, the better the agent will be. However, since we are constrained by the capacity of our computation resources, we have to choose a reasonable value of :math:`t`.\n",
    "\n",
    "Given our objective of producing an agent capable of playing against a human, choosing a value of :math:`t` higher than 1 minute is unrealistic as the human will not want to wait more than that at each turn of the game. While 1 minute is an upper bound, having a much smaller waiting time at each turn would be valuable. We think that  :math:`t = 5s` is a reasonable value.\n",
    "\n",
    "As stated earlier, we know that the strength of the agent is an increasing function of :math:`t`. However, we don't know the shape of this function. We play compare the strength of MCTS(t=5) against a range of values of :math:`t' \\in \\{0.5, 1, 1.5, 2, 3, 5, 7, 10, 15, 20, 30, 40\\}` by playing 10 matches for each value of :math:`t'`.\n",
    "\n",
    "..  figure:: notebooks/mcts-time.png\n",
    "\n",
    "While the results are noisy, we still see that the strength of MCTS does not increase quickly after :math:`t=5s` so we decide that :math:`t=5s` is a good compromise between strength and waiting time.\n",
    "\n",
    "\n",
    "UCT\n",
    "~~~\n",
    "\n",
    "The UCT agent has 2 variables that we can tune, :math:`t` as in MCTS and :math:`c` the balance between exploration and exploitation. We will fix :math:`t=5s` so that we can fairly compare MCTS and UTC later.\n",
    "Kocsis et al.:cite:`kocsis2006bandit` has shown that :math:`c=\\frac{\\sqrt{2}}{2}` is a good starting value. We thus play matches of MCTS(:math:`c=\\frac{\\sqrt{2}}{2}`) against a range of 11 values equaly spaced between 0.2 and 2.2\n",
    "\n",
    "\n",
    ".. todo:: :math:`c = \\sqrt(2) / 2` is a good theoretical starting point (see aglo description) so we run matches with :math:`c = \\sqrt(2) / 2` against a range of values, from 0.1 to 2. What we see is a bell curve with some noise. :math:`c = \\sqrt(2) / 2` seems indeed the best value.\n",
    "\n",
    "\n",
    ".. figure:: notebooks/uct-value.png\n",
    "\n",
    "\n",
    "\n",
    ".. todo:: Interpretation of the curve: The curve has a lot of noise on the right, not much on the left. An explanation for this could be that on the left, there is not much exploration so the algorithm is more deterministic while it's the opposite on the right and each simulation could be really good or really bad depending on luck.\n",
    "\n",
    "We can also run the same but with c = 1.5 to see if we were not luck by using :math:`c = \\sqrt(2) / 2` the first time. We see the peak at the same place, it was not luck.\n",
    "\n",
    ".. figure:: notebooks/uct-c-15.png\n",
    "\n",
    "\n",
    "\n",
    "\n",
    "Comparing algorithms\n",
    "--------------------\n",
    "\n",
    "How to compare A and B\n",
    "~~~~~~~~~~~~~~~~~~~~~~\n",
    "\n",
    "\n",
    "We wish to compare algorithms A and B. The probability that A wins is denoted by :math:`p` and is unknown (the probability that B wins is :math:`1-p`). Our null hypothesis is that :math:`p=0.50` and the alternative hypothesis is that :math:`p \\neq 0.50`. To compare algorithms A and B, we run :math:`N` simulations and A wins :math:`n` times (thus B wins :math:`N-n` times). Using the Python function xxx, we then compute the p-value. If it is lower than :math:`5\\%`, we traditionally reject the null hypothesis. This guarantees that, conditional on H0 being true, the probability of making an incorrect decision is :math:`5\\%`. But if H1 is true, the probability of an incorrect decision is not necessarily :math:`5\\%`: it depends on the number :math:`N` of simulations and on the true value of :math:`p`. To ensure that the probability of an incorrect decision, conditional on H1, be acceptable, we resort to the concept of statistical power.\n",
    "\n",
    "Suppose the true probability p is :math:`0.75`. This is very far from the null hypothesis. In that case, we want the probability of choosing H1 (not making an incorrect decision) to be high (for instance :math:`95\\%`). This probability is the power and can be computed by means of the R function powerBinom implemented in the R package exactci:\n",
    "powerBinom(power = 0.95, p0 = 0.5, p1 = 0.75, sig.level = 0.05, alternative = \"two.sided\")\n",
    "The output of this command is the number :math:`N` of simulations needed to achieve the desired power and it is 49.\n",
    "\n",
    ".. todo:: Compute critical value to decide an algorithm is better than an other. If we have 50 matches, and one algorithm wins strictly more than 31\n",
    "\n",
    "\n",
    "How to compare more than 2\n",
    "~~~~~~~~~~~~~~~~~~~~~~~~~~\n",
    "\n",
    ".. todo:: Now that we can compare 2 algorithms, we can ask ourselves if this relation is transitive.\n",
    "In fact, we can prove that this relation is not always transitive in a mind experiment with 3 algorithms and a cycle. (I will write the proof later)\n",
    "\n",
    ".. todo:: Transitivity can not be assumed in all cases. However, we can hope that if we optimize a parameter in an algorithm, transitivity exists. (We can show experimental clues that it is the case). If we want to compare different algorithms, we will have to use a full tournament.\n",
    "\n",
    ".. todo:: We transform the valued tournament in a binary tournament. The check if the tournament a complete pre-order.\n",
    "\n",
    "\n",
    "Run + result\n",
    "------------\n",
    "\n",
    ".. todo:: Here we run the big tournament with all the algorithms against the others\n",
    "\n",
    "\n",
    ".. figure:: notebooks/matrix.png\n",
    "\n",
    "We see that UCT and GreedyUCT beat every other agent. There is no clear winner between those 2 champions though.\n",
    "\n",
    "Limitations\n",
    "-----------\n",
    "\n",
    ".. todo:: As we only compare the champions of each algorithm, we might have a non-champion that would still won against another algo. Then we would not have a complete pre-order. We can not do this due to compute limitation.\n",
    "\n",
    "\n",
    "Ranking\n",
    "--------\n",
    "\n",
    ".. todo:: We might still want to rank our algorithms on a scale with total ordering. There are a lot of algorithms to do this (Elo ranking and others). Research is still developing on this subject and there is no consensus on the right method to use. This is beyond the topic, i won't go further.\n",
    "https://www.researchgate.net/publication/287630111_A_Comparison_between_Different_Chess_Rating_Systems_for_Ranking_Evolutionary_Algorithms\n"
   ]
  },
  {
   "cell_type": "raw",
   "metadata": {},
   "source": [
    "==========\n",
    "Conclusion\n",
    "=========="
   ]
  },
  {
   "cell_type": "raw",
   "metadata": {},
   "source": [
    "========\n",
    "Appendix\n",
    "========\n",
    "\n",
    "Bibliography\n",
    "------------\n",
    "\n",
    ".. warning::\n",
    "   Some papers are currently wrongly cited. \n",
    "\n",
    ".. bibliography:: refs.bib\n",
    "   :style: custom"
   ]
  },
  {
   "cell_type": "raw",
   "metadata": {},
   "source": [
    "Footnotes\n",
    "---------\n",
    "\n",
    ".. [#source_bao] Picture by Yintan under Creative Commons SA license https://commons.wikimedia.org/wiki/File:Bao_europe.jpg\n",
    "\n",
    ".. [#Fly08] Jennifer Flynn. Independent study quarterly reports.\n",
    " http://users.soe.ucsc.edu/~charlie/projects/SlugGo/, 2008\n",
    "\n",
    ".. [#GS07] Sylvain Gelly and David Silver. Combining online and offline\n",
    " knowledge in uct. In ICML ’07: Proceedings of the 24th\n",
    " Internatinoal Conference on Machine Learning, pages 273–280.\n",
    " ACM, 2007. "
   ]
  }
 ],
 "metadata": {
  "celltoolbar": "Tags",
  "jupytext": {
   "encoding": "# -*- coding: utf-8 -*-",
   "formats": "ipynb,py:light"
  },
  "kernelspec": {
   "display_name": "Python 3",
   "language": "python",
   "name": "python3"
  },
  "language_info": {
   "codemirror_mode": {
    "name": "ipython",
    "version": 3
   },
   "file_extension": ".py",
   "mimetype": "text/x-python",
   "name": "python",
   "nbconvert_exporter": "python",
   "pygments_lexer": "ipython3",
   "version": "3.7.9"
  }
 },
 "nbformat": 4,
 "nbformat_minor": 2
}
