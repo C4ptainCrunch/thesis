{
 "cells": [
  {
   "cell_type": "code",
   "execution_count": null,
   "metadata": {},
   "outputs": [],
   "source": []
  },
  {
   "cell_type": "code",
   "execution_count": 1,
   "metadata": {},
   "outputs": [
    {
     "name": "stdout",
     "output_type": "stream",
     "text": [
      "Populating the interactive namespace from numpy and matplotlib\n"
     ]
    }
   ],
   "source": [
    "%pylab inline\n",
    "\n",
    "import numpy as np\n",
    "import itertools\n",
    "import random"
   ]
  },
  {
   "cell_type": "markdown",
   "metadata": {},
   "source": [
    "# Mancala\n",
    "\n",
    "Mancala is a ancient family of games played played on many continents ([source, page 2623](https://doi.org/10.1007/978-94-007-3934-5_9947-1)). The word *mancala* comes from the Arabic word *نقل* transliterated *naqala* meaning literally \"to move\".\n",
    "\n",
    "Mancala games usualy consists of two row of pits each containing a proportionaite amount of seeds, stones or shells.\n",
    "Usualy, these games are played by two opponents who play sequentialy.\n",
    "\n",
    "The goal for each opponent is to capture as many seeds as possible before the other.\n",
    "\n",
    "-- Insert figure here\n",
    "\n",
    "We will focus on Awalé (also called Oware or Owari), originating from Ghana and Kalah, a modern version invented by William Julius Champion Jr. circa 1940.\n",
    "\n",
    "There are too many other existing variations to list them all here, but a few notable ones are Wari, Bao and Congkak.\n",
    "\n",
    "\n",
    "## Perfect information\n",
    "\n",
    "Mancala games are : \n",
    " * sequential : the oppenents play one after the other,\n",
    " * hold no secret information : each playser has the same information about the game as the other\n",
    " * do not rely on randomness : the state of the game depends only on the actions taken sequentialy by each player and an action has a determinitc result.\n",
    "\n",
    "This type of game is called a sequential perfect information game. ([6.1 page 89](http://ebour.com.ar/pdfs/A%20Course%20in%20Game%20Theory.pdf)).\n",
    "\n",
    "-- Insert something about finite state machines ?\n",
    "\n",
    "Other games in this category are for example Chess, Go, Checkers or even Tic-tac-toe and Connect Four.\n",
    "\n",
    "This type of game is a particularly intersting field to study in computer science and artifical intelligence as they are easy to simulate.\n",
    "\n",
    "While it might be tempting to enumerate every possible play of those games by starting a game and recusively try each legal action untill the end of the play, most of the time, this is not a feasible approch for most games due to the size of the state space.\n",
    "\n",
    "For example, [Romein et al.](https://www.cs.vu.nl/pub/bal/awari.ps) claims that Awalé has 889,063,398,406 legal positions and the number of $\\approx 2.08 * 10^170$ legal postions in Go has only [recently been determined](http://tromp.github.io/go/legal.html).\n",
    "\n",
    "[Kalah is solved](http://kalaha.krus.dk/) "
   ]
  },
  {
   "cell_type": "markdown",
   "metadata": {},
   "source": [
    "## Oware\n",
    "\n",
    "The b"
   ]
  },
  {
   "cell_type": "markdown",
   "metadata": {},
   "source": [
    "# Awalé\n",
    "Also known as awari and owari\n",
    "\n",
    "## Solved\n",
    "\n",
    "It might be solved by [Solving awari with parallel retrograde analysis](http://ieeexplore.ieee.org/abstract/document/1236468/)"
   ]
  },
  {
   "cell_type": "code",
   "execution_count": 2,
   "metadata": {},
   "outputs": [],
   "source": [
    "class Game:\n",
    "    def __init__(self, pits=6, seeds=4):\n",
    "        self.pits = pits\n",
    "        self.seeds = seeds\n",
    "        self.reset()\n",
    "        self.actions = np.array(range(self.pits))\n",
    "    \n",
    "    def reset(self):\n",
    "        self.state = np.ones((self.pits * 2), dtype=int) * self.seeds\n",
    "        self.current_player = 0\n",
    "        self.captures = np.zeros((2,), dtype=int)\n",
    "        self.history = set()\n",
    "    \n",
    "    def copy(self):\n",
    "        g = Game()\n",
    "        \n",
    "        g.state = self.state.copy()\n",
    "        g.current_player = self.current_player\n",
    "        g.captures = self.captures.copy()\n",
    "        g.history = self.history.copy()\n",
    "        \n",
    "        return g\n",
    "    \n",
    "    @property\n",
    "    def state_from_current_player(self):\n",
    "        shift = 0 if self.current_player == 0 else self.pits\n",
    "        return np.roll(self.state, shift)\n",
    "\n",
    "    @property\n",
    "    def legal_actions(self):\n",
    "        # todo : add the Let the opponent play rule\n",
    "        return [x for x in range(self.pits) if self.state[x] != 0]\n",
    "\n",
    "\n",
    "    def step(self, action):\n",
    "        assert 0 <= action < self.pits\n",
    "        action = action if self.current_player == 0 else action - self.pits\n",
    "        \n",
    "        seeds = self.state[action]\n",
    "        assert seeds != 0\n",
    "        \n",
    "        # empty the target pit\n",
    "        self.state[action] = 0\n",
    "        \n",
    "        # fill the next pits\n",
    "        pit_to_sow = action\n",
    "        while seeds > 0:\n",
    "            pit_to_sow = (pit_to_sow + 1) % (self.pits * 2)\n",
    "            if pit_to_sow != action: # do not fill the target pit ever\n",
    "                self.state[pit_to_sow] += 1\n",
    "                seeds -= 1\n",
    "        \n",
    "        # capture\n",
    "        # count the captures of the play\n",
    "        captures = 0\n",
    "        if pit_to_sow in self.adverse_pits_idx:\n",
    "            # if the last seed was in a adverse pit\n",
    "            # we can try to collect seeds\n",
    "            while self.state[pit_to_sow] in (2, 3):\n",
    "                # if the pit contains 2 or 3 seeds, we capture them\n",
    "                self.captures[self.current_player] += self.state[pit_to_sow]\n",
    "                captures += self.state[pit_to_sow]\n",
    "                self.state[pit_to_sow] = 0\n",
    "                \n",
    "                # go backwards\n",
    "                pit_to_sow = (pit_to_sow - 1) % (self.pits * 2)\n",
    "                \n",
    "        \n",
    "        # change player\n",
    "        self.current_player = (self.current_player + 1) % 2\n",
    "        \n",
    "        # record state\n",
    "        tstate = tuple(self.state)\n",
    "        if tstate in self.history:\n",
    "            assert False, \"Game loop\"\n",
    "        else:\n",
    "            self.history.add(tstate)\n",
    "        \n",
    "        return captures, self.state, self.game_finished\n",
    "    \n",
    "    @property\n",
    "    def adverse_pits_idx(self):\n",
    "        if self.current_player == 1:\n",
    "            return list(range(self.pits))\n",
    "        else:\n",
    "            return list(range(self.pits, self.pits * 2))\n",
    "    \n",
    "    @property\n",
    "    def game_finished(self):\n",
    "        no_moves_left = np.all(self.state_from_current_player[:self.pits] == np.zeros((self.pits,)))\n",
    "        enough_captures = np.any(self.captures > (self.pits * self.seeds) / 2)\n",
    "        draw = np.all(self.captures == (self.pits * self.seeds) / 2)\n",
    "        loop = tuple(self.state) in self.history\n",
    "        return no_moves_left or enough_captures or draw or loop\n",
    "    \n",
    "    def show_state(self):\n",
    "        if self.game_finished:\n",
    "            print(\"Game finished\")\n",
    "        print(\"Current player: {} - Score: {}/{}\\n{}\".format(\n",
    "            self.current_player,\n",
    "            self.captures[self.current_player],\n",
    "            self.captures[(self.current_player + 1) % 2],\n",
    "            \"-\" * self.pits * 3\n",
    "        ))\n",
    "        \n",
    "        pits = []\n",
    "        for seeds in self.state_from_current_player:\n",
    "            pits.append(\"{:3}\".format(seeds))\n",
    "        \n",
    "        print(\"\".join(reversed(pits[self.pits:])))\n",
    "        print(\"\".join(pits[:self.pits]))\n",
    "        \n",
    "        "
   ]
  },
  {
   "cell_type": "markdown",
   "metadata": {},
   "source": [
    "Shortest game ever recoreded according to [Mancala World](http://mancala.wikia.com/wiki/Oware) : 19 steps"
   ]
  },
  {
   "cell_type": "code",
   "execution_count": 3,
   "metadata": {},
   "outputs": [],
   "source": [
    "g = Game()"
   ]
  },
  {
   "cell_type": "code",
   "execution_count": 4,
   "metadata": {},
   "outputs": [
    {
     "name": "stdout",
     "output_type": "stream",
     "text": [
      "Game finished\n",
      "Current player: 1 - Score: 8/27\n",
      "------------------\n",
      "  0  2  2  2  2  1\n",
      "  3  1  0  0  0  0\n"
     ]
    }
   ],
   "source": [
    "#%%timeit\n",
    "\n",
    "g.reset()\n",
    "shortest_game = [(6, 0), (6, 0), (3, 0), (5, 0), (3, 0), (6, 0), (2, 0), (4, 2), (4, 4), (4, 0), (2, 0), (5, 0), (3, 0), (3, 0), (5, 7), (1, 6), (1, 7), (2, 0), (6, 9),]\n",
    "\n",
    "for action, captures in shortest_game:\n",
    "    game_captures, _, _ = g.step(action - 1)\n",
    "    assert captures == game_captures\n",
    "g.show_state()"
   ]
  },
  {
   "cell_type": "markdown",
   "metadata": {},
   "source": [
    "# Tree Search"
   ]
  },
  {
   "cell_type": "code",
   "execution_count": 5,
   "metadata": {},
   "outputs": [],
   "source": [
    "from recordclass import recordclass\n",
    "\n",
    "GAME_NODE_FIELDS = ['n_pits', 'seeds_per_pit', 'pits', 'current_player', 'captures', 'parent', 'children', 'wins', 'n_playouts']\n",
    "        \n",
    "class Game(recordclass('GameNode', GAME_NODE_FIELDS)):\n",
    "    @classmethod\n",
    "    def start_game(klass, n_pits=6, seeds_per_pit=4):\n",
    "        return klass(\n",
    "            n_pits,\n",
    "            seeds_per_pit,\n",
    "            pits=np.ones((n_pits * 2), dtype=int) * seeds_per_pit,\n",
    "            current_player=0,\n",
    "            captures=np.zeros((2,), dtype=int),\n",
    "            parent=None,\n",
    "            children=[None] * n_pits,\n",
    "            wins=0,\n",
    "            n_playouts=0\n",
    "        )\n",
    "    \n",
    "    @property\n",
    "    def view_from_current_player(self):\n",
    "        shift = 0 if self.current_player == 0 else self.n_pits\n",
    "        return np.roll(self.pits, shift)\n",
    "\n",
    "    @property\n",
    "    def legal_actions(self):\n",
    "        # todo : add the Let the opponent play rule\n",
    "        player_view = self.view_from_current_player\n",
    "        return [x for x in range(self.n_pits) if player_view[x] != 0]\n",
    "    \n",
    "    @property\n",
    "    def successors(self):\n",
    "        children = [x for x in self.children if x is not None]\n",
    "        successors = children + list(itertools.chain(*[x.successors for x in children]))\n",
    "        return successors\n",
    "\n",
    "    def step(self, action):\n",
    "        assert 0 <= action < self.n_pits\n",
    "        \n",
    "        if self.children[action] is not None:\n",
    "            new_game = self.children[action]\n",
    "            captures = self.captures[self.current_player] - new_game.captures[self.current_player]\n",
    "            return new_game, captures, new_game.game_finished\n",
    "        \n",
    "        target_pit = action if self.current_player == 0 else action - self.n_pits\n",
    "        \n",
    "        seeds = self.pits[target_pit]\n",
    "        assert seeds != 0\n",
    "        \n",
    "        # copy attributes\n",
    "        pits = np.copy(self.pits)\n",
    "        captures = np.copy(self.captures)\n",
    "        \n",
    "        # empty the target pit\n",
    "        pits[target_pit] = 0\n",
    "        \n",
    "        # fill the next pits\n",
    "        pit_to_sow = target_pit\n",
    "        while seeds > 0:\n",
    "            pit_to_sow = (pit_to_sow + 1) % (self.n_pits * 2)\n",
    "            if pit_to_sow != target_pit: # do not fill the target pit ever\n",
    "                pits[pit_to_sow] += 1\n",
    "                seeds -= 1\n",
    "        \n",
    "        # capture\n",
    "        # count the captures of the play\n",
    "        round_captures = 0\n",
    "        if pit_to_sow in self.adverse_pits_idx:\n",
    "            # if the last seed was in a adverse pit\n",
    "            # we can try to collect seeds\n",
    "            while pits[pit_to_sow] in (2, 3):\n",
    "                # if the pit contains 2 or 3 seeds, we capture them\n",
    "                captures[self.current_player] += pits[pit_to_sow]\n",
    "                round_captures += pits[pit_to_sow]\n",
    "                pits[pit_to_sow] = 0\n",
    "                \n",
    "                # go backwards\n",
    "                pit_to_sow = (pit_to_sow - 1) % (self.n_pits * 2)\n",
    "        \n",
    "        # change player\n",
    "        current_player = (self.current_player + 1) % 2\n",
    "        \n",
    "        new_game = type(self)(\n",
    "            self.n_pits,\n",
    "            self.seeds_per_pit,\n",
    "            pits,\n",
    "            current_player,\n",
    "            captures,\n",
    "            self,\n",
    "            [None] * self.n_pits,\n",
    "            0,\n",
    "            0\n",
    "        )\n",
    "        \n",
    "        self.children[action] = new_game\n",
    "        return new_game, round_captures, new_game.game_finished\n",
    "    \n",
    "    @property\n",
    "    def adverse_pits_idx(self):\n",
    "        if self.current_player == 1:\n",
    "            return list(range(self.n_pits))\n",
    "        else:\n",
    "            return list(range(self.n_pits, self.n_pits * 2))\n",
    "    \n",
    "    @property\n",
    "    def is_state_loop(self):\n",
    "        ancestor = self.parent\n",
    "        while ancestor is not None:\n",
    "            if np.all(ancestor.pits == self.pits):\n",
    "                return True\n",
    "            ancestor = ancestor.parent\n",
    "        return False\n",
    "    \n",
    "    @property\n",
    "    def game_finished(self):\n",
    "        no_moves_left = np.all(self.view_from_current_player[:self.n_pits] == np.zeros((self.n_pits,)))\n",
    "        enough_captures = np.any(self.captures > (self.n_pits * self.seeds_per_pit) / 2)\n",
    "        draw = np.all(self.captures == (self.n_pits * self.seeds_per_pit) / 2)\n",
    "        loop = self.is_state_loop\n",
    "        return no_moves_left or enough_captures or draw or loop\n",
    "    \n",
    "    def show_state(self):\n",
    "        if self.game_finished:\n",
    "            print(\"Game finished\")\n",
    "        print(\"Current player: {} - Score: {}/{}\\n{}\".format(\n",
    "            self.current_player,\n",
    "            self.captures[self.current_player],\n",
    "            self.captures[(self.current_player + 1) % 2],\n",
    "            \"-\" * self.n_pits * 3\n",
    "        ))\n",
    "        \n",
    "        pits = []\n",
    "        for seeds in self.view_from_current_player:\n",
    "            pits.append(\"{:3}\".format(seeds))\n",
    "        \n",
    "        print(\"\".join(reversed(pits[self.n_pits:])))\n",
    "        print(\"\".join(pits[:self.n_pits]))\n",
    "    \n",
    "    def update_stats(self, win):\n",
    "        self.wins += int(win)\n",
    "        self.n_playouts += 1\n",
    "        if self.parent:\n",
    "            self.parent.update_stats(win)\n",
    "    \n",
    "    @property\n",
    "    def winner(self):\n",
    "        if not self.game_finished:\n",
    "            return None\n",
    "        return np.argmax(self.captures)\n",
    "    \n",
    "    @property\n",
    "    def unvisited_actions(self):\n",
    "        return [i for i, x in enumerate(self.children) if x is None]\n",
    "\n",
    "    @property\n",
    "    def legal_unvisited_actions(self):\n",
    "        return list(set(self.unvisited_actions).intersection(set(self.legal_actions)))\n",
    "    \n",
    "    @property\n",
    "    def expanded_children(self):\n",
    "        return [x for x in self.children if x is not None]\n",
    "    \n",
    "    @property\n",
    "    def is_fully_expanded(self):\n",
    "        legal_actions = set(self.legal_actions)\n",
    "        unvisited_actions = set(self.unvisited_actions)\n",
    "        return len(legal_actions.intersection(unvisited_actions)) == 0\n",
    "    \n",
    "    @property\n",
    "    def is_leaf_game(self):\n",
    "        return self.children == [None] * self.n_pits\n",
    "    \n",
    "    @property\n",
    "    def depth(self):\n",
    "        if self.parent is None:\n",
    "            return 0\n",
    "        return 1 + self.parent.depth\n",
    "    \n",
    "    def to_dot(self, is_root=True):\n",
    "        output = \"%s -> %s;\\n\" % (id(self.parent), id(self)) if self.parent else \"\\n\"\n",
    "        output += '%s [label=\"%s/%s\"]' % (id(self), self.wins, self.n_playouts)\n",
    "        \n",
    "        for child in self.children:\n",
    "            if child is not None:\n",
    "                output += child.to_dot(False) + \"\\n\"\n",
    "        \n",
    "        if is_root:\n",
    "            return \"\"\"\n",
    "            digraph BST {\n",
    "                node [fontname=\"Arial\"];\n",
    "                %s\n",
    "            }\n",
    "            \"\"\" % output\n",
    "        \n",
    "        return output\n",
    "    \n",
    "    def __repr__(self):\n",
    "        return \"<Game {wins}/{n_playouts} player:{player} captures:{captures[0]}/{captures[1]}>\".format(\n",
    "            wins=self.wins,\n",
    "            n_playouts=self.n_playouts,\n",
    "            player=self.current_player,\n",
    "            captures=self.captures\n",
    "        )\n",
    "        \n",
    "        "
   ]
  },
  {
   "cell_type": "code",
   "execution_count": 6,
   "metadata": {},
   "outputs": [],
   "source": [
    "g = Game.start_game(1, 2)\n",
    "\n",
    "g, _, _ = g.step(0)\n",
    "g, captues, done = g.step(0)\n",
    "assert done\n"
   ]
  },
  {
   "cell_type": "markdown",
   "metadata": {},
   "source": [
    "# MCTS"
   ]
  },
  {
   "cell_type": "code",
   "execution_count": 7,
   "metadata": {},
   "outputs": [],
   "source": [
    "def random_tree_policy(root):\n",
    "    nodes = [root] + root.successors\n",
    "    unexpanded_nodes = [n for n in nodes if not n.is_fully_expanded]\n",
    "    return random.choice(unexpanded_nodes)\n",
    "\n",
    "def random_default_policy(node):\n",
    "    if node.is_fully_expanded:\n",
    "        return random.choice(node.legal_actions)\n",
    "    return random.choice(node.legal_unvisited_actions)\n",
    "\n",
    "def mcts(budget, tree_policy, default_policy):\n",
    "    # Create a tree\n",
    "    root = Game.start_game()\n",
    "\n",
    "    for _ in range(budget):\n",
    "        # Choose a starting node\n",
    "        node = tree_policy(root)\n",
    "        \n",
    "        # Run a simulation on that node\n",
    "        finished = node.game_finished\n",
    "        while not finished:\n",
    "            node, _, finished = node.step(default_policy(node))\n",
    "        \n",
    "        # Backtrack stats\n",
    "        win = (node.winner == 0)\n",
    "        node.update_stats(win)\n",
    "    \n",
    "    return root"
   ]
  },
  {
   "cell_type": "markdown",
   "metadata": {},
   "source": [
    "# MCTS + UCB"
   ]
  },
  {
   "cell_type": "code",
   "execution_count": 16,
   "metadata": {},
   "outputs": [],
   "source": [
    "def max_rand(iterable, key=lambda x: x):\n",
    "    maximum_value = max(key(x) for x in iterable)\n",
    "    keep = [x for x in iterable if key(x) == maximum_value]\n",
    "    return random.choice(keep)\n",
    "\n",
    "def UCT_best_child(node):\n",
    "    def score(node):\n",
    "        assert node is not None\n",
    "        c = 1 / math.sqrt(2)\n",
    "        exporation = node.wins / node.n_playouts\n",
    "        exploitation = math.sqrt(math.log(node.parent.n_playouts) / node.n_playouts)\n",
    "        return exporation + c * exploitation\n",
    "    \n",
    "    return max_rand(node.expanded_children, key=score)\n",
    "\n",
    "def UCT_tree_policy(root):\n",
    "    node = root\n",
    "    while not node.is_leaf_game:\n",
    "        if node.is_fully_expanded:\n",
    "            node = UCT_best_child(node)\n",
    "        else:\n",
    "            action = random.choice(node.legal_unvisited_actions)\n",
    "            node, _, _ = node.step(action)\n",
    "    return node\n",
    "\n",
    "def UCT_default_policy(node):\n",
    "    return random.choice(node.legal_unvisited_actions)"
   ]
  },
  {
   "cell_type": "markdown",
   "metadata": {},
   "source": [
    "## Compare"
   ]
  },
  {
   "cell_type": "code",
   "execution_count": 21,
   "metadata": {},
   "outputs": [
    {
     "name": "stdout",
     "output_type": "stream",
     "text": [
      "CPU times: user 3.64 s, sys: 3.97 ms, total: 3.64 s\n",
      "Wall time: 3.69 s\n"
     ]
    }
   ],
   "source": [
    "%%time\n",
    "BUDGET = 100\n",
    "root = mcts(BUDGET, random_tree_policy, random_default_policy)\n",
    "root2 = mcts(BUDGET, UCT_tree_policy, UCT_default_policy)"
   ]
  },
  {
   "cell_type": "code",
   "execution_count": 22,
   "metadata": {},
   "outputs": [],
   "source": [
    "with open(\"dot\", 'w') as fd:\n",
    "    fd.write(root.to_dot())\n",
    "\n",
    "with open(\"dot2\", 'w') as fd:\n",
    "    fd.write(root2.to_dot())"
   ]
  },
  {
   "cell_type": "code",
   "execution_count": 19,
   "metadata": {},
   "outputs": [
    {
     "name": "stdout",
     "output_type": "stream",
     "text": [
      "<Game 453/1000 player:0 captures:0/0> 148\n",
      "126\n",
      "528.3163458680142\n"
     ]
    },
    {
     "data": {
      "image/png": "[encoded data removed]",
      "text/plain": [
       "<Figure size 432x288 with 1 Axes>"
      ]
     },
     "metadata": {},
     "output_type": "display_data"
    },
    {
     "data": {
      "image/png": "[encoded data removed]",
      "text/plain": [
       "<Figure size 432x288 with 1 Axes>"
      ]
     },
     "metadata": {},
     "output_type": "display_data"
    }
   ],
   "source": [
    "print(root, max([x.depth for x in root.successors]))\n",
    "leaf_depths = [x.depth for x in root.successors if x.is_leaf_game]\n",
    "print(max(leaf_depths) - min(leaf_depths))\n",
    "print(np.var(leaf_depths))\n",
    "plt.hist([6 - len(x.legal_unvisited_actions) for x in root.successors], bins=range(6));\n",
    "plt.show()\n",
    "plt.hist([x.depth for x in root.successors if x.is_leaf_game]);"
   ]
  },
  {
   "cell_type": "code",
   "execution_count": 20,
   "metadata": {},
   "outputs": [
    {
     "name": "stdout",
     "output_type": "stream",
     "text": [
      "<Game 513/1000 player:0 captures:0/0> 122\n",
      "112\n",
      "357.163804\n"
     ]
    },
    {
     "data": {
      "image/png": "[encoded data removed]",
      "text/plain": [
       "<Figure size 432x288 with 1 Axes>"
      ]
     },
     "metadata": {},
     "output_type": "display_data"
    },
    {
     "data": {
      "image/png": "[encoded data removed]",
      "text/plain": [
       "<Figure size 432x288 with 1 Axes>"
      ]
     },
     "metadata": {},
     "output_type": "display_data"
    }
   ],
   "source": [
    "print(root2, max([x.depth for x in root2.successors]))\n",
    "leaf_depths = [x.depth for x in root2.successors if x.is_leaf_game]\n",
    "print(max(leaf_depths) - min(leaf_depths))\n",
    "print(np.var(leaf_depths))\n",
    "plt.hist([6 - len(x.legal_unvisited_actions) for x in root2.successors], bins=range(6));\n",
    "plt.show()\n",
    "plt.hist([x.depth for x in root2.successors if x.is_leaf_game]);"
   ]
  },
  {
   "cell_type": "markdown",
   "metadata": {},
   "source": [
    "# Learning"
   ]
  },
  {
   "cell_type": "markdown",
   "metadata": {},
   "source": [
    "# Deep mind\n",
    "\n",
    " * Alpha Go [Mastering the game of Go with deep neural networks and tree search](https://storage.googleapis.com/deepmind-media/alphago/AlphaGoNaturePaper.pdf)\n",
    " * Alpha Go Zero [Mastering the game of Go without human knowledge](https://www.nature.com/articles/nature24270.epdf?author_access_token=VJXbVjaSHxFoctQQ4p2k4tRgN0jAjWel9jnR3ZoTv0PVW4gB86EEpGqTRDtpIz-2rmo8-KG06gqVobU5NSCFeHILHcVFUeMsbvwS-lxjqQGg98faovwjxeTUgZAUMnRQ)\n",
    " * Alpha Zero [Mastering Chess and Shogi by Self-Play with a\n",
    "General Reinforcement Learning Algorithm](https://arxiv.org/pdf/1712.01815.pdf)"
   ]
  },
  {
   "cell_type": "code",
   "execution_count": null,
   "metadata": {},
   "outputs": [],
   "source": []
  }
 ],
 "metadata": {
  "kernelspec": {
   "display_name": "Python 3",
   "language": "python",
   "name": "python3"
  },
  "language_info": {
   "codemirror_mode": {
    "name": "ipython",
    "version": 3
   },
   "file_extension": ".py",
   "mimetype": "text/x-python",
   "name": "python",
   "nbconvert_exporter": "python",
   "pygments_lexer": "ipython3",
   "version": "3.6.4"
  }
 },
 "nbformat": 4,
 "nbformat_minor": 2
}
