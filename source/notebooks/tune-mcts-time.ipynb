{
 "cells": [
  {
   "cell_type": "code",
   "execution_count": 1,
   "metadata": {},
   "outputs": [],
   "source": [
    "import boto3\n",
    "import time\n",
    "import json\n",
    "\n",
    "session = boto3.Session(profile_name='nikita')\n",
    "\n",
    "client = session.client('batch')\n",
    "log_client = session.client('logs')\n",
    "\n",
    "\n",
    "import numpy as np\n",
    "import math"
   ]
  },
  {
   "cell_type": "code",
   "execution_count": 2,
   "metadata": {},
   "outputs": [],
   "source": [
    "space = [0.5, 1, 1.5, 2, 3, 5, 10, 20, 40, 80]"
   ]
  },
  {
   "cell_type": "code",
   "execution_count": 3,
   "metadata": {},
   "outputs": [],
   "source": [
    "def submit(a, b, name=\"simulation\"):\n",
    "    return client.submit_job(\n",
    "        jobDefinition='simulate',\n",
    "        jobName=name,\n",
    "        jobQueue='first-run-job-queue',\n",
    "        containerOverrides={\n",
    "            'command': [\"python\", \"simulate.py\"],\n",
    "            'environment': [\n",
    "                {\n",
    "                    'name': 'PLAYER_A',\n",
    "                    'value': a % 0,\n",
    "                },\n",
    "                {\n",
    "                    'name': 'PLAYER_B',\n",
    "                    'value': b % 1,\n",
    "                }\n",
    "            ]\n",
    "        }\n",
    "    )"
   ]
  },
  {
   "cell_type": "code",
   "execution_count": null,
   "metadata": {},
   "outputs": [],
   "source": [
    "for i in range(10):\n",
    "    for time in space:\n",
    "            a = \"MCTSPlayer(%s, td(seconds=5))\"\n",
    "            b = f\"MCTSPlayer(%s, td(seconds={time}))\"\n",
    "\n",
    "            submit(a, b, \"tune_c\")\n",
    "            submit(b, a, \"tune_c_reverse\")"
   ]
  }
 ],
 "metadata": {
  "kernelspec": {
   "display_name": "Python 3",
   "language": "python",
   "name": "python3"
  },
  "language_info": {
   "codemirror_mode": {
    "name": "ipython",
    "version": 3
   },
   "file_extension": ".py",
   "mimetype": "text/x-python",
   "name": "python",
   "nbconvert_exporter": "python",
   "pygments_lexer": "ipython3",
   "version": "3.7.9"
  }
 },
 "nbformat": 4,
 "nbformat_minor": 2
}
