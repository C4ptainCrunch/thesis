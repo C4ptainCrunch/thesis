{
 "cells": [
  {
   "cell_type": "code",
   "execution_count": 3,
   "metadata": {},
   "outputs": [],
   "source": [
    "from IPython.display import SVG\n",
    "import math\n",
    "import random\n",
    "import numpy as np\n",
    "import hashlib"
   ]
  },
  {
   "cell_type": "markdown",
   "metadata": {},
   "source": [
    "Juptyper notebooks and sphinx are both capable of displaying SVG to the user. We will use this feature to display the board to the reader.\n",
    "Here is an example of a basic SVG file:"
   ]
  },
  {
   "cell_type": "code",
   "execution_count": 4,
   "metadata": {},
   "outputs": [
    {
     "data": {
      "image/svg+xml": [
       "<svg width=\"210\" height=\"210\">\n",
       "  <style>\n",
       "    circle {\n",
       "      fill: none;\n",
       "      stroke: #000;\n",
       "      stroke-width: 2;\n",
       "    }\n",
       "    .bean {\n",
       "      fill: #000\n",
       "    }\n",
       "  </style>\n",
       "  <circle cx=\"100\" cy=\"100\" r=\"50\"/>\n",
       "  <circle cx=\"100\" cy=\"100\" r=\"4\" class=\"bean\"/></svg>"
      ],
      "text/plain": [
       "<IPython.core.display.SVG object>"
      ]
     },
     "execution_count": 4,
     "metadata": {},
     "output_type": "execute_result"
    }
   ],
   "source": [
    "SVG(\"\"\"\n",
    "<svg width=\"210\" height=\"210\">\n",
    "  <style>\n",
    "    circle {\n",
    "      fill: none;\n",
    "      stroke: #000;\n",
    "      stroke-width: 2;\n",
    "    }\n",
    "    .bean {\n",
    "      fill: #000\n",
    "    }\n",
    "  </style>\n",
    "  <circle cx=\"100\" cy=\"100\" r=\"50\"/>\n",
    "  <circle cx=\"100\" cy=\"100\" r=\"4\" class=\"bean\"/></svg>\n",
    "\"\"\")"
   ]
  },
  {
   "cell_type": "markdown",
   "metadata": {},
   "source": [
    "We can now write a function that takes a board matrix as input and returns a string containing an SVG file"
   ]
  },
  {
   "cell_type": "code",
   "execution_count": 18,
   "metadata": {},
   "outputs": [],
   "source": [
    "def board_to_svg(pits, show_count=False, highlight=None):\n",
    "    # Seed the random with a hash of the boad content so the SVG representation\n",
    "    # of a given board is constant\n",
    "    rand = random.Random(hashlib.md5(str(pits).encode()).digest())\n",
    "    radius = 40\n",
    "    pit_size = radius*2.2\n",
    "    bean_radius = 4\n",
    "    bean_size = bean_radius * 2.2\n",
    "    grid_bean_size = bean_radius * 3\n",
    "    \n",
    "    board = \"\"\n",
    "    beans = \"\"\n",
    "    if highlight is None:\n",
    "        highlight = set()\n",
    "\n",
    "    for player in range(pits.shape[0]):\n",
    "        for pit in range(pits.shape[1]):\n",
    "            cx = radius*1.2+pit*pit_size\n",
    "            cy = radius*1.2+player*pit_size\n",
    "            board += '<circle cx=\"{x}\" cy=\"{y}\" r=\"{r}\" {klass}/>'.format(\n",
    "                x=cx,\n",
    "                y=cy,\n",
    "                r=radius,\n",
    "                klass='class=\"highlight\"' if (player, pit) in highlight else ''\n",
    "            )\n",
    "            n_beans = pits[player][pit]\n",
    "            if show_count:\n",
    "                board += '<text x=\"{x}\" y=\"{y}\" >{n}</text>'.format(\n",
    "                    x=cx + radius * 0.85,\n",
    "                    y=cy + radius * 0.85,\n",
    "                    n=n_beans\n",
    "                )\n",
    "            if n_beans == 0:\n",
    "                pass\n",
    "            elif n_beans <= 6:\n",
    "                distance = math.sqrt(bean_radius * (n_beans - 1)) * 3\n",
    "                start_angle = rand.random() * math.pi\n",
    "                for i in range(n_beans):\n",
    "                    angle = i * 2 * math.pi / n_beans\n",
    "                    bx = cx + math.sin(start_angle + angle) * distance\n",
    "                    by = cy + math.cos(start_angle + angle) * distance\n",
    "                    beans += '<circle cx=\"{x}\" cy=\"{y}\" r=\"{r}\" class=\"bean\"/>'.format(x=bx, y=by, r=bean_radius)\n",
    "            else:\n",
    "                grid_width = math.ceil(math.sqrt(n_beans))\n",
    "                offset = grid_bean_size * grid_width / 3\n",
    "                for i in range(n_beans):\n",
    "                    bx = cx - offset + (i % grid_width) * grid_bean_size\n",
    "                    by = cy - offset + (i // grid_width) * grid_bean_size\n",
    "                    beans += '<circle cx=\"{x}\" cy=\"{y}\" r=\"{r}\" class=\"bean\"/>'.format(x=bx, y=by, r=bean_radius)\n",
    "\n",
    "\n",
    "    return \"\"\"\n",
    "    <svg xmlns=\"http://www.w3.org/2000/svg\" xmlns:xlink=\"http://www.w3.org/1999/xlink\" width=\"535\" height=\"180\">\n",
    "      <style>\n",
    "        circle {\n",
    "          fill: none;\n",
    "          stroke: #000;\n",
    "          stroke-width: 2;\n",
    "        }\n",
    "        .bean {\n",
    "          fill: #000\n",
    "        }\n",
    "        .highlight {\n",
    "          stroke: red;\n",
    "        }\n",
    "      </style>\n",
    "\n",
    "      %s\n",
    "      %s\n",
    "    </svg>\n",
    "    \"\"\" % (board, beans)"
   ]
  },
  {
   "cell_type": "markdown",
   "metadata": {},
   "source": [
    "Here is an example with a board generated at random"
   ]
  },
  {
   "cell_type": "code",
   "execution_count": 22,
   "metadata": {
    "scrolled": true
   },
   "outputs": [
    {
     "data": {
      "image/svg+xml": [
       "<svg xmlns=\"http://www.w3.org/2000/svg\" xmlns:xlink=\"http://www.w3.org/1999/xlink\" width=\"535\" height=\"180\">\n",
       "      <style>\n",
       "        circle {\n",
       "          fill: none;\n",
       "          stroke: #000;\n",
       "          stroke-width: 2;\n",
       "        }\n",
       "        .bean {\n",
       "          fill: #000\n",
       "        }\n",
       "        .highlight {\n",
       "          stroke: red;\n",
       "        }\n",
       "      </style>\n",
       "\n",
       "      <circle cx=\"48.0\" cy=\"48.0\" r=\"40\"/><text x=\"82.0\" y=\"82.0\">2</text><circle cx=\"136.0\" cy=\"48.0\" r=\"40\"/><text x=\"170.0\" y=\"82.0\">4</text><circle cx=\"224.0\" cy=\"48.0\" r=\"40\"/><text x=\"258.0\" y=\"82.0\">10</text><circle cx=\"312.0\" cy=\"48.0\" r=\"40\"/><text x=\"346.0\" y=\"82.0\">14</text><circle cx=\"400.0\" cy=\"48.0\" r=\"40\"/><text x=\"434.0\" y=\"82.0\">6</text><circle cx=\"488.0\" cy=\"48.0\" r=\"40\" class=\"highlight\"/><text x=\"522.0\" y=\"82.0\">12</text><circle cx=\"48.0\" cy=\"136.0\" r=\"40\"/><text x=\"82.0\" y=\"170.0\">13</text><circle cx=\"136.0\" cy=\"136.0\" r=\"40\"/><text x=\"170.0\" y=\"170.0\">11</text><circle cx=\"224.0\" cy=\"136.0\" r=\"40\"/><text x=\"258.0\" y=\"170.0\">2</text><circle cx=\"312.0\" cy=\"136.0\" r=\"40\"/><text x=\"346.0\" y=\"170.0\">7</text><circle cx=\"400.0\" cy=\"136.0\" r=\"40\"/><text x=\"434.0\" y=\"170.0\">9</text><circle cx=\"488.0\" cy=\"136.0\" r=\"40\"/><text x=\"522.0\" y=\"170.0\">0</text>\n",
       "      <circle cx=\"48.26551724938865\" cy=\"53.99412217011608\" r=\"4\" class=\"bean\"/><circle cx=\"47.73448275061135\" cy=\"42.00587782988392\" r=\"4\" class=\"bean\"/><circle cx=\"145.32885903498652\" cy=\"43.42043789152825\" r=\"4\" class=\"bean\"/><circle cx=\"131.42043789152825\" cy=\"38.67114096501347\" r=\"4\" class=\"bean\"/><circle cx=\"126.67114096501346\" cy=\"52.57956210847175\" r=\"4\" class=\"bean\"/><circle cx=\"140.57956210847175\" cy=\"57.32885903498653\" r=\"4\" class=\"bean\"/><circle cx=\"208.0\" cy=\"32.0\" r=\"4\" class=\"bean\"/><circle cx=\"220.0\" cy=\"32.0\" r=\"4\" class=\"bean\"/><circle cx=\"232.0\" cy=\"32.0\" r=\"4\" class=\"bean\"/><circle cx=\"244.0\" cy=\"32.0\" r=\"4\" class=\"bean\"/><circle cx=\"208.0\" cy=\"44.0\" r=\"4\" class=\"bean\"/><circle cx=\"220.0\" cy=\"44.0\" r=\"4\" class=\"bean\"/><circle cx=\"232.0\" cy=\"44.0\" r=\"4\" class=\"bean\"/><circle cx=\"244.0\" cy=\"44.0\" r=\"4\" class=\"bean\"/><circle cx=\"208.0\" cy=\"56.0\" r=\"4\" class=\"bean\"/><circle cx=\"220.0\" cy=\"56.0\" r=\"4\" class=\"bean\"/><circle cx=\"296.0\" cy=\"32.0\" r=\"4\" class=\"bean\"/><circle cx=\"308.0\" cy=\"32.0\" r=\"4\" class=\"bean\"/><circle cx=\"320.0\" cy=\"32.0\" r=\"4\" class=\"bean\"/><circle cx=\"332.0\" cy=\"32.0\" r=\"4\" class=\"bean\"/><circle cx=\"296.0\" cy=\"44.0\" r=\"4\" class=\"bean\"/><circle cx=\"308.0\" cy=\"44.0\" r=\"4\" class=\"bean\"/><circle cx=\"320.0\" cy=\"44.0\" r=\"4\" class=\"bean\"/><circle cx=\"332.0\" cy=\"44.0\" r=\"4\" class=\"bean\"/><circle cx=\"296.0\" cy=\"56.0\" r=\"4\" class=\"bean\"/><circle cx=\"308.0\" cy=\"56.0\" r=\"4\" class=\"bean\"/><circle cx=\"320.0\" cy=\"56.0\" r=\"4\" class=\"bean\"/><circle cx=\"332.0\" cy=\"56.0\" r=\"4\" class=\"bean\"/><circle cx=\"296.0\" cy=\"68.0\" r=\"4\" class=\"bean\"/><circle cx=\"308.0\" cy=\"68.0\" r=\"4\" class=\"bean\"/><circle cx=\"413.1954665696698\" cy=\"50.424801436969\" r=\"4\" class=\"bean\"/><circle cx=\"408.69767292838304\" cy=\"37.78479145436216\" r=\"4\" class=\"bean\"/><circle cx=\"395.5022063587133\" cy=\"35.35999001739316\" r=\"4\" class=\"bean\"/><circle cx=\"386.8045334303302\" cy=\"45.575198563031\" r=\"4\" class=\"bean\"/><circle cx=\"391.30232707161696\" cy=\"58.21520854563784\" r=\"4\" class=\"bean\"/><circle cx=\"404.49779364128676\" cy=\"60.64000998260684\" r=\"4\" class=\"bean\"/><circle cx=\"472.0\" cy=\"32.0\" r=\"4\" class=\"bean\"/><circle cx=\"484.0\" cy=\"32.0\" r=\"4\" class=\"bean\"/><circle cx=\"496.0\" cy=\"32.0\" r=\"4\" class=\"bean\"/><circle cx=\"508.0\" cy=\"32.0\" r=\"4\" class=\"bean\"/><circle cx=\"472.0\" cy=\"44.0\" r=\"4\" class=\"bean\"/><circle cx=\"484.0\" cy=\"44.0\" r=\"4\" class=\"bean\"/><circle cx=\"496.0\" cy=\"44.0\" r=\"4\" class=\"bean\"/><circle cx=\"508.0\" cy=\"44.0\" r=\"4\" class=\"bean\"/><circle cx=\"472.0\" cy=\"56.0\" r=\"4\" class=\"bean\"/><circle cx=\"484.0\" cy=\"56.0\" r=\"4\" class=\"bean\"/><circle cx=\"496.0\" cy=\"56.0\" r=\"4\" class=\"bean\"/><circle cx=\"508.0\" cy=\"56.0\" r=\"4\" class=\"bean\"/><circle cx=\"32.0\" cy=\"120.0\" r=\"4\" class=\"bean\"/><circle cx=\"44.0\" cy=\"120.0\" r=\"4\" class=\"bean\"/><circle cx=\"56.0\" cy=\"120.0\" r=\"4\" class=\"bean\"/><circle cx=\"68.0\" cy=\"120.0\" r=\"4\" class=\"bean\"/><circle cx=\"32.0\" cy=\"132.0\" r=\"4\" class=\"bean\"/><circle cx=\"44.0\" cy=\"132.0\" r=\"4\" class=\"bean\"/><circle cx=\"56.0\" cy=\"132.0\" r=\"4\" class=\"bean\"/><circle cx=\"68.0\" cy=\"132.0\" r=\"4\" class=\"bean\"/><circle cx=\"32.0\" cy=\"144.0\" r=\"4\" class=\"bean\"/><circle cx=\"44.0\" cy=\"144.0\" r=\"4\" class=\"bean\"/><circle cx=\"56.0\" cy=\"144.0\" r=\"4\" class=\"bean\"/><circle cx=\"68.0\" cy=\"144.0\" r=\"4\" class=\"bean\"/><circle cx=\"32.0\" cy=\"156.0\" r=\"4\" class=\"bean\"/><circle cx=\"120.0\" cy=\"120.0\" r=\"4\" class=\"bean\"/><circle cx=\"132.0\" cy=\"120.0\" r=\"4\" class=\"bean\"/><circle cx=\"144.0\" cy=\"120.0\" r=\"4\" class=\"bean\"/><circle cx=\"156.0\" cy=\"120.0\" r=\"4\" class=\"bean\"/><circle cx=\"120.0\" cy=\"132.0\" r=\"4\" class=\"bean\"/><circle cx=\"132.0\" cy=\"132.0\" r=\"4\" class=\"bean\"/><circle cx=\"144.0\" cy=\"132.0\" r=\"4\" class=\"bean\"/><circle cx=\"156.0\" cy=\"132.0\" r=\"4\" class=\"bean\"/><circle cx=\"120.0\" cy=\"144.0\" r=\"4\" class=\"bean\"/><circle cx=\"132.0\" cy=\"144.0\" r=\"4\" class=\"bean\"/><circle cx=\"144.0\" cy=\"144.0\" r=\"4\" class=\"bean\"/><circle cx=\"229.96603719562728\" cy=\"135.36250476049486\" r=\"4\" class=\"bean\"/><circle cx=\"218.03396280437272\" cy=\"136.63749523950514\" r=\"4\" class=\"bean\"/><circle cx=\"300.0\" cy=\"124.0\" r=\"4\" class=\"bean\"/><circle cx=\"312.0\" cy=\"124.0\" r=\"4\" class=\"bean\"/><circle cx=\"324.0\" cy=\"124.0\" r=\"4\" class=\"bean\"/><circle cx=\"300.0\" cy=\"136.0\" r=\"4\" class=\"bean\"/><circle cx=\"312.0\" cy=\"136.0\" r=\"4\" class=\"bean\"/><circle cx=\"324.0\" cy=\"136.0\" r=\"4\" class=\"bean\"/><circle cx=\"300.0\" cy=\"148.0\" r=\"4\" class=\"bean\"/><circle cx=\"388.0\" cy=\"124.0\" r=\"4\" class=\"bean\"/><circle cx=\"400.0\" cy=\"124.0\" r=\"4\" class=\"bean\"/><circle cx=\"412.0\" cy=\"124.0\" r=\"4\" class=\"bean\"/><circle cx=\"388.0\" cy=\"136.0\" r=\"4\" class=\"bean\"/><circle cx=\"400.0\" cy=\"136.0\" r=\"4\" class=\"bean\"/><circle cx=\"412.0\" cy=\"136.0\" r=\"4\" class=\"bean\"/><circle cx=\"388.0\" cy=\"148.0\" r=\"4\" class=\"bean\"/><circle cx=\"400.0\" cy=\"148.0\" r=\"4\" class=\"bean\"/><circle cx=\"412.0\" cy=\"148.0\" r=\"4\" class=\"bean\"/>\n",
       "    </svg>"
      ],
      "text/plain": [
       "<IPython.core.display.SVG object>"
      ]
     },
     "execution_count": 22,
     "metadata": {},
     "output_type": "execute_result"
    }
   ],
   "source": [
    "random_board = np.random.randint(0, 15, (2, 6))\n",
    "SVG(board_to_svg(random_board, show_count=True, highlight=[(0, 5)]))"
   ]
  },
  {
   "cell_type": "code",
   "execution_count": null,
   "metadata": {},
   "outputs": [],
   "source": []
  },
  {
   "cell_type": "code",
   "execution_count": 73,
   "metadata": {},
   "outputs": [
    {
     "data": {
      "image/svg+xml": [
       "<svg height=\"140\" width=\"397\" xmlns=\"http://www.w3.org/2000/svg\" xmlns:xlink=\"http://www.w3.org/1999/xlink\">\n",
       "  <style>\n",
       "    circle {\n",
       "      fill: none;\n",
       "      stroke: #000;\n",
       "      stroke-width: 2;\n",
       "    }\n",
       "    text {\n",
       "      font-size: 1.5em;\n",
       "    }\n",
       "  </style>\n",
       "\n",
       "  <circle cx=\"36.0\" cy=\"36.0\" r=\"30\"/><text x=\"30.0\" y=\"42.0\">6'</text><circle cx=\"102.0\" cy=\"36.0\" r=\"30\"/><text x=\"96.0\" y=\"42.0\">5'</text><circle cx=\"168.0\" cy=\"36.0\" r=\"30\"/><text x=\"162.0\" y=\"42.0\">4'</text><circle cx=\"234.0\" cy=\"36.0\" r=\"30\"/><text x=\"228.0\" y=\"42.0\">3'</text><circle cx=\"300.0\" cy=\"36.0\" r=\"30\"/><text x=\"294.0\" y=\"42.0\">2'</text><circle cx=\"366.0\" cy=\"36.0\" r=\"30\"/><text x=\"360.0\" y=\"42.0\">1'</text><circle cx=\"36.0\" cy=\"102.0\" r=\"30\"/><text x=\"30.0\" y=\"108.0\">1</text><circle cx=\"102.0\" cy=\"102.0\" r=\"30\"/><text x=\"96.0\" y=\"108.0\">2</text><circle cx=\"168.0\" cy=\"102.0\" r=\"30\"/><text x=\"162.0\" y=\"108.0\">3</text><circle cx=\"234.0\" cy=\"102.0\" r=\"30\"/><text x=\"228.0\" y=\"108.0\">4</text><circle cx=\"300.0\" cy=\"102.0\" r=\"30\"/><text x=\"294.0\" y=\"108.0\">5</text><circle cx=\"366.0\" cy=\"102.0\" r=\"30\"/><text x=\"360.0\" y=\"108.0\">6</text>\n",
       "  \n",
       "</svg>"
      ],
      "text/plain": [
       "<IPython.core.display.SVG object>"
      ]
     },
     "execution_count": 73,
     "metadata": {},
     "output_type": "execute_result"
    }
   ],
   "source": [
    "\n",
    "radius = 30\n",
    "pit_size = radius*2.2\n",
    "bean_radius = 4\n",
    "bean_size = bean_radius * 2.2\n",
    "grid_bean_size = bean_radius * 3\n",
    "\n",
    "board = \"\"\n",
    "beans = \"\"\n",
    "\n",
    "pits = [\n",
    "    [\"6'\", \"5'\", \"4'\", \"3'\", \"2'\", \"1'\"],\n",
    "    [1, 2, 3, 4, 5, 6]\n",
    "]\n",
    "\n",
    "for player in range(2):\n",
    "    for pit in range(6):\n",
    "        cx = radius*1.2+pit*pit_size\n",
    "        cy = radius*1.2+player*pit_size\n",
    "        board += '<circle cx=\"{x}\" cy=\"{y}\" r=\"{r}\"/>'.format(\n",
    "            x=cx,\n",
    "            y=cy,\n",
    "            r=radius,\n",
    "        )\n",
    "        text = pits[player][pit]\n",
    "        board += '<text x=\"{x}\" y=\"{y}\" >{n}</text>'.format(\n",
    "            x=cx - radius * 0.2,\n",
    "            y=cy + radius * 0.2,\n",
    "            n=text\n",
    "        )\n",
    "\n",
    "\n",
    "pit_numbering = SVG(\"\"\"\n",
    "<svg xmlns=\"http://www.w3.org/2000/svg\" xmlns:xlink=\"http://www.w3.org/1999/xlink\" width=\"397\" height=\"140\">\n",
    "  <style>\n",
    "    circle {\n",
    "      fill: none;\n",
    "      stroke: #000;\n",
    "      stroke-width: 2;\n",
    "    }\n",
    "    text {\n",
    "      font-size: 1.5em;\n",
    "    }\n",
    "  </style>\n",
    "\n",
    "  %s\n",
    "  %s\n",
    "</svg>\n",
    "\"\"\" % (board, beans)) \n",
    "\n",
    "pit_numbering"
   ]
  },
  {
   "cell_type": "code",
   "execution_count": null,
   "metadata": {},
   "outputs": [],
   "source": []
  },
  {
   "cell_type": "code",
   "execution_count": null,
   "metadata": {},
   "outputs": [],
   "source": []
  }
 ],
 "metadata": {
  "kernelspec": {
   "display_name": "Python 3",
   "language": "python",
   "name": "python3"
  },
  "language_info": {
   "codemirror_mode": {
    "name": "ipython",
    "version": 3
   },
   "file_extension": ".py",
   "mimetype": "text/x-python",
   "name": "python",
   "nbconvert_exporter": "python",
   "pygments_lexer": "ipython3",
   "version": "3.9.0"
  }
 },
 "nbformat": 4,
 "nbformat_minor": 2
}
