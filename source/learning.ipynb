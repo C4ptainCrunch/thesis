{
 "cells": [
  {
   "cell_type": "code",
   "execution_count": 160,
   "metadata": {},
   "outputs": [],
   "source": [
    "#%matplotlib inline\n",
    "\n",
    "import numpy as np\n",
    "import itertools\n",
    "import random\n",
    "import math\n",
    "import matplotlib.pyplot as plt\n",
    "\n",
    "import import_ipynb\n",
    "from rules import Game\n",
    "from players import RandomPlayer, GreedyPlayer, MCTSPlayer, UCTPlayer, GreedyUCTPlayer, HumanPlayer\n",
    "\n",
    "np.set_printoptions(edgeitems=12)"
   ]
  },
  {
   "cell_type": "markdown",
   "metadata": {},
   "source": [
    "# Generate a dataset\n",
    "\n",
    "We play with our best player (GreedyUCTPlayer) and use the real game states to fill our datasets.\n",
    "\n",
    "If the features are the board and the value to guess the ratio of wins, we will learn nothing, it depends a lot on the score. If we add the score, we will might then learn that a high score leads to a great ratio of wins, not very interesting. (Or it might not, since the hypothesis \"high score leads to a great ratio of wins\" is the hypothesis of the greedy agent).\n",
    "\n",
    "We will start with X as the game state and Y the probabilities of wins for each move."
   ]
  },
  {
   "cell_type": "code",
   "execution_count": 5,
   "metadata": {},
   "outputs": [],
   "source": [
    "def play_game(player, opponent):\n",
    "    game = Game.start_game()\n",
    "    opponent_action = -1\n",
    "\n",
    "    while not game.game_finished:\n",
    "        player_action = player.play(opponent_action)\n",
    "        game, captures, finished = game.step(player_action)\n",
    "\n",
    "        player, opponent = opponent, player\n",
    "        opponent_action = player_action\n",
    "    return game"
   ]
  },
  {
   "cell_type": "code",
   "execution_count": 63,
   "metadata": {},
   "outputs": [],
   "source": [
    "def extract_states(endstate):\n",
    "    X, Y = [], []\n",
    "    \n",
    "    if endstate.game_finished:\n",
    "        # we skip the last node as it doesn't have any children\n",
    "        state = endstate.parent\n",
    "    else:\n",
    "        state = endstate\n",
    "    \n",
    "    while state.parent:\n",
    "        X.append(state.view_from_current_player)\n",
    "        Y.append([\n",
    "            (child.wins[state.current_player]/ child.n_playouts) if child and child.n_playouts else 0\n",
    "            for child in state.children\n",
    "        ])\n",
    "        state = state.parent\n",
    "    return X, Y"
   ]
  },
  {
   "cell_type": "markdown",
   "metadata": {},
   "source": [
    "TODO : Maybe we should pick the budget in a normal distribution so we can have players with different strenghts compete.\n",
    "We could also use different agents at random ?"
   ]
  },
  {
   "cell_type": "code",
   "execution_count": 111,
   "metadata": {},
   "outputs": [],
   "source": [
    "BUDGET = 50\n",
    "def generate_data(*args):\n",
    "    # Create our players\n",
    "    player = GreedyUCTPlayer(0, BUDGET)\n",
    "    opponent = GreedyUCTPlayer(1, BUDGET)\n",
    "    \n",
    "    # Run a full game\n",
    "    play_game(player, opponent)\n",
    "    \n",
    "    # Extract states\n",
    "    X1, Y1 = extract_states(player.root)\n",
    "    X2, Y2 =extract_states(opponent.root)\n",
    "    \n",
    "    return X1 + X2, Y1 + Y2\n",
    "    "
   ]
  },
  {
   "cell_type": "code",
   "execution_count": 112,
   "metadata": {},
   "outputs": [],
   "source": [
    "import multiprocessing"
   ]
  },
  {
   "cell_type": "code",
   "execution_count": 146,
   "metadata": {},
   "outputs": [],
   "source": [
    "NWORKERS = 4\n",
    "pool = multiprocessing.Pool(NWORKERS)\n",
    "games_data = pool.map(generate_data, range(NWORKERS * 3))\n",
    "\n",
    "X = np.array(list(itertools.chain(*[x for x, y in games_data])))\n",
    "Y = np.array(list(itertools.chain(*[y for x, y in games_data])))"
   ]
  },
  {
   "cell_type": "code",
   "execution_count": 148,
   "metadata": {},
   "outputs": [],
   "source": [
    "Y_bestmove_as_1 = Y == np.expand_dims(np.amax(Y, axis=1), axis=1)\n",
    "Y_bestmove_i = np.argmax(Y, axis=1)"
   ]
  },
  {
   "cell_type": "markdown",
   "metadata": {},
   "source": [
    "We have data, lets cut that in a test and train set."
   ]
  },
  {
   "cell_type": "code",
   "execution_count": 114,
   "metadata": {},
   "outputs": [],
   "source": [
    "import sklearn\n",
    "from sklearn.model_selection import train_test_split"
   ]
  },
  {
   "cell_type": "code",
   "execution_count": 152,
   "metadata": {},
   "outputs": [],
   "source": [
    "from sklearn.tree import DecisionTreeClassifier"
   ]
  },
  {
   "cell_type": "code",
   "execution_count": 150,
   "metadata": {},
   "outputs": [],
   "source": [
    "X_train, X_test, Y_train, Y_test = train_test_split(X, Y_bestmove_i, test_size=0.33, random_state=42)"
   ]
  },
  {
   "cell_type": "code",
   "execution_count": 157,
   "metadata": {},
   "outputs": [
    {
     "data": {
      "text/plain": [
       "0.5470941883767535"
      ]
     },
     "execution_count": 157,
     "metadata": {},
     "output_type": "execute_result"
    }
   ],
   "source": [
    "tree = DecisionTreeClassifier()\n",
    "tree.fit(X_train, Y_train)\n",
    "tree.score(X_test, Y_test)"
   ]
  },
  {
   "cell_type": "code",
   "execution_count": 158,
   "metadata": {},
   "outputs": [
    {
     "data": {
      "text/plain": [
       "(499,)"
      ]
     },
     "execution_count": 158,
     "metadata": {},
     "output_type": "execute_result"
    }
   ],
   "source": [
    "Y_test.shape"
   ]
  },
  {
   "cell_type": "code",
   "execution_count": 159,
   "metadata": {},
   "outputs": [
    {
     "data": {
      "text/plain": [
       "(1013, 12)"
      ]
     },
     "execution_count": 159,
     "metadata": {},
     "output_type": "execute_result"
    }
   ],
   "source": [
    "X_train.shape"
   ]
  },
  {
   "cell_type": "code",
   "execution_count": null,
   "metadata": {},
   "outputs": [],
   "source": []
  }
 ],
 "metadata": {
  "kernelspec": {
   "display_name": "Python 3",
   "language": "python",
   "name": "python3"
  },
  "language_info": {
   "codemirror_mode": {
    "name": "ipython",
    "version": 3
   },
   "file_extension": ".py",
   "mimetype": "text/x-python",
   "name": "python",
   "nbconvert_exporter": "python",
   "pygments_lexer": "ipython3",
   "version": "3.6.5"
  }
 },
 "nbformat": 4,
 "nbformat_minor": 2
}
