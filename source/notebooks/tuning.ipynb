{
 "cells": [
  {
   "cell_type": "code",
   "execution_count": 2,
   "metadata": {},
   "outputs": [
    {
     "name": "stdout",
     "output_type": "stream",
     "text": [
      "importing Jupyter notebook from rules.ipynb\n",
      "importing Jupyter notebook from draw.ipynb\n",
      "Current player: 0 - Score: 0/0\n",
      "------------------\n",
      "  5  5  6  0  5  5\n",
      "  5  5  4  4  4  0\n",
      "importing Jupyter notebook from players.ipynb\n"
     ]
    }
   ],
   "source": [
    "%matplotlib inline\n",
    "\n",
    "import numpy as np\n",
    "import itertools\n",
    "import random\n",
    "import math\n",
    "import matplotlib.pyplot as plt\n",
    "import tqdm\n",
    "from datetime import timedelta\n",
    "\n",
    "import import_ipynb\n",
    "from rules import Game\n",
    "from players import GreedyPlayer, MCTSPlayer, UCTPlayer"
   ]
  },
  {
   "cell_type": "code",
   "execution_count": 3,
   "metadata": {},
   "outputs": [],
   "source": [
    "def play_game(player, opponent):\n",
    "    game = Game.start_game()\n",
    "    opponent_action = -1\n",
    "    i = 0\n",
    "    \n",
    "    while not game.game_finished and i < 500:\n",
    "        player_action = player.play(opponent_action)\n",
    "        game, captures, finished = game.step(player_action)\n",
    "\n",
    "        player, opponent = opponent, player\n",
    "        opponent_action = player_action\n",
    "        i += 1\n",
    "    ret = game.winner\n",
    "    del game\n",
    "    return ret"
   ]
  },
  {
   "cell_type": "code",
   "execution_count": 12,
   "metadata": {},
   "outputs": [],
   "source": [
    "import itertools\n",
    "\n",
    "eps = np.linspace(0, 1, 11)\n",
    "\n",
    "def greedy_meet(eps1, eps2):\n",
    "    winners = []\n",
    "    for i in range(50):\n",
    "        player = GreedyPlayer(0, eps1)\n",
    "        opponent = GreedyPlayer(1, eps2)\n",
    "        winner = play_game(player, opponent)\n",
    "        winners.append(winner if winner is not None else 0.5)\n",
    "    return np.array(winners)\n",
    "        "
   ]
  },
  {
   "cell_type": "code",
   "execution_count": 13,
   "metadata": {},
   "outputs": [
    {
     "data": {
      "application/vnd.jupyter.widget-view+json": {
       "model_id": "64b6d820251643bf9aa395b9bbb09027",
       "version_major": 2,
       "version_minor": 0
      },
      "text/plain": [
       "HBox(children=(IntProgress(value=0, max=11), HTML(value='')))"
      ]
     },
     "metadata": {},
     "output_type": "display_data"
    },
    {
     "name": "stdout",
     "output_type": "stream",
     "text": [
      "\n"
     ]
    }
   ],
   "source": [
    "res = np.zeros((len(eps), len(eps), 50))\n",
    "\n",
    "for i, eps1 in enumerate(tqdm.tqdm_notebook(eps)):\n",
    "    for j, eps2 in enumerate(eps):\n",
    "        res[i, j] = greedy_meet(eps1, eps2)"
   ]
  },
  {
   "cell_type": "code",
   "execution_count": 17,
   "metadata": {},
   "outputs": [
    {
     "data": {
      "image/png": "[encoded data removed]",
      "text/plain": [
       "<Figure size 432x288 with 2 Axes>"
      ]
     },
     "metadata": {
      "needs_background": "light"
     },
     "output_type": "display_data"
    }
   ],
   "source": [
    "plt.imshow(res.mean(axis=2), origin='lower', cmap='Spectral')\n",
    "plt.xlabel(\"i\")\n",
    "plt.ylabel(\"j\")\n",
    "plt.title(\"1 is left winning all the time, 0 is bottom\")\n",
    "ticks = [\"%.1f\" % x for x in eps]\n",
    "plt.xticks(np.arange(11), ticks)\n",
    "plt.yticks(np.arange(11), ticks)\n",
    "plt.clim(0,1)\n",
    "plt.colorbar();"
   ]
  },
  {
   "cell_type": "code",
   "execution_count": 18,
   "metadata": {},
   "outputs": [
    {
     "data": {
      "application/vnd.jupyter.widget-view+json": {
       "model_id": "d5d4df46b5994a309116ab2393c1dd25",
       "version_major": 2,
       "version_minor": 0
      },
      "text/plain": [
       "HBox(children=(IntProgress(value=0, max=11), HTML(value='')))"
      ]
     },
     "metadata": {},
     "output_type": "display_data"
    },
    {
     "data": {
      "application/vnd.jupyter.widget-view+json": {
       "model_id": "c3508cb1bd2f4cad83ecbeab06a503ba",
       "version_major": 2,
       "version_minor": 0
      },
      "text/plain": [
       "HBox(children=(IntProgress(value=0, max=25), HTML(value='')))"
      ]
     },
     "metadata": {},
     "output_type": "display_data"
    },
    {
     "ename": "KeyboardInterrupt",
     "evalue": "",
     "output_type": "error",
     "traceback": [
      "\u001b[0;31m---------------------------------------------------------------------------\u001b[0m",
      "\u001b[0;31mKeyboardInterrupt\u001b[0m                         Traceback (most recent call last)",
      "\u001b[0;32m<ipython-input-18-3ef9fec174ba>\u001b[0m in \u001b[0;36m<module>\u001b[0;34m\u001b[0m\n\u001b[1;32m     20\u001b[0m \u001b[0;34m\u001b[0m\u001b[0m\n\u001b[1;32m     21\u001b[0m \u001b[0;32mfor\u001b[0m \u001b[0mi\u001b[0m\u001b[0;34m,\u001b[0m \u001b[0meps1\u001b[0m \u001b[0;32min\u001b[0m  \u001b[0menumerate\u001b[0m\u001b[0;34m(\u001b[0m\u001b[0mtqdm\u001b[0m\u001b[0;34m.\u001b[0m\u001b[0mtqdm_notebook\u001b[0m\u001b[0;34m(\u001b[0m\u001b[0meps\u001b[0m\u001b[0;34m)\u001b[0m\u001b[0;34m)\u001b[0m\u001b[0;34m:\u001b[0m\u001b[0;34m\u001b[0m\u001b[0;34m\u001b[0m\u001b[0m\n\u001b[0;32m---> 22\u001b[0;31m     \u001b[0mres\u001b[0m\u001b[0;34m[\u001b[0m\u001b[0mi\u001b[0m\u001b[0;34m]\u001b[0m \u001b[0;34m=\u001b[0m \u001b[0mmcts_meet\u001b[0m\u001b[0;34m(\u001b[0m\u001b[0mmath\u001b[0m\u001b[0;34m.\u001b[0m\u001b[0msqrt\u001b[0m\u001b[0;34m(\u001b[0m\u001b[0;36m2\u001b[0m\u001b[0;34m)\u001b[0m\u001b[0;34m/\u001b[0m\u001b[0;36m2\u001b[0m\u001b[0;34m,\u001b[0m \u001b[0meps1\u001b[0m\u001b[0;34m)\u001b[0m\u001b[0;34m\u001b[0m\u001b[0;34m\u001b[0m\u001b[0m\n\u001b[0m",
      "\u001b[0;32m<ipython-input-18-3ef9fec174ba>\u001b[0m in \u001b[0;36mmcts_meet\u001b[0;34m(base, c)\u001b[0m\n\u001b[1;32m      6\u001b[0m         \u001b[0mplayer\u001b[0m \u001b[0;34m=\u001b[0m \u001b[0mMCTSPlayer\u001b[0m\u001b[0;34m(\u001b[0m\u001b[0;36m0\u001b[0m\u001b[0;34m,\u001b[0m \u001b[0mtimedelta\u001b[0m\u001b[0;34m(\u001b[0m\u001b[0mseconds\u001b[0m\u001b[0;34m=\u001b[0m\u001b[0;36m5\u001b[0m\u001b[0;34m)\u001b[0m\u001b[0;34m,\u001b[0m \u001b[0mc\u001b[0m\u001b[0;34m=\u001b[0m\u001b[0mbase\u001b[0m\u001b[0;34m)\u001b[0m\u001b[0;34m\u001b[0m\u001b[0;34m\u001b[0m\u001b[0m\n\u001b[1;32m      7\u001b[0m         \u001b[0mopponent\u001b[0m \u001b[0;34m=\u001b[0m \u001b[0mMCTSPlayer\u001b[0m\u001b[0;34m(\u001b[0m\u001b[0;36m1\u001b[0m\u001b[0;34m,\u001b[0m \u001b[0mtimedelta\u001b[0m\u001b[0;34m(\u001b[0m\u001b[0mseconds\u001b[0m\u001b[0;34m=\u001b[0m\u001b[0;36m5\u001b[0m\u001b[0;34m)\u001b[0m\u001b[0;34m,\u001b[0m \u001b[0mc\u001b[0m\u001b[0;34m=\u001b[0m\u001b[0mc\u001b[0m\u001b[0;34m)\u001b[0m\u001b[0;34m\u001b[0m\u001b[0;34m\u001b[0m\u001b[0m\n\u001b[0;32m----> 8\u001b[0;31m         \u001b[0mwinner\u001b[0m \u001b[0;34m=\u001b[0m \u001b[0mplay_game\u001b[0m\u001b[0;34m(\u001b[0m\u001b[0mplayer\u001b[0m\u001b[0;34m,\u001b[0m \u001b[0mopponent\u001b[0m\u001b[0;34m)\u001b[0m\u001b[0;34m\u001b[0m\u001b[0;34m\u001b[0m\u001b[0m\n\u001b[0m\u001b[1;32m      9\u001b[0m         \u001b[0mwinners\u001b[0m\u001b[0;34m.\u001b[0m\u001b[0mappend\u001b[0m\u001b[0;34m(\u001b[0m\u001b[0mwinner\u001b[0m \u001b[0;32mif\u001b[0m \u001b[0mwinner\u001b[0m \u001b[0;32mis\u001b[0m \u001b[0;32mnot\u001b[0m \u001b[0;32mNone\u001b[0m \u001b[0;32melse\u001b[0m \u001b[0;36m0.5\u001b[0m\u001b[0;34m)\u001b[0m\u001b[0;34m\u001b[0m\u001b[0;34m\u001b[0m\u001b[0m\n\u001b[1;32m     10\u001b[0m \u001b[0;34m\u001b[0m\u001b[0m\n",
      "\u001b[0;32m<ipython-input-3-0808869a4bfe>\u001b[0m in \u001b[0;36mplay_game\u001b[0;34m(player, opponent)\u001b[0m\n\u001b[1;32m      5\u001b[0m \u001b[0;34m\u001b[0m\u001b[0m\n\u001b[1;32m      6\u001b[0m     \u001b[0;32mwhile\u001b[0m \u001b[0;32mnot\u001b[0m \u001b[0mgame\u001b[0m\u001b[0;34m.\u001b[0m\u001b[0mgame_finished\u001b[0m \u001b[0;32mand\u001b[0m \u001b[0mi\u001b[0m \u001b[0;34m<\u001b[0m \u001b[0;36m500\u001b[0m\u001b[0;34m:\u001b[0m\u001b[0;34m\u001b[0m\u001b[0;34m\u001b[0m\u001b[0m\n\u001b[0;32m----> 7\u001b[0;31m         \u001b[0mplayer_action\u001b[0m \u001b[0;34m=\u001b[0m \u001b[0mplayer\u001b[0m\u001b[0;34m.\u001b[0m\u001b[0mplay\u001b[0m\u001b[0;34m(\u001b[0m\u001b[0mopponent_action\u001b[0m\u001b[0;34m)\u001b[0m\u001b[0;34m\u001b[0m\u001b[0;34m\u001b[0m\u001b[0m\n\u001b[0m\u001b[1;32m      8\u001b[0m         \u001b[0mgame\u001b[0m\u001b[0;34m,\u001b[0m \u001b[0mcaptures\u001b[0m\u001b[0;34m,\u001b[0m \u001b[0mfinished\u001b[0m \u001b[0;34m=\u001b[0m \u001b[0mgame\u001b[0m\u001b[0;34m.\u001b[0m\u001b[0mstep\u001b[0m\u001b[0;34m(\u001b[0m\u001b[0mplayer_action\u001b[0m\u001b[0;34m)\u001b[0m\u001b[0;34m\u001b[0m\u001b[0;34m\u001b[0m\u001b[0m\n\u001b[1;32m      9\u001b[0m \u001b[0;34m\u001b[0m\u001b[0m\n",
      "\u001b[0;32m~/Code/Thesis/source/notebooks/players.ipynb\u001b[0m in \u001b[0;36mplay\u001b[0;34m(self, their_action)\u001b[0m\n",
      "\u001b[0;32m~/Code/Thesis/source/notebooks/players.ipynb\u001b[0m in \u001b[0;36mget_action\u001b[0;34m(self)\u001b[0m\n",
      "\u001b[0;32m~/Code/Thesis/source/notebooks/players.ipynb\u001b[0m in \u001b[0;36mexplore_tree\u001b[0;34m(self)\u001b[0m\n",
      "\u001b[0;32m~/Code/Thesis/source/notebooks/players.ipynb\u001b[0m in \u001b[0;36mdefault_policy\u001b[0;34m(self, node)\u001b[0m\n",
      "\u001b[0;32m~/Code/Thesis/source/notebooks/rules.ipynb\u001b[0m in \u001b[0;36mlegal_actions\u001b[0;34m(self)\u001b[0m\n",
      "\u001b[0;32m~/Code/Thesis/source/notebooks/rules.ipynb\u001b[0m in \u001b[0;36m<listcomp>\u001b[0;34m(.0)\u001b[0m\n",
      "\u001b[0;31mKeyboardInterrupt\u001b[0m: "
     ]
    }
   ],
   "source": [
    "eps = np.linspace(0, 1, 11)\n",
    "\n",
    "def mcts_meet(base, c):\n",
    "    winners = []\n",
    "    for i in tqdm.tqdm_notebook(range(25)):\n",
    "        player = MCTSPlayer(0, timedelta(seconds=5), c=base)\n",
    "        opponent = MCTSPlayer(1, timedelta(seconds=5), c=c)\n",
    "        winner = play_game(player, opponent)\n",
    "        winners.append(winner if winner is not None else 0.5)\n",
    "        \n",
    "    for i in tqdm.tqdm_notebook(range(25)):\n",
    "        player = MCTSPlayer(0, timedelta(seconds=5), c=c)\n",
    "        opponent = MCTSPlayer(1, timedelta(seconds=5), c=base)\n",
    "        winner = play_game(player, opponent)\n",
    "        winners.append((winner + 1) % 2 if winner is not None else 0.5)\n",
    "        \n",
    "    return np.array(winners).mean()\n",
    "\n",
    "res = np.zeros((len(eps), 50))\n",
    "\n",
    "for i, eps1 in  enumerate(tqdm.tqdm_notebook(eps)):\n",
    "    res[i] = mcts_meet(math.sqrt(2)/2, eps1)"
   ]
  },
  {
   "cell_type": "code",
   "execution_count": 20,
   "metadata": {},
   "outputs": [],
   "source": [
    "player = MCTSPlayer(0, timedelta(seconds=5), c=math.sqrt(2)/2)\n",
    "opponent = MCTSPlayer(1, timedelta(seconds=5), c=0.5)\n",
    "winner = play_game(player, opponent)"
   ]
  },
  {
   "cell_type": "code",
   "execution_count": 21,
   "metadata": {},
   "outputs": [
    {
     "data": {
      "text/plain": [
       "1"
      ]
     },
     "execution_count": 21,
     "metadata": {},
     "output_type": "execute_result"
    }
   ],
   "source": [
    "winner"
   ]
  },
  {
   "cell_type": "code",
   "execution_count": null,
   "metadata": {},
   "outputs": [],
   "source": []
  }
 ],
 "metadata": {
  "kernelspec": {
   "display_name": "Python 3",
   "language": "python",
   "name": "python3"
  },
  "language_info": {
   "codemirror_mode": {
    "name": "ipython",
    "version": 3
   },
   "file_extension": ".py",
   "mimetype": "text/x-python",
   "name": "python",
   "nbconvert_exporter": "python",
   "pygments_lexer": "ipython3",
   "version": "3.7.7"
  }
 },
 "nbformat": 4,
 "nbformat_minor": 2
}
