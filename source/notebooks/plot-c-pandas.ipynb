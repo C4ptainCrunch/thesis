{
 "cells": [
  {
   "cell_type": "code",
   "execution_count": 1,
   "metadata": {},
   "outputs": [
    {
     "name": "stdout",
     "output_type": "stream",
     "text": [
      "Populating the interactive namespace from numpy and matplotlib\n"
     ]
    }
   ],
   "source": [
    "import boto3\n",
    "import time\n",
    "import json\n",
    "\n",
    "session = boto3.Session(profile_name='nikita')\n",
    "log_client = session.client('logs')\n",
    "\n",
    "\n",
    "import numpy as np\n",
    "import math\n",
    "import pandas as pd\n",
    "%pylab inline"
   ]
  },
  {
   "cell_type": "markdown",
   "metadata": {},
   "source": [
    "# Query results"
   ]
  },
  {
   "cell_type": "code",
   "execution_count": 2,
   "metadata": {},
   "outputs": [],
   "source": [
    "query = log_client.start_query(\n",
    "    logGroupName='/aws/batch/job',\n",
    "    startTime=0,\n",
    "    endTime=int(time.time()),\n",
    "    queryString=\"\"\"\n",
    "        fields @message\n",
    "        | filter success == 1\n",
    "        | limit 5000\n",
    "    \"\"\",\n",
    "    limit=5000\n",
    ")"
   ]
  },
  {
   "cell_type": "code",
   "execution_count": 3,
   "metadata": {},
   "outputs": [],
   "source": [
    "query_result = {'status': 'Scheduled'}\n",
    "while query_result['status'] in ('Scheduled', 'Running'):\n",
    "    query_result = log_client.get_query_results(queryId=query['queryId'])\n",
    "    time.sleep(1)"
   ]
  },
  {
   "cell_type": "code",
   "execution_count": 4,
   "metadata": {},
   "outputs": [],
   "source": [
    "d = [\n",
    "    json.loads(row[0]['value'])\n",
    "    for row in query_result['results']\n",
    "]\n",
    "for row in d:\n",
    "    if row['winner'] is None:\n",
    "        row['winner'] = float('+inf')\n",
    "\n",
    "data = pd.DataFrame(d)"
   ]
  },
  {
   "cell_type": "code",
   "execution_count": 5,
   "metadata": {},
   "outputs": [
    {
     "data": {
      "text/html": [
       "<div>\n",
       "<style scoped>\n",
       "    .dataframe tbody tr th:only-of-type {\n",
       "        vertical-align: middle;\n",
       "    }\n",
       "\n",
       "    .dataframe tbody tr th {\n",
       "        vertical-align: top;\n",
       "    }\n",
       "\n",
       "    .dataframe thead th {\n",
       "        text-align: right;\n",
       "    }\n",
       "</style>\n",
       "<table border=\"1\" class=\"dataframe\">\n",
       "  <thead>\n",
       "    <tr style=\"text-align: right;\">\n",
       "      <th></th>\n",
       "      <th>player</th>\n",
       "      <th>opponent</th>\n",
       "      <th>duration</th>\n",
       "      <th>depth</th>\n",
       "      <th>score</th>\n",
       "      <th>winner</th>\n",
       "      <th>success</th>\n",
       "    </tr>\n",
       "  </thead>\n",
       "  <tbody>\n",
       "    <tr>\n",
       "      <td>0</td>\n",
       "      <td>UCTPlayer(0, td(seconds=3), c=0.6071067811865476)</td>\n",
       "      <td>UCTPlayer(1, td(seconds=3), c=math.sqrt(2) / 2)</td>\n",
       "      <td>474.3599</td>\n",
       "      <td>141</td>\n",
       "      <td>[25, 21]</td>\n",
       "      <td>0.0</td>\n",
       "      <td>True</td>\n",
       "    </tr>\n",
       "    <tr>\n",
       "      <td>1</td>\n",
       "      <td>UCTPlayer(0, td(seconds=3), c=0.9071067811865476)</td>\n",
       "      <td>UCTPlayer(1, td(seconds=3), c=math.sqrt(2) / 2)</td>\n",
       "      <td>420.6051</td>\n",
       "      <td>137</td>\n",
       "      <td>[23, 21]</td>\n",
       "      <td>0.0</td>\n",
       "      <td>True</td>\n",
       "    </tr>\n",
       "    <tr>\n",
       "      <td>2</td>\n",
       "      <td>UCTPlayer(0, td(seconds=3), c=0.8071067811865476)</td>\n",
       "      <td>UCTPlayer(1, td(seconds=3), c=math.sqrt(2) / 2)</td>\n",
       "      <td>464.0399</td>\n",
       "      <td>151</td>\n",
       "      <td>[23, 22]</td>\n",
       "      <td>0.0</td>\n",
       "      <td>True</td>\n",
       "    </tr>\n",
       "    <tr>\n",
       "      <td>3</td>\n",
       "      <td>UCTPlayer(0, td(seconds=3), c=0.9071067811865476)</td>\n",
       "      <td>UCTPlayer(1, td(seconds=3), c=math.sqrt(2) / 2)</td>\n",
       "      <td>270.9054</td>\n",
       "      <td>88</td>\n",
       "      <td>[17, 26]</td>\n",
       "      <td>1.0</td>\n",
       "      <td>True</td>\n",
       "    </tr>\n",
       "    <tr>\n",
       "      <td>4</td>\n",
       "      <td>UCTPlayer(0, td(seconds=3), c=math.sqrt(2) / 2)</td>\n",
       "      <td>UCTPlayer(1, td(seconds=3), c=0.9071067811865476)</td>\n",
       "      <td>252.3493</td>\n",
       "      <td>82</td>\n",
       "      <td>[9, 28]</td>\n",
       "      <td>1.0</td>\n",
       "      <td>True</td>\n",
       "    </tr>\n",
       "  </tbody>\n",
       "</table>\n",
       "</div>"
      ],
      "text/plain": [
       "                                              player  \\\n",
       "0  UCTPlayer(0, td(seconds=3), c=0.6071067811865476)   \n",
       "1  UCTPlayer(0, td(seconds=3), c=0.9071067811865476)   \n",
       "2  UCTPlayer(0, td(seconds=3), c=0.8071067811865476)   \n",
       "3  UCTPlayer(0, td(seconds=3), c=0.9071067811865476)   \n",
       "4    UCTPlayer(0, td(seconds=3), c=math.sqrt(2) / 2)   \n",
       "\n",
       "                                            opponent  duration  depth  \\\n",
       "0    UCTPlayer(1, td(seconds=3), c=math.sqrt(2) / 2)  474.3599    141   \n",
       "1    UCTPlayer(1, td(seconds=3), c=math.sqrt(2) / 2)  420.6051    137   \n",
       "2    UCTPlayer(1, td(seconds=3), c=math.sqrt(2) / 2)  464.0399    151   \n",
       "3    UCTPlayer(1, td(seconds=3), c=math.sqrt(2) / 2)  270.9054     88   \n",
       "4  UCTPlayer(1, td(seconds=3), c=0.9071067811865476)  252.3493     82   \n",
       "\n",
       "      score  winner  success  \n",
       "0  [25, 21]     0.0     True  \n",
       "1  [23, 21]     0.0     True  \n",
       "2  [23, 22]     0.0     True  \n",
       "3  [17, 26]     1.0     True  \n",
       "4   [9, 28]     1.0     True  "
      ]
     },
     "execution_count": 5,
     "metadata": {},
     "output_type": "execute_result"
    }
   ],
   "source": [
    "data.head()"
   ]
  },
  {
   "cell_type": "code",
   "execution_count": 6,
   "metadata": {},
   "outputs": [
    {
     "data": {
      "text/plain": [
       "1602"
      ]
     },
     "execution_count": 6,
     "metadata": {},
     "output_type": "execute_result"
    }
   ],
   "source": [
    "len(data)"
   ]
  },
  {
   "cell_type": "code",
   "execution_count": 7,
   "metadata": {},
   "outputs": [],
   "source": [
    "useful = data[(data.player.str.startswith('UCTPlayer')) & (data.opponent.str.startswith('UCTPlayer'))]"
   ]
  },
  {
   "cell_type": "code",
   "execution_count": 8,
   "metadata": {},
   "outputs": [],
   "source": [
    "from datetime import timedelta as td\n",
    "class UCTPlayer:\n",
    "    def __init__(self, *args, **kwargs):\n",
    "        self.args = args\n",
    "        self.kwargs = kwargs\n",
    "\n",
    "useful['player'] = useful['player'].map(lambda x: eval(x).kwargs['c'])\n",
    "useful['opponent'] = useful['opponent'].map(lambda x: eval(x).kwargs['c'])"
   ]
  },
  {
   "cell_type": "code",
   "execution_count": 11,
   "metadata": {},
   "outputs": [],
   "source": [
    "is_normalized = np.isclose(useful['player'], math.sqrt(2) / 2)\n",
    "\n",
    "to_normalise = useful[~is_normalized].copy()\n",
    "to_normalise['opponent'] = to_normalise['player']\n",
    "to_normalise['player'] = math.sqrt(2) / 2\n",
    "to_normalise['winner'] = (to_normalise['winner'] + 1) % 2\n",
    "to_normalise['score'] = to_normalise['score'].map(lambda x: list(reversed(x)))\n",
    "\n",
    "normalised = pd.concat([useful[is_normalized], to_normalise])\n",
    "normalised[normalised['winner'] == float('inf')] = 0.5"
   ]
  },
  {
   "cell_type": "code",
   "execution_count": 12,
   "metadata": {},
   "outputs": [],
   "source": [
    "grouped = normalised.groupby('opponent').winner.agg(['mean', 'count'])"
   ]
  },
  {
   "cell_type": "code",
   "execution_count": 15,
   "metadata": {},
   "outputs": [
    {
     "data": {
      "image/png": "[encoded data removed]",
      "text/plain": [
       "<Figure size 720x432 with 2 Axes>"
      ]
     },
     "metadata": {
      "needs_background": "light"
     },
     "output_type": "display_data"
    }
   ],
   "source": [
    "plt.figure(figsize=(10, 6))\n",
    "\n",
    "plt.scatter(\n",
    "    grouped.index,\n",
    "    grouped['mean'],\n",
    "    c=grouped['count'],\n",
    "    label='win ratio',\n",
    "    s=100\n",
    ")\n",
    "\n",
    "plt.vlines(math.sqrt(2) / 2, 0, 1, linestyles='dashed', label=\"$\\sqrt{2}/2$\", color=\"grey\")\n",
    "plt.hlines(0.5, grouped.index.min() , grouped.index.max(), linestyles='dotted', label=\"0.5 win ratio\", color=\"grey\")\n",
    "plt.legend()\n",
    "cb = plt.colorbar()\n",
    "cb.set_label('# of matches', rotation=270)\n",
    "cb.ax.set_yticklabels([int(i) for i in cb.get_ticks()])\n",
    "cb.ax.get_yaxis().labelpad = 15\n",
    "\n",
    "plt.ylim(0, 1)\n",
    "\n",
    "plt.title(\"Win ratios of different $c$ values against $c = \\sqrt{2}/2$\");\n",
    "plt.xlabel(\"Opponent's value of $c$\")\n",
    "plt.ylabel(\"Opponent's win ratio\");"
   ]
  },
  {
   "cell_type": "code",
   "execution_count": null,
   "metadata": {},
   "outputs": [],
   "source": []
  }
 ],
 "metadata": {
  "kernelspec": {
   "display_name": "Python 3",
   "language": "python",
   "name": "python3"
  },
  "language_info": {
   "codemirror_mode": {
    "name": "ipython",
    "version": 3
   },
   "file_extension": ".py",
   "mimetype": "text/x-python",
   "name": "python",
   "nbconvert_exporter": "python",
   "pygments_lexer": "ipython3",
   "version": "3.7.9"
  }
 },
 "nbformat": 4,
 "nbformat_minor": 2
}
