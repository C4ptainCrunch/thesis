{
 "cells": [
  {
   "cell_type": "raw",
   "metadata": {},
   "source": [
    ".. contents:: Table of Contents\n",
    "   :depth: 3\n",
    "\n",
    ".. sectnum::"
   ]
  },
  {
   "cell_type": "raw",
   "metadata": {},
   "source": [
    "============\n",
    "Introduction\n",
    "============\n",
    "\n",
    "Awale is a popular board game played mainly in Africa. The board has two rows of six pits, each containing four seeds in the initial state.\n",
    "\n",
    "\n",
    ".. figure:: /_static/awale.jpg\n",
    "\n",
    "   A typical Awalé board in the initial state.\n",
    "\t\n",
    "At each turn, the players move some seeds and can potentially capture some of them, according to deterministic rules. The goal of the game is to capture more seeds than one's opponent. \n",
    "\n",
    ".. todo:: Texte expliquant ce que je vais faire dans mon memoire et pourquoi c'est interessant, pourquoi c'est nouveau\n",
    "\n",
    "In Section 2, we present Awale in detail.\n",
    "Section 3 reviews various approaches to solve Awale: retrograde analysis, Minimax, and basic Monte Carlo Tree Search.\n",
    "In Section 4, we described more advanced versions of MCTS and in particular UCT.\n",
    "Section 5 presents some empirical results (simulations) allowing to compare several MCTS algorithms and Section 6 concludes."
   ]
  },
  {
   "cell_type": "raw",
   "metadata": {},
   "source": [
    "=====\n",
    "Awale\n",
    "=====\n",
    "\n",
    "The subject of our study, Awale is an ancient, two player board game originating from Ghana.\n",
    "This game is also sometimes called Awele, Oware, Owari or Ayo in the neighouring countries, languages and cultures :cite:`crane1982`.\n",
    "\n",
    "Originally, the game is played on the ground, by digging two rows of six small pits, each containing\n",
    "stones, seeds or shells. In the present document, we will name them seeds. The game is also often played on a wooden board symbolizing the original dirt pits.\n",
    "The board can be schematized as in Fig. YYY, every big circle representing a pit and every small disc representing a seed.\n",
    "Numbers at the bottom right of each pit are the counts of seeds in each pit for better readability.\n",
    "Each row of pits is owned by a player that sits in front of it (:numref:`see Fig. %s <intro-kalah>`).\n",
    "For the sake of convenience, the players are named North and South.   \n",
    "The 6 pits from the top row belong to North and the 6 from the bottom to South.\n",
    "\n",
    "The players take turns, a player removing all the seeds from a pit and placing them in other pits following the rules. This is called sowing the seeds. This can result in a configuration in which the player is allowed to capture some seeds according to the rules.\n",
    "The goal for each player is to capture more seeds than his opponent.\n",
    "The rules vary slightly across countries and will be detailed in Section XXX."
   ]
  },
  {
   "cell_type": "code",
   "execution_count": 1,
   "metadata": {
    "scrolled": true,
    "tags": [
     "ha"
    ]
   },
   "outputs": [
    {
     "name": "stdout",
     "output_type": "stream",
     "text": [
      "importing Jupyter notebook from /home/nikita/Code/Thesis/source/lib/draw.ipynb\n"
     ]
    }
   ],
   "source": [
    "import numpy as np\n",
    "import import_ipynb\n",
    "from lib.draw import board_to_svg\n",
    "from IPython.display import SVG"
   ]
  },
  {
   "cell_type": "code",
   "execution_count": 2,
   "metadata": {
    "tags": [
     "hc",
     "fig:initial_board"
    ]
   },
   "outputs": [
    {
     "data": {
      "image/svg+xml": [
       "<svg height=\"240\" width=\"700\">\n",
       "      <style>\n",
       "        circle {\n",
       "          fill: none;\n",
       "          stroke: #000;\n",
       "          stroke-width: 2;\n",
       "        }\n",
       "        .bean {\n",
       "          fill: #000\n",
       "        }\n",
       "        .highlight {\n",
       "          stroke: red;\n",
       "        }\n",
       "      </style>\n",
       "\n",
       "      <circle cx=\"48.0\" cy=\"48.0\" r=\"40\"/><text x=\"82.0\" y=\"82.0\">4</text><circle cx=\"136.0\" cy=\"48.0\" r=\"40\"/><text x=\"170.0\" y=\"82.0\">4</text><circle cx=\"224.0\" cy=\"48.0\" r=\"40\"/><text x=\"258.0\" y=\"82.0\">4</text><circle cx=\"312.0\" cy=\"48.0\" r=\"40\"/><text x=\"346.0\" y=\"82.0\">4</text><circle cx=\"400.0\" cy=\"48.0\" r=\"40\"/><text x=\"434.0\" y=\"82.0\">4</text><circle cx=\"488.0\" cy=\"48.0\" r=\"40\"/><text x=\"522.0\" y=\"82.0\">4</text><circle cx=\"48.0\" cy=\"136.0\" r=\"40\"/><text x=\"82.0\" y=\"170.0\">4</text><circle cx=\"136.0\" cy=\"136.0\" r=\"40\"/><text x=\"170.0\" y=\"170.0\">4</text><circle cx=\"224.0\" cy=\"136.0\" r=\"40\"/><text x=\"258.0\" y=\"170.0\">4</text><circle cx=\"312.0\" cy=\"136.0\" r=\"40\"/><text x=\"346.0\" y=\"170.0\">4</text><circle cx=\"400.0\" cy=\"136.0\" r=\"40\"/><text x=\"434.0\" y=\"170.0\">4</text><circle cx=\"488.0\" cy=\"136.0\" r=\"40\"/><text x=\"522.0\" y=\"170.0\">4</text>\n",
       "      <circle class=\"bean\" cx=\"57.81901160737951\" cy=\"44.596030103813135\" r=\"4\"/><circle class=\"bean\" cx=\"44.59603010381314\" cy=\"38.180988392620485\" r=\"4\"/><circle class=\"bean\" cx=\"38.180988392620485\" cy=\"51.40396989618686\" r=\"4\"/><circle class=\"bean\" cx=\"51.40396989618686\" cy=\"57.819011607379515\" r=\"4\"/><circle class=\"bean\" cx=\"146.24821065104805\" cy=\"49.72458065968087\" r=\"4\"/><circle class=\"bean\" cx=\"137.72458065968087\" cy=\"37.75178934895195\" r=\"4\"/><circle class=\"bean\" cx=\"125.75178934895195\" cy=\"46.275419340319125\" r=\"4\"/><circle class=\"bean\" cx=\"134.27541934031913\" cy=\"58.24821065104805\" r=\"4\"/><circle class=\"bean\" cx=\"233.13707016260162\" cy=\"52.95115631380136\" r=\"4\"/><circle class=\"bean\" cx=\"228.95115631380136\" cy=\"38.862929837398376\" r=\"4\"/><circle class=\"bean\" cx=\"214.86292983739838\" cy=\"43.04884368619864\" r=\"4\"/><circle class=\"bean\" cx=\"219.04884368619864\" cy=\"57.137070162601624\" r=\"4\"/><circle class=\"bean\" cx=\"312.4255521322314\" cy=\"37.616411728946815\" r=\"4\"/><circle class=\"bean\" cx=\"301.6164117289468\" cy=\"47.574447867768555\" r=\"4\"/><circle class=\"bean\" cx=\"311.5744478677686\" cy=\"58.383588271053185\" r=\"4\"/><circle class=\"bean\" cx=\"322.3835882710532\" cy=\"48.425552132231445\" r=\"4\"/><circle class=\"bean\" cx=\"401.2148672920002\" cy=\"37.678948819871685\" r=\"4\"/><circle class=\"bean\" cx=\"389.67894881987166\" cy=\"46.78513270799981\" r=\"4\"/><circle class=\"bean\" cx=\"398.7851327079998\" cy=\"58.321051180128315\" r=\"4\"/><circle class=\"bean\" cx=\"410.32105118012834\" cy=\"49.21486729200019\" r=\"4\"/><circle class=\"bean\" cx=\"498.3132699092734\" cy=\"49.27924343987997\" r=\"4\"/><circle class=\"bean\" cx=\"489.27924343987996\" cy=\"37.686730090726606\" r=\"4\"/><circle class=\"bean\" cx=\"477.6867300907266\" cy=\"46.72075656012003\" r=\"4\"/><circle class=\"bean\" cx=\"486.72075656012004\" cy=\"58.313269909273394\" r=\"4\"/><circle class=\"bean\" cx=\"56.65453160165218\" cy=\"130.2468197702485\" r=\"4\"/><circle class=\"bean\" cx=\"42.24681977024848\" cy=\"127.34546839834782\" r=\"4\"/><circle class=\"bean\" cx=\"39.34546839834782\" cy=\"141.7531802297515\" r=\"4\"/><circle class=\"bean\" cx=\"53.753180229751514\" cy=\"144.6545316016522\" r=\"4\"/><circle class=\"bean\" cx=\"146.37904215994092\" cy=\"136.5248655467538\" r=\"4\"/><circle class=\"bean\" cx=\"136.5248655467538\" cy=\"125.62095784005909\" r=\"4\"/><circle class=\"bean\" cx=\"125.62095784005909\" cy=\"135.4751344532462\" r=\"4\"/><circle class=\"bean\" cx=\"135.4751344532462\" cy=\"146.37904215994092\" r=\"4\"/><circle class=\"bean\" cx=\"225.6378476461144\" cy=\"146.26242929759408\" r=\"4\"/><circle class=\"bean\" cx=\"234.26242929759408\" cy=\"134.3621523538856\" r=\"4\"/><circle class=\"bean\" cx=\"222.3621523538856\" cy=\"125.73757070240592\" r=\"4\"/><circle class=\"bean\" cx=\"213.73757070240592\" cy=\"137.6378476461144\" r=\"4\"/><circle class=\"bean\" cx=\"322.3702057193752\" cy=\"135.32262762247143\" r=\"4\"/><circle class=\"bean\" cx=\"311.32262762247143\" cy=\"125.62979428062484\" r=\"4\"/><circle class=\"bean\" cx=\"301.6297942806248\" cy=\"136.67737237752857\" r=\"4\"/><circle class=\"bean\" cx=\"312.67737237752857\" cy=\"146.37020571937515\" r=\"4\"/><circle class=\"bean\" cx=\"402.61519644741594\" cy=\"125.9421300693724\" r=\"4\"/><circle class=\"bean\" cx=\"389.9421300693724\" cy=\"133.38480355258406\" r=\"4\"/><circle class=\"bean\" cx=\"397.38480355258406\" cy=\"146.05786993062762\" r=\"4\"/><circle class=\"bean\" cx=\"410.0578699306276\" cy=\"138.61519644741594\" r=\"4\"/><circle class=\"bean\" cx=\"492.5939406935591\" cy=\"145.32178678709516\" r=\"4\"/><circle class=\"bean\" cx=\"497.32178678709516\" cy=\"131.40605930644094\" r=\"4\"/><circle class=\"bean\" cx=\"483.40605930644097\" cy=\"126.67821321290484\" r=\"4\"/><circle class=\"bean\" cx=\"478.67821321290484\" cy=\"140.59394069355906\" r=\"4\"/>\n",
       "    </svg>"
      ],
      "text/plain": [
       "<IPython.core.display.SVG object>"
      ]
     },
     "execution_count": 2,
     "metadata": {},
     "output_type": "execute_result"
    }
   ],
   "source": [
    "board = np.full((2, 6), 4)\n",
    "SVG(board_to_svg(board, True))"
   ]
  },
  {
   "cell_type": "raw",
   "metadata": {},
   "source": [
    "Mancala\n",
    "-------\n",
    "\n",
    "The Mancala games are an ancient family of game that are played on many continents :cite:`deVoogt2008`, Awale being one of them.\n",
    "The word mancala comes from the Arabic word \"نقلة\", transliterated as \"naqala\" and literally meaning \"to move\". \n",
    "\n",
    "Like Awale, Mancala games can consist of rows of pits, some of them having more than two rows and sometimes extra pits with a special role. Mancala games can sometimes be played by more than two players.\n",
    "\n",
    ".. _intro-kalah:\n",
    "\n",
    ".. figure:: _static/intro-kalah.jpg\n",
    "\n",
    "  A wooden Mancala game [#source_kalah]_\n",
    "\n",
    "There are too many variants of the Mancala games to list them all here, but a\n",
    "few notable ones are Awale, Wari, Bao, Congkak and Kalah.\n",
    "\n",
    "In particular, Kalah is a commercial, modern variant of Mancala, introduced in the 1950s by William Julius Champion Jr., that is widespread in the United States. :cite:`irving2000solving`. This variant has been studied in Artifical Intelligence as early as 1964 by :cite:`russel1964`.\n",
    "Nowadays, Kalah is often used as an example game in computer-science courses.\n",
    "\n",
    "Mancala games in general, while less known than Chess or Go, are quite popular and\n",
    "are played in tournaments around the world, both in offline and online competitions :cite:`owaresociety,fandom_tournaments`.\n",
    "\n",
    "Mancala games have also been studied in Computer Science and Artificial Intelligence :cite:`deVoogt2008`. Tournaments opposing computers on both sides have been organised multiple times, notably in the Computer Olympiad organized by the International Computer Games Association :cite:`icga_olympiad`.\n"
   ]
  },
  {
   "cell_type": "raw",
   "metadata": {},
   "source": [
    "Rules of the game\n",
    "-----------------\n",
    "\n",
    "The basic rules of Awale are the same everywhere but there are still minor differences around the globe and in the leterature.\n",
    "The rules presented here and implemented later in this thesis are inspired from :cite:`goot2001` and adapted by us.\n",
    "\n",
    "The goal for both players is to capture more seeds than its opponent. As the\n",
    "game has 48 seeds, capturing 25 is enough for a player to win and ends the game.\n",
    "\n",
    "Each player plays alternatively, without the right to pass his turn. A\n",
    "player's turn consists in choosing one of his non-empty pits, picking all seeds\n",
    "contained in the pit and sowing them one by one in every consecutive pits on the right\n",
    "(rotating counter-clockwise). The player thus has at most 6 possible moves at\n",
    "each turn (one per non-empty pit owned by him).\n",
    "\n",
    "Usually, the player that starts the game is the oldest player. In this work, South will always starts playing.\n",
    "\n",
    "In this work, the pits of a player are numbered left to right from his point of view as shown in Fig. YYY. :math:`1` being the leftmost pit of South, until :math:`6` at the far right. The same holds for North: :math:`1'` to :math:`6'`.\n",
    "\n",
    ".. todo:: Insert figure with the pit numbering\n",
    "\n",
    "As an example, if we are in the initial state (showed inf Fig. `initial_board` YYY), the first player to move is South (on the bottom) and he plays :math:`4` (highlighted in the figure in red), the board will then be in the  state shown in Fig. `first_move` YYY."
   ]
  },
  {
   "cell_type": "code",
   "execution_count": 3,
   "metadata": {
    "tags": [
     "hc",
     "fig:first_move"
    ]
   },
   "outputs": [
    {
     "data": {
      "image/svg+xml": [
       "<svg height=\"240\" width=\"700\">\n",
       "      <style>\n",
       "        circle {\n",
       "          fill: none;\n",
       "          stroke: #000;\n",
       "          stroke-width: 2;\n",
       "        }\n",
       "        .bean {\n",
       "          fill: #000\n",
       "        }\n",
       "        .highlight {\n",
       "          stroke: red;\n",
       "        }\n",
       "      </style>\n",
       "\n",
       "      <circle cx=\"48.0\" cy=\"48.0\" r=\"40\"/><text x=\"82.0\" y=\"82.0\">4</text><circle cx=\"136.0\" cy=\"48.0\" r=\"40\"/><text x=\"170.0\" y=\"82.0\">4</text><circle cx=\"224.0\" cy=\"48.0\" r=\"40\"/><text x=\"258.0\" y=\"82.0\">4</text><circle cx=\"312.0\" cy=\"48.0\" r=\"40\"/><text x=\"346.0\" y=\"82.0\">4</text><circle cx=\"400.0\" cy=\"48.0\" r=\"40\"/><text x=\"434.0\" y=\"82.0\">5</text><circle cx=\"488.0\" cy=\"48.0\" r=\"40\"/><text x=\"522.0\" y=\"82.0\">5</text><circle cx=\"48.0\" cy=\"136.0\" r=\"40\"/><text x=\"82.0\" y=\"170.0\">4</text><circle cx=\"136.0\" cy=\"136.0\" r=\"40\"/><text x=\"170.0\" y=\"170.0\">4</text><circle cx=\"224.0\" cy=\"136.0\" r=\"40\"/><text x=\"258.0\" y=\"170.0\">4</text><circle class=\"highlight\" cx=\"312.0\" cy=\"136.0\" r=\"40\"/><text x=\"346.0\" y=\"170.0\">0</text><circle cx=\"400.0\" cy=\"136.0\" r=\"40\"/><text x=\"434.0\" y=\"170.0\">5</text><circle cx=\"488.0\" cy=\"136.0\" r=\"40\"/><text x=\"522.0\" y=\"170.0\">5</text>\n",
       "      <circle class=\"bean\" cx=\"57.31839526859782\" cy=\"43.39918380956446\" r=\"4\"/><circle class=\"bean\" cx=\"43.39918380956446\" cy=\"38.68160473140218\" r=\"4\"/><circle class=\"bean\" cx=\"38.681604731402174\" cy=\"52.60081619043553\" r=\"4\"/><circle class=\"bean\" cx=\"52.60081619043553\" cy=\"57.318395268597826\" r=\"4\"/><circle class=\"bean\" cx=\"136.17649561196922\" cy=\"58.390805998523675\" r=\"4\"/><circle class=\"bean\" cx=\"146.3908059985237\" cy=\"47.823504388030784\" r=\"4\"/><circle class=\"bean\" cx=\"135.82350438803078\" cy=\"37.609194001476325\" r=\"4\"/><circle class=\"bean\" cx=\"125.60919400147633\" cy=\"48.17649561196922\" r=\"4\"/><circle class=\"bean\" cx=\"234.20120455350212\" cy=\"46.016209270712345\" r=\"4\"/><circle class=\"bean\" cx=\"222.01620927071235\" cy=\"37.79879544649788\" r=\"4\"/><circle class=\"bean\" cx=\"213.79879544649788\" cy=\"49.983790729287655\" r=\"4\"/><circle class=\"bean\" cx=\"225.98379072928765\" cy=\"58.20120455350212\" r=\"4\"/><circle class=\"bean\" cx=\"322.32785976519574\" cy=\"46.84444270135545\" r=\"4\"/><circle class=\"bean\" cx=\"310.84444270135543\" cy=\"37.672140234804246\" r=\"4\"/><circle class=\"bean\" cx=\"301.67214023480426\" cy=\"49.15555729864455\" r=\"4\"/><circle class=\"bean\" cx=\"313.15555729864457\" cy=\"58.327859765195754\" r=\"4\"/><circle class=\"bean\" cx=\"405.67689110814814\" cy=\"58.57227068071134\" r=\"4\"/><circle class=\"bean\" cx=\"411.8090827505605\" cy=\"45.86796702876949\" r=\"4\"/><circle class=\"bean\" cx=\"401.62152340765834\" cy=\"36.110060477932784\" r=\"4\"/><circle class=\"bean\" cx=\"389.1930738289259\" cy=\"42.78364622241229\" r=\"4\"/><circle class=\"bean\" cx=\"391.6994289047071\" cy=\"56.666055590174096\" r=\"4\"/><circle class=\"bean\" cx=\"493.6592452920478\" cy=\"37.41827316906948\" r=\"4\"/><circle class=\"bean\" cx=\"479.68498271436744\" cy=\"39.347804467094385\" r=\"4\"/><circle class=\"bean\" cx=\"477.2017914083884\" cy=\"53.23437591428484\" r=\"4\"/><circle class=\"bean\" cx=\"489.64135735840546\" cy=\"59.88721775782745\" r=\"4\"/><circle class=\"bean\" cx=\"499.8126232267909\" cy=\"50.11232869172384\" r=\"4\"/><circle class=\"bean\" cx=\"55.21466997316839\" cy=\"143.4798754787939\" r=\"4\"/><circle class=\"bean\" cx=\"55.47987547879391\" cy=\"128.78533002683162\" r=\"4\"/><circle class=\"bean\" cx=\"40.78533002683161\" cy=\"128.5201245212061\" r=\"4\"/><circle class=\"bean\" cx=\"40.520124521206085\" cy=\"143.21466997316838\" r=\"4\"/><circle class=\"bean\" cx=\"145.2475287665566\" cy=\"140.74164651905943\" r=\"4\"/><circle class=\"bean\" cx=\"140.74164651905943\" cy=\"126.75247123344342\" r=\"4\"/><circle class=\"bean\" cx=\"126.75247123344342\" cy=\"131.25835348094057\" r=\"4\"/><circle class=\"bean\" cx=\"131.25835348094057\" cy=\"145.2475287665566\" r=\"4\"/><circle class=\"bean\" cx=\"232.36557178246585\" cy=\"142.165809659113\" r=\"4\"/><circle class=\"bean\" cx=\"230.165809659113\" cy=\"127.63442821753415\" r=\"4\"/><circle class=\"bean\" cx=\"215.63442821753415\" cy=\"129.834190340887\" r=\"4\"/><circle class=\"bean\" cx=\"217.834190340887\" cy=\"144.36557178246585\" r=\"4\"/><circle class=\"bean\" cx=\"404.02962533429024\" cy=\"147.303190685167\" r=\"4\"/><circle class=\"bean\" cx=\"411.99519586531426\" cy=\"135.66047657997242\" r=\"4\"/><circle class=\"bean\" cx=\"403.38381341218616\" cy=\"124.48697230127935\" r=\"4\"/><circle class=\"bean\" cx=\"390.0961158350045\" cy=\"129.22408098879922\" r=\"4\"/><circle class=\"bean\" cx=\"390.49524955320476\" cy=\"143.32527944478198\" r=\"4\"/><circle class=\"bean\" cx=\"498.7336644485632\" cy=\"141.3654866979288\" r=\"4\"/><circle class=\"bean\" cx=\"496.41976581368436\" cy=\"127.44970505522107\" r=\"4\"/><circle class=\"bean\" cx=\"482.47003700160815\" cy=\"125.35014041236143\" r=\"4\"/><circle class=\"bean\" cx=\"476.1625290967802\" cy=\"137.96831974420436\" r=\"4\"/><circle class=\"bean\" cx=\"486.2140036393641\" cy=\"147.86634809028436\" r=\"4\"/>\n",
       "    </svg>"
      ],
      "text/plain": [
       "<IPython.core.display.SVG object>"
      ]
     },
     "execution_count": 3,
     "metadata": {},
     "output_type": "execute_result"
    }
   ],
   "source": [
    "board = np.array([\n",
    "    [4, 4, 4, 4, 5, 5],\n",
    "    [4, 4, 4, 0, 5, 5],\n",
    "])\n",
    "SVG(board_to_svg(board, True,highlight=[(1, 3)]))"
   ]
  },
  {
   "cell_type": "raw",
   "metadata": {},
   "source": [
    "When the last sowed seed is placed in a pit owned by the opponent and, after sowing,\n",
    "the pit contains two or three seeds, the content of the pit is captured by\n",
    "the player and removed from the game. If the pit preceding the captured pit also\n",
    "contains two or three seeds, it is also captured. The capture continues until a\n",
    "pit without two or three seeds is encountered. When the capture is ended the\n",
    "next player's turn starts.\n",
    "\n",
    "Otherwise, when the last sowed seed is placed in a pit that, after sowing, contains one seed, more\n",
    "than 3 seeds or in the current player's own pits, the turn of the player is ended without\n",
    "any capture.\n",
    "For example, if South plays :math:`4` in the configuration shown in Fig. `pre_capture` YYY he will\n",
    "be able to capture the opponent's 2nd and 3rd pits (:math:`2'` and :math:`3'` highlighted in red in Fig. `post_capture` YYY)."
   ]
  },
  {
   "cell_type": "code",
   "execution_count": 4,
   "metadata": {
    "tags": [
     "hc",
     "fig:pre_capture"
    ]
   },
   "outputs": [
    {
     "data": {
      "image/svg+xml": [
       "<svg height=\"240\" width=\"700\">\n",
       "      <style>\n",
       "        circle {\n",
       "          fill: none;\n",
       "          stroke: #000;\n",
       "          stroke-width: 2;\n",
       "        }\n",
       "        .bean {\n",
       "          fill: #000\n",
       "        }\n",
       "        .highlight {\n",
       "          stroke: red;\n",
       "        }\n",
       "      </style>\n",
       "\n",
       "      <circle cx=\"48.0\" cy=\"48.0\" r=\"40\"/><text x=\"82.0\" y=\"82.0\">4</text><circle cx=\"136.0\" cy=\"48.0\" r=\"40\"/><text x=\"170.0\" y=\"82.0\">6</text><circle cx=\"224.0\" cy=\"48.0\" r=\"40\"/><text x=\"258.0\" y=\"82.0\">4</text><circle cx=\"312.0\" cy=\"48.0\" r=\"40\"/><text x=\"346.0\" y=\"82.0\">1</text><circle cx=\"400.0\" cy=\"48.0\" r=\"40\"/><text x=\"434.0\" y=\"82.0\">2</text><circle cx=\"488.0\" cy=\"48.0\" r=\"40\"/><text x=\"522.0\" y=\"82.0\">3</text><circle cx=\"48.0\" cy=\"136.0\" r=\"40\"/><text x=\"82.0\" y=\"170.0\">3</text><circle cx=\"136.0\" cy=\"136.0\" r=\"40\"/><text x=\"170.0\" y=\"170.0\">3</text><circle cx=\"224.0\" cy=\"136.0\" r=\"40\"/><text x=\"258.0\" y=\"170.0\">3</text><circle class=\"highlight\" cx=\"312.0\" cy=\"136.0\" r=\"40\"/><text x=\"346.0\" y=\"170.0\">5</text><circle cx=\"400.0\" cy=\"136.0\" r=\"40\"/><text x=\"434.0\" y=\"170.0\">2</text><circle cx=\"488.0\" cy=\"136.0\" r=\"40\"/><text x=\"522.0\" y=\"170.0\">2</text>\n",
       "      <circle class=\"bean\" cx=\"56.80058652877279\" cy=\"53.527176200338005\" r=\"4\"/><circle class=\"bean\" cx=\"53.52717620033801\" cy=\"39.19941347122721\" r=\"4\"/><circle class=\"bean\" cx=\"39.19941347122721\" cy=\"42.47282379966199\" r=\"4\"/><circle class=\"bean\" cx=\"42.47282379966199\" cy=\"56.80058652877279\" r=\"4\"/><circle class=\"bean\" cx=\"147.85404676768601\" cy=\"54.283436577981256\" r=\"4\"/><circle class=\"bean\" cx=\"147.36863908344313\" cy=\"40.87581265052573\" r=\"4\"/><circle class=\"bean\" cx=\"135.5145923157571\" cy=\"34.59237607254447\" r=\"4\"/><circle class=\"bean\" cx=\"124.14595323231399\" cy=\"41.716563422018744\" r=\"4\"/><circle class=\"bean\" cx=\"124.63136091655686\" cy=\"55.12418734947427\" r=\"4\"/><circle class=\"bean\" cx=\"136.4854076842429\" cy=\"61.407623927455525\" r=\"4\"/><circle class=\"bean\" cx=\"225.60733330799945\" cy=\"58.26725277944376\" r=\"4\"/><circle class=\"bean\" cx=\"234.26725277944377\" cy=\"46.39266669200055\" r=\"4\"/><circle class=\"bean\" cx=\"222.39266669200055\" cy=\"37.73274722055624\" r=\"4\"/><circle class=\"bean\" cx=\"213.73274722055623\" cy=\"49.60733330799944\" r=\"4\"/><circle class=\"bean\" cx=\"312.0\" cy=\"48.0\" r=\"4\"/><circle class=\"bean\" cx=\"401.47661311034955\" cy=\"42.184536671739394\" r=\"4\"/><circle class=\"bean\" cx=\"398.52338688965045\" cy=\"53.815463328260606\" r=\"4\"/><circle class=\"bean\" cx=\"492.13671435697466\" cy=\"55.408616222264435\" r=\"4\"/><circle class=\"bean\" cx=\"492.3476926768832\" cy=\"40.71319216752792\" r=\"4\"/><circle class=\"bean\" cx=\"479.51559296614215\" cy=\"47.878191610207644\" r=\"4\"/><circle class=\"bean\" cx=\"53.734576931189686\" cy=\"129.7458311966923\" r=\"4\"/><circle class=\"bean\" cx=\"39.71644247118458\" cy=\"134.16079509928736\" r=\"4\"/><circle class=\"bean\" cx=\"50.54898059762573\" cy=\"144.0933737040203\" r=\"4\"/><circle class=\"bean\" cx=\"143.63633286374716\" cy=\"139.69951623784183\" r=\"4\"/><circle class=\"bean\" cx=\"135.3857086118105\" cy=\"127.53698362932009\" r=\"4\"/><circle class=\"bean\" cx=\"128.97795852444239\" cy=\"140.7635001328381\" r=\"4\"/><circle class=\"bean\" cx=\"231.4054031580106\" cy=\"140.1424635263725\" r=\"4\"/><circle class=\"bean\" cx=\"223.88477706908373\" cy=\"127.51550097671105\" r=\"4\"/><circle class=\"bean\" cx=\"216.70981977290563\" cy=\"140.34203549691645\" r=\"4\"/><circle class=\"bean\" cx=\"322.1332480617149\" cy=\"142.4278521855867\" r=\"4\"/><circle class=\"bean\" cx=\"321.24459656617114\" cy=\"128.34902396234725\" r=\"4\"/><circle class=\"bean\" cx=\"307.58022682845944\" cy=\"124.84358457603292\" r=\"4\"/><circle class=\"bean\" cx=\"300.02383339125186\" cy=\"136.7559321130275\" r=\"4\"/><circle class=\"bean\" cx=\"309.0180951524026\" cy=\"147.6236071630056\" r=\"4\"/><circle class=\"bean\" cx=\"404.2755263759342\" cy=\"131.79050190537032\" r=\"4\"/><circle class=\"bean\" cx=\"395.7244736240658\" cy=\"140.20949809462968\" r=\"4\"/><circle class=\"bean\" cx=\"491.23733384639405\" cy=\"130.94830032890002\" r=\"4\"/><circle class=\"bean\" cx=\"484.76266615360595\" cy=\"141.05169967109998\" r=\"4\"/>\n",
       "    </svg>"
      ],
      "text/plain": [
       "<IPython.core.display.SVG object>"
      ]
     },
     "execution_count": 4,
     "metadata": {},
     "output_type": "execute_result"
    }
   ],
   "source": [
    "board = np.array([\n",
    "    [4, 6, 4, 1, 2, 3],\n",
    "    [3, 3, 3, 5, 2, 2],\n",
    "])\n",
    "SVG(board_to_svg(board, True,highlight=[(1, 3)]))"
   ]
  },
  {
   "cell_type": "code",
   "execution_count": 5,
   "metadata": {
    "scrolled": true,
    "tags": [
     "hc",
     "fig:post_capture"
    ]
   },
   "outputs": [
    {
     "data": {
      "image/svg+xml": [
       "<svg height=\"240\" width=\"700\">\n",
       "      <style>\n",
       "        circle {\n",
       "          fill: none;\n",
       "          stroke: #000;\n",
       "          stroke-width: 2;\n",
       "        }\n",
       "        .bean {\n",
       "          fill: #000\n",
       "        }\n",
       "        .highlight {\n",
       "          stroke: red;\n",
       "        }\n",
       "      </style>\n",
       "\n",
       "      <circle cx=\"48.0\" cy=\"48.0\" r=\"40\"/><text x=\"82.0\" y=\"82.0\">4</text><circle cx=\"136.0\" cy=\"48.0\" r=\"40\"/><text x=\"170.0\" y=\"82.0\">6</text><circle cx=\"224.0\" cy=\"48.0\" r=\"40\"/><text x=\"258.0\" y=\"82.0\">4</text><circle class=\"highlight\" cx=\"312.0\" cy=\"48.0\" r=\"40\"/><text x=\"346.0\" y=\"82.0\">2</text><circle class=\"highlight\" cx=\"400.0\" cy=\"48.0\" r=\"40\"/><text x=\"434.0\" y=\"82.0\">3</text><circle cx=\"488.0\" cy=\"48.0\" r=\"40\"/><text x=\"522.0\" y=\"82.0\">4</text><circle cx=\"48.0\" cy=\"136.0\" r=\"40\"/><text x=\"82.0\" y=\"170.0\">3</text><circle cx=\"136.0\" cy=\"136.0\" r=\"40\"/><text x=\"170.0\" y=\"170.0\">3</text><circle cx=\"224.0\" cy=\"136.0\" r=\"40\"/><text x=\"258.0\" y=\"170.0\">3</text><circle cx=\"312.0\" cy=\"136.0\" r=\"40\"/><text x=\"346.0\" y=\"170.0\">0</text><circle cx=\"400.0\" cy=\"136.0\" r=\"40\"/><text x=\"434.0\" y=\"170.0\">3</text><circle cx=\"488.0\" cy=\"136.0\" r=\"40\"/><text x=\"522.0\" y=\"170.0\">3</text>\n",
       "      <circle class=\"bean\" cx=\"54.48245493667213\" cy=\"39.877329380430645\" r=\"4\"/><circle class=\"bean\" cx=\"39.877329380430645\" cy=\"41.51754506332787\" r=\"4\"/><circle class=\"bean\" cx=\"41.51754506332787\" cy=\"56.122670619569355\" r=\"4\"/><circle class=\"bean\" cx=\"56.122670619569355\" cy=\"54.48245493667213\" r=\"4\"/><circle class=\"bean\" cx=\"148.38421184612085\" cy=\"53.16055200055189\" r=\"4\"/><circle class=\"bean\" cx=\"146.66127505308896\" cy=\"39.85523393568711\" r=\"4\"/><circle class=\"bean\" cx=\"134.2770632069681\" cy=\"34.69468193513522\" r=\"4\"/><circle class=\"bean\" cx=\"123.61578815387915\" cy=\"42.83944799944812\" r=\"4\"/><circle class=\"bean\" cx=\"125.33872494691103\" cy=\"56.14476606431289\" r=\"4\"/><circle class=\"bean\" cx=\"137.7229367930319\" cy=\"61.30531806486478\" r=\"4\"/><circle class=\"bean\" cx=\"234.39225434260143\" cy=\"48.03239874506133\" r=\"4\"/><circle class=\"bean\" cx=\"224.03239874506133\" cy=\"37.60774565739856\" r=\"4\"/><circle class=\"bean\" cx=\"213.60774565739857\" cy=\"47.96760125493867\" r=\"4\"/><circle class=\"bean\" cx=\"223.96760125493867\" cy=\"58.39225434260144\" r=\"4\"/><circle class=\"bean\" cx=\"315.1438927285491\" cy=\"53.11037557439532\" r=\"4\"/><circle class=\"bean\" cx=\"308.8561072714509\" cy=\"42.88962442560468\" r=\"4\"/><circle class=\"bean\" cx=\"403.1338740917132\" cy=\"40.11464438485564\" r=\"4\"/><circle class=\"bean\" cx=\"391.6041446735541\" cy=\"49.22866323188666\" r=\"4\"/><circle class=\"bean\" cx=\"405.2619812347327\" cy=\"54.656692383257706\" r=\"4\"/><circle class=\"bean\" cx=\"492.2031655909631\" cy=\"38.495611591746496\" r=\"4\"/><circle class=\"bean\" cx=\"478.49561159174647\" cy=\"43.796834409036876\" r=\"4\"/><circle class=\"bean\" cx=\"483.7968344090369\" cy=\"57.504388408253504\" r=\"4\"/><circle class=\"bean\" cx=\"497.50438840825353\" cy=\"52.203165590963124\" r=\"4\"/><circle class=\"bean\" cx=\"49.79907307113219\" cy=\"144.2923661330604\" r=\"4\"/><circle class=\"bean\" cx=\"54.28186319314594\" cy=\"130.29577395060483\" r=\"4\"/><circle class=\"bean\" cx=\"39.91906373572187\" cy=\"133.41185991633478\" r=\"4\"/><circle class=\"bean\" cx=\"137.94704150474055\" cy=\"127.74112420611512\" r=\"4\"/><circle class=\"bean\" cx=\"127.87408300342504\" cy=\"138.44325049161444\" r=\"4\"/><circle class=\"bean\" cx=\"142.1788754918344\" cy=\"141.81562530227043\" r=\"4\"/><circle class=\"bean\" cx=\"229.49552173804585\" cy=\"142.4652332383809\" r=\"4\"/><circle class=\"bean\" cx=\"226.85129535680647\" cy=\"128.0081219486122\" r=\"4\"/><circle class=\"bean\" cx=\"215.65318290514767\" cy=\"137.52664481300687\" r=\"4\"/><circle class=\"bean\" cx=\"406.91572496292855\" cy=\"131.08342108401308\" r=\"4\"/><circle class=\"bean\" cx=\"392.2842552775801\" cy=\"132.46909595451118\" r=\"4\"/><circle class=\"bean\" cx=\"400.80001975949136\" cy=\"144.44748296147577\" r=\"4\"/><circle class=\"bean\" cx=\"491.4143164219034\" cy=\"143.76803986673093\" r=\"4\"/><circle class=\"bean\" cx=\"493.0201616512476\" cy=\"129.15909530870783\" r=\"4\"/><circle class=\"bean\" cx=\"479.56552192684904\" cy=\"135.07286482456124\" r=\"4\"/>\n",
       "    </svg>"
      ],
      "text/plain": [
       "<IPython.core.display.SVG object>"
      ]
     },
     "execution_count": 5,
     "metadata": {},
     "output_type": "execute_result"
    }
   ],
   "source": [
    "board = np.array([\n",
    "    [4, 6, 4, 2, 3, 4],\n",
    "    [3, 3, 3, 0, 3, 3],\n",
    "])\n",
    "SVG(board_to_svg(board, True,highlight=[(0, 3), (0, 4)]))"
   ]
  },
  {
   "cell_type": "raw",
   "metadata": {},
   "source": [
    "If the pit chosen by the player contains more than 12 seeds, the sowing makes\n",
    "more than a full revolution of the board and the starting hole is skipped during the second\n",
    "and subsequent passes.\n",
    "\n",
    "If the current player's opponent has no seed left in his half board, the\n",
    "current player has to play a move that gives him seeds if such a move exists.\n",
    "This rule is called the \"feed your opponent\".\n",
    "In Fig. `feed` YYY, South has to play the fifth pit because playing the first would leave the opponent without any move to play."
   ]
  },
  {
   "cell_type": "code",
   "execution_count": 6,
   "metadata": {
    "tags": [
     "hc",
     "fig:feed"
    ]
   },
   "outputs": [
    {
     "data": {
      "image/svg+xml": [
       "<svg height=\"240\" width=\"700\">\n",
       "      <style>\n",
       "        circle {\n",
       "          fill: none;\n",
       "          stroke: #000;\n",
       "          stroke-width: 2;\n",
       "        }\n",
       "        .bean {\n",
       "          fill: #000\n",
       "        }\n",
       "        .highlight {\n",
       "          stroke: red;\n",
       "        }\n",
       "      </style>\n",
       "\n",
       "      <circle cx=\"48.0\" cy=\"48.0\" r=\"40\"/><text x=\"82.0\" y=\"82.0\">0</text><circle cx=\"136.0\" cy=\"48.0\" r=\"40\"/><text x=\"170.0\" y=\"82.0\">0</text><circle cx=\"224.0\" cy=\"48.0\" r=\"40\"/><text x=\"258.0\" y=\"82.0\">0</text><circle cx=\"312.0\" cy=\"48.0\" r=\"40\"/><text x=\"346.0\" y=\"82.0\">0</text><circle cx=\"400.0\" cy=\"48.0\" r=\"40\"/><text x=\"434.0\" y=\"82.0\">0</text><circle cx=\"488.0\" cy=\"48.0\" r=\"40\"/><text x=\"522.0\" y=\"82.0\">0</text><circle cx=\"48.0\" cy=\"136.0\" r=\"40\"/><text x=\"82.0\" y=\"170.0\">2</text><circle cx=\"136.0\" cy=\"136.0\" r=\"40\"/><text x=\"170.0\" y=\"170.0\">0</text><circle cx=\"224.0\" cy=\"136.0\" r=\"40\"/><text x=\"258.0\" y=\"170.0\">0</text><circle cx=\"312.0\" cy=\"136.0\" r=\"40\"/><text x=\"346.0\" y=\"170.0\">0</text><circle class=\"highlight\" cx=\"400.0\" cy=\"136.0\" r=\"40\"/><text x=\"434.0\" y=\"170.0\">3</text><circle cx=\"488.0\" cy=\"136.0\" r=\"40\"/><text x=\"522.0\" y=\"170.0\">0</text>\n",
       "      <circle class=\"bean\" cx=\"51.991046346091345\" cy=\"131.51987175815793\" r=\"4\"/><circle class=\"bean\" cx=\"44.008953653908655\" cy=\"140.48012824184207\" r=\"4\"/><circle class=\"bean\" cx=\"400.02858119392704\" cy=\"144.48523323871262\" r=\"4\"/><circle class=\"bean\" cx=\"407.3341369447977\" cy=\"131.73263134063237\" r=\"4\"/><circle class=\"bean\" cx=\"392.63728186127526\" cy=\"131.78213542065498\" r=\"4\"/>\n",
       "    </svg>"
      ],
      "text/plain": [
       "<IPython.core.display.SVG object>"
      ]
     },
     "execution_count": 6,
     "metadata": {},
     "output_type": "execute_result"
    }
   ],
   "source": [
    "board = np.array([\n",
    "    [0, 0, 0, 0, 0, 0],\n",
    "    [2, 0, 0, 0, 3, 0],\n",
    "])\n",
    "SVG(board_to_svg(board, True,highlight=[(1, 4)]))"
   ]
  },
  {
   "cell_type": "raw",
   "metadata": {},
   "source": [
    "When a player has captured more than 25 seeds the game ends and he wins. If both\n",
    "players have captured 24 seeds, the game ends by a draw. If the current player\n",
    "pits are all empty, the game ends and the player with the most captures wins.\n",
    "\n",
    "The last way to stop the game is when a position is encountered twice in the\n",
    "same game (there is a cycle): the game ends and the player with most captures\n",
    "wins."
   ]
  },
  {
   "cell_type": "raw",
   "metadata": {},
   "source": [
    "Implementation of the rules\n",
    "---------------------------\n",
    "\n",
    "In this subsection, we define in multiple steps a Python :code:`Game()` class holding the state of the game and its rules. We will then succesively inherit from it to add the rules and some sonvenience methods.\n",
    "\n",
    "We set the following encoding conventions:\n",
    " - :code:`0` is South, :code:`1` is North,\n",
    " - player's actions are numbered from :code:`0` to :code:`5`, :code:`0` being to play the leftmost pit in front of him, :code:`5` being playing the rightmost.\n",
    "\n",
    "First, we define a dataclass with the minimal attributes needed to store a state of the game."
   ]
  },
  {
   "cell_type": "code",
   "execution_count": 7,
   "metadata": {
    "tags": [
     "ha"
    ]
   },
   "outputs": [],
   "source": [
    "import numpy as np\n",
    "import itertools\n",
    "from typing import List, Dict, Set, Optional, Tuple"
   ]
  },
  {
   "cell_type": "code",
   "execution_count": 8,
   "metadata": {},
   "outputs": [],
   "source": [
    "from dataclasses import dataclass\n",
    "\n",
    "@dataclass\n",
    "class Game:\n",
    "    pits: np.array # a 2x6 matrix containing the number of seeds in each pits\n",
    "    current_player: int # 0 for South and 1 for North\n",
    "    captures: np.array # the number of seeds captured by each player"
   ]
  },
  {
   "cell_type": "raw",
   "metadata": {},
   "source": [
    "Now that we have defined the fields our dataclass can hold to represent the state of the game,\n",
    "we can inherit from it to add new methods.\n",
    "The first is a static method to instantiate a game state in the initial position, with 4 seeds in each pit."
   ]
  },
  {
   "cell_type": "code",
   "execution_count": 9,
   "metadata": {},
   "outputs": [],
   "source": [
    "class Game(Game):\n",
    "    ...\n",
    "    \n",
    "    @classmethod\n",
    "    def new(klass):\n",
    "        return klass(\n",
    "            # A 6x2 matrix filled with 4 seeds\n",
    "            pits=np.ones(6 * 2, dtype=int) * 4,\n",
    "            # North is the first player\n",
    "            current_player=0,\n",
    "            # No captures have been made\n",
    "            captures=np.zeros(2, dtype=int),\n",
    "        )"
   ]
  },
  {
   "cell_type": "raw",
   "metadata": {},
   "source": [
    "Next, we add some convenient methods that will be useful later."
   ]
  },
  {
   "cell_type": "code",
   "execution_count": 10,
   "metadata": {},
   "outputs": [],
   "source": [
    "class Game(Game):\n",
    "    ...\n",
    "\n",
    "    @property\n",
    "    def view_from_current_player(self) -> List[int]:\n",
    "        '''Returns the board as seen by a player'''\n",
    "        if self.current_player == 0:\n",
    "            return self.pits\n",
    "        else:\n",
    "            return np.roll(self.pits, 6)\n",
    "    \n",
    "    @property\n",
    "    def current_player_pits(self) -> List[int]:\n",
    "        '''Returns a 6-vector containing the pits owned by the current player'''\n",
    "        if self.current_player == 0:\n",
    "            return self.pits[:6]\n",
    "        else:\n",
    "            return self.pits[6:]\n",
    "\n",
    "    @property\n",
    "    def current_opponent(self) -> int:\n",
    "        return (self.current_player + 1) % 2\n",
    "    \n",
    "    @property\n",
    "    def adverse_pits_idx(self) -> List[int]:\n",
    "        '''Returns the indices in the `self.pits` array owned by the opposing player'''\n",
    "        if self.current_player == 1:\n",
    "            return list(range(6))\n",
    "        else:\n",
    "            return list(range(6, 6 * 2))"
   ]
  },
  {
   "cell_type": "raw",
   "metadata": {},
   "source": [
    "Now that the base is set, we start implementing the rules,\n",
    "some of them being deliberately excluded from this implementation:\n",
    "\n",
    "-  Loops in the game state are not checked (this considerably speeds up the computations and we did not encounter a loop in our preliminary work);\n",
    "-  The \"feed your opponent\" rule is removed; This makes the\n",
    "   rules simpler and we expect it does not tremendously change the complexity of the game."
   ]
  },
  {
   "cell_type": "code",
   "execution_count": 11,
   "metadata": {},
   "outputs": [],
   "source": [
    "class Game(Game):\n",
    "    ...\n",
    "    \n",
    "    @property\n",
    "    def legal_actions(self) -> List[int]:\n",
    "        '''Returns a list of indices for each legal action for the current player'''\n",
    "        our_pits = self.current_player_pits\n",
    "        # Return every pit of the player that contains some seeds\n",
    "        return [x for x in range(6) if our_pits[x] != 0]\n",
    "    \n",
    "    @property\n",
    "    def game_finished(self) -> bool:\n",
    "        # Does the current player has an available move ?\n",
    "        no_moves_left = np.sum(self.current_player_pits) == 0\n",
    "        \n",
    "        # Has one player cpatured more than half the total seeds ?\n",
    "        HALF_SEEDS = 24 # (there are 2*6*4=48 seeds in total)\n",
    "        enough_captures = self.captures[0] > HALF_SEEDS or self.captures[1] > HALF_SEEDS\n",
    "        \n",
    "        # Is it a draw ? Does both player have 24 seeds ?\n",
    "        draw = self.captures[0] == HALF_SEEDS and self.captures[1] == HALF_SEEDS\n",
    "        \n",
    "        # If one of the above three are True, the game is finished\n",
    "        return no_moves_left or enough_captures or draw\n",
    "    \n",
    "    @property\n",
    "    def winner(self) -> Optional[int]:\n",
    "        '''Returns the winner of the game or None if the game is not finished or in a draw'''\n",
    "        if not self.game_finished:\n",
    "            return None\n",
    "        # The game is finished but both player have the same amount of seeds: it's a draw\n",
    "        elif self.captures[0] == self.captures[1]:\n",
    "            return None\n",
    "        # Else, there is a winner: the player with the most seeds\n",
    "        else:\n",
    "            return 0 if self.captures[0] > self.captures[1] else 1"
   ]
  },
  {
   "cell_type": "raw",
   "metadata": {},
   "source": [
    "We can now define the :code:`Game.step(i)` method that is called for every step of the game.\n",
    "It takes a single paramter, :code:`i`, and plays the i-th pit in the current sate.\n",
    "This method returns the new state, the amount of seeds captured and a boolean informing whether the game is finished."
   ]
  },
  {
   "cell_type": "code",
   "execution_count": 12,
   "metadata": {},
   "outputs": [],
   "source": [
    "class Game(Game):\n",
    "    ...\n",
    "    \n",
    "    def step(self, action: int) -> Tuple[Game, int, bool]:\n",
    "        '''Plays the action given as parameter and returns:\n",
    "            - a the new state as a new Game object,\n",
    "            - the amount of captured stones in the transition\n",
    "            - a bool indicating if the new state is the end of the game\n",
    "        '''\n",
    "        assert 0 <= action < 6, \"Illegal action\"\n",
    "        \n",
    "        # Translate the action index to a pit index\n",
    "        target_pit = action if self.current_player == 0 else action - 6\n",
    "        \n",
    "        seeds = self.pits[target_pit]\n",
    "        assert seeds != 0, \"Illegal action: pit % is empty\" % target_pit\n",
    "        \n",
    "        # Copy the attributes of `Game` so that the original\n",
    "        # stays immutable\n",
    "        pits = np.copy(self.pits)\n",
    "        captures = np.copy(self.captures)\n",
    "        \n",
    "        # Empty the pit targeted by the player \n",
    "        pits[target_pit] = 0\n",
    "        \n",
    "        # Fill the next pits while there are still seeds\n",
    "        pit_to_sow = target_pit\n",
    "        while seeds > 0:\n",
    "            pit_to_sow = (pit_to_sow + 1) % (6 * 2)\n",
    "            # Do not fill the target pit ever\n",
    "            if pit_to_sow != target_pit:\n",
    "                pits[pit_to_sow] += 1\n",
    "                seeds -= 1\n",
    "\n",
    "        # Count the captures of the play\n",
    "        round_captures = 0\n",
    "        \n",
    "        # If the last seed was in a adverse pit we can try to collect seeds\n",
    "        if pit_to_sow in self.adverse_pits_idx:\n",
    "            # If the pit contains 2 or 3 seeds, we capture them\n",
    "            while pits[pit_to_sow] in (2, 3):\n",
    "                captures[self.current_player] += pits[pit_to_sow]\n",
    "                round_captures += pits[pit_to_sow]\n",
    "                pits[pit_to_sow] = 0\n",
    "                \n",
    "                # Select backwards the next pit to check\n",
    "                pit_to_sow = (pit_to_sow - 1) % (self.n_pits * 2)\n",
    "        \n",
    "        # Change the current player\n",
    "        current_player = (self.current_player + 1) % 2\n",
    "        \n",
    "        # Create the new `Game` instance\n",
    "        new_game = type(self)(\n",
    "            pits,\n",
    "            current_player,\n",
    "            captures\n",
    "        )\n",
    "\n",
    "        return new_game, round_captures, new_game.game_finished\n"
   ]
  },
  {
   "cell_type": "raw",
   "metadata": {},
   "source": [
    "As the game rules are now implemented, we can add some methods to display the current state of the board to the user, either in textual mode or as an SVG file that can be displayed inline in this document."
   ]
  },
  {
   "cell_type": "code",
   "execution_count": 13,
   "metadata": {},
   "outputs": [],
   "source": [
    "class Game(Game):\n",
    "    ...\n",
    "    \n",
    "    def show_state(self):\n",
    "        '''Print a textual representation of the game to the stdandard output'''\n",
    "        if self.game_finished:\n",
    "            print(\"Game finished\")\n",
    "        print(\"Current player: {} - Score: {}/{}\\n{}\".format(\n",
    "            self.current_player,\n",
    "            self.captures[self.current_player],\n",
    "            self.captures[(self.current_player + 1) % 2],\n",
    "            \"-\" * 6 * 3\n",
    "        ))\n",
    "        \n",
    "        pits = []\n",
    "        for seeds in self.view_from_current_player:\n",
    "            pits.append(\"{:3}\".format(seeds))\n",
    "        \n",
    "        print(\"\".join(reversed(pits[6:])))\n",
    "        print(\"\".join(pits[:6]))\n",
    "    \n",
    "    def _repr_svg_(self):\n",
    "        '''Return a SVG file representing the current state to be displayed in a notebook'''\n",
    "        board = np.array([\n",
    "            list(reversed(self.pits[6:])),\n",
    "            self.pits[:6]\n",
    "        ])\n",
    "        return board_to_svg(board, True)"
   ]
  },
  {
   "cell_type": "raw",
   "metadata": {},
   "source": [
    "To show a minimal example of the implementation, we can now play a move and have its results displayed here."
   ]
  },
  {
   "cell_type": "code",
   "execution_count": 14,
   "metadata": {},
   "outputs": [
    {
     "data": {
      "image/svg+xml": [
       "\n",
       "    <svg width=\"700\" height=\"240\">\n",
       "      <style>\n",
       "        circle {\n",
       "          fill: none;\n",
       "          stroke: #000;\n",
       "          stroke-width: 2;\n",
       "        }\n",
       "        .bean {\n",
       "          fill: #000\n",
       "        }\n",
       "        .highlight {\n",
       "          stroke: red;\n",
       "        }\n",
       "      </style>\n",
       "\n",
       "      <circle cx=\"48.0\" cy=\"48.0\" r=\"40\" /><text x=\"82.0\" y=\"82.0\" >4</text><circle cx=\"136.0\" cy=\"48.0\" r=\"40\" /><text x=\"170.0\" y=\"82.0\" >4</text><circle cx=\"224.0\" cy=\"48.0\" r=\"40\" /><text x=\"258.0\" y=\"82.0\" >4</text><circle cx=\"312.0\" cy=\"48.0\" r=\"40\" /><text x=\"346.0\" y=\"82.0\" >5</text><circle cx=\"400.0\" cy=\"48.0\" r=\"40\" /><text x=\"434.0\" y=\"82.0\" >5</text><circle cx=\"488.0\" cy=\"48.0\" r=\"40\" /><text x=\"522.0\" y=\"82.0\" >5</text><circle cx=\"48.0\" cy=\"136.0\" r=\"40\" /><text x=\"82.0\" y=\"170.0\" >4</text><circle cx=\"136.0\" cy=\"136.0\" r=\"40\" /><text x=\"170.0\" y=\"170.0\" >4</text><circle cx=\"224.0\" cy=\"136.0\" r=\"40\" /><text x=\"258.0\" y=\"170.0\" >4</text><circle cx=\"312.0\" cy=\"136.0\" r=\"40\" /><text x=\"346.0\" y=\"170.0\" >4</text><circle cx=\"400.0\" cy=\"136.0\" r=\"40\" /><text x=\"434.0\" y=\"170.0\" >0</text><circle cx=\"488.0\" cy=\"136.0\" r=\"40\" /><text x=\"522.0\" y=\"170.0\" >5</text>\n",
       "      <circle cx=\"58.39066588418999\" cy=\"48.184560242550155\" r=\"4\" class=\"bean\"/><circle cx=\"48.184560242550155\" cy=\"37.60933411581001\" r=\"4\" class=\"bean\"/><circle cx=\"37.60933411581001\" cy=\"47.815439757449845\" r=\"4\" class=\"bean\"/><circle cx=\"47.815439757449845\" cy=\"58.39066588418999\" r=\"4\" class=\"bean\"/><circle cx=\"145.82511064274752\" cy=\"51.38632556877945\" r=\"4\" class=\"bean\"/><circle cx=\"139.38632556877945\" cy=\"38.17488935725248\" r=\"4\" class=\"bean\"/><circle cx=\"126.17488935725248\" cy=\"44.61367443122055\" r=\"4\" class=\"bean\"/><circle cx=\"132.61367443122055\" cy=\"57.82511064274752\" r=\"4\" class=\"bean\"/><circle cx=\"230.58410783758958\" cy=\"39.95950723008898\" r=\"4\" class=\"bean\"/><circle cx=\"215.95950723008897\" cy=\"41.41589216241041\" r=\"4\" class=\"bean\"/><circle cx=\"217.41589216241042\" cy=\"56.04049276991102\" r=\"4\" class=\"bean\"/><circle cx=\"232.04049276991103\" cy=\"54.58410783758959\" r=\"4\" class=\"bean\"/><circle cx=\"312.41931164616454\" cy=\"59.99267183505789\" r=\"4\" class=\"bean\"/><circle cx=\"323.53528312112536\" cy=\"51.30715033155143\" r=\"4\" class=\"bean\"/><circle cx=\"318.70988539254387\" cy=\"38.05125947574638\" r=\"4\" class=\"bean\"/><circle cx=\"304.6116541120832\" cy=\"38.544189879206385\" r=\"4\" class=\"bean\"/><circle cx=\"300.723865728083\" cy=\"52.10472847843791\" r=\"4\" class=\"bean\"/><circle cx=\"408.46856068950996\" cy=\"56.50196917473159\" r=\"4\" class=\"bean\"/><circle cx=\"410.7027823559232\" cy=\"42.57317313324456\" r=\"4\" class=\"bean\"/><circle cx=\"398.14612258064324\" cy=\"36.14406737055245\" r=\"4\" class=\"bean\"/><circle cx=\"388.15145838793836\" cy=\"46.09945753342794\" r=\"4\" class=\"bean\"/><circle cx=\"394.5310759859852\" cy=\"58.681332788043456\" r=\"4\" class=\"bean\"/><circle cx=\"498.4680004481488\" cy=\"53.86693843648938\" r=\"4\" class=\"bean\"/><circle cx=\"496.8145800663283\" cy=\"39.85732364303429\" r=\"4\" class=\"bean\"/><circle cx=\"482.9797096293994\" cy=\"37.100610815515644\" r=\"4\" class=\"bean\"/><circle cx=\"476.0827098512467\" cy=\"49.40648338434137\" r=\"4\" class=\"bean\"/><circle cx=\"485.6550000048768\" cy=\"59.76864372061931\" r=\"4\" class=\"bean\"/><circle cx=\"50.05880229408527\" cy=\"125.81366930078012\" r=\"4\" class=\"bean\"/><circle cx=\"37.81366930078013\" cy=\"133.94119770591473\" r=\"4\" class=\"bean\"/><circle cx=\"45.94119770591474\" cy=\"146.18633069921987\" r=\"4\" class=\"bean\"/><circle cx=\"58.18633069921987\" cy=\"138.05880229408527\" r=\"4\" class=\"bean\"/><circle cx=\"145.25152802169188\" cy=\"131.2661612549803\" r=\"4\" class=\"bean\"/><circle cx=\"131.2661612549803\" cy=\"126.74847197830812\" r=\"4\" class=\"bean\"/><circle cx=\"126.74847197830812\" cy=\"140.7338387450197\" r=\"4\" class=\"bean\"/><circle cx=\"140.7338387450197\" cy=\"145.25152802169188\" r=\"4\" class=\"bean\"/><circle cx=\"234.37859313103687\" cy=\"135.46632910853725\" r=\"4\" class=\"bean\"/><circle cx=\"223.46632910853725\" cy=\"125.62140686896315\" r=\"4\" class=\"bean\"/><circle cx=\"213.62140686896313\" cy=\"136.53367089146275\" r=\"4\" class=\"bean\"/><circle cx=\"224.53367089146275\" cy=\"146.37859313103687\" r=\"4\" class=\"bean\"/><circle cx=\"321.8240423980026\" cy=\"132.6105766032778\" r=\"4\" class=\"bean\"/><circle cx=\"308.61057660327776\" cy=\"126.17595760199742\" r=\"4\" class=\"bean\"/><circle cx=\"302.1759576019974\" cy=\"139.3894233967222\" r=\"4\" class=\"bean\"/><circle cx=\"315.38942339672224\" cy=\"145.82404239800258\" r=\"4\" class=\"bean\"/><circle cx=\"499.62131308360364\" cy=\"133.00916697007958\" r=\"4\" class=\"bean\"/><circle cx=\"488.74673199752885\" cy=\"124.02325623034932\" r=\"4\" class=\"bean\"/><circle cx=\"476.8401926713563\" cy=\"131.58879830572778\" r=\"4\" class=\"bean\"/><circle cx=\"480.3561277654692\" cy=\"145.25047119135934\" r=\"4\" class=\"bean\"/><circle cx=\"494.4356344820421\" cy=\"146.12830730248402\" r=\"4\" class=\"bean\"/>\n",
       "    </svg>\n",
       "    "
      ],
      "text/plain": [
       "Game(pits=array([4, 4, 4, 4, 0, 5, 5, 5, 5, 4, 4, 4]), current_player=1, captures=array([0, 0]))"
      ]
     },
     "execution_count": 14,
     "metadata": {},
     "output_type": "execute_result"
    }
   ],
   "source": [
    "g = Game.new() # Create a new game\n",
    "g, captures, done = g.step(4) # play the 5th pit (our implementation starts at 0)\n",
    "g # Display the resulting board inline"
   ]
  },
  {
   "cell_type": "raw",
   "metadata": {},
   "source": [
    "Formal properties and representation of Awale\n",
    "---------------------------------------------\n",
    "\n",
    "Now that we know the rules, we can see that Awale\n",
    "\n",
    "* is sequential: the opponents play one after the other;\n",
    "* hold no secret information: each player has the same information about\n",
    "  the game;\n",
    "* do not rely on randomness: the state of the game depends only on the actions\n",
    "  taken sequentially by each player and an action has a deterministic result.\n",
    "\n",
    "This type of game is called a sequential perfect information game\n",
    ":cite:`osborne1994course`.\n",
    "\n",
    "We can also see that the game is a two player zero-sum game.\n",
    "\n",
    "\n",
    "1) Combinatorial Games: Games are classified by the fol-\n",
    "lowing properties:\n",
    "• zero sum: whether the reward to all players sums to zero\n",
    "(in the two-player case, whether players are in strict com-\n",
    "petition with each other);\n",
    "information: whether the state of the game is fully or par-\n",
    "tially observable to the players;\n",
    "• determinism: whether chance factors play a part (also\n",
    "known as completeness, i.e., uncertainty over rewards);\n",
    "• sequential: whether actions are applied sequentially or si-\n",
    "multaneously;\n",
    "• discrete: whether actions are discrete or applied in real\n",
    "time.\n",
    "Games with two players that are zero sum, perfect informa-\n",
    "tion, deterministic, discrete, and sequential are described as\n",
    "combinatorial games.\n",
    "\n",
    "^ \"A Survey of Monte Carlo Tree Search Methods\"\n",
    "\n",
    "Convergence.\n",
    "We consider a game to be convergent when the size of the state space decreases as the game progresses. If the size of the state space increases, the game is said to be divergent.\n",
    "In some games games like Chess, Checkers and Awari the players may capture pieces in the course of the game and may never add them back these are called convergent games :cite:`vandenherik2002`.\n",
    "On the contrary, in some others the number of pieces on the board increases over time as a player’s move consists of putting a piece on the board. Examples of these games are Tic-Tac-Toe, Connect Four and Go. Those are divergent.\n",
    "\n",
    "\n",
    "Other games in this category are for example Chess, Go, Checkers or even\n",
    "Tic-tac-toe and Connect Four. Sequential perfect information games are particularly interesting\n",
    "in computer science and artificial intelligence as they are easy to simulate."
   ]
  },
  {
   "cell_type": "raw",
   "metadata": {},
   "source": [
    "Perfect information games as finite state machines\n",
    "~~~~~~~~~~~~~~~~~~~~~~~~~~~~~~~~~~~~~~~~~~~~~~~~~~\n",
    "\n",
    "When viewed from an external point of view, these types of games can be\n",
    "modelized as finite states machines with boards being states (the initial board\n",
    "is the initial state), each player's action being a transition and wins and draws\n",
    "being terminal states.\n",
    "\n",
    "It might be tempting to try to enumerate every possible play of those games by\n",
    "starting a game and recursively trying each legal action until the end of the game\n",
    "to find the best move for each state.\n",
    "\n",
    "Unfortunately, most of the time, this is not a feasible approach due to the size\n",
    "of the state space. As an example, Romein et al. claims that Awale has\n",
    "889,063,398,406 legal positions :cite:`romein2003solving` and the exact number\n",
    "(:math:`\\approx 2.08 \\times 10^{170}`) of legal positions in Go (another popular perfect information game)\n",
    "is so big that it has only recently been determined :cite:`tromp2016`. Such state space are too\n",
    "big to be quickly enumerated."
   ]
  },
  {
   "cell_type": "raw",
   "metadata": {},
   "source": [
    "Tree representation\n",
    "~~~~~~~~~~~~~~~~~~~\n",
    "\n",
    "A [combinatorial game XXX] like Awale can be represented as a tree in a straightforward way where every node is a state of the game.\n",
    "The root of the tree represents the initial state.\n",
    "If in a state :math:`s` the current player plays action :math:`i` resulting in state :math:`s'` then :math:`s'` will be the i-th child of the node representing :math:`s`.\n",
    "\n",
    "This results in the following properties:\n",
    "    - As the current player at the root node is South and that players alternate after each turn,\n",
    "      the tree containsalternating layers of current players:\n",
    "      the current player for nodes with an even depth is South and for odd depths is North;\n",
    "    - The leaf nodes of the tree correspond to final states;\n",
    "    - The path from the root to a leaf thus represents an instance of a full game.\n",
    "   \n",
    ".. todo:: Insert a figure of an tree here\n",
    "\n",
    "\n",
    "We can now define the branching factor: the maximum number of children of a node in the game.\n",
    "In Awale the player can choose to sow his seeds from one of his non-empty pits.\n",
    "As the player has 6 pits, the branching factor is 6.\n",
    "\n",
    "We now implement this tree representation in Python by inheriting from :code:`Game()` class previously defined so that a state can hold references to its parent and children."
   ]
  },
  {
   "cell_type": "code",
   "execution_count": 15,
   "metadata": {},
   "outputs": [],
   "source": [
    "from typing import Optional, List\n",
    "from dataclasses import field\n",
    "import weakref import ref\n",
    "\n",
    "@dataclass\n",
    "class TreeGame(Game):\n",
    "    # Hold an optional reference to the parent state\n",
    "    parent: Optional[ref[Game]] = None\n",
    "    # Hold a list of 6 optional references to the children\n",
    "    children: List[Optional[Game]] = field(default_factory=lambda: [None] * 6)\n",
    "    depth: int"
   ]
  },
  {
   "cell_type": "raw",
   "metadata": {},
   "source": [
    "Next, we overload the ``Game.step(i)`` method so that we do not compute twice state if it was already in the tree. If a new node was generated, we keep a reference to the parent when we create a new child."
   ]
  },
  {
   "cell_type": "code",
   "execution_count": 16,
   "metadata": {},
   "outputs": [],
   "source": [
    "class TreeGame(TreeGame):\n",
    "    ...\n",
    "    \n",
    "    def step(self, action):\n",
    "        # If we already did compute the children node, just return it\n",
    "        if self.children[action] is not None:\n",
    "            new_game = self.children[action]\n",
    "            captures = new_game.captures[self.current_player] - self.captures[self.current_player]\n",
    "            return new_game, captures, new_game.game_finished\n",
    "        # If not, call the original `step()` method and keep references in both directions\n",
    "        else:\n",
    "            new_game, captures, finished = super().step(action)\n",
    "            new_game.parent = ref(self)\n",
    "            new_game.depth = self.depth + 1\n",
    "            self.children[action] = new_game\n",
    "            return new_game, captures, finished"
   ]
  },
  {
   "cell_type": "code",
   "execution_count": 17,
   "metadata": {},
   "outputs": [],
   "source": [
    "class TreeGame(TreeGame):\n",
    "    ...\n",
    "\n",
    "    @property\n",
    "    def successors(self):\n",
    "        children = [x for x in self.children if x is not None]\n",
    "        successors = children + list(itertools.chain(*[x.successors for x in children]))\n",
    "        return successors\n",
    "    \n",
    "    @property\n",
    "    def unvisited_actions(self):\n",
    "        return [i for i, x in enumerate(self.children) if x is None]\n",
    "\n",
    "    @property\n",
    "    def legal_unvisited_actions(self):\n",
    "        return list(set(self.unvisited_actions).intersection(set(self.legal_actions)))\n",
    "    \n",
    "    @property\n",
    "    def expanded_children(self):\n",
    "        return [x for x in self.children if x is not None]\n",
    "    \n",
    "    @property\n",
    "    def is_fully_expanded(self):\n",
    "        legal_actions = set(self.legal_actions)\n",
    "        unvisited_actions = set(self.unvisited_actions)\n",
    "        return len(legal_actions.intersection(unvisited_actions)) == 0\n",
    "    \n",
    "    @property\n",
    "    def is_leaf_game(self):\n",
    "        return self.children == [None] * 6"
   ]
  },
  {
   "cell_type": "raw",
   "metadata": {},
   "source": [
    "================================================\n",
    "Artificial Intelligence approaches to play Awale\n",
    "================================================\n",
    "\n",
    "Many algorithms have been proposed and studied to play [sequential perfect information XXX] games.\n",
    "A few examples detailed here are retrograde analysis, Minimax, :math:`\\alpha-\\beta` pruning,\n",
    "Monte Carlo tree search (MCTS) and the new approch from Deepmind: Alpha Zero :cite:`AlphaGoZero`.\n",
    "\n",
    "We will quickly present those and then focus on MCTS and its variants as they are computationaly feasible and do not require expert knowledge about the given game to make reasonable decisions.\n",
    "\n",
    "Solving games\n",
    "-------------\n",
    "\n",
    "**Theorem** :cite:`neumann1928` In every two-player game (with perfect information) in which the set of outcomes is :math:`0 = \\{I \\, wins, II \\, wins, Draw\\}`, one and only one of the following three alternatives holds:\n",
    " 1. Player :math:`I` has a winning strategy\n",
    " 2. Player :math:`II` has a winning strategy\n",
    " 3. Each of the two players has a strategy guaranteeing at least a draw.\n",
    " \n",
    "Solve a position.\n",
    "\n",
    "A game where all positions are solved is a solved game\n",
    "\n",
    "Define:\n",
    " - agent policy\n",
    " \n",
    "As stated in Section XXX, the branching factor of Awale is 6. This is very small compared to the branching factor of 19 for the game of Go and makes Awale much easier to explore and play.\n",
    "\n",
    "If we build the complete tree, we compute every possible state in the game and every\n",
    "leaf of the tree is a final state (end of a game). As said, previously, computing the complete tree is not\n",
    "ideal for Awale (it has :math:`\\approx 8 \\times 10^{11}` nodes) and\n",
    "computationally impossible for games with a high branching factor (unless very shallow).\n",
    "\n",
    "\n",
    "\n",
    "A strongly solved game is defined by Allis :cite:`Allis94searchingfor` as:\n",
    "\n",
    "    For all legal positions, a strategy has been determined to\n",
    "    obtain the game-theoretic value of the position, for both players, under\n",
    "    reasonable resources.\n",
    "\n",
    "A solved game is, of course, much less interesting to study than an\n",
    "unsolved one as we could just create an agent that has the knowledge of each\n",
    "game-theoretic position values and can thus perfectly play.\n",
    "\n",
    "(:math:`m,n`)-Kalah is a game in the Mancala family with :math:`m` pits per\n",
    "side and :math:`n` seeds in each pit plus two extra pits with a special role.\n",
    "It has been solved in 2000 for :math:`m \\leq 6`  and :math:`n\n",
    "\\leq 6` except (:math:`6,6`) by :cite:`irving2000solving` and in\n",
    "2011 for :math:`n = 6, m=6` by :cite:`kalah66`.\n",
    "\n",
    "\n",
    "\n",
    "The above-mentioned results for Kalah and Awale both use an almost brute-force\n",
    "method to solve the game and use a database of all possible states. The database\n",
    "used by :cite:`romein2003solving` has 204 billion entries and weighs 178GiB.\n",
    "Such a huge database is of course not practical and  we thus think  there is still room for\n",
    "improvement if we can create an agent with a policy that does not need a\n",
    "exhaustive database, even if the agent is not capable of a perfect play.\n",
    "\n",
    "\n",
    "\n",
    "Retrograde analysis\n",
    "-------------------\n",
    "\n",
    "\n",
    "For both divergent and convergent games search algorithms can prove the game result for positions near\n",
    "the end of a game. However, for divergent games the number of endgame\n",
    "positions is so big that enumerating all of them is computationally impossible (except for trivial\n",
    "games like Tic-Tac-Toe). However, for convergent games, the number of positions\n",
    "near the end of the game is small. Usually small enough to traverse them all, and collect\n",
    "their game values in a database, a so called endgame database.\n",
    "\n",
    "Retrograde Analysis computes endgame databases by going backward from values of final\n",
    "positions towards the initial position :cite:`goot2001`.\n",
    "First, Retrograde Analysis identifies all final positions in which the game value is known.\n",
    "By making reverse moves from these final positions the game value of some non-final positions can be deduced. And by making reverse moves from these newly proven non-final positions, the game value of other non-final positions can be deduced. This can continue either by running of available memory or by having enumerated all the legal positions in the game.\n",
    "\n",
    "Ströhlein was the first researcher who came up with the idea to create endgame databases and applied his idea to chess :cite:`endgame1970`.\n",
    "The first endgame database for Awale was created by :cite:`allis1995` and was followed by many others, while the quest was ended by :cite:`romein2003solving` publishing a database for all legal positions.\n",
    "\n",
    "Their claim from :cite:`romein2003solving` has since been challenged by Víktor Bautista i Roca in a paper published in XXX.\n",
    "Bautista i Roca claims that several end states in the database are incorrect and that the proof is thus invalid.\n",
    "As both the database made by Romein and the paper by Bautista i Roca are not anymore available\n",
    "publicly, we cannot know who is right.\n",
    "\n",
    "Furthermore, :cite:`romein2003solving` makes in his paper an assumption without proof that \n",
    "\n",
    "    Although captured stones\n",
    "    contribute to a position's final outcome, the best\n",
    "    move from a position does not depend on them.\n",
    "\n",
    "We do not provide a proof that this assumption is false, but it seems incorrect to us and think it would deserve a more formal explanation. Indeed, we can think of a mind experiment where XXX\n",
    "\n",
    ".. todo:: Formal proof for Romein \n",
    "\n",
    "\n",
    "Minimax\n",
    "-------\n",
    "\n",
    "Alpha-Beta pruning Minimax\n",
    "~~~~~~~~~~~~~~~~~~~~~~~~~~\n",
    "\n",
    "\n",
    "Monte Carlo Tree Search\n",
    "-----------------------\n",
    "\n",
    "In this subsection, we define Markov Decision Processes (MDP) and modelize Awale with this framework. We then describe and detail Monte Carlo Tree Search, a policy-optimization algorithm for finite-horizon, finite-size MDPs. \n",
    "\n",
    "Markov descision processes\n",
    "~~~~~~~~~~~~~~~~~~~~~~~~~~\n",
    "\n",
    "In decision theoryn a Markov decision process (MDP) models sequential decision problems in fully observable environments.\n",
    "In this model, an agent iteratively observes the\n",
    "current state, selects an action, observes a consequential probabilistic state transition, and receives a reward\n",
    "according to the outcome.\n",
    "Importantly, the agent decides each action based on the current state alone and not the full history of past states, providing a Markov independence property :cite:`markov1954`.\n",
    "\n",
    "Mathematically, an MDP consists of the following components:\n",
    " - a state space, :math:`X` ;\n",
    " - an action space, :math:`A`;\n",
    " - a transition probability function, :math:`P : X × A × X \\rightarrow [0, 1]`; and\n",
    " - a reward function, :math:`R : X × A \\rightarrow [0, 1]`.\n",
    "\n",
    "If all transitions from a state have zero probability, the state is called a terminal state. By analogy, states that are not terminal are called nonterminal.\n",
    "\n",
    "Markov games\n",
    "~~~~~~~~~~~~\n",
    "\n",
    "A Markov game can be thought of an extension of MDP environments\n",
    "where a player may take an action from a state, but the reward and state transitions are uncertain as they depend on the adversary’s strategy [2].\n",
    "\n",
    "[2] Michael Littman. Markov games as a framework for multi-agent reinforcement learning, 1994\n",
    "\n",
    "For most common games like Go and Chess the transition and reward functions are deterministic given the actions of the player and the opponent, but we consider them non-deterministic values sine the player and opponent may use randomized strategies.\n",
    "Finding an optimal policy in this scenario seems impossible since it depends critically on which adversary is used. The way this is resolved is by evaluating a policy with respect to the worst opponent for that policy.\n",
    "The goal now is to find a policy that will maximize the reward knowing that this worst case opponent will then minimize the reward after the action is played (the fact that this is a zero-sum game makes it so the opponent will maximizes your negative reward); this idea is used widely in practice in what is known as\n",
    "the minimax principle. This optimal policy is a bit pessimistic since you won’t always be playing against a worst-case opponent for that policy, but it does allow to construct a policy for a game that can be used against any adversary.\n",
    "\n",
    "^ Lecture 19: Monte Carlo Tree Search: : Kevin Jamieson\n",
    "^ https://pdfs.semanticscholar.org/574e/6872df3fe9b89afa98a7bdeef710a931da34.pdf\n",
    "\n",
    "Monte Carlo Tree Search\n",
    "~~~~~~~~~~~~~~~\n",
    "\n",
    "As Awale can be represented as an MDP, we could be tempted to use the usual framework of Q-Learning [Cite XXX] to find the best policy to maximise our reward. But as the state space is huge, this is computationally difficult or even impossible in memory and time constrained cases.\n",
    "To overcome this computational problem, the MCTS method constructs only a part of game the tree by sampling and tries to estimate the chance of winning based on this information.\n",
    "\n",
    "Algorithm\n",
    "~~~~~~~~\n",
    "\n",
    ".. figure:: _static/mcts-algorithm.png\n",
    "\n",
    "   The 4 steps of MCTS :cite:`chaslot2008monte`\n",
    "\n",
    "\n",
    "The (partial) tree is constructed as follows:\n",
    "\n",
    "* Selection: starting at the root node, recursively choose a child until\n",
    "  a leaf :math:`L` is reached\n",
    "* Expansion: if :math:`L` is not a terminal node\\footnote{As the tree is\n",
    "  not complete, a leaf could be a node that is missing its children, not\n",
    "  necessarily a terminal state}, create a child :math:`C`\n",
    "* Simulation: run a playout from :math:`C` until a terminal node :math:`T` is\n",
    "  reached (play a full game)\n",
    "* Backpropagation: update the counters described below of each ancestor\n",
    "  of :math:`T`.\n",
    "\n",
    "\n",
    "Each node holds 3 counters : (:math:`W_S`), the number of simulations using this node ended that\n",
    "with a win for South;  and North (:math:`W_N`). From this\n",
    "counters, a probability of North winning conditional on a given action can be computed\n",
    "immediately: :math:`\\frac{W_N}{N}`.\n",
    "\n",
    "This sampling can be ran as many times as allowed (most of the\n",
    "time, the agent is time constrained). One can also stop the sampling earlier if\n",
    "\n",
    "each time refining the probability of\n",
    "winning when choosing a child of the root node. When we are done sampling, the\n",
    "agent chooses the child with the highest probability of winning and plays the\n",
    "corresponding action in the game.\n",
    "\n",
    "the total number of times a node has been played during a\n",
    "sampling iteration (:math:`N`)"
   ]
  },
  {
   "cell_type": "code",
   "execution_count": 18,
   "metadata": {},
   "outputs": [],
   "source": [
    "@dataclass\n",
    "class TreeStatsGame(TreeGame):\n",
    "    wins: np.array = field(default_factory=np.zeros(2, dtype=int))\n",
    "    n_playouts: int = 0\n",
    "    \n",
    "    \n",
    "    def update_stats(self, winner):\n",
    "        assert winner in [0, 1]\n",
    "        self.wins[winner] += 1\n",
    "        self.n_playouts += 1\n",
    "        if self.parent():\n",
    "            self.parent().update_stats(winner)"
   ]
  },
  {
   "cell_type": "raw",
   "metadata": {},
   "source": [
    "================================\n",
    "Monte Carlo tree search variants\n",
    "================================\n",
    "\n",
    "Node Selection\n",
    "--------------\n",
    "\n",
    "In step 1 and 3 of the algorithm, we have to choose nodes.\n",
    "There are multiples ways to choose those.\n",
    "\n",
    "In the original MCTS we take a child at random each time.\n",
    "This is easy to implement but it is not effective as it explores every part of the tree even if a part has no chance of leading to a win for the player."
   ]
  },
  {
   "cell_type": "raw",
   "metadata": {},
   "source": [
    "Upper Confidence Bounds for Trees\n",
    "---------------------------------\n",
    "\n",
    "A better method would be asymmetric and explore more often the interesting parts of the\n",
    "tree. Kocsis and Szepervari :cite:`kocsis2006bandit` defined Upper Confidence\n",
    "Bounds for Trees (UCT), a method mixing vanilla MCTS and Upper Confidence Bounds\n",
    "(UCB).\n",
    "\n",
    "Indeed, in step 1, selecting the node during the tree descent that maximizes the\n",
    "probability of winning is analogous to the multi-armed bandit problem in which a\n",
    "player has to choose the slot machine that maximizes the estimated reward.\n",
    "\n",
    "The UCB is \n",
    "\n",
    ".. math::\n",
    "\n",
    "    \\frac{W_1}{N} + c \\times \\sqrt{\\frac{ln N'}{N}},\n",
    "\n",
    "where :math:`N'` is the number of times the\n",
    "parent node has been visited and :math:`c` is a parameter that can be tuned to balance exploitation of known wins and exploration of\n",
    "less visited nodes. Kocsis et al. [has shown XXX faux] that :math:`\\frac{\\sqrt{2}}{2}`\n",
    ":cite:`kocsis2006bandit` is a good value when rewards are in :math:`[0, 1]`.\n",
    "\n",
    "In step 3, the playouts are played at random as it is the first time these nodes\n",
    "are seen and we do not have a generic evaluation function do direct the playout\n",
    "towards 'better' states."
   ]
  },
  {
   "cell_type": "raw",
   "metadata": {},
   "source": [
    "Informed UCT\n",
    "------------\n",
    "\n",
    "Citation:\n",
    "\n",
    "> Surprisingly,\n",
    "> increasing the bias in the random play-outs can\n",
    "> occasionally weaken the strength of a program using the\n",
    "> UCT algorithm even when the bias is correlated with Go\n",
    "> playing strength. One instance of this was reported by Gelly\n",
    "> and Silver [#GS07]_, and our group observed a drop in strength\n",
    "> when the random play-outs were encouraged to form patterns\n",
    "> commonly occurring in computer Go games [#Fly08]_."
   ]
  },
  {
   "cell_type": "raw",
   "metadata": {},
   "source": [
    "Alpha Zero\n",
    "----------\n",
    "\n",
    "To replace the random play in step 3, D. Silver et al. propose\n",
    ":cite:`AlphaGoZero` to use a neural network to estimate the value of a\n",
    "game state without having to play it. This can greatly enhances the performance\n",
    "of the algorithm as much less playouts are required."
   ]
  },
  {
   "cell_type": "raw",
   "metadata": {},
   "source": [
    "=================\n",
    "Empirical results\n",
    "=================\n",
    "\n",
    "\n",
    "Comparison method\n",
    "------------------\n",
    "\n",
    "How to compare A and B\n",
    "~~~~~~~~~~~~~~~~~~~~~~\n",
    "\n",
    "\n",
    "\n",
    "We wish to compare algorithms A and B. The probability that A wins is denoted by :math:`p` and is unknown (the probability that B wins is :math:`1-p`). Our nulhypothesis is that :math:`p=0.50` and the alternative hypothesis is that :math:`p \\neq 0.50`. To compare algorithms A and B, we run :math:`N` simulations and A wins :math:`n` times (thus B wins :math:`N-n` times). Using the Python function xxx, we then compute the p-value. If it is lower than :math:`5\\%`, we traditionally reject the nulhypothesis. This guarantees that, conditional on H0 being true, the probability of making an incorrect decision is :math:`5\\%`. But if H1 is true, the probability of an incorrect decision is not necessarily :math:`5\\%`: it depends on the number :math:`N` of simulations. To ensure that the probability of an incorrect decision, conditional on H1, be acceptable, we resort to the concept of statistical power.\n",
    "\n",
    "Suppose the true proability p is :math:`0.75`. This is very far from the nulhypothesis. In that case, we want the probability of choosing H1 (not making an incorrect decision) to be high (for instance :math:`95\\%`). This probability is the power and can be computed by means of the R function powerBinom implemented in the R package exactci:\n",
    "powerBinom(power = 0.95, p0 = 0.5, p1 = 0.75, sig.level = 0.05, alternative = \"two.sided\")\n",
    "The output of this command is the number :math:`N` of simulations needed to achieve the desired power and it is 49.\n",
    "\n",
    "How to compare more than 2\n",
    "~~~~~~~~~~~~~~~~~~~~~~~~~~\n",
    "\n",
    "1. Est-ce que c'est transitif ?\n",
    "\n",
    "Non, preuve théorique de cyclicité non transitive\n",
    "\n",
    "A .Si on opti un paramètre, on va espérer qu'à l'inérieur d'une même famille, il y a un paramètre qui domine tous les autres\n",
    "\n",
    "B. Entre familles, on va jouer le tournoi complet.\n",
    "\n",
    "\n",
    "Algorithm tuning\n",
    "----------------\n",
    "\n",
    "Eps-greedy\n",
    "~~~~~~~~~~\n",
    "\n",
    "10 valeurs de eps, faire petit tournoi. On imagine que c'est relativement smooth\n",
    "\n",
    "MCTS\n",
    "~~~~~~~~~~\n",
    "\n",
    "On part sur MCTS 30s pour que ce soit réaliste\n",
    "On le compare à MCTS 5s, 10s, 20s, 40s, 80s, on plot la courbe \n",
    "\n",
    "UCT c-tuning\n",
    "~~~~~~~~~~\n",
    "\n",
    "\n",
    "\n",
    "\n",
    "Run + result\n",
    "------------\n",
    "\n",
    "\n",
    "Ranking\n",
    "--------\n",
    "\n",
    "On a beaucoup d'algos, Il y a de la recherche sur le ranking, il n'y a pas de consensurs,C'est hors sujet, je ne vais pas plus loin\n",
    "https://www.researchgate.net/publication/287630111_A_Comparison_between_Different_Chess_Rating_Systems_for_Ranking_Evolutionary_Algorithms\n"
   ]
  },
  {
   "cell_type": "raw",
   "metadata": {},
   "source": [
    "==========\n",
    "Conculsion\n",
    "=========="
   ]
  },
  {
   "cell_type": "raw",
   "metadata": {},
   "source": [
    "========\n",
    "Appendix\n",
    "========\n",
    "\n",
    "Bibliography\n",
    "------------\n",
    "\n",
    ".. bibliography:: refs.bib\n",
    "   :style: custom"
   ]
  },
  {
   "cell_type": "raw",
   "metadata": {},
   "source": [
    "Footnotes\n",
    "---------\n",
    "\n",
    ".. [#source_kalah] Picture by Adam Cohn under Creative Commonds license https://www.flickr.com/photos/adamcohn/3076571304/\n",
    "\n",
    ".. [#Fly08] Jennifer Flynn. Independent study quarterly reports.\n",
    " http://users.soe.ucsc.edu/~charlie/projects/SlugGo/, 2008\n",
    " \n",
    ".. [#GS07] Sylvain Gelly and David Silver. Combining online and offline\n",
    " knowledge in uct. In ICML ’07: Proceedings of the 24th\n",
    " Internatinoal Conference on Machine Learning, pages 273–280.\n",
    " ACM, 2007."
   ]
  }
 ],
 "metadata": {
  "celltoolbar": "Tags",
  "kernelspec": {
   "display_name": "Python 3",
   "language": "python",
   "name": "python3"
  },
  "language_info": {
   "codemirror_mode": {
    "name": "ipython",
    "version": 3
   },
   "file_extension": ".py",
   "mimetype": "text/x-python",
   "name": "python",
   "nbconvert_exporter": "python",
   "pygments_lexer": "ipython3",
   "version": "3.7.7"
  }
 },
 "nbformat": 4,
 "nbformat_minor": 2
}
