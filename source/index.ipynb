{
 "cells": [
  {
   "cell_type": "raw",
   "metadata": {},
   "source": [
    ".. contents:: Table of Contents\n",
    "   :depth: 3\n",
    "\n",
    ".. sectnum::"
   ]
  },
  {
   "cell_type": "raw",
   "metadata": {},
   "source": [
    "============\n",
    "Introduction\n",
    "============\n",
    "\n",
    "Awale is a popular board game played mainly in Africa. The board has two rows of six pits, each containing four seeds in the initial state.\n",
    "\n",
    "\n",
    ".. figure:: /_static/awale.jpg\n",
    "\n",
    "   A typical Awalé board in the initial state.\n",
    "\t\n",
    "At each turn, the players move some seeds and can potentially capture some of them, according to deterministic rules. The goal of the game is to capture more seeds than one's opponent. \n",
    "\n",
    ".. todo:: Texte expliquant ce que je vais faire dans mon memoire et pourquoi c'est interessant, pourquoi c'est nouveau\n",
    "\n",
    "In Section 2, we present Awale in detail.\n",
    "Section 3 reviews various approaches to solve Awale: retrograde analysis, Minimax, and basic Monte Carlo Tree Search.\n",
    "In Section 4, we described more advanced versions of MCTS and in particular UCT.\n",
    "Section 5 presents some empirical results (simulations) allowing to compare several MCTS algorithms and Section 6 concludes."
   ]
  },
  {
   "cell_type": "raw",
   "metadata": {},
   "source": [
    "=====\n",
    "Awale\n",
    "=====\n",
    "\n",
    "The subject of our study, Awale is an ancient, two player board game originating from Ghana.\n",
    "This game is also sometimes called Awele, Oware, Owari or Ayo in the neighouring countries, languages and cultures :cite:`crane1982`.\n",
    "\n",
    "Originally, the game is played on the ground, by digging two rows of six small pits, each containing\n",
    "stones, seeds or shells. In the present document, we will name them seeds. The game is also often played on a wooden board symbolizing the original dirt pits.\n",
    "The board can be schematized as in Fig. YYY, every big circle representing a pit and every small disc representing a seed.\n",
    "Numbers at the bottom right of each pit are the counts of seeds in each pit for better readability.\n",
    "Each row of pits is owned by a player that sits in front of it (:numref:`see Fig. %s <intro-kalah>`).\n",
    "For the sake of convenience, the players are named North and South.   \n",
    "The 6 pits from the top row belong to North and the 6 from the bottom to South.\n",
    "\n",
    "The players take turns, a player removing all the seeds from a pit and placing them in other pits following the rules. This is called sowing the seeds. This can result in a configuration in which the player is allowed to capture some seeds according to the rules.\n",
    "The goal for each player is to capture more seeds than his opponent.\n",
    "The rules vary slightly across countries and will be detailed in Section XXX."
   ]
  },
  {
   "cell_type": "code",
   "execution_count": 1,
   "metadata": {
    "scrolled": true,
    "tags": [
     "ha"
    ]
   },
   "outputs": [
    {
     "name": "stdout",
     "output_type": "stream",
     "text": [
      "importing Jupyter notebook from /home/nikita/Code/Thesis/source/lib/draw.ipynb\n"
     ]
    }
   ],
   "source": [
    "import numpy as np\n",
    "import import_ipynb\n",
    "from lib.draw import board_to_svg\n",
    "from IPython.display import SVG"
   ]
  },
  {
   "cell_type": "code",
   "execution_count": 2,
   "metadata": {
    "tags": [
     "hc",
     "fig:initial_board"
    ]
   },
   "outputs": [
    {
     "data": {
      "image/svg+xml": [
       "<svg height=\"240\" width=\"700\">\n",
       "      <style>\n",
       "        circle {\n",
       "          fill: none;\n",
       "          stroke: #000;\n",
       "          stroke-width: 2;\n",
       "        }\n",
       "        .bean {\n",
       "          fill: #000\n",
       "        }\n",
       "        .highlight {\n",
       "          stroke: red;\n",
       "        }\n",
       "      </style>\n",
       "\n",
       "      <circle cx=\"48.0\" cy=\"48.0\" r=\"40\"/><text x=\"82.0\" y=\"82.0\">4</text><circle cx=\"136.0\" cy=\"48.0\" r=\"40\"/><text x=\"170.0\" y=\"82.0\">4</text><circle cx=\"224.0\" cy=\"48.0\" r=\"40\"/><text x=\"258.0\" y=\"82.0\">4</text><circle cx=\"312.0\" cy=\"48.0\" r=\"40\"/><text x=\"346.0\" y=\"82.0\">4</text><circle cx=\"400.0\" cy=\"48.0\" r=\"40\"/><text x=\"434.0\" y=\"82.0\">4</text><circle cx=\"488.0\" cy=\"48.0\" r=\"40\"/><text x=\"522.0\" y=\"82.0\">4</text><circle cx=\"48.0\" cy=\"136.0\" r=\"40\"/><text x=\"82.0\" y=\"170.0\">4</text><circle cx=\"136.0\" cy=\"136.0\" r=\"40\"/><text x=\"170.0\" y=\"170.0\">4</text><circle cx=\"224.0\" cy=\"136.0\" r=\"40\"/><text x=\"258.0\" y=\"170.0\">4</text><circle cx=\"312.0\" cy=\"136.0\" r=\"40\"/><text x=\"346.0\" y=\"170.0\">4</text><circle cx=\"400.0\" cy=\"136.0\" r=\"40\"/><text x=\"434.0\" y=\"170.0\">4</text><circle cx=\"488.0\" cy=\"136.0\" r=\"40\"/><text x=\"522.0\" y=\"170.0\">4</text>\n",
       "      <circle class=\"bean\" cx=\"55.371617095152835\" cy=\"40.67475178560818\" r=\"4\"/><circle class=\"bean\" cx=\"40.67475178560818\" cy=\"40.628382904847165\" r=\"4\"/><circle class=\"bean\" cx=\"40.628382904847165\" cy=\"55.32524821439182\" r=\"4\"/><circle class=\"bean\" cx=\"55.32524821439181\" cy=\"55.371617095152835\" r=\"4\"/><circle class=\"bean\" cx=\"140.14884538493996\" cy=\"57.52822554161384\" r=\"4\"/><circle class=\"bean\" cx=\"145.52822554161384\" cy=\"43.85115461506005\" r=\"4\"/><circle class=\"bean\" cx=\"131.85115461506004\" cy=\"38.47177445838615\" r=\"4\"/><circle class=\"bean\" cx=\"126.47177445838615\" cy=\"52.14884538493995\" r=\"4\"/><circle class=\"bean\" cx=\"232.87553746025253\" cy=\"53.40599988824029\" r=\"4\"/><circle class=\"bean\" cx=\"229.40599988824027\" cy=\"39.12446253974746\" r=\"4\"/><circle class=\"bean\" cx=\"215.12446253974747\" cy=\"42.59400011175971\" r=\"4\"/><circle class=\"bean\" cx=\"218.5940001117597\" cy=\"56.87553746025253\" r=\"4\"/><circle class=\"bean\" cx=\"312.6683873885164\" cy=\"37.629211298128176\" r=\"4\"/><circle class=\"bean\" cx=\"301.62921129812815\" cy=\"47.33161261148362\" r=\"4\"/><circle class=\"bean\" cx=\"311.33161261148365\" cy=\"58.370788701871824\" r=\"4\"/><circle class=\"bean\" cx=\"322.37078870187185\" cy=\"48.66838738851638\" r=\"4\"/><circle class=\"bean\" cx=\"408.8701464088171\" cy=\"42.5851590340852\" r=\"4\"/><circle class=\"bean\" cx=\"394.5851590340852\" cy=\"39.1298535911829\" r=\"4\"/><circle class=\"bean\" cx=\"391.1298535911829\" cy=\"53.4148409659148\" r=\"4\"/><circle class=\"bean\" cx=\"405.4148409659148\" cy=\"56.8701464088171\" r=\"4\"/><circle class=\"bean\" cx=\"496.4700938067709\" cy=\"54.02142100375828\" r=\"4\"/><circle class=\"bean\" cx=\"494.0214210037583\" cy=\"39.52990619322911\" r=\"4\"/><circle class=\"bean\" cx=\"479.5299061932291\" cy=\"41.978578996241716\" r=\"4\"/><circle class=\"bean\" cx=\"481.9785789962417\" cy=\"56.47009380677089\" r=\"4\"/><circle class=\"bean\" cx=\"58.171369765391134\" cy=\"133.86851293794984\" r=\"4\"/><circle class=\"bean\" cx=\"45.86851293794986\" cy=\"125.82863023460887\" r=\"4\"/><circle class=\"bean\" cx=\"37.828630234608866\" cy=\"138.13148706205013\" r=\"4\"/><circle class=\"bean\" cx=\"50.131487062050134\" cy=\"146.17136976539115\" r=\"4\"/><circle class=\"bean\" cx=\"144.0772719811288\" cy=\"142.5389354900375\" r=\"4\"/><circle class=\"bean\" cx=\"142.5389354900375\" cy=\"127.9227280188712\" r=\"4\"/><circle class=\"bean\" cx=\"127.92272801887121\" cy=\"129.4610645099625\" r=\"4\"/><circle class=\"bean\" cx=\"129.4610645099625\" cy=\"144.0772719811288\" r=\"4\"/><circle class=\"bean\" cx=\"231.986656344296\" cy=\"142.6493097715565\" r=\"4\"/><circle class=\"bean\" cx=\"230.6493097715565\" cy=\"128.013343655704\" r=\"4\"/><circle class=\"bean\" cx=\"216.013343655704\" cy=\"129.3506902284435\" r=\"4\"/><circle class=\"bean\" cx=\"217.3506902284435\" cy=\"143.986656344296\" r=\"4\"/><circle class=\"bean\" cx=\"320.4505094944129\" cy=\"142.04887504291807\" r=\"4\"/><circle class=\"bean\" cx=\"318.04887504291804\" cy=\"127.54949050558707\" r=\"4\"/><circle class=\"bean\" cx=\"303.5494905055871\" cy=\"129.95112495708193\" r=\"4\"/><circle class=\"bean\" cx=\"305.95112495708196\" cy=\"144.45050949441293\" r=\"4\"/><circle class=\"bean\" cx=\"401.31100620062824\" cy=\"125.69071958175964\" r=\"4\"/><circle class=\"bean\" cx=\"389.69071958175965\" cy=\"134.68899379937176\" r=\"4\"/><circle class=\"bean\" cx=\"398.68899379937176\" cy=\"146.30928041824038\" r=\"4\"/><circle class=\"bean\" cx=\"410.30928041824035\" cy=\"137.31100620062824\" r=\"4\"/><circle class=\"bean\" cx=\"498.3530214154444\" cy=\"136.90274446625256\" r=\"4\"/><circle class=\"bean\" cx=\"488.90274446625256\" cy=\"125.6469785845556\" r=\"4\"/><circle class=\"bean\" cx=\"477.6469785845556\" cy=\"135.09725553374744\" r=\"4\"/><circle class=\"bean\" cx=\"487.09725553374744\" cy=\"146.3530214154444\" r=\"4\"/>\n",
       "    </svg>"
      ],
      "text/plain": [
       "<IPython.core.display.SVG object>"
      ]
     },
     "execution_count": 2,
     "metadata": {},
     "output_type": "execute_result"
    }
   ],
   "source": [
    "board = np.full((2, 6), 4)\n",
    "SVG(board_to_svg(board, True))"
   ]
  },
  {
   "cell_type": "raw",
   "metadata": {},
   "source": [
    "Mancala\n",
    "-------\n",
    "\n",
    "The Mancala games are an ancient family of game that are played on many continents :cite:`deVoogt2008`, Awale being one of them.\n",
    "The word mancala comes from the Arabic word \"نقلة\", transliterated as \"naqala\" and literally meaning \"to move\". \n",
    "\n",
    "Like Awale, Mancala games can consist of rows of pits, some of them having more than two rows and sometimes extra pits with a special role. Mancala games can sometimes be played by more than two players.\n",
    "\n",
    ".. _intro-kalah:\n",
    "\n",
    ".. figure:: _static/intro-kalah.jpg\n",
    "\n",
    "  A wooden Mancala game [#source_kalah]_\n",
    "\n",
    "There are too many variants of the Mancala games to list them all here, but a\n",
    "few notable ones are Awale, Wari, Bao, Congkak and Kalah.\n",
    "\n",
    "In particular, Kalah is a commercial, modern variant of Mancala, introduced in the 1950s by William Julius Champion Jr., that is widespread in the United States. :cite:`irving2000solving`. This variant has been studied in Artifical Intelligence as early as 1964 by :cite:`russel1964`.\n",
    "Nowadays, Kalah is often used as an example game in computer-science courses.\n",
    "\n",
    "Mancala games in general, while less known than Chess or Go, are quite popular and\n",
    "are played in tournaments around the world, both in offline and online competitions :cite:`owaresociety,fandom_tournaments`.\n",
    "\n",
    "Mancala games have also been studied in Computer Science and Artificial Intelligence :cite:`deVoogt2008`. Tournaments opposing computers on both sides have been organised multiple times, notably in the Computer Olympiad organized by the International Computer Games Association :cite:`icga_olympiad`.\n"
   ]
  },
  {
   "cell_type": "raw",
   "metadata": {},
   "source": [
    "Rules of the game\n",
    "-----------------\n",
    "\n",
    "The basic rules of Awale are the same everywhere but there are still minor differences around the globe and in the leterature.\n",
    "The rules presented here and implemented later in this thesis are inspired from :cite:`goot2001` and adapted by us.\n",
    "\n",
    "The goal for both players is to capture more seeds than its opponent. As the\n",
    "game has 48 seeds, capturing 25 is enough for a player to win and ends the game.\n",
    "\n",
    "Each player plays alternatively, without the right to pass his turn. A\n",
    "player's turn consists in choosing one of his non-empty pits, picking all seeds\n",
    "contained in the pit and sowing them one by one in every consecutive pits on the right\n",
    "(rotating counter-clockwise). The player thus has at most 6 possible moves at\n",
    "each turn (one per non-empty pit owned by him).\n",
    "\n",
    "Usually, the player that starts the game is the oldest player. In this work, South will always starts playing.\n",
    "\n",
    "In this work, the pits of a player are numbered left to right from his point of view as shown in Fig. YYY. :math:`1` being the leftmost pit of South, until :math:`6` at the far right. The same holds for North: :math:`1'` to :math:`6'`.\n",
    "\n",
    ".. todo:: Insert figure with the pit numbering\n",
    "\n",
    "As an example, if we are in the initial state (showed inf Fig. `initial_board` YYY), the first player to move is South (on the bottom) and he plays :math:`4` (highlighted in the figure in red), the board will then be in the  state shown in Fig. `first_move` YYY."
   ]
  },
  {
   "cell_type": "code",
   "execution_count": 3,
   "metadata": {
    "tags": [
     "hc",
     "fig:first_move"
    ]
   },
   "outputs": [
    {
     "data": {
      "image/svg+xml": [
       "<svg height=\"240\" width=\"700\">\n",
       "      <style>\n",
       "        circle {\n",
       "          fill: none;\n",
       "          stroke: #000;\n",
       "          stroke-width: 2;\n",
       "        }\n",
       "        .bean {\n",
       "          fill: #000\n",
       "        }\n",
       "        .highlight {\n",
       "          stroke: red;\n",
       "        }\n",
       "      </style>\n",
       "\n",
       "      <circle cx=\"48.0\" cy=\"48.0\" r=\"40\"/><text x=\"82.0\" y=\"82.0\">4</text><circle cx=\"136.0\" cy=\"48.0\" r=\"40\"/><text x=\"170.0\" y=\"82.0\">4</text><circle cx=\"224.0\" cy=\"48.0\" r=\"40\"/><text x=\"258.0\" y=\"82.0\">4</text><circle cx=\"312.0\" cy=\"48.0\" r=\"40\"/><text x=\"346.0\" y=\"82.0\">4</text><circle cx=\"400.0\" cy=\"48.0\" r=\"40\"/><text x=\"434.0\" y=\"82.0\">5</text><circle cx=\"488.0\" cy=\"48.0\" r=\"40\"/><text x=\"522.0\" y=\"82.0\">5</text><circle cx=\"48.0\" cy=\"136.0\" r=\"40\"/><text x=\"82.0\" y=\"170.0\">4</text><circle cx=\"136.0\" cy=\"136.0\" r=\"40\"/><text x=\"170.0\" y=\"170.0\">4</text><circle cx=\"224.0\" cy=\"136.0\" r=\"40\"/><text x=\"258.0\" y=\"170.0\">4</text><circle class=\"highlight\" cx=\"312.0\" cy=\"136.0\" r=\"40\"/><text x=\"346.0\" y=\"170.0\">0</text><circle cx=\"400.0\" cy=\"136.0\" r=\"40\"/><text x=\"434.0\" y=\"170.0\">5</text><circle cx=\"488.0\" cy=\"136.0\" r=\"40\"/><text x=\"522.0\" y=\"170.0\">5</text>\n",
       "      <circle class=\"bean\" cx=\"53.15973197664353\" cy=\"38.97907067264119\" r=\"4\"/><circle class=\"bean\" cx=\"38.979070672641186\" cy=\"42.84026802335647\" r=\"4\"/><circle class=\"bean\" cx=\"42.84026802335647\" cy=\"57.020929327358814\" r=\"4\"/><circle class=\"bean\" cx=\"57.020929327358814\" cy=\"53.15973197664353\" r=\"4\"/><circle class=\"bean\" cx=\"143.71421392380677\" cy=\"41.036458979962426\" r=\"4\"/><circle class=\"bean\" cx=\"129.03645897996242\" cy=\"40.28578607619324\" r=\"4\"/><circle class=\"bean\" cx=\"128.28578607619323\" cy=\"54.963541020037574\" r=\"4\"/><circle class=\"bean\" cx=\"142.96354102003758\" cy=\"55.71421392380676\" r=\"4\"/><circle class=\"bean\" cx=\"225.41444514087038\" cy=\"58.29559832858043\" r=\"4\"/><circle class=\"bean\" cx=\"234.29559832858044\" cy=\"46.58555485912962\" r=\"4\"/><circle class=\"bean\" cx=\"222.58555485912962\" cy=\"37.70440167141957\" r=\"4\"/><circle class=\"bean\" cx=\"213.70440167141956\" cy=\"49.41444514087038\" r=\"4\"/><circle class=\"bean\" cx=\"314.5418208087468\" cy=\"58.07666348431968\" r=\"4\"/><circle class=\"bean\" cx=\"322.0766634843197\" cy=\"45.45817919125318\" r=\"4\"/><circle class=\"bean\" cx=\"309.4581791912532\" cy=\"37.92333651568032\" r=\"4\"/><circle class=\"bean\" cx=\"301.9233365156803\" cy=\"50.54182080874682\" r=\"4\"/><circle class=\"bean\" cx=\"406.39796208265085\" cy=\"58.15214662960312\" r=\"4\"/><circle class=\"bean\" cx=\"411.6323442193736\" cy=\"45.052362308219315\" r=\"4\"/><circle class=\"bean\" cx=\"400.7912220137604\" cy=\"36.02611309035613\" r=\"4\"/><circle class=\"bean\" cx=\"388.8566578777775\" cy=\"43.54736860417333\" r=\"4\"/><circle class=\"bean\" cx=\"392.3218138064377\" cy=\"57.222009367648106\" r=\"4\"/><circle class=\"bean\" cx=\"495.05214543252066\" cy=\"57.709132031164145\" r=\"4\"/><circle class=\"bean\" cx=\"499.41316607126123\" cy=\"44.29329793079997\" r=\"4\"/><circle class=\"bean\" cx=\"488.00157911876585\" cy=\"36.000000103900675\" r=\"4\"/><circle class=\"bean\" cx=\"476.58780987780835\" cy=\"44.29029426841543\" r=\"4\"/><circle class=\"bean\" cx=\"480.9452994996439\" cy=\"57.70727566571977\" r=\"4\"/><circle class=\"bean\" cx=\"55.07621649454524\" cy=\"143.61098943123204\" r=\"4\"/><circle class=\"bean\" cx=\"55.61098943123204\" cy=\"128.92378350545476\" r=\"4\"/><circle class=\"bean\" cx=\"40.92378350545476\" cy=\"128.38901056876796\" r=\"4\"/><circle class=\"bean\" cx=\"40.38901056876796\" cy=\"143.07621649454524\" r=\"4\"/><circle class=\"bean\" cx=\"141.58111868201672\" cy=\"127.2335232700221\" r=\"4\"/><circle class=\"bean\" cx=\"127.2335232700221\" cy=\"130.41888131798328\" r=\"4\"/><circle class=\"bean\" cx=\"130.41888131798328\" cy=\"144.7664767299779\" r=\"4\"/><circle class=\"bean\" cx=\"144.7664767299779\" cy=\"141.58111868201672\" r=\"4\"/><circle class=\"bean\" cx=\"227.03065184706134\" cy=\"126.05941906215217\" r=\"4\"/><circle class=\"bean\" cx=\"214.05941906215216\" cy=\"132.96934815293866\" r=\"4\"/><circle class=\"bean\" cx=\"220.96934815293866\" cy=\"145.94058093784784\" r=\"4\"/><circle class=\"bean\" cx=\"233.94058093784784\" cy=\"139.03065184706134\" r=\"4\"/><circle class=\"bean\" cx=\"411.09959706584493\" cy=\"131.43941396574002\" r=\"4\"/><circle class=\"bean\" cx=\"399.09258905805274\" cy=\"124.03435729338226\" r=\"4\"/><circle class=\"bean\" cx=\"388.33959213026816\" cy=\"133.16541214433292\" r=\"4\"/><circle class=\"bean\" cx=\"393.7008825557662\" cy=\"146.2137710677178\" r=\"4\"/><circle class=\"bean\" cx=\"407.767339190068\" cy=\"145.147045528827\" r=\"4\"/><circle class=\"bean\" cx=\"491.82035479159595\" cy=\"147.37562698343834\" r=\"4\"/><circle class=\"bean\" cx=\"499.9994187246869\" cy=\"135.88188874044596\" r=\"4\"/><circle class=\"bean\" cx=\"491.5956938255025\" cy=\"124.55137624370322\" r=\"4\"/><circle class=\"bean\" cx=\"478.2228422726118\" cy=\"129.04247265375315\" r=\"4\"/><circle class=\"bean\" cx=\"478.3616903856029\" cy=\"143.14863537865938\" r=\"4\"/>\n",
       "    </svg>"
      ],
      "text/plain": [
       "<IPython.core.display.SVG object>"
      ]
     },
     "execution_count": 3,
     "metadata": {},
     "output_type": "execute_result"
    }
   ],
   "source": [
    "board = np.array([\n",
    "    [4, 4, 4, 4, 5, 5],\n",
    "    [4, 4, 4, 0, 5, 5],\n",
    "])\n",
    "SVG(board_to_svg(board, True,highlight=[(1, 3)]))"
   ]
  },
  {
   "cell_type": "raw",
   "metadata": {},
   "source": [
    "When the last sowed seed is placed in a pit owned by the opponent and, after sowing,\n",
    "the pit contains two or three seeds, the content of the pit is captured by\n",
    "the player and removed from the game. If the pit preceding the captured pit also\n",
    "contains two or three seeds, it is also captured. The capture continues until a\n",
    "pit without two or three seeds is encountered. When the capture is ended the\n",
    "next player's turn starts.\n",
    "\n",
    "Otherwise, when the last sowed seed is placed in a pit that, after sowing, contains one seed, more\n",
    "than 3 seeds or in the current player's own pits, the turn of the player is ended without\n",
    "any capture.\n",
    "For example, if South plays :math:`4` in the configuration shown in Fig. `pre_capture` YYY he will\n",
    "be able to capture the opponent's 2nd and 3rd pits (:math:`2'` and :math:`3'` highlighted in red in Fig. `post_capture` YYY)."
   ]
  },
  {
   "cell_type": "code",
   "execution_count": 4,
   "metadata": {
    "tags": [
     "hc",
     "fig:pre_capture"
    ]
   },
   "outputs": [
    {
     "data": {
      "image/svg+xml": [
       "<svg height=\"240\" width=\"700\">\n",
       "      <style>\n",
       "        circle {\n",
       "          fill: none;\n",
       "          stroke: #000;\n",
       "          stroke-width: 2;\n",
       "        }\n",
       "        .bean {\n",
       "          fill: #000\n",
       "        }\n",
       "        .highlight {\n",
       "          stroke: red;\n",
       "        }\n",
       "      </style>\n",
       "\n",
       "      <circle cx=\"48.0\" cy=\"48.0\" r=\"40\"/><text x=\"82.0\" y=\"82.0\">4</text><circle cx=\"136.0\" cy=\"48.0\" r=\"40\"/><text x=\"170.0\" y=\"82.0\">6</text><circle cx=\"224.0\" cy=\"48.0\" r=\"40\"/><text x=\"258.0\" y=\"82.0\">4</text><circle cx=\"312.0\" cy=\"48.0\" r=\"40\"/><text x=\"346.0\" y=\"82.0\">1</text><circle cx=\"400.0\" cy=\"48.0\" r=\"40\"/><text x=\"434.0\" y=\"82.0\">2</text><circle cx=\"488.0\" cy=\"48.0\" r=\"40\"/><text x=\"522.0\" y=\"82.0\">3</text><circle cx=\"48.0\" cy=\"136.0\" r=\"40\"/><text x=\"82.0\" y=\"170.0\">3</text><circle cx=\"136.0\" cy=\"136.0\" r=\"40\"/><text x=\"170.0\" y=\"170.0\">3</text><circle cx=\"224.0\" cy=\"136.0\" r=\"40\"/><text x=\"258.0\" y=\"170.0\">3</text><circle class=\"highlight\" cx=\"312.0\" cy=\"136.0\" r=\"40\"/><text x=\"346.0\" y=\"170.0\">5</text><circle cx=\"400.0\" cy=\"136.0\" r=\"40\"/><text x=\"434.0\" y=\"170.0\">2</text><circle cx=\"488.0\" cy=\"136.0\" r=\"40\"/><text x=\"522.0\" y=\"170.0\">2</text>\n",
       "      <circle class=\"bean\" cx=\"53.93322372142693\" cy=\"39.46789262424008\" r=\"4\"/><circle class=\"bean\" cx=\"39.467892624240086\" cy=\"42.066776278573066\" r=\"4\"/><circle class=\"bean\" cx=\"42.066776278573066\" cy=\"56.532107375759914\" r=\"4\"/><circle class=\"bean\" cx=\"56.532107375759914\" cy=\"53.933223721426934\" r=\"4\"/><circle class=\"bean\" cx=\"149.09829966538535\" cy=\"50.90422896407398\" r=\"4\"/><circle class=\"bean\" cx=\"145.0642858939873\" cy=\"38.108654225432076\" r=\"4\"/><circle class=\"bean\" cx=\"131.96598622860196\" cy=\"35.20442526135809\" r=\"4\"/><circle class=\"bean\" cx=\"122.90170033461466\" cy=\"45.09577103592602\" r=\"4\"/><circle class=\"bean\" cx=\"126.9357141060127\" cy=\"57.891345774567924\" r=\"4\"/><circle class=\"bean\" cx=\"140.03401377139804\" cy=\"60.7955747386419\" r=\"4\"/><circle class=\"bean\" cx=\"234.38464840539896\" cy=\"48.39884520336196\" r=\"4\"/><circle class=\"bean\" cx=\"224.39884520336196\" cy=\"37.61535159460104\" r=\"4\"/><circle class=\"bean\" cx=\"213.61535159460104\" cy=\"47.601154796638035\" r=\"4\"/><circle class=\"bean\" cx=\"223.60115479663804\" cy=\"58.38464840539896\" r=\"4\"/><circle class=\"bean\" cx=\"312.0\" cy=\"48.0\" r=\"4\"/><circle class=\"bean\" cx=\"404.52043840760143\" cy=\"51.945330987773\" r=\"4\"/><circle class=\"bean\" cx=\"395.47956159239857\" cy=\"44.054669012227\" r=\"4\"/><circle class=\"bean\" cx=\"496.13692033743837\" cy=\"45.593648524803186\" r=\"4\"/><circle class=\"bean\" cx=\"481.8475783233262\" cy=\"42.156396016806525\" r=\"4\"/><circle class=\"bean\" cx=\"486.0155013392354\" cy=\"56.24995545839028\" r=\"4\"/><circle class=\"bean\" cx=\"56.25049943794063\" cy=\"134.01776413498763\" r=\"4\"/><circle class=\"bean\" cx=\"42.158083665636354\" cy=\"129.84597582534036\" r=\"4\"/><circle class=\"bean\" cx=\"45.59141689642301\" cy=\"144.136260039672\" r=\"4\"/><circle class=\"bean\" cx=\"144.43964184270394\" cy=\"136.87888882509722\" r=\"4\"/><circle class=\"bean\" cx=\"132.54131912828447\" cy=\"128.25161135282767\" r=\"4\"/><circle class=\"bean\" cx=\"131.01903902901157\" cy=\"142.8694998220751\" r=\"4\"/><circle class=\"bean\" cx=\"232.29711218106527\" cy=\"134.22294359830127\" r=\"4\"/><circle class=\"bean\" cx=\"218.3124679216385\" cy=\"129.70301827399751\" r=\"4\"/><circle class=\"bean\" cx=\"221.39041989729623\" cy=\"144.0740381277012\" r=\"4\"/><circle class=\"bean\" cx=\"314.165997856351\" cy=\"124.1970997934286\" r=\"4\"/><circle class=\"bean\" cx=\"301.44410499475106\" cy=\"130.29271687769392\" r=\"4\"/><circle class=\"bean\" cx=\"303.3101002487299\" cy=\"144.2756052535676\" r=\"4\"/><circle class=\"bean\" cx=\"317.18524160013476\" cy=\"146.82188844648806\" r=\"4\"/><circle class=\"bean\" cx=\"323.8945553000333\" cy=\"134.41268962882182\" r=\"4\"/><circle class=\"bean\" cx=\"402.0444899292364\" cy=\"130.35907268888786\" r=\"4\"/><circle class=\"bean\" cx=\"397.9555100707636\" cy=\"141.64092731111214\" r=\"4\"/><circle class=\"bean\" cx=\"491.4538276534744\" cy=\"140.90622813779547\" r=\"4\"/><circle class=\"bean\" cx=\"484.5461723465256\" cy=\"131.09377186220453\" r=\"4\"/>\n",
       "    </svg>"
      ],
      "text/plain": [
       "<IPython.core.display.SVG object>"
      ]
     },
     "execution_count": 4,
     "metadata": {},
     "output_type": "execute_result"
    }
   ],
   "source": [
    "board = np.array([\n",
    "    [4, 6, 4, 1, 2, 3],\n",
    "    [3, 3, 3, 5, 2, 2],\n",
    "])\n",
    "SVG(board_to_svg(board, True,highlight=[(1, 3)]))"
   ]
  },
  {
   "cell_type": "code",
   "execution_count": 5,
   "metadata": {
    "scrolled": true,
    "tags": [
     "hc",
     "fig:post_capture"
    ]
   },
   "outputs": [
    {
     "data": {
      "image/svg+xml": [
       "<svg height=\"240\" width=\"700\">\n",
       "      <style>\n",
       "        circle {\n",
       "          fill: none;\n",
       "          stroke: #000;\n",
       "          stroke-width: 2;\n",
       "        }\n",
       "        .bean {\n",
       "          fill: #000\n",
       "        }\n",
       "        .highlight {\n",
       "          stroke: red;\n",
       "        }\n",
       "      </style>\n",
       "\n",
       "      <circle cx=\"48.0\" cy=\"48.0\" r=\"40\"/><text x=\"82.0\" y=\"82.0\">4</text><circle cx=\"136.0\" cy=\"48.0\" r=\"40\"/><text x=\"170.0\" y=\"82.0\">6</text><circle cx=\"224.0\" cy=\"48.0\" r=\"40\"/><text x=\"258.0\" y=\"82.0\">4</text><circle class=\"highlight\" cx=\"312.0\" cy=\"48.0\" r=\"40\"/><text x=\"346.0\" y=\"82.0\">2</text><circle class=\"highlight\" cx=\"400.0\" cy=\"48.0\" r=\"40\"/><text x=\"434.0\" y=\"82.0\">3</text><circle cx=\"488.0\" cy=\"48.0\" r=\"40\"/><text x=\"522.0\" y=\"82.0\">4</text><circle cx=\"48.0\" cy=\"136.0\" r=\"40\"/><text x=\"82.0\" y=\"170.0\">3</text><circle cx=\"136.0\" cy=\"136.0\" r=\"40\"/><text x=\"170.0\" y=\"170.0\">3</text><circle cx=\"224.0\" cy=\"136.0\" r=\"40\"/><text x=\"258.0\" y=\"170.0\">3</text><circle cx=\"312.0\" cy=\"136.0\" r=\"40\"/><text x=\"346.0\" y=\"170.0\">0</text><circle cx=\"400.0\" cy=\"136.0\" r=\"40\"/><text x=\"434.0\" y=\"170.0\">3</text><circle cx=\"488.0\" cy=\"136.0\" r=\"40\"/><text x=\"522.0\" y=\"170.0\">3</text>\n",
       "      <circle class=\"bean\" cx=\"57.75783010374476\" cy=\"44.424422890433966\" r=\"4\"/><circle class=\"bean\" cx=\"44.424422890433966\" cy=\"38.24216989625524\" r=\"4\"/><circle class=\"bean\" cx=\"38.24216989625524\" cy=\"51.575577109566034\" r=\"4\"/><circle class=\"bean\" cx=\"51.575577109566034\" cy=\"57.75783010374476\" r=\"4\"/><circle class=\"bean\" cx=\"136.28045592612833\" cy=\"34.58652377370059\" r=\"4\"/><circle class=\"bean\" cx=\"124.52381679803025\" cy=\"41.05037993018126\" r=\"4\"/><circle class=\"bean\" cx=\"124.24336087190191\" cy=\"54.46385615648067\" r=\"4\"/><circle class=\"bean\" cx=\"135.71954407387165\" cy=\"61.41347622629941\" r=\"4\"/><circle class=\"bean\" cx=\"147.47618320196975\" cy=\"54.94962006981875\" r=\"4\"/><circle class=\"bean\" cx=\"147.7566391280981\" cy=\"41.53614384351934\" r=\"4\"/><circle class=\"bean\" cx=\"229.5556289399943\" cy=\"39.217347377864826\" r=\"4\"/><circle class=\"bean\" cx=\"215.21734737786483\" cy=\"42.44437106000569\" r=\"4\"/><circle class=\"bean\" cx=\"218.4443710600057\" cy=\"56.782652622135174\" r=\"4\"/><circle class=\"bean\" cx=\"232.78265262213517\" cy=\"53.55562893999431\" r=\"4\"/><circle class=\"bean\" cx=\"317.6868517612947\" cy=\"46.0869613059169\" r=\"4\"/><circle class=\"bean\" cx=\"306.31314823870525\" cy=\"49.9130386940831\" r=\"4\"/><circle class=\"bean\" cx=\"407.7605473946608\" cy=\"44.56868769488649\" r=\"4\"/><circle class=\"bean\" cx=\"393.1481226781232\" cy=\"42.994824961507355\" r=\"4\"/><circle class=\"bean\" cx=\"399.091329927216\" cy=\"56.43648734360615\" r=\"4\"/><circle class=\"bean\" cx=\"496.2962724816275\" cy=\"54.25874291775834\" r=\"4\"/><circle class=\"bean\" cx=\"494.25874291775835\" cy=\"39.70372751837249\" r=\"4\"/><circle class=\"bean\" cx=\"479.7037275183725\" cy=\"41.74125708224166\" r=\"4\"/><circle class=\"bean\" cx=\"481.74125708224165\" cy=\"56.29627248162751\" r=\"4\"/><circle class=\"bean\" cx=\"56.02484937624137\" cy=\"133.2428651667649\" r=\"4\"/><circle class=\"bean\" cx=\"41.59982650463873\" cy=\"130.42884399524883\" r=\"4\"/><circle class=\"bean\" cx=\"46.375324119119895\" cy=\"144.3282908379863\" r=\"4\"/><circle class=\"bean\" cx=\"144.2644383480506\" cy=\"137.92329373504697\" r=\"4\"/><circle class=\"bean\" cx=\"133.53340205946483\" cy=\"127.8811395750544\" r=\"4\"/><circle class=\"bean\" cx=\"130.20215959248458\" cy=\"142.1955666898986\" r=\"4\"/><circle class=\"bean\" cx=\"230.807597603466\" cy=\"141.06523591447467\" r=\"4\"/><circle class=\"bean\" cx=\"224.98282417636335\" cy=\"127.57182957941905\" r=\"4\"/><circle class=\"bean\" cx=\"216.20957822017064\" cy=\"139.36293450610628\" r=\"4\"/><circle class=\"bean\" cx=\"403.08731391494126\" cy=\"128.09629879166664\" r=\"4\"/><circle class=\"bean\" cx=\"391.6115370121909\" cy=\"137.27815832437037\" r=\"4\"/><circle class=\"bean\" cx=\"405.3011490728678\" cy=\"142.625542883963\" r=\"4\"/><circle class=\"bean\" cx=\"489.9105920042875\" cy=\"144.26738399937688\" r=\"4\"/><circle class=\"bean\" cx=\"494.20446856415765\" cy=\"130.21168678833118\" r=\"4\"/><circle class=\"bean\" cx=\"479.88493943155487\" cy=\"133.52092921229195\" r=\"4\"/>\n",
       "    </svg>"
      ],
      "text/plain": [
       "<IPython.core.display.SVG object>"
      ]
     },
     "execution_count": 5,
     "metadata": {},
     "output_type": "execute_result"
    }
   ],
   "source": [
    "board = np.array([\n",
    "    [4, 6, 4, 2, 3, 4],\n",
    "    [3, 3, 3, 0, 3, 3],\n",
    "])\n",
    "SVG(board_to_svg(board, True,highlight=[(0, 3), (0, 4)]))"
   ]
  },
  {
   "cell_type": "raw",
   "metadata": {},
   "source": [
    "If the pit chosen by the player contains more than 12 seeds, the sowing makes\n",
    "more than a full revolution of the board and the starting hole is skipped during the second\n",
    "and subsequent passes.\n",
    "\n",
    "If the current player's opponent has no seed left in his half board, the\n",
    "current player has to play a move that gives him seeds if such a move exists.\n",
    "This rule is called the \"feed your opponent\".\n",
    "In Fig. `feed` YYY, South has to play the fifth pit because playing the first would leave the opponent without any move to play."
   ]
  },
  {
   "cell_type": "code",
   "execution_count": 6,
   "metadata": {
    "tags": [
     "hc",
     "fig:feed"
    ]
   },
   "outputs": [
    {
     "data": {
      "image/svg+xml": [
       "<svg height=\"240\" width=\"700\">\n",
       "      <style>\n",
       "        circle {\n",
       "          fill: none;\n",
       "          stroke: #000;\n",
       "          stroke-width: 2;\n",
       "        }\n",
       "        .bean {\n",
       "          fill: #000\n",
       "        }\n",
       "        .highlight {\n",
       "          stroke: red;\n",
       "        }\n",
       "      </style>\n",
       "\n",
       "      <circle cx=\"48.0\" cy=\"48.0\" r=\"40\"/><text x=\"82.0\" y=\"82.0\">0</text><circle cx=\"136.0\" cy=\"48.0\" r=\"40\"/><text x=\"170.0\" y=\"82.0\">0</text><circle cx=\"224.0\" cy=\"48.0\" r=\"40\"/><text x=\"258.0\" y=\"82.0\">0</text><circle cx=\"312.0\" cy=\"48.0\" r=\"40\"/><text x=\"346.0\" y=\"82.0\">0</text><circle cx=\"400.0\" cy=\"48.0\" r=\"40\"/><text x=\"434.0\" y=\"82.0\">0</text><circle cx=\"488.0\" cy=\"48.0\" r=\"40\"/><text x=\"522.0\" y=\"82.0\">0</text><circle cx=\"48.0\" cy=\"136.0\" r=\"40\"/><text x=\"82.0\" y=\"170.0\">2</text><circle cx=\"136.0\" cy=\"136.0\" r=\"40\"/><text x=\"170.0\" y=\"170.0\">0</text><circle cx=\"224.0\" cy=\"136.0\" r=\"40\"/><text x=\"258.0\" y=\"170.0\">0</text><circle cx=\"312.0\" cy=\"136.0\" r=\"40\"/><text x=\"346.0\" y=\"170.0\">0</text><circle class=\"highlight\" cx=\"400.0\" cy=\"136.0\" r=\"40\"/><text x=\"434.0\" y=\"170.0\">3</text><circle cx=\"488.0\" cy=\"136.0\" r=\"40\"/><text x=\"522.0\" y=\"170.0\">0</text>\n",
       "      <circle class=\"bean\" cx=\"51.06252816573548\" cy=\"130.84045338870973\" r=\"4\"/><circle class=\"bean\" cx=\"44.93747183426452\" cy=\"141.15954661129027\" r=\"4\"/><circle class=\"bean\" cx=\"405.8455092201787\" cy=\"142.15061151080164\" r=\"4\"/><circle class=\"bean\" cx=\"402.40383120707384\" cy=\"127.86233476186825\" r=\"4\"/><circle class=\"bean\" cx=\"391.75065957274745\" cy=\"137.9870537273301\" r=\"4\"/>\n",
       "    </svg>"
      ],
      "text/plain": [
       "<IPython.core.display.SVG object>"
      ]
     },
     "execution_count": 6,
     "metadata": {},
     "output_type": "execute_result"
    }
   ],
   "source": [
    "board = np.array([\n",
    "    [0, 0, 0, 0, 0, 0],\n",
    "    [2, 0, 0, 0, 3, 0],\n",
    "])\n",
    "SVG(board_to_svg(board, True,highlight=[(1, 4)]))"
   ]
  },
  {
   "cell_type": "raw",
   "metadata": {},
   "source": [
    "When a player has captured more than 25 seeds the game ends and he wins. If both\n",
    "players have captured 24 seeds, the game ends by a draw. If the current player\n",
    "pits are all empty, the game ends and the player with the most captures wins.\n",
    "\n",
    "The last way to stop the game is when a position is encountered twice in the\n",
    "same game (there is a cycle): the game ends and the player with most captures\n",
    "wins."
   ]
  },
  {
   "cell_type": "raw",
   "metadata": {},
   "source": [
    "Implementation of the rules\n",
    "---------------------------\n",
    "\n",
    "In this subsection, we define in multiple steps a Python :code:`Game()` class holding the state of the game and its rules. We will then succesively inherit from it to add the rules and some sonvenience methods.\n",
    "\n",
    "We set the following encoding conventions:\n",
    " - :code:`0` is South, :code:`1` is North,\n",
    " - player's actions are numbered from :code:`0` to :code:`5`, :code:`0` being to play the leftmost pit in front of him, :code:`5` being playing the rightmost.\n",
    "\n",
    "First, we define a dataclass with the minimal attributes needed to store a state of the game."
   ]
  },
  {
   "cell_type": "code",
   "execution_count": 7,
   "metadata": {
    "tags": [
     "ha"
    ]
   },
   "outputs": [],
   "source": [
    "import numpy as np\n",
    "import itertools\n",
    "from typing import List, Dict, Set, Optional, Tuple"
   ]
  },
  {
   "cell_type": "code",
   "execution_count": 8,
   "metadata": {},
   "outputs": [],
   "source": [
    "from dataclasses import dataclass, field\n",
    "\n",
    "@dataclass\n",
    "class Game:\n",
    "    # a 2x6 matrix containing the number of seeds in each pits\n",
    "    pits: np.array = field(default_factory=lambda: np.ones(6 * 2, dtype=int) * 4)\n",
    "    # 0 for South and 1 for North\n",
    "    current_player: int = 0\n",
    "    # the number of seeds captured by each player\n",
    "    captures: np.array = field(default_factory=lambda: np.zeros(2, dtype=int))"
   ]
  },
  {
   "cell_type": "raw",
   "metadata": {},
   "source": [
    "Next, we add some convenient methods that will be useful later."
   ]
  },
  {
   "cell_type": "code",
   "execution_count": 10,
   "metadata": {},
   "outputs": [],
   "source": [
    "class Game(Game):\n",
    "    ...\n",
    "\n",
    "    @property\n",
    "    def view_from_current_player(self) -> List[int]:\n",
    "        '''Returns the board as seen by a player'''\n",
    "        if self.current_player == 0:\n",
    "            return self.pits\n",
    "        else:\n",
    "            return np.roll(self.pits, 6)\n",
    "    \n",
    "    @property\n",
    "    def current_player_pits(self) -> List[int]:\n",
    "        '''Returns a 6-vector containing the pits owned by the current player'''\n",
    "        if self.current_player == 0:\n",
    "            return self.pits[:6]\n",
    "        else:\n",
    "            return self.pits[6:]\n",
    "\n",
    "    @property\n",
    "    def current_opponent(self) -> int:\n",
    "        return (self.current_player + 1) % 2\n",
    "    \n",
    "    @property\n",
    "    def adverse_pits_idx(self) -> List[int]:\n",
    "        '''Returns the indices in the `self.pits` array owned by the opposing player'''\n",
    "        if self.current_player == 1:\n",
    "            return list(range(6))\n",
    "        else:\n",
    "            return list(range(6, 6 * 2))"
   ]
  },
  {
   "cell_type": "raw",
   "metadata": {},
   "source": [
    "Now that the base is set, we start implementing the rules,\n",
    "some of them being deliberately excluded from this implementation:\n",
    "\n",
    "-  Loops in the game state are not checked (this considerably speeds up the computations and we did not encounter a loop in our preliminary work);\n",
    "-  The \"feed your opponent\" rule is removed; This makes the\n",
    "   rules simpler and we expect it does not tremendously change the complexity of the game."
   ]
  },
  {
   "cell_type": "code",
   "execution_count": 11,
   "metadata": {},
   "outputs": [],
   "source": [
    "class Game(Game):\n",
    "    ...\n",
    "    \n",
    "    @property\n",
    "    def legal_actions(self) -> List[int]:\n",
    "        '''Returns a list of indices for each legal action for the current player'''\n",
    "        our_pits = self.current_player_pits\n",
    "        # Return every pit of the player that contains some seeds\n",
    "        return [x for x in range(6) if our_pits[x] != 0]\n",
    "    \n",
    "    @property\n",
    "    def game_finished(self) -> bool:\n",
    "        # Does the current player has an available move ?\n",
    "        no_moves_left = np.sum(self.current_player_pits) == 0\n",
    "        \n",
    "        # Has one player cpatured more than half the total seeds ?\n",
    "        HALF_SEEDS = 24 # (there are 2*6*4=48 seeds in total)\n",
    "        enough_captures = self.captures[0] > HALF_SEEDS or self.captures[1] > HALF_SEEDS\n",
    "        \n",
    "        # Is it a draw ? Does both player have 24 seeds ?\n",
    "        draw = self.captures[0] == HALF_SEEDS and self.captures[1] == HALF_SEEDS\n",
    "        \n",
    "        # If one of the above three are True, the game is finished\n",
    "        return no_moves_left or enough_captures or draw\n",
    "    \n",
    "    @property\n",
    "    def winner(self) -> Optional[int]:\n",
    "        '''Returns the winner of the game or None if the game is not finished or in a draw'''\n",
    "        if not self.game_finished:\n",
    "            return None\n",
    "        # The game is finished but both player have the same amount of seeds: it's a draw\n",
    "        elif self.captures[0] == self.captures[1]:\n",
    "            return None\n",
    "        # Else, there is a winner: the player with the most seeds\n",
    "        else:\n",
    "            return 0 if self.captures[0] > self.captures[1] else 1"
   ]
  },
  {
   "cell_type": "raw",
   "metadata": {},
   "source": [
    "We can now define the :code:`Game.step(i)` method that is called for every step of the game.\n",
    "It takes a single paramter, :code:`i`, and plays the i-th pit in the current sate.\n",
    "This method returns the new state, the amount of seeds captured and a boolean informing whether the game is finished."
   ]
  },
  {
   "cell_type": "code",
   "execution_count": 12,
   "metadata": {},
   "outputs": [],
   "source": [
    "class Game(Game):\n",
    "    ...\n",
    "    \n",
    "    def step(self, action: int) -> Tuple[Game, int, bool]:\n",
    "        '''Plays the action given as parameter and returns:\n",
    "            - a the new state as a new Game object,\n",
    "            - the amount of captured stones in the transition\n",
    "            - a bool indicating if the new state is the end of the game\n",
    "        '''\n",
    "        assert 0 <= action < 6, \"Illegal action\"\n",
    "        \n",
    "        # Translate the action index to a pit index\n",
    "        target_pit = action if self.current_player == 0 else action - 6\n",
    "        \n",
    "        seeds = self.pits[target_pit]\n",
    "        assert seeds != 0, \"Illegal action: pit % is empty\" % target_pit\n",
    "        \n",
    "        # Copy the attributes of `Game` so that the original\n",
    "        # stays immutable\n",
    "        pits = np.copy(self.pits)\n",
    "        captures = np.copy(self.captures)\n",
    "        \n",
    "        # Empty the pit targeted by the player \n",
    "        pits[target_pit] = 0\n",
    "        \n",
    "        # Fill the next pits while there are still seeds\n",
    "        pit_to_sow = target_pit\n",
    "        while seeds > 0:\n",
    "            pit_to_sow = (pit_to_sow + 1) % (6 * 2)\n",
    "            # Do not fill the target pit ever\n",
    "            if pit_to_sow != target_pit:\n",
    "                pits[pit_to_sow] += 1\n",
    "                seeds -= 1\n",
    "\n",
    "        # Count the captures of the play\n",
    "        round_captures = 0\n",
    "        \n",
    "        # If the last seed was in a adverse pit we can try to collect seeds\n",
    "        if pit_to_sow in self.adverse_pits_idx:\n",
    "            # If the pit contains 2 or 3 seeds, we capture them\n",
    "            while pits[pit_to_sow] in (2, 3):\n",
    "                captures[self.current_player] += pits[pit_to_sow]\n",
    "                round_captures += pits[pit_to_sow]\n",
    "                pits[pit_to_sow] = 0\n",
    "                \n",
    "                # Select backwards the next pit to check\n",
    "                pit_to_sow = (pit_to_sow - 1) % 12\n",
    "        \n",
    "        # Change the current player\n",
    "        current_player = (self.current_player + 1) % 2\n",
    "        \n",
    "        # Create the new `Game` instance\n",
    "        new_game = type(self)(\n",
    "            pits,\n",
    "            current_player,\n",
    "            captures\n",
    "        )\n",
    "\n",
    "        return new_game, round_captures, new_game.game_finished\n"
   ]
  },
  {
   "cell_type": "raw",
   "metadata": {},
   "source": [
    "As the game rules are now implemented, we can add some methods to display the current state of the board to the user, either in textual mode or as an SVG file that can be displayed inline in this document."
   ]
  },
  {
   "cell_type": "code",
   "execution_count": 13,
   "metadata": {},
   "outputs": [],
   "source": [
    "class Game(Game):\n",
    "    ...\n",
    "    \n",
    "    def show_state(self):\n",
    "        '''Print a textual representation of the game to the stdandard output'''\n",
    "        if self.game_finished:\n",
    "            print(\"Game finished\")\n",
    "        print(\"Current player: {} - Score: {}/{}\\n{}\".format(\n",
    "            self.current_player,\n",
    "            self.captures[self.current_player],\n",
    "            self.captures[(self.current_player + 1) % 2],\n",
    "            \"-\" * 6 * 3\n",
    "        ))\n",
    "        \n",
    "        pits = []\n",
    "        for seeds in self.view_from_current_player:\n",
    "            pits.append(\"{:3}\".format(seeds))\n",
    "        \n",
    "        print(\"\".join(reversed(pits[6:])))\n",
    "        print(\"\".join(pits[:6]))\n",
    "    \n",
    "    def _repr_svg_(self):\n",
    "        '''Return a SVG file representing the current state to be displayed in a notebook'''\n",
    "        board = np.array([\n",
    "            list(reversed(self.pits[6:])),\n",
    "            self.pits[:6]\n",
    "        ])\n",
    "        return board_to_svg(board, True)"
   ]
  },
  {
   "cell_type": "raw",
   "metadata": {},
   "source": [
    "To show a minimal example of the implementation, we can now play a move and have its results displayed here."
   ]
  },
  {
   "cell_type": "code",
   "execution_count": 14,
   "metadata": {},
   "outputs": [
    {
     "data": {
      "image/svg+xml": [
       "\n",
       "    <svg width=\"700\" height=\"240\">\n",
       "      <style>\n",
       "        circle {\n",
       "          fill: none;\n",
       "          stroke: #000;\n",
       "          stroke-width: 2;\n",
       "        }\n",
       "        .bean {\n",
       "          fill: #000\n",
       "        }\n",
       "        .highlight {\n",
       "          stroke: red;\n",
       "        }\n",
       "      </style>\n",
       "\n",
       "      <circle cx=\"48.0\" cy=\"48.0\" r=\"40\" /><text x=\"82.0\" y=\"82.0\" >4</text><circle cx=\"136.0\" cy=\"48.0\" r=\"40\" /><text x=\"170.0\" y=\"82.0\" >4</text><circle cx=\"224.0\" cy=\"48.0\" r=\"40\" /><text x=\"258.0\" y=\"82.0\" >4</text><circle cx=\"312.0\" cy=\"48.0\" r=\"40\" /><text x=\"346.0\" y=\"82.0\" >5</text><circle cx=\"400.0\" cy=\"48.0\" r=\"40\" /><text x=\"434.0\" y=\"82.0\" >5</text><circle cx=\"488.0\" cy=\"48.0\" r=\"40\" /><text x=\"522.0\" y=\"82.0\" >5</text><circle cx=\"48.0\" cy=\"136.0\" r=\"40\" /><text x=\"82.0\" y=\"170.0\" >4</text><circle cx=\"136.0\" cy=\"136.0\" r=\"40\" /><text x=\"170.0\" y=\"170.0\" >4</text><circle cx=\"224.0\" cy=\"136.0\" r=\"40\" /><text x=\"258.0\" y=\"170.0\" >4</text><circle cx=\"312.0\" cy=\"136.0\" r=\"40\" /><text x=\"346.0\" y=\"170.0\" >4</text><circle cx=\"400.0\" cy=\"136.0\" r=\"40\" /><text x=\"434.0\" y=\"170.0\" >0</text><circle cx=\"488.0\" cy=\"136.0\" r=\"40\" /><text x=\"522.0\" y=\"170.0\" >5</text>\n",
       "      <circle cx=\"53.65551740642857\" cy=\"56.71866519976444\" r=\"4\" class=\"bean\"/><circle cx=\"56.71866519976444\" cy=\"42.34448259357143\" r=\"4\" class=\"bean\"/><circle cx=\"42.34448259357143\" cy=\"39.28133480023556\" r=\"4\" class=\"bean\"/><circle cx=\"39.281334800235555\" cy=\"53.655517406428565\" r=\"4\" class=\"bean\"/><circle cx=\"146.34122293489918\" cy=\"49.02912983180707\" r=\"4\" class=\"bean\"/><circle cx=\"137.02912983180707\" cy=\"37.65877706510082\" r=\"4\" class=\"bean\"/><circle cx=\"125.65877706510082\" cy=\"46.97087016819293\" r=\"4\" class=\"bean\"/><circle cx=\"134.97087016819293\" cy=\"58.34122293489918\" r=\"4\" class=\"bean\"/><circle cx=\"233.25949512753454\" cy=\"43.281764102637055\" r=\"4\" class=\"bean\"/><circle cx=\"219.28176410263706\" cy=\"38.74050487246547\" r=\"4\" class=\"bean\"/><circle cx=\"214.74050487246546\" cy=\"52.718235897362945\" r=\"4\" class=\"bean\"/><circle cx=\"228.71823589736294\" cy=\"57.259495127534535\" r=\"4\" class=\"bean\"/><circle cx=\"319.74088033031546\" cy=\"57.16944773210114\" r=\"4\" class=\"bean\"/><circle cx=\"323.11272658993283\" cy=\"43.47150049824455\" r=\"4\" class=\"bean\"/><circle cx=\"311.12716240994774\" cy=\"36.03178565777702\" r=\"4\" class=\"bean\"/><circle cx=\"300.3478301127563\" cy=\"45.13173625361769\" r=\"4\" class=\"bean\"/><circle cx=\"305.6714005570476\" cy=\"58.1955298582596\" r=\"4\" class=\"bean\"/><circle cx=\"411.2206648166856\" cy=\"43.74598059811729\" r=\"4\" class=\"bean\"/><circle cx=\"399.4215632439343\" cy=\"36.01394931934492\" r=\"4\" class=\"bean\"/><circle cx=\"388.4218416077236\" cy=\"44.84623269035905\" r=\"4\" class=\"bean\"/><circle cx=\"393.422741342509\" cy=\"58.03691529068867\" r=\"4\" class=\"bean\"/><circle cx=\"407.51318898914747\" cy=\"57.35692210149008\" r=\"4\" class=\"bean\"/><circle cx=\"493.4997779172682\" cy=\"58.665479026313314\" r=\"4\" class=\"bean\"/><circle cx=\"499.8429981691085\" cy=\"46.065214645886286\" r=\"4\" class=\"bean\"/><circle cx=\"489.81959747994364\" cy=\"36.13875786390891\" r=\"4\" class=\"bean\"/><circle cx=\"477.28157491934036\" cy=\"42.60413456521701\" r=\"4\" class=\"bean\"/><circle cx=\"479.55605151433934\" cy=\"56.52641389867447\" r=\"4\" class=\"bean\"/><circle cx=\"52.294710674347286\" cy=\"145.46337467416606\" r=\"4\" class=\"bean\"/><circle cx=\"57.463374674166054\" cy=\"131.70528932565273\" r=\"4\" class=\"bean\"/><circle cx=\"43.705289325652714\" cy=\"126.53662532583394\" r=\"4\" class=\"bean\"/><circle cx=\"38.536625325833946\" cy=\"140.29471067434727\" r=\"4\" class=\"bean\"/><circle cx=\"136.91122156421815\" cy=\"125.64772125274325\" r=\"4\" class=\"bean\"/><circle cx=\"125.64772125274325\" cy=\"135.08877843578182\" r=\"4\" class=\"bean\"/><circle cx=\"135.08877843578182\" cy=\"146.35227874725675\" r=\"4\" class=\"bean\"/><circle cx=\"146.35227874725675\" cy=\"136.91122156421818\" r=\"4\" class=\"bean\"/><circle cx=\"230.75466500282994\" cy=\"128.1022471107571\" r=\"4\" class=\"bean\"/><circle cx=\"216.1022471107571\" cy=\"129.24533499717006\" r=\"4\" class=\"bean\"/><circle cx=\"217.24533499717006\" cy=\"143.8977528892429\" r=\"4\" class=\"bean\"/><circle cx=\"231.8977528892429\" cy=\"142.75466500282994\" r=\"4\" class=\"bean\"/><circle cx=\"319.36544783234774\" cy=\"143.33145130441196\" r=\"4\" class=\"bean\"/><circle cx=\"319.3314513044119\" cy=\"128.63455216765223\" r=\"4\" class=\"bean\"/><circle cx=\"304.63455216765226\" cy=\"128.66854869558804\" r=\"4\" class=\"bean\"/><circle cx=\"304.6685486955881\" cy=\"143.36544783234777\" r=\"4\" class=\"bean\"/><circle cx=\"499.5319652706193\" cy=\"139.31870110091737\" r=\"4\" class=\"bean\"/><circle cx=\"494.7198455548264\" cy=\"126.05798432312241\" r=\"4\" class=\"bean\"/><circle cx=\"480.6211276814133\" cy=\"126.536795294088\" r=\"4\" class=\"bean\"/><circle cx=\"476.71976055364127\" cy=\"140.093433526126\" r=\"4\" class=\"bean\"/><circle cx=\"488.4073009394997\" cy=\"147.99308575574622\" r=\"4\" class=\"bean\"/>\n",
       "    </svg>\n",
       "    "
      ],
      "text/plain": [
       "Game(pits=array([4, 4, 4, 4, 0, 5, 5, 5, 5, 4, 4, 4]), current_player=1, captures=array([0, 0]))"
      ]
     },
     "execution_count": 14,
     "metadata": {},
     "output_type": "execute_result"
    }
   ],
   "source": [
    "g = Game() # Create a new game\n",
    "g, captures, done = g.step(4) # play the 5th pit (our implementation starts at 0)\n",
    "g # Display the resulting board inline"
   ]
  },
  {
   "cell_type": "raw",
   "metadata": {},
   "source": [
    "Formal properties and representation of Awale\n",
    "---------------------------------------------\n",
    "\n",
    "Now that we know the rules, we can see that Awale\n",
    "\n",
    "* is sequential: the opponents play one after the other;\n",
    "* hold no secret information: each player has the same information about\n",
    "  the game;\n",
    "* do not rely on randomness: the state of the game depends only on the actions\n",
    "  taken sequentially by each player and an action has a deterministic result.\n",
    "\n",
    "This type of game is called a sequential perfect information game\n",
    ":cite:`osborne1994course`.\n",
    "\n",
    "We can also see that the game is a two player zero-sum game.\n",
    "\n",
    "\n",
    "1) Combinatorial Games: Games are classified by the fol-\n",
    "lowing properties:\n",
    "• zero sum: whether the reward to all players sums to zero\n",
    "(in the two-player case, whether players are in strict com-\n",
    "petition with each other);\n",
    "information: whether the state of the game is fully or par-\n",
    "tially observable to the players;\n",
    "• determinism: whether chance factors play a part (also\n",
    "known as completeness, i.e., uncertainty over rewards);\n",
    "• sequential: whether actions are applied sequentially or si-\n",
    "multaneously;\n",
    "• discrete: whether actions are discrete or applied in real\n",
    "time.\n",
    "Games with two players that are zero sum, perfect informa-\n",
    "tion, deterministic, discrete, and sequential are described as\n",
    "combinatorial games.\n",
    "\n",
    "^ \"A Survey of Monte Carlo Tree Search Methods\"\n",
    "\n",
    "Convergence.\n",
    "We consider a game to be convergent when the size of the state space decreases as the game progresses. If the size of the state space increases, the game is said to be divergent.\n",
    "In some games games like Chess, Checkers and Awari the players may capture pieces in the course of the game and may never add them back these are called convergent games :cite:`vandenherik2002`.\n",
    "On the contrary, in some others the number of pieces on the board increases over time as a player’s move consists of putting a piece on the board. Examples of these games are Tic-Tac-Toe, Connect Four and Go. Those are divergent.\n",
    "\n",
    "\n",
    "Other games in this category are for example Chess, Go, Checkers or even\n",
    "Tic-tac-toe and Connect Four. Sequential perfect information games are particularly interesting\n",
    "in computer science and artificial intelligence as they are easy to simulate."
   ]
  },
  {
   "cell_type": "raw",
   "metadata": {},
   "source": [
    "Perfect information games as finite state machines\n",
    "~~~~~~~~~~~~~~~~~~~~~~~~~~~~~~~~~~~~~~~~~~~~~~~~~~\n",
    "\n",
    "When viewed from an external point of view, these types of games can be\n",
    "modelized as finite states machines with boards being states (the initial board\n",
    "is the initial state), each player's action being a transition and wins and draws\n",
    "being terminal states.\n",
    "\n",
    "It might be tempting to try to enumerate every possible play of those games by\n",
    "starting a game and recursively trying each legal action until the end of the game\n",
    "to find the best move for each state.\n",
    "\n",
    "Unfortunately, most of the time, this is not a feasible approach due to the size\n",
    "of the state space. As an example, Romein et al. claims that Awale has\n",
    "889,063,398,406 legal positions :cite:`romein2003solving` and the exact number\n",
    "(:math:`\\approx 2.08 \\times 10^{170}`) of legal positions in Go (another popular perfect information game)\n",
    "is so big that it has only recently been determined :cite:`tromp2016`. Such state space are too\n",
    "big to be quickly enumerated."
   ]
  },
  {
   "cell_type": "raw",
   "metadata": {},
   "source": [
    "Tree representation\n",
    "~~~~~~~~~~~~~~~~~~~\n",
    "\n",
    "A [combinatorial game XXX] like Awale can be represented as a tree in a straightforward way where every node is a state of the game.\n",
    "The root of the tree represents the initial state.\n",
    "If in a state :math:`s` the current player plays action :math:`i` resulting in state :math:`s'` then :math:`s'` will be the i-th child of the node representing :math:`s`.\n",
    "\n",
    "This results in the following properties:\n",
    "    - As the current player at the root node is South and that players alternate after each turn,\n",
    "      the tree containsalternating layers of current players:\n",
    "      the current player for nodes with an even depth is South and for odd depths is North;\n",
    "    - The leaf nodes of the tree correspond to final states;\n",
    "    - The path from the root to a leaf thus represents an instance of a full game.\n",
    "   \n",
    ".. todo:: Insert a figure of an tree here\n",
    "\n",
    "\n",
    "We can now define the branching factor: the maximum number of children of a node in the game.\n",
    "In Awale the player can choose to sow his seeds from one of his non-empty pits.\n",
    "As the player has 6 pits, the branching factor is 6.\n",
    "\n",
    "We now implement this tree representation in Python by inheriting from :code:`Game()` class previously defined so that a state can hold references to its parent and children."
   ]
  },
  {
   "cell_type": "code",
   "execution_count": 15,
   "metadata": {},
   "outputs": [],
   "source": [
    "from __future__ import annotations\n",
    "from typing import Optional, List\n",
    "from weakref import ref, ReferenceType\n",
    "\n",
    "@dataclass\n",
    "class TreeGame(Game):\n",
    "    # Hold an optional reference to the parent state\n",
    "    parent: Optional[ReferenceType[Game]] = None\n",
    "    # Hold a list of 6 optional references to the children\n",
    "    children: List[Optional[Game]] = field(default_factory=lambda: [None] * 6)\n",
    "    depth: int = 0"
   ]
  },
  {
   "cell_type": "raw",
   "metadata": {},
   "source": [
    "Next, we overload the ``Game.step(i)`` method so that we do not compute twice state if it was already in the tree. If a new node was generated, we keep a reference to the parent when we create a new child."
   ]
  },
  {
   "cell_type": "code",
   "execution_count": 16,
   "metadata": {},
   "outputs": [],
   "source": [
    "class TreeGame(TreeGame):\n",
    "    ...\n",
    "    \n",
    "    def step(self, action):\n",
    "        # If we already did compute the children node, just return it\n",
    "        if self.children[action] is not None:\n",
    "            new_game = self.children[action]\n",
    "            captures = new_game.captures[self.current_player] - self.captures[self.current_player]\n",
    "            return new_game, captures, new_game.game_finished\n",
    "        # If not, call the original `step()` method and keep references in both directions\n",
    "        else:\n",
    "            new_game, captures, finished = super().step(action)\n",
    "            new_game.parent = ref(self)\n",
    "            new_game.depth = self.depth + 1\n",
    "            self.children[action] = new_game\n",
    "            return new_game, captures, finished"
   ]
  },
  {
   "cell_type": "code",
   "execution_count": 17,
   "metadata": {},
   "outputs": [],
   "source": [
    "class TreeGame(TreeGame):\n",
    "    ...\n",
    "\n",
    "    @property\n",
    "    def successors(self):\n",
    "        children = [x for x in self.children if x is not None]\n",
    "        successors = children + list(itertools.chain(*[x.successors for x in children]))\n",
    "        return successors\n",
    "    \n",
    "    @property\n",
    "    def unvisited_actions(self):\n",
    "        return [i for i, x in enumerate(self.children) if x is None]\n",
    "\n",
    "    @property\n",
    "    def legal_unvisited_actions(self):\n",
    "        return list(set(self.unvisited_actions).intersection(set(self.legal_actions)))\n",
    "    \n",
    "    @property\n",
    "    def expanded_children(self):\n",
    "        return [x for x in self.children if x is not None]\n",
    "    \n",
    "    @property\n",
    "    def is_fully_expanded(self):\n",
    "        legal_actions = set(self.legal_actions)\n",
    "        unvisited_actions = set(self.unvisited_actions)\n",
    "        return len(legal_actions.intersection(unvisited_actions)) == 0\n",
    "    \n",
    "    @property\n",
    "    def is_leaf_game(self):\n",
    "        return self.children == [None] * 6"
   ]
  },
  {
   "cell_type": "raw",
   "metadata": {},
   "source": [
    "================================================\n",
    "Artificial Intelligence approaches to play Awale\n",
    "================================================\n",
    "\n",
    "Many algorithms have been proposed and studied to play [sequential perfect information XXX] games.\n",
    "A few examples detailed here are retrograde analysis, Minimax, :math:`\\alpha-\\beta` pruning,\n",
    "Monte Carlo tree search (MCTS) and the new approch from Deepmind: Alpha Zero :cite:`AlphaGoZero`.\n",
    "\n",
    "We will quickly present those and then focus on MCTS and its variants as they are computationaly feasible and do not require expert knowledge about the given game to make reasonable decisions.\n",
    "\n",
    "Solving games\n",
    "-------------\n",
    "\n",
    "**Theorem** :cite:`neumann1928` In every two-player game (with perfect information) in which the set of outcomes is :math:`0 = \\{I \\, wins, II \\, wins, Draw\\}`, one and only one of the following three alternatives holds:\n",
    " 1. Player :math:`I` has a winning strategy\n",
    " 2. Player :math:`II` has a winning strategy\n",
    " 3. Each of the two players has a strategy guaranteeing at least a draw.\n",
    " \n",
    "Solve a position.\n",
    "\n",
    "A game where all positions are solved is a solved game\n",
    "\n",
    "Define:\n",
    " - agent policy\n",
    " \n",
    "As stated in Section XXX, the branching factor of Awale is 6. This is very small compared to the branching factor of 19 for the game of Go and makes Awale much easier to explore and play.\n",
    "\n",
    "If we build the complete tree, we compute every possible state in the game and every\n",
    "leaf of the tree is a final state (end of a game). As said, previously, computing the complete tree is not\n",
    "ideal for Awale (it has :math:`\\approx 8 \\times 10^{11}` nodes) and\n",
    "computationally impossible for games with a high branching factor (unless very shallow).\n",
    "\n",
    "\n",
    "\n",
    "A strongly solved game is defined by Allis :cite:`Allis94searchingfor` as:\n",
    "\n",
    "    For all legal positions, a strategy has been determined to\n",
    "    obtain the game-theoretic value of the position, for both players, under\n",
    "    reasonable resources.\n",
    "\n",
    "A solved game is, of course, much less interesting to study than an\n",
    "unsolved one as we could just create an agent that has the knowledge of each\n",
    "game-theoretic position values and can thus perfectly play.\n",
    "\n",
    "(:math:`m,n`)-Kalah is a game in the Mancala family with :math:`m` pits per\n",
    "side and :math:`n` seeds in each pit plus two extra pits with a special role.\n",
    "It has been solved in 2000 for :math:`m \\leq 6`  and :math:`n\n",
    "\\leq 6` except (:math:`6,6`) by :cite:`irving2000solving` and in\n",
    "2011 for :math:`n = 6, m=6` by :cite:`kalah66`.\n",
    "\n",
    "\n",
    "\n",
    "The above-mentioned results for Kalah and Awale both use an almost brute-force\n",
    "method to solve the game and use a database of all possible states. The database\n",
    "used by :cite:`romein2003solving` has 204 billion entries and weighs 178GiB.\n",
    "Such a huge database is of course not practical and  we thus think  there is still room for\n",
    "improvement if we can create an agent with a policy that does not need a\n",
    "exhaustive database, even if the agent is not capable of a perfect play.\n",
    "\n",
    "\n",
    "\n",
    "Retrograde analysis\n",
    "-------------------\n",
    "\n",
    "\n",
    "For both divergent and convergent games search algorithms can prove the game result for positions near\n",
    "the end of a game. However, for divergent games the number of endgame\n",
    "positions is so big that enumerating all of them is computationally impossible (except for trivial\n",
    "games like Tic-Tac-Toe). However, for convergent games, the number of positions\n",
    "near the end of the game is small. Usually small enough to traverse them all, and collect\n",
    "their game values in a database, a so called endgame database.\n",
    "\n",
    "Retrograde Analysis computes endgame databases by going backward from values of final\n",
    "positions towards the initial position :cite:`goot2001`.\n",
    "First, Retrograde Analysis identifies all final positions in which the game value is known.\n",
    "By making reverse moves from these final positions the game value of some non-final positions can be deduced. And by making reverse moves from these newly proven non-final positions, the game value of other non-final positions can be deduced. This can continue either by running of available memory or by having enumerated all the legal positions in the game.\n",
    "\n",
    "Ströhlein was the first researcher who came up with the idea to create endgame databases and applied his idea to chess :cite:`endgame1970`.\n",
    "The first endgame database for Awale was created by :cite:`allis1995` and was followed by many others, while the quest was ended by :cite:`romein2003solving` publishing a database for all legal positions.\n",
    "\n",
    "Their claim from :cite:`romein2003solving` has since been challenged by Víktor Bautista i Roca in a paper published in XXX.\n",
    "Bautista i Roca claims that several end states in the database are incorrect and that the proof is thus invalid.\n",
    "As both the database made by Romein and the paper by Bautista i Roca are not anymore available\n",
    "publicly, we cannot know who is right.\n",
    "\n",
    "Furthermore, :cite:`romein2003solving` makes in his paper an assumption without proof that \n",
    "\n",
    "    Although captured stones\n",
    "    contribute to a position's final outcome, the best\n",
    "    move from a position does not depend on them.\n",
    "\n",
    "We do not provide a proof that this assumption is false, but it seems incorrect to us and think it would deserve a more formal explanation. Indeed, we can think of a mind experiment where XXX\n",
    "\n",
    ".. todo:: Formal proof for Romein \n",
    "\n",
    "\n",
    "Minimax\n",
    "-------\n",
    "\n",
    "Alpha-Beta pruning Minimax\n",
    "~~~~~~~~~~~~~~~~~~~~~~~~~~\n",
    "\n",
    "\n",
    "Monte Carlo Tree Search\n",
    "-----------------------\n",
    "\n",
    "In this subsection, we define Markov Decision Processes (MDP) and modelize Awale with this framework. We then describe and detail Monte Carlo Tree Search, a policy-optimization algorithm for finite-horizon, finite-size MDPs. \n",
    "\n",
    "Markov descision processes\n",
    "~~~~~~~~~~~~~~~~~~~~~~~~~~\n",
    "\n",
    "In decision theoryn a Markov decision process (MDP) models sequential decision problems in fully observable environments.\n",
    "In this model, an agent iteratively observes the\n",
    "current state, selects an action, observes a consequential probabilistic state transition, and receives a reward\n",
    "according to the outcome.\n",
    "Importantly, the agent decides each action based on the current state alone and not the full history of past states, providing a Markov independence property :cite:`markov1954`.\n",
    "\n",
    "Mathematically, an MDP consists of the following components:\n",
    " - a state space, :math:`X` ;\n",
    " - an action space, :math:`A`;\n",
    " - a transition probability function, :math:`P : X × A × X \\rightarrow [0, 1]`; and\n",
    " - a reward function, :math:`R : X × A \\rightarrow [0, 1]`.\n",
    "\n",
    "If all transitions from a state have zero probability, the state is called a terminal state. By analogy, states that are not terminal are called nonterminal.\n",
    "\n",
    "Markov games\n",
    "~~~~~~~~~~~~\n",
    "\n",
    "A Markov game can be thought of an extension of MDP environments\n",
    "where a player may take an action from a state, but the reward and state transitions are uncertain as they depend on the adversary’s strategy [2].\n",
    "\n",
    "[2] Michael Littman. Markov games as a framework for multi-agent reinforcement learning, 1994\n",
    "\n",
    "For most common games like Go and Chess the transition and reward functions are deterministic given the actions of the player and the opponent, but we consider them non-deterministic values sine the player and opponent may use randomized strategies.\n",
    "Finding an optimal policy in this scenario seems impossible since it depends critically on which adversary is used. The way this is resolved is by evaluating a policy with respect to the worst opponent for that policy.\n",
    "The goal now is to find a policy that will maximize the reward knowing that this worst case opponent will then minimize the reward after the action is played (the fact that this is a zero-sum game makes it so the opponent will maximizes your negative reward); this idea is used widely in practice in what is known as\n",
    "the minimax principle. This optimal policy is a bit pessimistic since you won’t always be playing against a worst-case opponent for that policy, but it does allow to construct a policy for a game that can be used against any adversary.\n",
    "\n",
    "^ Lecture 19: Monte Carlo Tree Search: : Kevin Jamieson\n",
    "^ https://pdfs.semanticscholar.org/574e/6872df3fe9b89afa98a7bdeef710a931da34.pdf\n",
    "\n",
    "Monte Carlo Tree Search\n",
    "~~~~~~~~~~~~~~~\n",
    "\n",
    "As Awale can be represented as an MDP, we could be tempted to use the usual framework of Q-Learning [Cite XXX] to find the best policy to maximise our reward. But as the state space is huge, this is computationally difficult or even impossible in memory and time constrained cases.\n",
    "To overcome this computational problem, the MCTS method constructs only a part of game the tree by sampling and tries to estimate the chance of winning based on this information.\n",
    "\n",
    "Algorithm\n",
    "~~~~~~~~\n",
    "\n",
    ".. figure:: _static/mcts-algorithm.png\n",
    "\n",
    "   The 4 steps of MCTS :cite:`chaslot2008monte`\n",
    "\n",
    "\n",
    "The (partial) tree is constructed as follows:\n",
    "\n",
    "* Selection: starting at the root node, recursively choose a child until\n",
    "  a leaf :math:`L` is reached\n",
    "* Expansion: if :math:`L` is not a terminal node\\footnote{As the tree is\n",
    "  not complete, a leaf could be a node that is missing its children, not\n",
    "  necessarily a terminal state}, create a child :math:`C`\n",
    "* Simulation: run a playout from :math:`C` until a terminal node :math:`T` is\n",
    "  reached (play a full game)\n",
    "* Backpropagation: update the counters described below of each ancestor\n",
    "  of :math:`T`.\n",
    "\n",
    "\n",
    "Each node holds 3 counters : (:math:`W_S`), the number of simulations using this node ended that\n",
    "with a win for South;  and North (:math:`W_N`). From this\n",
    "counters, a probability of North winning conditional on a given action can be computed\n",
    "immediately: :math:`\\frac{W_N}{N}`.\n",
    "\n",
    "This sampling can be ran as many times as allowed (most of the\n",
    "time, the agent is time constrained). One can also stop the sampling earlier if\n",
    "\n",
    "each time refining the probability of\n",
    "winning when choosing a child of the root node. When we are done sampling, the\n",
    "agent chooses the child with the highest probability of winning and plays the\n",
    "corresponding action in the game.\n",
    "\n",
    "the total number of times a node has been played during a\n",
    "sampling iteration (:math:`N`)"
   ]
  },
  {
   "cell_type": "code",
   "execution_count": 18,
   "metadata": {},
   "outputs": [],
   "source": [
    "@dataclass\n",
    "class TreeStatsGame(TreeGame):\n",
    "    wins: np.array = field(default_factory=lambda: np.zeros(2, dtype=int))\n",
    "    n_playouts: int = 0\n",
    "    \n",
    "    \n",
    "    def update_stats(self, winner):\n",
    "        if winner in [0, 1]:\n",
    "            self.wins[winner] += 1\n",
    "        self.n_playouts += 1\n",
    "        if self.parent and self.parent():\n",
    "            self.parent().update_stats(winner)"
   ]
  },
  {
   "cell_type": "raw",
   "metadata": {},
   "source": [
    "================================\n",
    "Monte Carlo tree search variants\n",
    "================================\n",
    "\n",
    "Node Selection\n",
    "--------------\n",
    "\n",
    "In step 1 and 3 of the algorithm, we have to choose nodes.\n",
    "There are multiples ways to choose those.\n",
    "\n",
    "In the original MCTS we take a child at random each time.\n",
    "This is easy to implement but it is not effective as it explores every part of the tree even if a part has no chance of leading to a win for the player."
   ]
  },
  {
   "cell_type": "raw",
   "metadata": {},
   "source": [
    "Upper Confidence Bounds for Trees\n",
    "---------------------------------\n",
    "\n",
    "A better method would be asymmetric and explore more often the interesting parts of the\n",
    "tree. Kocsis and Szepervari :cite:`kocsis2006bandit` defined Upper Confidence\n",
    "Bounds for Trees (UCT), a method mixing vanilla MCTS and Upper Confidence Bounds\n",
    "(UCB).\n",
    "\n",
    "Indeed, in step 1, selecting the node during the tree descent that maximizes the\n",
    "probability of winning is analogous to the multi-armed bandit problem in which a\n",
    "player has to choose the slot machine that maximizes the estimated reward.\n",
    "\n",
    "The UCB is \n",
    "\n",
    ".. math::\n",
    "\n",
    "    \\frac{W_1}{N} + c \\times \\sqrt{\\frac{ln N'}{N}},\n",
    "\n",
    "where :math:`N'` is the number of times the\n",
    "parent node has been visited and :math:`c` is a parameter that can be tuned to balance exploitation of known wins and exploration of\n",
    "less visited nodes. Kocsis et al. [has shown XXX faux] that :math:`\\frac{\\sqrt{2}}{2}`\n",
    ":cite:`kocsis2006bandit` is a good value when rewards are in :math:`[0, 1]`.\n",
    "\n",
    "In step 3, the playouts are played at random as it is the first time these nodes\n",
    "are seen and we do not have a generic evaluation function do direct the playout\n",
    "towards 'better' states."
   ]
  },
  {
   "cell_type": "raw",
   "metadata": {},
   "source": [
    "Informed UCT\n",
    "------------\n",
    "\n",
    "Citation:\n",
    "\n",
    "> Surprisingly,\n",
    "> increasing the bias in the random play-outs can\n",
    "> occasionally weaken the strength of a program using the\n",
    "> UCT algorithm even when the bias is correlated with Go\n",
    "> playing strength. One instance of this was reported by Gelly\n",
    "> and Silver [#GS07]_, and our group observed a drop in strength\n",
    "> when the random play-outs were encouraged to form patterns\n",
    "> commonly occurring in computer Go games [#Fly08]_."
   ]
  },
  {
   "cell_type": "raw",
   "metadata": {},
   "source": [
    "Alpha Zero\n",
    "----------\n",
    "\n",
    "To replace the random play in step 3, D. Silver et al. propose\n",
    ":cite:`AlphaGoZero` to use a neural network to estimate the value of a\n",
    "game state without having to play it. This can greatly enhances the performance\n",
    "of the algorithm as much less playouts are required."
   ]
  },
  {
   "cell_type": "raw",
   "metadata": {},
   "source": [
    "=================\n",
    "Empirical results\n",
    "=================\n",
    "\n",
    "\n",
    "Comparison method\n",
    "------------------\n",
    "\n",
    "How to compare A and B\n",
    "~~~~~~~~~~~~~~~~~~~~~~\n",
    "\n",
    "\n",
    "\n",
    "We wish to compare algorithms A and B. The probability that A wins is denoted by :math:`p` and is unknown (the probability that B wins is :math:`1-p`). Our nulhypothesis is that :math:`p=0.50` and the alternative hypothesis is that :math:`p \\neq 0.50`. To compare algorithms A and B, we run :math:`N` simulations and A wins :math:`n` times (thus B wins :math:`N-n` times). Using the Python function xxx, we then compute the p-value. If it is lower than :math:`5\\%`, we traditionally reject the nulhypothesis. This guarantees that, conditional on H0 being true, the probability of making an incorrect decision is :math:`5\\%`. But if H1 is true, the probability of an incorrect decision is not necessarily :math:`5\\%`: it depends on the number :math:`N` of simulations. To ensure that the probability of an incorrect decision, conditional on H1, be acceptable, we resort to the concept of statistical power.\n",
    "\n",
    "Suppose the true proability p is :math:`0.75`. This is very far from the nulhypothesis. In that case, we want the probability of choosing H1 (not making an incorrect decision) to be high (for instance :math:`95\\%`). This probability is the power and can be computed by means of the R function powerBinom implemented in the R package exactci:\n",
    "powerBinom(power = 0.95, p0 = 0.5, p1 = 0.75, sig.level = 0.05, alternative = \"two.sided\")\n",
    "The output of this command is the number :math:`N` of simulations needed to achieve the desired power and it is 49.\n",
    "\n",
    "How to compare more than 2\n",
    "~~~~~~~~~~~~~~~~~~~~~~~~~~\n",
    "\n",
    "1. Est-ce que c'est transitif ?\n",
    "\n",
    "Non, preuve théorique de cyclicité non transitive\n",
    "\n",
    "A .Si on opti un paramètre, on va espérer qu'à l'inérieur d'une même famille, il y a un paramètre qui domine tous les autres\n",
    "\n",
    "B. Entre familles, on va jouer le tournoi complet.\n",
    "\n",
    "\n",
    "Algorithm tuning\n",
    "----------------\n",
    "\n",
    "Eps-greedy\n",
    "~~~~~~~~~~\n",
    "\n",
    "10 valeurs de eps, faire petit tournoi. On imagine que c'est relativement smooth\n",
    "\n",
    "MCTS\n",
    "~~~~~~~~~~\n",
    "\n",
    "On part sur MCTS 30s pour que ce soit réaliste\n",
    "On le compare à MCTS 5s, 10s, 20s, 40s, 80s, on plot la courbe \n",
    "\n",
    "UCT c-tuning\n",
    "~~~~~~~~~~\n",
    "\n",
    "\n",
    "\n",
    "\n",
    "Run + result\n",
    "------------\n",
    "\n",
    "\n",
    "Ranking\n",
    "--------\n",
    "\n",
    "On a beaucoup d'algos, Il y a de la recherche sur le ranking, il n'y a pas de consensurs,C'est hors sujet, je ne vais pas plus loin\n",
    "https://www.researchgate.net/publication/287630111_A_Comparison_between_Different_Chess_Rating_Systems_for_Ranking_Evolutionary_Algorithms\n"
   ]
  },
  {
   "cell_type": "raw",
   "metadata": {},
   "source": [
    "==========\n",
    "Conculsion\n",
    "=========="
   ]
  },
  {
   "cell_type": "raw",
   "metadata": {},
   "source": [
    "========\n",
    "Appendix\n",
    "========\n",
    "\n",
    "Bibliography\n",
    "------------\n",
    "\n",
    ".. bibliography:: refs.bib\n",
    "   :style: custom"
   ]
  },
  {
   "cell_type": "raw",
   "metadata": {},
   "source": [
    "Footnotes\n",
    "---------\n",
    "\n",
    ".. [#source_kalah] Picture by Adam Cohn under Creative Commonds license https://www.flickr.com/photos/adamcohn/3076571304/\n",
    "\n",
    ".. [#Fly08] Jennifer Flynn. Independent study quarterly reports.\n",
    " http://users.soe.ucsc.edu/~charlie/projects/SlugGo/, 2008\n",
    " \n",
    ".. [#GS07] Sylvain Gelly and David Silver. Combining online and offline\n",
    " knowledge in uct. In ICML ’07: Proceedings of the 24th\n",
    " Internatinoal Conference on Machine Learning, pages 273–280.\n",
    " ACM, 2007."
   ]
  }
 ],
 "metadata": {
  "celltoolbar": "Tags",
  "kernelspec": {
   "display_name": "Python 3",
   "language": "python",
   "name": "python3"
  },
  "language_info": {
   "codemirror_mode": {
    "name": "ipython",
    "version": 3
   },
   "file_extension": ".py",
   "mimetype": "text/x-python",
   "name": "python",
   "nbconvert_exporter": "python",
   "pygments_lexer": "ipython3",
   "version": "3.7.9"
  }
 },
 "nbformat": 4,
 "nbformat_minor": 2
}
