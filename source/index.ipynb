{
 "cells": [
  {
   "cell_type": "raw",
   "metadata": {},
   "source": [
    "========================================\n",
    "Playing Mancala with MCTS and Alpha Zero\n",
    "========================================\n",
    "\n",
    ".. contents:: Table of Contents\n",
    "   :depth: 2\n",
    "\n",
    ".. topic:: About this work\n",
    "\n",
    "    This work is a thesis submitted to the Faculty of Sciences in partial\n",
    "    fulfillment of the requirements for the degree of Master’s in Computer Science.\n",
    "\n",
    "    This work was originally published on https://mancala.ml as a web page consisting in text\n",
    "    and notebook cells mixed together.\n",
    "\n",
    "    The source of this document along with the source code of all experiments\n",
    "    are available on GitHub_.\n",
    "\n",
    "    .. _GitHub: https://github.com/C4ptainCrunch/thesis"
   ]
  },
  {
   "cell_type": "raw",
   "metadata": {},
   "source": [
    "Mancala\n",
    "-------\n",
    "\n",
    "Mancala is a ancient family of games played played on many continents :cite:`deVoogt2008`.\n",
    "The word mancala comes from the Arabic word \"نقلة\"transliterated \"naqala\"\n",
    "meaning literally \"to move\". Mancala games usually consists of two\n",
    "row of pits each containing a proportionate amount of seeds,\n",
    "stones or shells. Usually, these games are played by two opponents who play sequentially.\n",
    "The goal for each opponent is to capture as many seeds as possible before the other.\n",
    "\n",
    ".. figure:: _static/intro-kalah.jpg\n",
    "\n",
    "  A wooden Mancala game [#source_kalah]_\n",
    "\n",
    "We will focus on Awalé (also sometimes called Oware,  Owari or Ayo), originating from\n",
    "Ghana. There are too many other existing variations to list them all here, but a\n",
    "few notable ones are Wari, Bao, Congkak and Kalah, a modern version invented by\n",
    "William Julius Champion Jr. circa 1940."
   ]
  },
  {
   "cell_type": "code",
   "execution_count": 1,
   "metadata": {
    "tags": [
     "ha"
    ]
   },
   "outputs": [
    {
     "name": "stdout",
     "output_type": "stream",
     "text": [
      "importing Jupyter notebook from /home/nikita/Code/Thesis/source/lib/draw.ipynb\n"
     ]
    }
   ],
   "source": [
    "import numpy as np\n",
    "import import_ipynb\n",
    "from lib.draw import board_to_svg\n",
    "from IPython.display import SVG"
   ]
  },
  {
   "cell_type": "raw",
   "metadata": {},
   "source": [
    "Awalé\n",
    "-----\n",
    "\n",
    "The subject of our study, Awalé is played on a board made of two rows of six\n",
    "pits. Each row is owned by a player that sits in front of it.\n",
    "In the initial state of the game every pit contains 4 seeds thus the game contains\n",
    "48 seeds in total.\n",
    "\n",
    ".. figure:: /_static/awale.jpg\n",
    "\n",
    "   A typical Awalé board in the start position.\n",
    "\n",
    "The board can be schematized like this, every big circle representing a pit and every small disc representing a seed. The 6 pits from the top row belonging to player A and the 6 others belonging to player B."
   ]
  },
  {
   "cell_type": "code",
   "execution_count": 2,
   "metadata": {
    "tags": [
     "hc"
    ]
   },
   "outputs": [
    {
     "data": {
      "image/svg+xml": [
       "<svg height=\"240\" width=\"700\">\n",
       "      <style>\n",
       "        circle {\n",
       "          fill: none;\n",
       "          stroke: #000;\n",
       "          stroke-width: 2;\n",
       "        }\n",
       "        .bean {\n",
       "          fill: #000\n",
       "        }\n",
       "        .highlight {\n",
       "          stroke: red;\n",
       "        }\n",
       "      </style>\n",
       "\n",
       "      <circle cx=\"48.0\" cy=\"48.0\" r=\"40\"/><circle cx=\"136.0\" cy=\"48.0\" r=\"40\"/><circle cx=\"224.0\" cy=\"48.0\" r=\"40\"/><circle cx=\"312.0\" cy=\"48.0\" r=\"40\"/><circle cx=\"400.0\" cy=\"48.0\" r=\"40\"/><circle cx=\"488.0\" cy=\"48.0\" r=\"40\"/><circle cx=\"48.0\" cy=\"136.0\" r=\"40\"/><circle cx=\"136.0\" cy=\"136.0\" r=\"40\"/><circle cx=\"224.0\" cy=\"136.0\" r=\"40\"/><circle cx=\"312.0\" cy=\"136.0\" r=\"40\"/><circle cx=\"400.0\" cy=\"136.0\" r=\"40\"/><circle cx=\"488.0\" cy=\"136.0\" r=\"40\"/>\n",
       "      <circle class=\"bean\" cx=\"52.84448524144533\" cy=\"57.19407215250231\" r=\"4\"/><circle class=\"bean\" cx=\"57.19407215250231\" cy=\"43.15551475855467\" r=\"4\"/><circle class=\"bean\" cx=\"43.15551475855467\" cy=\"38.80592784749769\" r=\"4\"/><circle class=\"bean\" cx=\"38.80592784749769\" cy=\"52.84448524144533\" r=\"4\"/><circle class=\"bean\" cx=\"142.4575839727566\" cy=\"56.14245719883116\" r=\"4\"/><circle class=\"bean\" cx=\"144.14245719883115\" cy=\"41.54241602724342\" r=\"4\"/><circle class=\"bean\" cx=\"129.54241602724343\" cy=\"39.85754280116884\" r=\"4\"/><circle class=\"bean\" cx=\"127.85754280116885\" cy=\"54.45758397275658\" r=\"4\"/><circle class=\"bean\" cx=\"230.9458834033145\" cy=\"55.730116671018635\" r=\"4\"/><circle class=\"bean\" cx=\"231.73011667101864\" cy=\"41.0541165966855\" r=\"4\"/><circle class=\"bean\" cx=\"217.0541165966855\" cy=\"40.269883328981365\" r=\"4\"/><circle class=\"bean\" cx=\"216.26988332898136\" cy=\"54.9458834033145\" r=\"4\"/><circle class=\"bean\" cx=\"322.2724407382183\" cy=\"46.42616351554742\" r=\"4\"/><circle class=\"bean\" cx=\"310.42616351554744\" cy=\"37.72755926178175\" r=\"4\"/><circle class=\"bean\" cx=\"301.7275592617817\" cy=\"49.57383648445257\" r=\"4\"/><circle class=\"bean\" cx=\"313.57383648445256\" cy=\"58.27244073821825\" r=\"4\"/><circle class=\"bean\" cx=\"408.45808523828055\" cy=\"41.96172258818951\" r=\"4\"/><circle class=\"bean\" cx=\"393.9617225881895\" cy=\"39.541914761719454\" r=\"4\"/><circle class=\"bean\" cx=\"391.54191476171945\" cy=\"54.03827741181048\" r=\"4\"/><circle class=\"bean\" cx=\"406.0382774118105\" cy=\"56.458085238280546\" r=\"4\"/><circle class=\"bean\" cx=\"493.57332041438053\" cy=\"56.7714365732558\" r=\"4\"/><circle class=\"bean\" cx=\"496.7714365732558\" cy=\"42.42667958561948\" r=\"4\"/><circle class=\"bean\" cx=\"482.42667958561947\" cy=\"39.2285634267442\" r=\"4\"/><circle class=\"bean\" cx=\"479.2285634267442\" cy=\"53.57332041438052\" r=\"4\"/><circle class=\"bean\" cx=\"55.60432125019747\" cy=\"143.08338184229785\" r=\"4\"/><circle class=\"bean\" cx=\"55.08338184229787\" cy=\"128.39567874980253\" r=\"4\"/><circle class=\"bean\" cx=\"40.39567874980253\" cy=\"128.91661815770212\" r=\"4\"/><circle class=\"bean\" cx=\"40.91661815770213\" cy=\"143.60432125019747\" r=\"4\"/><circle class=\"bean\" cx=\"137.56921653591021\" cy=\"146.27314749545755\" r=\"4\"/><circle class=\"bean\" cx=\"146.27314749545755\" cy=\"134.43078346408979\" r=\"4\"/><circle class=\"bean\" cx=\"134.43078346408979\" cy=\"125.72685250454244\" r=\"4\"/><circle class=\"bean\" cx=\"125.72685250454244\" cy=\"137.56921653591021\" r=\"4\"/><circle class=\"bean\" cx=\"224.06628632231215\" cy=\"125.60790655721985\" r=\"4\"/><circle class=\"bean\" cx=\"213.60790655721985\" cy=\"135.93371367768785\" r=\"4\"/><circle class=\"bean\" cx=\"223.93371367768785\" cy=\"146.39209344278015\" r=\"4\"/><circle class=\"bean\" cx=\"234.39209344278015\" cy=\"136.06628632231215\" r=\"4\"/><circle class=\"bean\" cx=\"320.1082587479162\" cy=\"129.49952770355566\" r=\"4\"/><circle class=\"bean\" cx=\"305.49952770355566\" cy=\"127.89174125208379\" r=\"4\"/><circle class=\"bean\" cx=\"303.8917412520838\" cy=\"142.50047229644434\" r=\"4\"/><circle class=\"bean\" cx=\"318.50047229644434\" cy=\"144.1082587479162\" r=\"4\"/><circle class=\"bean\" cx=\"406.36272704857646\" cy=\"144.21679405275037\" r=\"4\"/><circle class=\"bean\" cx=\"408.21679405275034\" cy=\"129.63727295142357\" r=\"4\"/><circle class=\"bean\" cx=\"393.63727295142354\" cy=\"127.78320594724963\" r=\"4\"/><circle class=\"bean\" cx=\"391.78320594724966\" cy=\"142.36272704857643\" r=\"4\"/><circle class=\"bean\" cx=\"493.44058451029696\" cy=\"127.14562028223791\" r=\"4\"/><circle class=\"bean\" cx=\"479.1456202822379\" cy=\"130.559415489703\" r=\"4\"/><circle class=\"bean\" cx=\"482.55941548970304\" cy=\"144.85437971776207\" r=\"4\"/><circle class=\"bean\" cx=\"496.8543797177621\" cy=\"141.440584510297\" r=\"4\"/>\n",
       "    </svg>"
      ],
      "text/plain": [
       "<IPython.core.display.SVG object>"
      ]
     },
     "execution_count": 2,
     "metadata": {},
     "output_type": "execute_result"
    }
   ],
   "source": [
    "board = np.full((2, 6), 4)\n",
    "SVG(board_to_svg(board))"
   ]
  },
  {
   "cell_type": "raw",
   "metadata": {},
   "source": [
    "Rules of the game\n",
    "-----------------\n",
    "\n",
    "The goal for both players is to capture more seeds than its opponent. As the\n",
    "game has 48 seeds, capturing 25 is enough to win and end the game.\n",
    "\n",
    "Each player plays alternatively, without the right to pass their turn. A\n",
    "player's turn consists in choosing one of his non-empty pits, pick all seeds\n",
    "contained in the pit and seed them one by one in every consecutive pits on the right\n",
    "(rotating counter-clockwise). The player thus has at most 6 possible moves at\n",
    "each turn.\n",
    "\n",
    "Usually, the player that starts the game is the oldest player. Here, we will start at random.\n",
    "\n",
    "As an example, if we start from the initial state showed above, the first player to move is B (on the bottom) and he chooses the 4th pit, the board will then have the following state [#numbers]_."
   ]
  },
  {
   "cell_type": "code",
   "execution_count": 3,
   "metadata": {
    "tags": [
     "hc"
    ]
   },
   "outputs": [
    {
     "data": {
      "image/svg+xml": [
       "<svg height=\"240\" width=\"700\">\n",
       "      <style>\n",
       "        circle {\n",
       "          fill: none;\n",
       "          stroke: #000;\n",
       "          stroke-width: 2;\n",
       "        }\n",
       "        .bean {\n",
       "          fill: #000\n",
       "        }\n",
       "        .highlight {\n",
       "          stroke: red;\n",
       "        }\n",
       "      </style>\n",
       "\n",
       "      <circle cx=\"48.0\" cy=\"48.0\" r=\"40\"/><text x=\"82.0\" y=\"82.0\">4</text><circle cx=\"136.0\" cy=\"48.0\" r=\"40\"/><text x=\"170.0\" y=\"82.0\">4</text><circle cx=\"224.0\" cy=\"48.0\" r=\"40\"/><text x=\"258.0\" y=\"82.0\">4</text><circle cx=\"312.0\" cy=\"48.0\" r=\"40\"/><text x=\"346.0\" y=\"82.0\">4</text><circle cx=\"400.0\" cy=\"48.0\" r=\"40\"/><text x=\"434.0\" y=\"82.0\">5</text><circle cx=\"488.0\" cy=\"48.0\" r=\"40\"/><text x=\"522.0\" y=\"82.0\">5</text><circle cx=\"48.0\" cy=\"136.0\" r=\"40\"/><text x=\"82.0\" y=\"170.0\">4</text><circle cx=\"136.0\" cy=\"136.0\" r=\"40\"/><text x=\"170.0\" y=\"170.0\">4</text><circle cx=\"224.0\" cy=\"136.0\" r=\"40\"/><text x=\"258.0\" y=\"170.0\">4</text><circle class=\"highlight\" cx=\"312.0\" cy=\"136.0\" r=\"40\"/><text x=\"346.0\" y=\"170.0\">0</text><circle cx=\"400.0\" cy=\"136.0\" r=\"40\"/><text x=\"434.0\" y=\"170.0\">5</text><circle cx=\"488.0\" cy=\"136.0\" r=\"40\"/><text x=\"522.0\" y=\"170.0\">5</text>\n",
       "      <circle class=\"bean\" cx=\"52.76750005861058\" cy=\"38.76577327595059\" r=\"4\"/><circle class=\"bean\" cx=\"38.76577327595059\" cy=\"43.23249994138943\" r=\"4\"/><circle class=\"bean\" cx=\"43.23249994138943\" cy=\"57.23422672404941\" r=\"4\"/><circle class=\"bean\" cx=\"57.23422672404941\" cy=\"52.76750005861057\" r=\"4\"/><circle class=\"bean\" cx=\"142.1378523243398\" cy=\"56.386105701968965\" r=\"4\"/><circle class=\"bean\" cx=\"144.38610570196897\" cy=\"41.86214767566019\" r=\"4\"/><circle class=\"bean\" cx=\"129.8621476756602\" cy=\"39.613894298031035\" r=\"4\"/><circle class=\"bean\" cx=\"127.61389429803103\" cy=\"54.13785232433981\" r=\"4\"/><circle class=\"bean\" cx=\"227.6647157906082\" cy=\"38.275296499426474\" r=\"4\"/><circle class=\"bean\" cx=\"214.27529649942647\" cy=\"44.33528420939181\" r=\"4\"/><circle class=\"bean\" cx=\"220.3352842093918\" cy=\"57.724703500573526\" r=\"4\"/><circle class=\"bean\" cx=\"233.72470350057353\" cy=\"51.66471579060819\" r=\"4\"/><circle class=\"bean\" cx=\"321.6199093914729\" cy=\"51.93158279829527\" r=\"4\"/><circle class=\"bean\" cx=\"315.93158279829527\" cy=\"38.380090608527084\" r=\"4\"/><circle class=\"bean\" cx=\"302.3800906085271\" cy=\"44.068417201704726\" r=\"4\"/><circle class=\"bean\" cx=\"308.06841720170473\" cy=\"57.619909391472916\" r=\"4\"/><circle class=\"bean\" cx=\"402.82711234805794\" cy=\"59.6622225914042\" r=\"4\"/><circle class=\"bean\" cx=\"411.96505855059667\" cy=\"48.915081352008364\" r=\"4\"/><circle class=\"bean\" cx=\"404.56770051359337\" cy=\"36.90332878660818\" r=\"4\"/><circle class=\"bean\" cx=\"390.8579356172344\" cy=\"40.22679867613295\" r=\"4\"/><circle class=\"bean\" cx=\"389.78219297051766\" cy=\"54.292568593846305\" r=\"4\"/><circle class=\"bean\" cx=\"494.35572092923076\" cy=\"58.17864487393768\" r=\"4\"/><circle class=\"bean\" cx=\"499.6444923130495\" cy=\"45.10072444025577\" r=\"4\"/><circle class=\"bean\" cx=\"488.8409711019707\" cy=\"36.029504287388505\" r=\"4\"/><circle class=\"bean\" cx=\"476.87525641152484\" cy=\"43.50110234716544\" r=\"4\"/><circle class=\"bean\" cx=\"480.28355924422414\" cy=\"57.19002405125261\" r=\"4\"/><circle class=\"bean\" cx=\"57.633454557902596\" cy=\"132.10172431954516\" r=\"4\"/><circle class=\"bean\" cx=\"44.10172431954514\" cy=\"126.3665454420974\" r=\"4\"/><circle class=\"bean\" cx=\"38.366545442097404\" cy=\"139.89827568045484\" r=\"4\"/><circle class=\"bean\" cx=\"51.89827568045486\" cy=\"145.63345455790258\" r=\"4\"/><circle class=\"bean\" cx=\"139.0528381913035\" cy=\"145.93378975908584\" r=\"4\"/><circle class=\"bean\" cx=\"145.93378975908584\" cy=\"132.9471618086965\" r=\"4\"/><circle class=\"bean\" cx=\"132.9471618086965\" cy=\"126.06621024091416\" r=\"4\"/><circle class=\"bean\" cx=\"126.06621024091416\" cy=\"139.0528381913035\" r=\"4\"/><circle class=\"bean\" cx=\"226.4538043206939\" cy=\"125.90154247641037\" r=\"4\"/><circle class=\"bean\" cx=\"213.90154247641038\" cy=\"133.5461956793061\" r=\"4\"/><circle class=\"bean\" cx=\"221.5461956793061\" cy=\"146.09845752358962\" r=\"4\"/><circle class=\"bean\" cx=\"234.09845752358962\" cy=\"138.4538043206939\" r=\"4\"/><circle class=\"bean\" cx=\"411.85035596734804\" cy=\"134.11080349165607\" r=\"4\"/><circle class=\"bean\" cx=\"401.86522873348054\" cy=\"124.14584791004441\" r=\"4\"/><circle class=\"bean\" cx=\"389.30241878673587\" cy=\"130.56292760894078\" r=\"4\"/><circle class=\"bean\" cx=\"391.52330247930985\" cy=\"144.49385655298732\" r=\"4\"/><circle class=\"bean\" cx=\"405.45869403312565\" cy=\"146.6865644363714\" r=\"4\"/><circle class=\"bean\" cx=\"498.8529977719755\" cy=\"130.8801914721842\" r=\"4\"/><circle class=\"bean\" cx=\"486.4845334888912\" cy=\"124.09607790458507\" r=\"4\"/><circle class=\"bean\" cx=\"476.21039241534703\" cy=\"133.7627800734185\" r=\"4\"/><circle class=\"bean\" cx=\"482.22908830976974\" cy=\"146.521244140479\" r=\"4\"/><circle class=\"bean\" cx=\"496.22298801401655\" cy=\"144.73970640933322\" r=\"4\"/>\n",
       "    </svg>"
      ],
      "text/plain": [
       "<IPython.core.display.SVG object>"
      ]
     },
     "execution_count": 3,
     "metadata": {},
     "output_type": "execute_result"
    }
   ],
   "source": [
    "board = np.array([\n",
    "    [4, 4, 4, 4, 5, 5],\n",
    "    [4, 4, 4, 0, 5, 5],\n",
    "])\n",
    "SVG(board_to_svg(board, True,highlight=[(1, 3)]))"
   ]
  },
  {
   "cell_type": "raw",
   "metadata": {},
   "source": [
    "When the last sowed seed is placed in a pit owned by the opponent and after seeding\n",
    "the pit contains two or three seeds, the content of the pit is captured by\n",
    "the player and removed from the game. If the pit preceding the captured pit also\n",
    "contains two or three seeds, it is also captured. The capture continues until a\n",
    "pit without two or three seeds is encountered. When the capture is ended the\n",
    "next player's turn starts.\n",
    "\n",
    "Otherwise, when the last sowed seed is placed in a pit that now contains one seed, more\n",
    "than 3 seeds or in the current player's own pits, the turn of the player is ended without\n",
    "any capture.\n",
    "\n",
    "For example, if the bottom player plays the 4th pit in the following configuration he will\n",
    "be able to capture the opponent's 4th and 5th pits (highlighted in red in the second figure) "
   ]
  },
  {
   "cell_type": "code",
   "execution_count": 4,
   "metadata": {
    "tags": [
     "hc"
    ]
   },
   "outputs": [
    {
     "data": {
      "image/svg+xml": [
       "<svg height=\"240\" width=\"700\">\n",
       "      <style>\n",
       "        circle {\n",
       "          fill: none;\n",
       "          stroke: #000;\n",
       "          stroke-width: 2;\n",
       "        }\n",
       "        .bean {\n",
       "          fill: #000\n",
       "        }\n",
       "        .highlight {\n",
       "          stroke: red;\n",
       "        }\n",
       "      </style>\n",
       "\n",
       "      <circle cx=\"48.0\" cy=\"48.0\" r=\"40\"/><text x=\"82.0\" y=\"82.0\">4</text><circle cx=\"136.0\" cy=\"48.0\" r=\"40\"/><text x=\"170.0\" y=\"82.0\">6</text><circle cx=\"224.0\" cy=\"48.0\" r=\"40\"/><text x=\"258.0\" y=\"82.0\">4</text><circle cx=\"312.0\" cy=\"48.0\" r=\"40\"/><text x=\"346.0\" y=\"82.0\">1</text><circle cx=\"400.0\" cy=\"48.0\" r=\"40\"/><text x=\"434.0\" y=\"82.0\">2</text><circle cx=\"488.0\" cy=\"48.0\" r=\"40\"/><text x=\"522.0\" y=\"82.0\">3</text><circle cx=\"48.0\" cy=\"136.0\" r=\"40\"/><text x=\"82.0\" y=\"170.0\">3</text><circle cx=\"136.0\" cy=\"136.0\" r=\"40\"/><text x=\"170.0\" y=\"170.0\">3</text><circle cx=\"224.0\" cy=\"136.0\" r=\"40\"/><text x=\"258.0\" y=\"170.0\">3</text><circle class=\"highlight\" cx=\"312.0\" cy=\"136.0\" r=\"40\"/><text x=\"346.0\" y=\"170.0\">5</text><circle cx=\"400.0\" cy=\"136.0\" r=\"40\"/><text x=\"434.0\" y=\"170.0\">2</text><circle cx=\"488.0\" cy=\"136.0\" r=\"40\"/><text x=\"522.0\" y=\"170.0\">2</text>\n",
       "      <circle class=\"bean\" cx=\"54.31191376405463\" cy=\"39.74410848937937\" r=\"4\"/><circle class=\"bean\" cx=\"39.74410848937937\" cy=\"41.68808623594538\" r=\"4\"/><circle class=\"bean\" cx=\"41.68808623594538\" cy=\"56.25589151062063\" r=\"4\"/><circle class=\"bean\" cx=\"56.25589151062063\" cy=\"54.31191376405462\" r=\"4\"/><circle class=\"bean\" cx=\"144.13075341642622\" cy=\"37.32803444152514\" r=\"4\"/><circle class=\"bean\" cx=\"130.8231834262613\" cy=\"35.62257821023036\" r=\"4\"/><circle class=\"bean\" cx=\"122.69243000983509\" cy=\"46.29454376870521\" r=\"4\"/><circle class=\"bean\" cx=\"127.86924658357378\" cy=\"58.67196555847485\" r=\"4\"/><circle class=\"bean\" cx=\"141.1768165737387\" cy=\"60.37742178976964\" r=\"4\"/><circle class=\"bean\" cx=\"149.30756999016492\" cy=\"49.70545623129478\" r=\"4\"/><circle class=\"bean\" cx=\"224.2658583044179\" cy=\"58.38890366506361\" r=\"4\"/><circle class=\"bean\" cx=\"234.3889036650636\" cy=\"47.73414169558212\" r=\"4\"/><circle class=\"bean\" cx=\"223.7341416955821\" cy=\"37.61109633493639\" r=\"4\"/><circle class=\"bean\" cx=\"213.6110963349364\" cy=\"48.265858304417876\" r=\"4\"/><circle class=\"bean\" cx=\"312.0\" cy=\"48.0\" r=\"4\"/><circle class=\"bean\" cx=\"403.822501299485\" cy=\"43.37523148520541\" r=\"4\"/><circle class=\"bean\" cx=\"396.177498700515\" cy=\"52.62476851479459\" r=\"4\"/><circle class=\"bean\" cx=\"488.6567299808143\" cy=\"39.54017105774002\" r=\"4\"/><circle class=\"bean\" cx=\"480.3452082339249\" cy=\"51.66116962431795\" r=\"4\"/><circle class=\"bean\" cx=\"494.99806178526086\" cy=\"52.79865931794204\" r=\"4\"/><circle class=\"bean\" cx=\"52.0987309154728\" cy=\"143.42969749603222\" r=\"4\"/><circle class=\"bean\" cx=\"52.38494131626115\" cy=\"128.7355461559078\" r=\"4\"/><circle class=\"bean\" cx=\"39.51632776826606\" cy=\"135.83475634805998\" r=\"4\"/><circle class=\"bean\" cx=\"137.5719586900346\" cy=\"127.66159812213247\" r=\"4\"/><circle class=\"bean\" cx=\"127.99275280178556\" cy=\"138.8078447796641\" r=\"4\"/><circle class=\"bean\" cx=\"142.43528850817987\" cy=\"141.53055709820342\" r=\"4\"/><circle class=\"bean\" cx=\"228.01674375348983\" cy=\"128.5256592518938\" r=\"4\"/><circle class=\"bean\" cx=\"215.51865915885395\" cy=\"136.25856824303844\" r=\"4\"/><circle class=\"bean\" cx=\"228.46459708765622\" cy=\"143.21577250506775\" r=\"4\"/><circle class=\"bean\" cx=\"322.00711609692434\" cy=\"129.37749085144625\" r=\"4\"/><circle class=\"bean\" cx=\"308.79398845867644\" cy=\"124.43619915439132\" r=\"4\"/><circle class=\"bean\" cx=\"300.01145980221327\" cy=\"135.4756871868328\" r=\"4\"/><circle class=\"bean\" cx=\"307.79668622359696\" cy=\"147.23975770633427\" r=\"4\"/><circle class=\"bean\" cx=\"321.390749418589\" cy=\"143.47086510099535\" r=\"4\"/><circle class=\"bean\" cx=\"402.75197553927904\" cy=\"141.3316630267872\" r=\"4\"/><circle class=\"bean\" cx=\"397.24802446072096\" cy=\"130.6683369732128\" r=\"4\"/><circle class=\"bean\" cx=\"488.487232952743\" cy=\"141.98018428225765\" r=\"4\"/><circle class=\"bean\" cx=\"487.512767047257\" cy=\"130.01981571774235\" r=\"4\"/>\n",
       "    </svg>"
      ],
      "text/plain": [
       "<IPython.core.display.SVG object>"
      ]
     },
     "execution_count": 4,
     "metadata": {},
     "output_type": "execute_result"
    }
   ],
   "source": [
    "board = np.array([\n",
    "    [4, 6, 4, 1, 2, 3],\n",
    "    [3, 3, 3, 5, 2, 2],\n",
    "])\n",
    "SVG(board_to_svg(board, True,highlight=[(1, 3)]))"
   ]
  },
  {
   "cell_type": "code",
   "execution_count": 5,
   "metadata": {
    "tags": [
     "hc"
    ]
   },
   "outputs": [
    {
     "data": {
      "image/svg+xml": [
       "<svg height=\"240\" width=\"700\">\n",
       "      <style>\n",
       "        circle {\n",
       "          fill: none;\n",
       "          stroke: #000;\n",
       "          stroke-width: 2;\n",
       "        }\n",
       "        .bean {\n",
       "          fill: #000\n",
       "        }\n",
       "        .highlight {\n",
       "          stroke: red;\n",
       "        }\n",
       "      </style>\n",
       "\n",
       "      <circle cx=\"48.0\" cy=\"48.0\" r=\"40\"/><text x=\"82.0\" y=\"82.0\">4</text><circle cx=\"136.0\" cy=\"48.0\" r=\"40\"/><text x=\"170.0\" y=\"82.0\">6</text><circle cx=\"224.0\" cy=\"48.0\" r=\"40\"/><text x=\"258.0\" y=\"82.0\">4</text><circle class=\"highlight\" cx=\"312.0\" cy=\"48.0\" r=\"40\"/><text x=\"346.0\" y=\"82.0\">2</text><circle class=\"highlight\" cx=\"400.0\" cy=\"48.0\" r=\"40\"/><text x=\"434.0\" y=\"82.0\">3</text><circle cx=\"488.0\" cy=\"48.0\" r=\"40\"/><text x=\"522.0\" y=\"82.0\">4</text><circle cx=\"48.0\" cy=\"136.0\" r=\"40\"/><text x=\"82.0\" y=\"170.0\">3</text><circle cx=\"136.0\" cy=\"136.0\" r=\"40\"/><text x=\"170.0\" y=\"170.0\">3</text><circle cx=\"224.0\" cy=\"136.0\" r=\"40\"/><text x=\"258.0\" y=\"170.0\">3</text><circle cx=\"312.0\" cy=\"136.0\" r=\"40\"/><text x=\"346.0\" y=\"170.0\">0</text><circle cx=\"400.0\" cy=\"136.0\" r=\"40\"/><text x=\"434.0\" y=\"170.0\">3</text><circle cx=\"488.0\" cy=\"136.0\" r=\"40\"/><text x=\"522.0\" y=\"170.0\">3</text>\n",
       "      <circle class=\"bean\" cx=\"56.34579924326661\" cy=\"41.807453270980474\" r=\"4\"/><circle class=\"bean\" cx=\"41.807453270980474\" cy=\"39.65420075673339\" r=\"4\"/><circle class=\"bean\" cx=\"39.65420075673339\" cy=\"54.192546729019526\" r=\"4\"/><circle class=\"bean\" cx=\"54.192546729019526\" cy=\"56.34579924326661\" r=\"4\"/><circle class=\"bean\" cx=\"148.19803334348487\" cy=\"42.413589475232676\" r=\"4\"/><circle class=\"bean\" cx=\"137.26104324132518\" cy=\"34.6429879859488\" r=\"4\"/><circle class=\"bean\" cx=\"125.0630098978403\" cy=\"40.22939851071612\" r=\"4\"/><circle class=\"bean\" cx=\"123.80196665651512\" cy=\"53.58641052476733\" r=\"4\"/><circle class=\"bean\" cx=\"134.73895675867482\" cy=\"61.3570120140512\" r=\"4\"/><circle class=\"bean\" cx=\"146.93699010215968\" cy=\"55.77060148928388\" r=\"4\"/><circle class=\"bean\" cx=\"233.31057018756664\" cy=\"43.38336889253696\" r=\"4\"/><circle class=\"bean\" cx=\"219.38336889253696\" cy=\"38.68942981243337\" r=\"4\"/><circle class=\"bean\" cx=\"214.68942981243336\" cy=\"52.616631107463036\" r=\"4\"/><circle class=\"bean\" cx=\"228.61663110746304\" cy=\"57.31057018756663\" r=\"4\"/><circle class=\"bean\" cx=\"314.79850075091775\" cy=\"53.30739046491897\" r=\"4\"/><circle class=\"bean\" cx=\"309.20149924908225\" cy=\"42.69260953508103\" r=\"4\"/><circle class=\"bean\" cx=\"407.072675522404\" cy=\"43.31200885721956\" r=\"4\"/><circle class=\"bean\" cx=\"392.4037428164337\" cy=\"44.21887889626401\" r=\"4\"/><circle class=\"bean\" cx=\"400.5235816611623\" cy=\"56.46911224651643\" r=\"4\"/><circle class=\"bean\" cx=\"488.4337251335226\" cy=\"58.38325009371106\" r=\"4\"/><circle class=\"bean\" cx=\"498.38325009371107\" cy=\"47.56627486647736\" r=\"4\"/><circle class=\"bean\" cx=\"487.5662748664774\" cy=\"37.61674990628894\" r=\"4\"/><circle class=\"bean\" cx=\"477.61674990628893\" cy=\"48.433725133522636\" r=\"4\"/><circle class=\"bean\" cx=\"56.03508515180765\" cy=\"133.272839094736\" r=\"4\"/><circle class=\"bean\" cx=\"41.6206667999298\" cy=\"130.40499258959542\" r=\"4\"/><circle class=\"bean\" cx=\"46.34424804826254\" cy=\"144.32216831566856\" r=\"4\"/><circle class=\"bean\" cx=\"139.2880458396625\" cy=\"143.82232411475505\" r=\"4\"/><circle class=\"bean\" cx=\"141.13030848018224\" cy=\"129.24130671666703\" r=\"4\"/><circle class=\"bean\" cx=\"127.58164568015528\" cy=\"134.93636916857793\" r=\"4\"/><circle class=\"bean\" cx=\"224.4412665604977\" cy=\"127.52620015444154\" r=\"4\"/><circle class=\"bean\" cx=\"216.44084078691287\" cy=\"139.85475187154765\" r=\"4\"/><circle class=\"bean\" cx=\"231.11789265258943\" cy=\"140.6190479740108\" r=\"4\"/><circle class=\"bean\" cx=\"400.38823010271784\" cy=\"127.52360469377791\" r=\"4\"/><circle class=\"bean\" cx=\"392.46511128093357\" cy=\"139.90198052164357\" r=\"4\"/><circle class=\"bean\" cx=\"407.1466586163486\" cy=\"140.57441478457852\" r=\"4\"/><circle class=\"bean\" cx=\"493.7140198014837\" cy=\"142.2729560582115\" r=\"4\"/><circle class=\"bean\" cx=\"490.5755294024928\" cy=\"127.91503566508206\" r=\"4\"/><circle class=\"bean\" cx=\"479.7104507960235\" cy=\"137.81200827670645\" r=\"4\"/>\n",
       "    </svg>"
      ],
      "text/plain": [
       "<IPython.core.display.SVG object>"
      ]
     },
     "execution_count": 5,
     "metadata": {},
     "output_type": "execute_result"
    }
   ],
   "source": [
    "board = np.array([\n",
    "    [4, 6, 4, 2, 3, 4],\n",
    "    [3, 3, 3, 0, 3, 3],\n",
    "])\n",
    "SVG(board_to_svg(board, True,highlight=[(0, 3), (0, 4)]))"
   ]
  },
  {
   "cell_type": "raw",
   "metadata": {},
   "source": [
    "If the pit chosen by the player contains more than 12 seeds, the sowing makes\n",
    "more than a full revolution and the starting hole is skipped during the second\n",
    "and subsequent passes.\n",
    "\n",
    "If the current player's opponent has no seed left in his half of the board, the\n",
    "current player has to play a move that gives him seeds if such a move exists.\n",
    "This rule is called the \"let the opponent play\" or \"don't starve your opponent\".\n",
    "\n",
    "This rule has for second consequence that if a player plays a move that could capture\n",
    "every seed of the opponent, he may play this move but he may not capture the seeds as\n",
    "it would also prevent the opponent of playing.\n",
    "\n",
    "In the following example, the bottom player has to play the fifth pit because playing the first would leave the opponent without any move to play."
   ]
  },
  {
   "cell_type": "code",
   "execution_count": 6,
   "metadata": {
    "tags": [
     "hc"
    ]
   },
   "outputs": [
    {
     "data": {
      "image/svg+xml": [
       "<svg height=\"240\" width=\"700\">\n",
       "      <style>\n",
       "        circle {\n",
       "          fill: none;\n",
       "          stroke: #000;\n",
       "          stroke-width: 2;\n",
       "        }\n",
       "        .bean {\n",
       "          fill: #000\n",
       "        }\n",
       "        .highlight {\n",
       "          stroke: red;\n",
       "        }\n",
       "      </style>\n",
       "\n",
       "      <circle cx=\"48.0\" cy=\"48.0\" r=\"40\"/><text x=\"82.0\" y=\"82.0\">0</text><circle cx=\"136.0\" cy=\"48.0\" r=\"40\"/><text x=\"170.0\" y=\"82.0\">0</text><circle cx=\"224.0\" cy=\"48.0\" r=\"40\"/><text x=\"258.0\" y=\"82.0\">0</text><circle cx=\"312.0\" cy=\"48.0\" r=\"40\"/><text x=\"346.0\" y=\"82.0\">0</text><circle cx=\"400.0\" cy=\"48.0\" r=\"40\"/><text x=\"434.0\" y=\"82.0\">0</text><circle cx=\"488.0\" cy=\"48.0\" r=\"40\"/><text x=\"522.0\" y=\"82.0\">0</text><circle cx=\"48.0\" cy=\"136.0\" r=\"40\"/><text x=\"82.0\" y=\"170.0\">2</text><circle cx=\"136.0\" cy=\"136.0\" r=\"40\"/><text x=\"170.0\" y=\"170.0\">0</text><circle cx=\"224.0\" cy=\"136.0\" r=\"40\"/><text x=\"258.0\" y=\"170.0\">0</text><circle cx=\"312.0\" cy=\"136.0\" r=\"40\"/><text x=\"346.0\" y=\"170.0\">0</text><circle class=\"highlight\" cx=\"400.0\" cy=\"136.0\" r=\"40\"/><text x=\"434.0\" y=\"170.0\">3</text><circle cx=\"488.0\" cy=\"136.0\" r=\"40\"/><text x=\"522.0\" y=\"170.0\">0</text>\n",
       "      <circle class=\"bean\" cx=\"52.78691407205421\" cy=\"132.3826178434164\" r=\"4\"/><circle class=\"bean\" cx=\"43.213085927945784\" cy=\"139.6173821565836\" r=\"4\"/><circle class=\"bean\" cx=\"400.2347457358934\" cy=\"144.48203362640587\" r=\"4\"/><circle class=\"bean\" cx=\"407.2282837282746\" cy=\"131.55568741608332\" r=\"4\"/><circle class=\"bean\" cx=\"392.536970535832\" cy=\"131.9622789575108\" r=\"4\"/>\n",
       "    </svg>"
      ],
      "text/plain": [
       "<IPython.core.display.SVG object>"
      ]
     },
     "execution_count": 6,
     "metadata": {},
     "output_type": "execute_result"
    }
   ],
   "source": [
    "board = np.array([\n",
    "    [0, 0, 0, 0, 0, 0],\n",
    "    [2, 0, 0, 0, 3, 0],\n",
    "])\n",
    "SVG(board_to_svg(board, True,highlight=[(1, 4)]))"
   ]
  },
  {
   "cell_type": "raw",
   "metadata": {},
   "source": [
    "When a player has captured more than 25 seeds the game ends and he wins. If both\n",
    "players have captured 24 seeds, the game ends by a draw. If the current player\n",
    "pits are all empty, the game ends and the player with the most captures wins.\n",
    "\n",
    "The last way to stop the game is when a position is encountered twice in the\n",
    "same game (there is a cycle): the game ends and player with the most captures\n",
    "wins."
   ]
  },
  {
   "cell_type": "raw",
   "metadata": {},
   "source": [
    "Perfect information games\n",
    "-------------------------\n",
    "\n",
    "Now that we know the rules, we can see that Mancala games are :\n",
    "\n",
    "* Sequential: the opponents play one after the other,\n",
    "* Hold no secret information: each player has the same information about\n",
    "  the game as the other\n",
    "* Do not rely on randomness: the state of the game depends only on the actions\n",
    "  taken sequentially by each player and an action has a deterministic result.\n",
    "\n",
    "This type of game is called a sequential perfect information game\n",
    ":cite:`osborne1994course`.\n",
    "\n",
    "Other games in this category are for example Chess, Go, Checkers or even\n",
    "Tic-tac-toe and Connect Four. This type of game is a particularly interesting\n",
    "field to study in computer science and artificial intelligence as they are easy\n",
    "to simulate."
   ]
  },
  {
   "cell_type": "raw",
   "metadata": {},
   "source": [
    "Perfect information games as finite state machines\n",
    "~~~~~~~~~~~~~~~~~~~~~~~~~~~~~~~~~~~~~~~~~~~~~~~~~~\n",
    "\n",
    ".. TODO formal definition of FSM ?\n",
    "\n",
    "When viewed from an external point of view, these types of games can be\n",
    "modelized as finite states machines with boards being states (the initial board\n",
    "is the initial state), each player's action being transitions and wins and draws\n",
    "being terminal states.\n",
    "\n",
    ".. TODO formal description of the game as a FSM ?\n",
    "\n",
    "It might be tempting to try to enumerate every possible play of those games by\n",
    "starting a game and recursively try each legal action until the end of the play\n",
    "to find the best move for each state.\n",
    "\n",
    "Unfortunately, most of the time, this is not a feasible approach due to the size\n",
    "of the state space. As an example, Romein et al. claims that Awalé has\n",
    "889,063,398,406 legal positions :cite:`romein2003solving` and the exact number\n",
    "(:math:`\\approx 2.08 \\times 10^{170}`) of legal positions in Go is so big that\n",
    "it has only recently been determined :cite:`tromp2016`. Such state space are too\n",
    "big to be quickly enumerated."
   ]
  },
  {
   "cell_type": "raw",
   "metadata": {},
   "source": [
    "Perfect information games as Markov decision processes\n",
    "~~~~~~~~~~~~~~~~~~~~~~~~~~~~~~~~~~~~~~~~~~~~~~~~~~~~~~\n",
    "\n",
    "Instead of being viewed from an external point of view, these types of games can\n",
    "also be seen from the point of view of a single player. He only knows the state\n",
    "of the board and his own moves and is not aware of the moves from his opponent,\n",
    "neither in advance or after the move has been played.\n",
    "\n",
    "When viewed under this angle, a game looks like this:\n",
    " * the game is in a state :math:`A`,\n",
    " * the player plays his turn, the board changes deterministically,\n",
    " * the game is in state :math:`A'`,\n",
    " * his opponent plays and the board has multiple ways of changing,\n",
    " * the game is in state :math:`B`, :math:`B` is one of the 6 possible successors\n",
    "   of :math:`A'`.\n",
    "\n",
    "We can model this as a Markov decision process (MDP).\n",
    "\n",
    ".. TODO More on MDP and why it is a MDP."
   ]
  },
  {
   "cell_type": "raw",
   "metadata": {},
   "source": [
    "Solved games\n",
    "------------\n",
    "\n",
    "A strongly solved game is defined by Allis :cite:`Allis94searchingfor` as:\n",
    "\n",
    "    For all legal positions, a strategy has been determined to\n",
    "    obtain the game-theoretic value of the position, for both players, under\n",
    "    reasonable resources.\n",
    "\n",
    "A solved game is, of course much less interesting to study than an\n",
    "unsolved one as we could just create an agent that has the knowledge of each\n",
    "game-theoretic position values and can thus play perfectly.\n",
    "\n",
    "Unfortunately for us, (:math:`m,n`)-Kalah (:math:`m` pits per side and :math:`n`\n",
    "stones in each pit) has been solved in 2000 for :math:`m \\leq 6`  and :math:`n\n",
    "\\leq 6` except (:math:`6,6`) by Jos Uiterwijk :cite:`irving2000solving` and in\n",
    "2011 for :math:`n = 6, m=6` by Anders Carstensen :cite:`kalah66`.\n",
    "\n",
    "J. W. Romein et al. :cite:`romein2003solving` also claims to have solved\n",
    "Awalé by quasi-*brute-force* -- retrograde analysis,\n",
    "but this claim has since been challenged by others like Víktor Bautista i Roca.\n",
    "Roca claims that several endgames were incorrect and the results are invalid.\n",
    "As both the database made by Romein and the claim from Roca are not available\n",
    "anymore publicly we can not know who is right.\n",
    "\n",
    "Nevertheless, these proofs for Kalah and Awalé both use a quasi-*brute-force*\n",
    "method to solve the game and uses a database all possible states. The database\n",
    "used by Romein et al. has 204 billion entries and weighs 178GiB. A database so\n",
    "huge is of course not practical so we think that there is still room for\n",
    "improvement if we can create an agent that has a policy that does not need a\n",
    "exhaustive database, even if the agent is not capable of a perfect play.\n",
    "\n",
    "We arbitrarily chose to work on Awalé as it might not have been solved but\n",
    "the same work could most probably be done on Kalah and other variants.\n",
    "\n",
    "\n",
    "\n",
    ".. topic:: How should you read this document ?\n",
    "\n",
    "    This document is a mix of text and Python code in the form of notebook\n",
    "    cells. Reading only the text and skipping all the code should be enough for\n",
    "    you to understand the whole work. But if you are interested in the\n",
    "    implementation work and the details of the simulations you are welcome to\n",
    "    read the notebook cells as well.\n",
    "\n",
    "    Some output and cells are hidden for the sake of brevity and readability.\n",
    "    Click on the button to reveal the full code and output that were used for\n",
    "    the simulations to write this work."
   ]
  },
  {
   "cell_type": "code",
   "execution_count": null,
   "metadata": {
    "tags": [
     "ha"
    ]
   },
   "outputs": [],
   "source": [
    "import numpy as np\n",
    "import itertools\n",
    "from recordclass import recordclass\n",
    "\n",
    "import import_ipynb\n",
    "from draw import board_to_svg"
   ]
  },
  {
   "cell_type": "raw",
   "metadata": {},
   "source": [
    "Implementation of the rules\n",
    "---------------------------\n",
    "\n",
    "Some rules have deliberately been excuded from this implementation :\n",
    "\n",
    "-  Loops in the game state are not checked (this speeds up considerably\n",
    "   the computations and we never encountered a loop in practice)\n",
    "-  You are authorized to starve your opponent. This was made so the\n",
    "   rules are a little bit simpler and should not change the complexity\n",
    "   of the game.\n",
    "\n",
    "We first define a dataclass with the minmal attributes needed to store the game state"
   ]
  },
  {
   "cell_type": "code",
   "execution_count": 78,
   "metadata": {},
   "outputs": [],
   "source": [
    "from dataclasses import dataclass\n",
    "from typing import Tuple\n",
    "\n",
    "@dataclass\n",
    "class Game:\n",
    "    pits: np.array\n",
    "    current_player: int\n",
    "    captures: Tuple[int, int]"
   ]
  },
  {
   "cell_type": "raw",
   "metadata": {},
   "source": [
    "We add a static method to start a new game"
   ]
  },
  {
   "cell_type": "code",
   "execution_count": 79,
   "metadata": {},
   "outputs": [],
   "source": [
    "class Game(Game):\n",
    "    ...\n",
    "    \n",
    "    @classmethod\n",
    "    def new(klass):\n",
    "        return klass(\n",
    "            # A 6x2 matrix filled with 4\n",
    "            pits=np.ones(6 * 2, dtype=int) * 4,\n",
    "            current_player=0,\n",
    "            captures=(0, 0)\n",
    "        )"
   ]
  },
  {
   "cell_type": "raw",
   "metadata": {},
   "source": [
    "Next, we add some convenience methods that will be usefull later"
   ]
  },
  {
   "cell_type": "code",
   "execution_count": 80,
   "metadata": {},
   "outputs": [],
   "source": [
    "class Game(Game):\n",
    "    ...\n",
    "\n",
    "    @property\n",
    "    def view_from_current_player(self):\n",
    "        if self.current_player == 0:\n",
    "            return self.pits\n",
    "        else:\n",
    "            return np.roll(self.pits, 6)\n",
    "    \n",
    "    @property\n",
    "    def current_player_pits(self):\n",
    "        if self.current_player == 0:\n",
    "            return self.pits[:6]\n",
    "        else:\n",
    "            return self.pits[6:]\n",
    "\n",
    "    @property\n",
    "    def current_opponent(self):\n",
    "        return (self.current_player + 1) % 2\n",
    "    \n",
    "    @property\n",
    "    def adverse_pits_idx(self):\n",
    "        if self.current_player == 1:\n",
    "            return list(range(6))\n",
    "        else:\n",
    "            return list(range(6, 6 * 2))\n",
    "    "
   ]
  },
  {
   "cell_type": "raw",
   "metadata": {},
   "source": [
    "Now we start implementing the rules"
   ]
  },
  {
   "cell_type": "code",
   "execution_count": 81,
   "metadata": {},
   "outputs": [],
   "source": [
    "class Game(Game):\n",
    "    ...\n",
    "    \n",
    "    @property\n",
    "    def legal_actions(self):\n",
    "        our_pits = self.current_player_pits\n",
    "        return [x for x in range(6) if our_pits[x] != 0]\n",
    "    \n",
    "    @property\n",
    "    def game_finished(self):\n",
    "        no_moves_left = np.sum(self.current_player_pits) == 0\n",
    "        \n",
    "        half_seeds = 6 * 4\n",
    "        enough_captures = self.captures[0] > half_seeds or self.captures[1] > half_seeds\n",
    "        \n",
    "        draw = self.captures[0] == half_seeds and self.captures[1] == half_seeds\n",
    "        \n",
    "        return no_moves_left or enough_captures or draw\n",
    "    \n",
    "    @property\n",
    "    def winner(self):\n",
    "        if not self.game_finished:\n",
    "            return None\n",
    "        return np.argmax(self.captures)"
   ]
  },
  {
   "cell_type": "raw",
   "metadata": {},
   "source": [
    "We can now add the ``step()`` functions that plays a turn\n",
    "\n",
    "The main method you are interested in is ``Game.step(i)`` to play the\n",
    "i-th pit in the current sate. This will return the new state, the amount\n",
    "of seeds captured and a boolean informing you if the game is finished."
   ]
  },
  {
   "cell_type": "code",
   "execution_count": 82,
   "metadata": {},
   "outputs": [],
   "source": [
    "class Game(Game):\n",
    "    ...\n",
    "    \n",
    "    def step(self, action):\n",
    "        assert 0 <= action < 6, \"Illegal action\"\n",
    "        \n",
    "        target_pit = action if self.current_player == 0 else action - 6\n",
    "        \n",
    "        seeds = self.pits[target_pit]\n",
    "        assert seeds != 0, \"Illegal action: pit % is empty\" % target_pit\n",
    "        \n",
    "        # copy attributes\n",
    "        pits = np.copy(self.pits)\n",
    "        captures = np.copy(self.captures)\n",
    "        \n",
    "        # empty the target pit\n",
    "        pits[target_pit] = 0\n",
    "        \n",
    "        # fill the next pits\n",
    "        pit_to_sow = target_pit\n",
    "        while seeds > 0:\n",
    "            pit_to_sow = (pit_to_sow + 1) % (6 * 2)\n",
    "            if pit_to_sow != target_pit: # do not fill the target pit ever\n",
    "                pits[pit_to_sow] += 1\n",
    "                seeds -= 1\n",
    "        \n",
    "        # Capture\n",
    "        # -------\n",
    "        \n",
    "        # count the captures of the play\n",
    "        round_captures = 0\n",
    "        if pit_to_sow in self.adverse_pits_idx:\n",
    "            # if the last seed was in a adverse pit\n",
    "            # we can try to collect seeds\n",
    "            while pits[pit_to_sow] in (2, 3):\n",
    "                # if the pit contains 2 or 3 seeds, we capture them\n",
    "                captures[self.current_player] += pits[pit_to_sow]\n",
    "                round_captures += pits[pit_to_sow]\n",
    "                pits[pit_to_sow] = 0\n",
    "                \n",
    "                # go backwards\n",
    "                pit_to_sow = (pit_to_sow - 1) % (self.n_pits * 2)\n",
    "        \n",
    "        # change player\n",
    "        current_player = (self.current_player + 1) % 2\n",
    "        \n",
    "        new_game = type(self)(\n",
    "            pits,\n",
    "            current_player,\n",
    "            captures\n",
    "        )\n",
    "\n",
    "        return new_game, round_captures, new_game.game_finished\n"
   ]
  },
  {
   "cell_type": "raw",
   "metadata": {},
   "source": [
    "And some display functions"
   ]
  },
  {
   "cell_type": "code",
   "execution_count": 88,
   "metadata": {},
   "outputs": [],
   "source": [
    "class Game(Game):\n",
    "    ...\n",
    "    \n",
    "    def show_state(self):\n",
    "        if self.game_finished:\n",
    "            print(\"Game finished\")\n",
    "        print(\"Current player: {} - Score: {}/{}\\n{}\".format(\n",
    "            self.current_player,\n",
    "            self.captures[self.current_player],\n",
    "            self.captures[(self.current_player + 1) % 2],\n",
    "            \"-\" * self.n_pits * 3\n",
    "        ))\n",
    "        \n",
    "        pits = []\n",
    "        for seeds in self.view_from_current_player:\n",
    "            pits.append(\"{:3}\".format(seeds))\n",
    "        \n",
    "        print(\"\".join(reversed(pits[self.n_pits:])))\n",
    "        print(\"\".join(pits[:self.n_pits]))\n",
    "\n",
    "    def __repr__(self):\n",
    "        return \"<Game current_player:{player} captures:{captures[0]}/{captures[1]}>\".format(\n",
    "            player=self.current_player,\n",
    "            captures=self.captures\n",
    "        )\n",
    "    \n",
    "    def _repr_svg_(self):\n",
    "        board = np.array([\n",
    "            list(reversed(self.pits[6:])),\n",
    "            self.pits[:6]\n",
    "        ])\n",
    "        return board_to_svg(board, True)"
   ]
  },
  {
   "cell_type": "raw",
   "metadata": {},
   "source": [
    "Play a game"
   ]
  },
  {
   "cell_type": "code",
   "execution_count": 89,
   "metadata": {},
   "outputs": [
    {
     "data": {
      "image/svg+xml": [
       "\n",
       "    <svg width=\"700\" height=\"240\">\n",
       "      <style>\n",
       "        circle {\n",
       "          fill: none;\n",
       "          stroke: #000;\n",
       "          stroke-width: 2;\n",
       "        }\n",
       "        .bean {\n",
       "          fill: #000\n",
       "        }\n",
       "        .highlight {\n",
       "          stroke: red;\n",
       "        }\n",
       "      </style>\n",
       "\n",
       "      <circle cx=\"48.0\" cy=\"48.0\" r=\"40\" /><text x=\"82.0\" y=\"82.0\" >4</text><circle cx=\"136.0\" cy=\"48.0\" r=\"40\" /><text x=\"170.0\" y=\"82.0\" >4</text><circle cx=\"224.0\" cy=\"48.0\" r=\"40\" /><text x=\"258.0\" y=\"82.0\" >4</text><circle cx=\"312.0\" cy=\"48.0\" r=\"40\" /><text x=\"346.0\" y=\"82.0\" >5</text><circle cx=\"400.0\" cy=\"48.0\" r=\"40\" /><text x=\"434.0\" y=\"82.0\" >5</text><circle cx=\"488.0\" cy=\"48.0\" r=\"40\" /><text x=\"522.0\" y=\"82.0\" >5</text><circle cx=\"48.0\" cy=\"136.0\" r=\"40\" /><text x=\"82.0\" y=\"170.0\" >4</text><circle cx=\"136.0\" cy=\"136.0\" r=\"40\" /><text x=\"170.0\" y=\"170.0\" >4</text><circle cx=\"224.0\" cy=\"136.0\" r=\"40\" /><text x=\"258.0\" y=\"170.0\" >4</text><circle cx=\"312.0\" cy=\"136.0\" r=\"40\" /><text x=\"346.0\" y=\"170.0\" >4</text><circle cx=\"400.0\" cy=\"136.0\" r=\"40\" /><text x=\"434.0\" y=\"170.0\" >0</text><circle cx=\"488.0\" cy=\"136.0\" r=\"40\" /><text x=\"522.0\" y=\"170.0\" >5</text>\n",
       "      <circle cx=\"55.443827685341134\" cy=\"40.748143038438435\" r=\"4\" class=\"bean\"/><circle cx=\"40.74814303843844\" cy=\"40.556172314658866\" r=\"4\" class=\"bean\"/><circle cx=\"40.556172314658866\" cy=\"55.251856961561565\" r=\"4\" class=\"bean\"/><circle cx=\"55.251856961561565\" cy=\"55.443827685341134\" r=\"4\" class=\"bean\"/><circle cx=\"146.36670604860274\" cy=\"47.27102421037222\" r=\"4\" class=\"bean\"/><circle cx=\"135.27102421037222\" cy=\"37.63329395139726\" r=\"4\" class=\"bean\"/><circle cx=\"125.63329395139726\" cy=\"48.72897578962779\" r=\"4\" class=\"bean\"/><circle cx=\"136.72897578962778\" cy=\"58.36670604860274\" r=\"4\" class=\"bean\"/><circle cx=\"232.67708201364596\" cy=\"42.28088750517515\" r=\"4\" class=\"bean\"/><circle cx=\"218.28088750517514\" cy=\"39.322917986354035\" r=\"4\" class=\"bean\"/><circle cx=\"215.32291798635404\" cy=\"53.719112494824856\" r=\"4\" class=\"bean\"/><circle cx=\"229.71911249482486\" cy=\"56.67708201364596\" r=\"4\" class=\"bean\"/><circle cx=\"323.56628365709423\" cy=\"44.80295724713674\" r=\"4\" class=\"bean\"/><circle cx=\"312.53360986881853\" cy=\"36.01187001622441\" r=\"4\" class=\"bean\"/><circle cx=\"300.763505378568\" cy=\"43.78797096133822\" r=\"4\" class=\"bean\"/><circle cx=\"304.5218545407311\" cy=\"57.38495287628107\" r=\"4\" class=\"bean\"/><circle cx=\"318.61474655478816\" cy=\"58.01224889901957\" r=\"4\" class=\"bean\"/><circle cx=\"409.983753487804\" cy=\"41.342322755287555\" r=\"4\" class=\"bean\"/><circle cx=\"396.75332216840786\" cy=\"36.44755077666004\" r=\"4\" class=\"bean\"/><circle cx=\"388.00968926175125\" cy=\"47.51787097138102\" r=\"4\" class=\"bean\"/><circle cx=\"395.8362582596816\" cy=\"59.254477096690465\" r=\"4\" class=\"bean\"/><circle cx=\"409.4169768223553\" cy=\"55.43777839998092\" r=\"4\" class=\"bean\"/><circle cx=\"494.28667117414903\" cy=\"37.778563430313554\" r=\"4\" class=\"bean\"/><circle cx=\"480.2215243753613\" cy=\"38.86242280706196\" r=\"4\" class=\"bean\"/><circle cx=\"476.90596650916166\" cy=\"52.57410328962488\" r=\"4\" class=\"bean\"/><circle cx=\"488.92198585497096\" cy=\"59.96452849397892\" r=\"4\" class=\"bean\"/><circle cx=\"499.66385208635705\" cy=\"50.82038197902068\" r=\"4\" class=\"bean\"/><circle cx=\"58.09669214293901\" cy=\"133.53894173764343\" r=\"4\" class=\"bean\"/><circle cx=\"45.53894173764343\" cy=\"125.90330785706098\" r=\"4\" class=\"bean\"/><circle cx=\"37.90330785706098\" cy=\"138.46105826235657\" r=\"4\" class=\"bean\"/><circle cx=\"50.46105826235657\" cy=\"146.09669214293902\" r=\"4\" class=\"bean\"/><circle cx=\"145.03343389008532\" cy=\"130.86219189211408\" r=\"4\" class=\"bean\"/><circle cx=\"130.86219189211408\" cy=\"126.9665661099147\" r=\"4\" class=\"bean\"/><circle cx=\"126.9665661099147\" cy=\"141.13780810788592\" r=\"4\" class=\"bean\"/><circle cx=\"141.13780810788592\" cy=\"145.03343389008532\" r=\"4\" class=\"bean\"/><circle cx=\"233.34984091239747\" cy=\"140.5365708319014\" r=\"4\" class=\"bean\"/><circle cx=\"228.5365708319014\" cy=\"126.65015908760253\" r=\"4\" class=\"bean\"/><circle cx=\"214.65015908760253\" cy=\"131.4634291680986\" r=\"4\" class=\"bean\"/><circle cx=\"219.4634291680986\" cy=\"145.34984091239747\" r=\"4\" class=\"bean\"/><circle cx=\"317.3215780261328\" cy=\"144.92641066228643\" r=\"4\" class=\"bean\"/><circle cx=\"320.92641066228646\" cy=\"130.67842197386724\" r=\"4\" class=\"bean\"/><circle cx=\"306.6784219738672\" cy=\"127.07358933771356\" r=\"4\" class=\"bean\"/><circle cx=\"303.07358933771354\" cy=\"141.32157802613276\" r=\"4\" class=\"bean\"/><circle cx=\"497.43085476487136\" cy=\"143.4201737448596\" r=\"4\" class=\"bean\"/><circle cx=\"497.9712989859181\" cy=\"129.32368391001233\" r=\"4\" class=\"bean\"/><circle cx=\"484.7317469204134\" cy=\"124.45363599189022\" r=\"4\" class=\"bean\"/><circle cx=\"476.00880952706086\" cy=\"135.54027068649737\" r=\"4\" class=\"bean\"/><circle cx=\"483.8572898017363\" cy=\"147.26223566674048\" r=\"4\" class=\"bean\"/>\n",
       "    </svg>\n",
       "    "
      ],
      "text/plain": [
       "<Game player:1 captures:0/0>"
      ]
     },
     "execution_count": 89,
     "metadata": {},
     "output_type": "execute_result"
    }
   ],
   "source": [
    "g = Game.new()\n",
    "g, captures, done = g.step(4)\n",
    "g"
   ]
  },
  {
   "cell_type": "raw",
   "metadata": {},
   "source": [
    "As the rest of this work is always using trees as the base model for a game,\n",
    "we also use it here in the implementation."
   ]
  },
  {
   "cell_type": "code",
   "execution_count": 99,
   "metadata": {},
   "outputs": [],
   "source": [
    "from typing import Optional, List\n",
    "from dataclasses import field\n",
    "\n",
    "@dataclass\n",
    "class TreeGame(Game):\n",
    "    parent: Optional[Game] = None\n",
    "    children: List[Optional[Game]] = field(default_factory=lambda: [None] * 6)"
   ]
  },
  {
   "cell_type": "code",
   "execution_count": 102,
   "metadata": {},
   "outputs": [],
   "source": [
    "class TreeGame(TreeGame):\n",
    "    ...\n",
    "    \n",
    "    def step(self, action):\n",
    "        # If we already did compute the children node, juste return it\n",
    "        if self.children[action] is not None:\n",
    "            new_game = self.children[action]\n",
    "            captures = new_game.captures[self.current_player] - self.captures[self.current_player]\n",
    "            return new_game, captures, new_game.game_finished\n",
    "        else:\n",
    "            new_game, captures, finished = super().step(action)\n",
    "            new_game.parent = self\n",
    "            return new_game, captures, finished"
   ]
  },
  {
   "cell_type": "raw",
   "metadata": {},
   "source": [
    "\n",
    "-  ``is_fully_expanded`` tells you if all actions of this state have\n",
    "   been computed\n",
    "-  …"
   ]
  },
  {
   "cell_type": "code",
   "execution_count": null,
   "metadata": {},
   "outputs": [],
   "source": [
    "class TreeGame(TreeGame):\n",
    "    ...\n",
    "\n",
    "    @property\n",
    "    def successors(self):\n",
    "        children = [x for x in self.children if x is not None]\n",
    "        successors = children + list(itertools.chain(*[x.successors for x in children]))\n",
    "        return successors\n",
    "    \n",
    "    @property\n",
    "    def unvisited_actions(self):\n",
    "        return [i for i, x in enumerate(self.children) if x is None]\n",
    "\n",
    "    @property\n",
    "    def legal_unvisited_actions(self):\n",
    "        return list(set(self.unvisited_actions).intersection(set(self.legal_actions)))\n",
    "    \n",
    "    @property\n",
    "    def expanded_children(self):\n",
    "        return [x for x in self.children if x is not None]\n",
    "    \n",
    "    @property\n",
    "    def is_fully_expanded(self):\n",
    "        legal_actions = set(self.legal_actions)\n",
    "        unvisited_actions = set(self.unvisited_actions)\n",
    "        return len(legal_actions.intersection(unvisited_actions)) == 0\n",
    "    \n",
    "    @property\n",
    "    def is_leaf_game(self):\n",
    "        return self.children == [None] * 6\n",
    "    \n",
    "    @property\n",
    "    def depth(self):\n",
    "        if self.parent is None:\n",
    "            return 0\n",
    "        return 1 + self.parent.depth"
   ]
  },
  {
   "cell_type": "code",
   "execution_count": 110,
   "metadata": {},
   "outputs": [],
   "source": [
    "class TreeGame(TreeGame):\n",
    "    ...\n",
    "    \n",
    "    def update_stats(self, winner):\n",
    "        assert winner in [0, 1]\n",
    "        self.wins[winner] += 1\n",
    "        self.n_playouts += 1\n",
    "        if self.parent:\n",
    "            self.parent.update_stats(winner)"
   ]
  },
  {
   "cell_type": "raw",
   "metadata": {},
   "source": [
    "Monte Carlo tree search\n",
    "-----------------------\n",
    "\n",
    "Many algorithms have been proposed and studied to play sequential\n",
    "perfect information games.\n",
    "A few examples are :math:`\\alpha-\\beta` pruning, Minimax,\n",
    "Monte Carlo tree search (MCTS) and Alpha (Go) Zero :cite:`AlphaGoZero`.\n",
    "\n",
    "We will focus on MCTS as it does not require any expert knowledge\n",
    "about the given game to make reasonable decisions.\n",
    "\n",
    "The principle of MCTS is simple : we represent the starting state of a game by\n",
    "the root node of a tree. This node then has a children for each possible action\n",
    "the current player can make. The n-th child of the node represents the state in\n",
    "which the game would be if the payer had played the n-th possible action.\n",
    "\n",
    "The maximum number of children of a node in the game is called the branching\n",
    "factor. In a classical Awalé game the player can choose to sow his seeds from\n",
    "one of his non-empty pits. As the player has 6 pits, the branching factor is 6\n",
    "(this is very small compared to branching factor of 19 from the game of Go and\n",
    "makes Awalé much easier to play with this method).\n",
    "\n",
    "With this representation, if we build the complete tree, we will have computed\n",
    "every possible state in the game and every leaf of the tree will be a final\n",
    "state (end of a game). As said, previously, computing the complete tree is not\n",
    "ideal for Alawé (it has :math:`\\approx 8 \\times 10^{11}` nodes) and\n",
    "computationally impossible for games with a high branching factor.\n",
    "\n",
    "To overcome this computational problem, the MCTS method constructs only a part\n",
    "of the tree by sampling and tries to estimate the chance of winning based on\n",
    "this information.\n",
    "\n",
    ".. figure:: _static/mcts-algorithm.png\n",
    "\n",
    "   The 4 steps of MCTS :cite:`chaslot2008monte`\n",
    "\n",
    "\n",
    "The (partial) tree is constructed as follows:\n",
    "\n",
    "* Selection: starting at the root node, recursively choose a child until\n",
    "  a leaf :math:`L` is reached\n",
    "* Expansion: if :math:`L` is not a terminal node\\footnote{As the tree is\n",
    "  not complete, a leaf could be a node that is missing its children, not\n",
    "  necessarily a terminal state}, create a child :math:`C`\n",
    "* Simulation: run a playout from :math:`C` until a terminal node :math:`T` is\n",
    "  reached (play a full game)\n",
    "* Backpropagation: update the counters described below of each ancestor\n",
    "  of :math:`T`.\n",
    "\n",
    "Each node holds 3 counters : the number of times a node has been used during a\n",
    "sampling iteration (:math:`N`), the number of simulations using this node ended\n",
    "with a win for the player 1 (:math:`W_1`) and player 2 (:math:`W_2`). From this\n",
    "counters, a probability of winning if an action is chosen can be computed\n",
    "immediately: :math:`\\frac{W_1}{N}` or :math:`\\frac{W_2}{N}`.\n",
    "\n",
    "This sampling can be ran as many times as needed or allowed\\footnote{Most of the\n",
    "time, the agent is time constrained}, each time, refining the probability of\n",
    "winning when choosing a child of the root node. When we are done sampling the\n",
    "agent chooses the child with the highest probability of winning and plays the\n",
    "corresponding action in the game."
   ]
  },
  {
   "cell_type": "raw",
   "metadata": {},
   "source": [
    "Node Selection\n",
    "--------------\n",
    "\n",
    "In step 1 and 3 of the algorithm, we have to choose nodes.\n",
    "There are multiples ways to choose those.\n",
    "\n",
    "The most naïve method, in the vanilla MCTS we take a child at random each time.\n",
    "This is easy to implement and has no bias but it is not effective as it explores\n",
    "every part of the tree even if a part has no chance of leading to a win for the\n",
    "player."
   ]
  },
  {
   "cell_type": "raw",
   "metadata": {},
   "source": [
    "Upper Confidence Bounds for Trees\n",
    "---------------------------------\n",
    "\n",
    "A better method would be asymmetric and only explore interesting parts of the\n",
    "tree. Kocsis and Szepervari :cite:`kocsis2006bandit` defined Upper Confidence\n",
    "Bounds for Trees (UCT), a method mixing vanilla MCTS and Upper Confidence Bounds\n",
    "(UCB).\n",
    "\n",
    "Indeed, in step 1, selecting the node during the tree descent that maximizes the\n",
    "probability of winning is analogous to the multi-armed bandit problem in which a\n",
    "player has choose the slot machine that maximizes the estimated reward.\n",
    "\n",
    "The UCB formula is the following, where :math:`N'` is the number of times the\n",
    "parent of the node has been visited and :math:`c` a fixed parameter:\n",
    "\n",
    ".. math::\n",
    "\n",
    "    \\frac{W_1}{N} + c \\times \\sqrt{\\frac{ln N'}{N}}\n",
    "\n",
    ":math:`c` can be tuned to balance exploitation of known wins and exploration of\n",
    "less visited nodes. Kocsis et al. has shown that :math:`\\frac{\\sqrt{2}}{2}`\n",
    ":cite:`kocsis2006bandit` is a good value when rewards are in :math:`[0, 1]`.\n",
    "\n",
    "In step 3, the playouts are played at random as it is the first time these nodes\n",
    "are seen and we do not have a generic evaluation function do direct the playout\n",
    "towards \"better\" states."
   ]
  },
  {
   "cell_type": "raw",
   "metadata": {},
   "source": [
    "Informed UCT\n",
    "------------\n",
    "\n",
    "Citation:\n",
    "\n",
    "> Surprisingly,\n",
    "> increasing the bias in the random play-outs can\n",
    "> occasionally weaken the strength of a program using the\n",
    "> UCT algorithm even when the bias is correlated with Go\n",
    "> playing strength. One instance of this was reported by Gelly\n",
    "> and Silver [#GS07]_, and our group observed a drop in strength\n",
    "> when the random play-outs were encouraged to form patterns\n",
    "> commonly occurring in computer Go games [#Fly08]_."
   ]
  },
  {
   "cell_type": "raw",
   "metadata": {},
   "source": [
    "Alpha Zero\n",
    "----------\n",
    "\n",
    "To replace the random play in step 3, D. Silver et al. propose\n",
    ":cite:`AlphaGoZero` to use a neural network to estimate the value of a\n",
    "game state without having to play it. This can greatly enhances the performance\n",
    "of the algorithm as much less playouts are required."
   ]
  },
  {
   "cell_type": "raw",
   "metadata": {},
   "source": [
    "Bibliography\n",
    "------------\n",
    "\n",
    ".. bibliography:: refs.bib\n",
    "   :style: custom"
   ]
  },
  {
   "cell_type": "raw",
   "metadata": {},
   "source": [
    "Footnotes\n",
    "---------\n",
    "\n",
    ".. [#source_kalah] Picture by Adam Cohn under Creative Commonds license https://www.flickr.com/photos/adamcohn/3076571304/\n",
    "\n",
    ".. [#numbers] Numbers in the bottom right of each pits are the count of stones in each pit for better readability.\n",
    "\n",
    "\n",
    ".. [#Fly08] Jennifer Flynn. Independent study quarterly reports.\n",
    " http://users.soe.ucsc.edu/~charlie/projects/SlugGo/, 2008\n",
    " \n",
    ".. [#GS07] Sylvain Gelly and David Silver. Combining online and offline\n",
    " knowledge in uct. In ICML ’07: Proceedings of the 24th\n",
    " Internatinoal Conference on Machine Learning, pages 273–280.\n",
    " ACM, 2007."
   ]
  },
  {
   "cell_type": "raw",
   "metadata": {},
   "source": [
    "\n",
    "\n",
    "..\n",
    ".. Although captured stones\n",
    ".. contribute to a position’s final outcome, the best\n",
    ".. move from a position does not depend on them.\n",
    ".. We therefore consider the distribution of only\n",
    ".. uncaptured stones [romein2003] -> false : need proof\n"
   ]
  }
 ],
 "metadata": {
  "celltoolbar": "Tags",
  "kernelspec": {
   "display_name": "Python 3",
   "language": "python",
   "name": "python3"
  },
  "language_info": {
   "codemirror_mode": {
    "name": "ipython",
    "version": 3
   },
   "file_extension": ".py",
   "mimetype": "text/x-python",
   "name": "python",
   "nbconvert_exporter": "python",
   "pygments_lexer": "ipython3",
   "version": "3.7.5"
  }
 },
 "nbformat": 4,
 "nbformat_minor": 2
}
