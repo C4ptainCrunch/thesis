{
 "cells": [
  {
   "cell_type": "code",
   "execution_count": 1,
   "metadata": {},
   "outputs": [
    {
     "name": "stdout",
     "output_type": "stream",
     "text": [
      "importing Jupyter notebook from rules.ipynb\n",
      "importing Jupyter notebook from players.ipynb\n"
     ]
    }
   ],
   "source": [
    "#%matplotlib inline\n",
    "\n",
    "import numpy as np\n",
    "import itertools\n",
    "import random\n",
    "import math\n",
    "import matplotlib.pyplot as plt\n",
    "import tqdm\n",
    "\n",
    "import import_ipynb\n",
    "from rules import Game\n",
    "from players import RandomPlayer, GreedyPlayer, MCTSPlayer, UCTPlayer, GreedyUCTPlayer, HumanPlayer\n",
    "\n",
    "np.set_printoptions(edgeitems=12)"
   ]
  },
  {
   "cell_type": "markdown",
   "metadata": {},
   "source": [
    "# Generate a dataset\n",
    "\n",
    "We play with our best player (GreedyUCTPlayer) and use the real game states to fill our datasets.\n",
    "\n",
    "If the features are the board and the value to learn is the ratio of wins, we will learn nothing : it depends a lot on the score.\n",
    "\n",
    "If we add the score, we will might then learn that a high score leads to a great ratio of wins, not very interesting. (Or it might not, since the hypothesis \"high score leads to a great ratio of wins\" is the hypothesis of the greedy agent).\n",
    "\n",
    "We will thus try to learn with X as the game state and Y the probabilities of wins for each move.\n",
    "\n",
    "`play_game()` plays a full game between two opponents and return the end state."
   ]
  },
  {
   "cell_type": "code",
   "execution_count": 2,
   "metadata": {},
   "outputs": [],
   "source": [
    "def play_game(player, opponent):\n",
    "    game = Game.start_game()\n",
    "    opponent_action = -1\n",
    "\n",
    "    while not game.game_finished:\n",
    "        player_action = player.play(opponent_action)\n",
    "        game, captures, finished = game.step(player_action)\n",
    "\n",
    "        player, opponent = opponent, player\n",
    "        opponent_action = player_action\n",
    "    return game"
   ]
  },
  {
   "cell_type": "markdown",
   "metadata": {},
   "source": [
    "`extract_states()` generates a part of the dataset from a full game by extracting the played states."
   ]
  },
  {
   "cell_type": "code",
   "execution_count": 3,
   "metadata": {},
   "outputs": [],
   "source": [
    "def extract_states(endstate):\n",
    "    X, Y = [], []\n",
    "    \n",
    "    state = endstate\n",
    "    if state.game_finished:\n",
    "        # we skip the last node as it doesn't have any children\n",
    "        state = state.parent\n",
    "    \n",
    "    while state.parent:\n",
    "        X.append(state.view_from_current_player)\n",
    "        Y.append([\n",
    "            (child.wins[state.current_player]/ child.n_playouts) if child and child.n_playouts else 0\n",
    "            for child in state.children\n",
    "        ])\n",
    "        state = state.parent\n",
    "    return X, Y"
   ]
  },
  {
   "cell_type": "markdown",
   "metadata": {},
   "source": [
    "Improvement possibility: maybe we should pick the budget in a normal distribution so we can have players with different strenghts compete.\n",
    "We could also use different agents sometimes."
   ]
  },
  {
   "cell_type": "code",
   "execution_count": 4,
   "metadata": {},
   "outputs": [],
   "source": [
    "BUDGET = 50\n",
    "def generate_data(*args):\n",
    "    # Create our players\n",
    "    player = GreedyUCTPlayer(0, BUDGET)\n",
    "    opponent = GreedyUCTPlayer(1, BUDGET)\n",
    "    \n",
    "    # Run a full game\n",
    "    play_game(player, opponent)\n",
    "    \n",
    "    # Extract states\n",
    "    X1, Y1 = extract_states(player.root)\n",
    "    X2, Y2 =extract_states(opponent.root)\n",
    "    \n",
    "    return X1 + X2, Y1 + Y2\n",
    "    "
   ]
  },
  {
   "cell_type": "markdown",
   "metadata": {},
   "source": [
    "# Data generation"
   ]
  },
  {
   "cell_type": "code",
   "execution_count": 5,
   "metadata": {},
   "outputs": [
    {
     "data": {
      "application/vnd.jupyter.widget-view+json": {
       "model_id": "ce6f6cb57dec44cb835487aa53a9fcd3",
       "version_major": 2,
       "version_minor": 0
      },
      "text/html": [
       "<p>Failed to display Jupyter Widget of type <code>HBox</code>.</p>\n",
       "<p>\n",
       "  If you're reading this message in the Jupyter Notebook or JupyterLab Notebook, it may mean\n",
       "  that the widgets JavaScript is still loading. If this message persists, it\n",
       "  likely means that the widgets JavaScript library is either not installed or\n",
       "  not enabled. See the <a href=\"https://ipywidgets.readthedocs.io/en/stable/user_install.html\">Jupyter\n",
       "  Widgets Documentation</a> for setup instructions.\n",
       "</p>\n",
       "<p>\n",
       "  If you're reading this message in another frontend (for example, a static\n",
       "  rendering on GitHub or <a href=\"https://nbviewer.jupyter.org/\">NBViewer</a>),\n",
       "  it may mean that your frontend doesn't currently support widgets.\n",
       "</p>\n"
      ],
      "text/plain": [
       "HBox(children=(IntProgress(value=0, max=1440), HTML(value='')))"
      ]
     },
     "metadata": {},
     "output_type": "display_data"
    },
    {
     "name": "stdout",
     "output_type": "stream",
     "text": [
      "\n"
     ]
    }
   ],
   "source": [
    "import multiprocessing\n",
    "\n",
    "pool = multiprocessing.Pool(4)\n",
    "generator = list(range(4*180*2))\n",
    "data = list(tqdm.tqdm_notebook(pool.imap(generate_data, generator), total=len(generator)))\n",
    "\n",
    "pool.close()\n",
    "pool.join()"
   ]
  },
  {
   "cell_type": "code",
   "execution_count": 6,
   "metadata": {},
   "outputs": [],
   "source": [
    "X = np.array(list(itertools.chain(*[x for x, y in data])))\n",
    "Y = np.array(list(itertools.chain(*[y for x, y in data])))"
   ]
  },
  {
   "cell_type": "markdown",
   "metadata": {},
   "source": [
    "We now have $N\\approx 200000$ points to do our learning, the features are a vector of 12 and the target 6 floats."
   ]
  },
  {
   "cell_type": "code",
   "execution_count": 7,
   "metadata": {},
   "outputs": [
    {
     "data": {
      "text/plain": [
       "((196212, 12), (196212, 6))"
      ]
     },
     "execution_count": 7,
     "metadata": {},
     "output_type": "execute_result"
    }
   ],
   "source": [
    "X.shape, Y.shape"
   ]
  },
  {
   "cell_type": "code",
   "execution_count": 8,
   "metadata": {},
   "outputs": [],
   "source": [
    "with open(\"data/X.npy\", 'wb') as fd:\n",
    "    np.save(fd, X)\n",
    "\n",
    "with open(\"data/Y.npy\", 'wb') as fd:\n",
    "    np.save(fd, Y)"
   ]
  },
  {
   "cell_type": "markdown",
   "metadata": {},
   "source": [
    "# Data preparation"
   ]
  },
  {
   "cell_type": "markdown",
   "metadata": {},
   "source": [
    "`Y_norm` is the target normalized. This might help us later if the output of our learning algorithm are probabilities summing to."
   ]
  },
  {
   "cell_type": "code",
   "execution_count": 37,
   "metadata": {},
   "outputs": [],
   "source": [
    "sums = np.sum(Y, axis=1, keepdims=1)\n",
    "sums[sums==0] = 1\n",
    "Y_norm = Y / sums"
   ]
  },
  {
   "cell_type": "markdown",
   "metadata": {},
   "source": [
    "We store in `Yb` a vector (N, 1) : we only keep the index of the best move"
   ]
  },
  {
   "cell_type": "code",
   "execution_count": 74,
   "metadata": {},
   "outputs": [],
   "source": [
    "Yb = np.argmax(Y, axis=1)"
   ]
  },
  {
   "cell_type": "markdown",
   "metadata": {},
   "source": [
    "## Train/Test split\n",
    "We have data, lets cut that in a test and train set."
   ]
  },
  {
   "cell_type": "code",
   "execution_count": 39,
   "metadata": {},
   "outputs": [],
   "source": [
    "import sklearn\n",
    "from sklearn.model_selection import train_test_split"
   ]
  },
  {
   "cell_type": "code",
   "execution_count": 88,
   "metadata": {},
   "outputs": [],
   "source": [
    "X_train, X_test, Y_train, Y_test, Yb_train, Yb_test = train_test_split(X, Y, Yb, test_size=0.33)"
   ]
  },
  {
   "cell_type": "markdown",
   "metadata": {},
   "source": [
    "First we test a simple Descision tree with a classification problem : what is the best action to play given a state ?"
   ]
  },
  {
   "cell_type": "code",
   "execution_count": 90,
   "metadata": {},
   "outputs": [],
   "source": [
    "from sklearn.tree import DecisionTreeClassifier\n",
    "\n",
    "tree = DecisionTreeClassifier()\n",
    "tree.fit(X_train, Yb_train);"
   ]
  },
  {
   "cell_type": "markdown",
   "metadata": {},
   "source": [
    "We can then score the model. The default scoring metric of sklean for this model is the subset accuracy : \"how many times the model predicted the correct class ?\". A value of 1 is the best we can achieve, 1/6 is random and 0 is the worst case."
   ]
  },
  {
   "cell_type": "code",
   "execution_count": 91,
   "metadata": {},
   "outputs": [
    {
     "data": {
      "text/plain": [
       "0.5102702702702703"
      ]
     },
     "execution_count": 91,
     "metadata": {},
     "output_type": "execute_result"
    }
   ],
   "source": [
    "tree.score(X_test, Yb_test)"
   ]
  },
  {
   "cell_type": "markdown",
   "metadata": {},
   "source": [
    "This seems rather good as the random behaviour is only $1/6$ not $\\approx 1/2$"
   ]
  },
  {
   "cell_type": "code",
   "execution_count": 57,
   "metadata": {},
   "outputs": [],
   "source": [
    "class TreeClassificationPlayer(UCTPlayer):    \n",
    "    def default_policy(self, node):\n",
    "        legal_actions = node.legal_actions\n",
    "        assert len(legal_actions) != 0\n",
    "        \n",
    "        # Ask the predictor the best move to play\n",
    "        prediction = tree.predict(node.view_from_current_player.reshape(1, -1))[0]\n",
    "        \n",
    "        # 10% of the time we choose at random and to not follow the classifier\n",
    "        if random.random() < 0.1 or prediction not in legal_actions:\n",
    "            return random.choice(legal_actions)\n",
    "        \n",
    "        return prediction"
   ]
  },
  {
   "cell_type": "markdown",
   "metadata": {},
   "source": [
    "We now compare our two agents : UCT and the model above. Both with a budget of 50"
   ]
  },
  {
   "cell_type": "code",
   "execution_count": 66,
   "metadata": {},
   "outputs": [
    {
     "data": {
      "application/vnd.jupyter.widget-view+json": {
       "model_id": "229e813a0f88422b872a1ffe165ca4ae",
       "version_major": 2,
       "version_minor": 0
      },
      "text/html": [
       "<p>Failed to display Jupyter Widget of type <code>HBox</code>.</p>\n",
       "<p>\n",
       "  If you're reading this message in the Jupyter Notebook or JupyterLab Notebook, it may mean\n",
       "  that the widgets JavaScript is still loading. If this message persists, it\n",
       "  likely means that the widgets JavaScript library is either not installed or\n",
       "  not enabled. See the <a href=\"https://ipywidgets.readthedocs.io/en/stable/user_install.html\">Jupyter\n",
       "  Widgets Documentation</a> for setup instructions.\n",
       "</p>\n",
       "<p>\n",
       "  If you're reading this message in another frontend (for example, a static\n",
       "  rendering on GitHub or <a href=\"https://nbviewer.jupyter.org/\">NBViewer</a>),\n",
       "  it may mean that your frontend doesn't currently support widgets.\n",
       "</p>\n"
      ],
      "text/plain": [
       "HBox(children=(IntProgress(value=0, max=20), HTML(value='')))"
      ]
     },
     "metadata": {},
     "output_type": "display_data"
    },
    {
     "data": {
      "image/png": "[encoded data removed]",
      "text/plain": [
       "<Figure size 432x288 with 1 Axes>"
      ]
     },
     "metadata": {},
     "output_type": "display_data"
    }
   ],
   "source": [
    "def test(*args):\n",
    "    # Create our players\n",
    "    player = TreeClassificationPlayer(0, 50)\n",
    "    opponent = UCTPlayer(1, 50)\n",
    "    \n",
    "    # Run a full game\n",
    "    game = play_game(player, opponent)\n",
    "    \n",
    "    return game.winner\n",
    "\n",
    "import multiprocessing\n",
    "\n",
    "pool = multiprocessing.Pool(4)\n",
    "generator = list(range(20))\n",
    "\n",
    "data = list(tqdm.tqdm_notebook(pool.imap(test, generator), total=len(generator)))\n",
    "wins = sum(data) / len(data)\n",
    "losses = 1 - wins\n",
    "\n",
    "plt.bar(0, losses)\n",
    "plt.bar(1, wins)\n",
    "plt.xticks([0, 1], [\"Enhanced\", \"UCT\"]);"
   ]
  },
  {
   "cell_type": "markdown",
   "metadata": {},
   "source": [
    "The enhacned model is signinficantly better (with p=95%)\n",
    "\n",
    "The tree classifier has another output : the probability of the point being each class.\n",
    "We can use this ability to weigh each action when selecting at random"
   ]
  },
  {
   "cell_type": "code",
   "execution_count": 67,
   "metadata": {},
   "outputs": [],
   "source": [
    "class TreeClassificationProbabilityPlayer(UCTPlayer):    \n",
    "    def default_policy(self, node):\n",
    "        legal_actions = node.legal_actions\n",
    "        assert len(legal_actions) != 0\n",
    "        \n",
    "        # Ask the predictor for class probabilities\n",
    "        predictions = tree.predict_proba(node.view_from_current_player.reshape(1, -1))[0]\n",
    "        \n",
    "        # Set probability to 0 for the non legal actions\n",
    "        \n",
    "        weights = [\n",
    "            p + 0.1 if i in legal_actions else 0\n",
    "            for i, p in enumerate(predictions)\n",
    "        ]\n",
    "        \n",
    "        return random.choices(range(6), weights=weights)[0]"
   ]
  },
  {
   "cell_type": "code",
   "execution_count": 68,
   "metadata": {},
   "outputs": [
    {
     "data": {
      "application/vnd.jupyter.widget-view+json": {
       "model_id": "1b7877edbc0043fb8af790d5beae7f04",
       "version_major": 2,
       "version_minor": 0
      },
      "text/html": [
       "<p>Failed to display Jupyter Widget of type <code>HBox</code>.</p>\n",
       "<p>\n",
       "  If you're reading this message in the Jupyter Notebook or JupyterLab Notebook, it may mean\n",
       "  that the widgets JavaScript is still loading. If this message persists, it\n",
       "  likely means that the widgets JavaScript library is either not installed or\n",
       "  not enabled. See the <a href=\"https://ipywidgets.readthedocs.io/en/stable/user_install.html\">Jupyter\n",
       "  Widgets Documentation</a> for setup instructions.\n",
       "</p>\n",
       "<p>\n",
       "  If you're reading this message in another frontend (for example, a static\n",
       "  rendering on GitHub or <a href=\"https://nbviewer.jupyter.org/\">NBViewer</a>),\n",
       "  it may mean that your frontend doesn't currently support widgets.\n",
       "</p>\n"
      ],
      "text/plain": [
       "HBox(children=(IntProgress(value=0, max=20), HTML(value='')))"
      ]
     },
     "metadata": {},
     "output_type": "display_data"
    },
    {
     "data": {
      "image/png": "[encoded data removed]",
      "text/plain": [
       "<Figure size 432x288 with 1 Axes>"
      ]
     },
     "metadata": {},
     "output_type": "display_data"
    }
   ],
   "source": [
    "def test(*args):\n",
    "    # Create our players\n",
    "    player = TreeClassificationProbabilityPlayer(0, 50)\n",
    "    opponent = UCTPlayer(1, 50)\n",
    "    \n",
    "    # Run a full game\n",
    "    game = play_game(player, opponent)\n",
    "    \n",
    "    return game.winner\n",
    "\n",
    "import multiprocessing\n",
    "\n",
    "pool = multiprocessing.Pool(4)\n",
    "generator = list(range(20))\n",
    "\n",
    "data = list(tqdm.tqdm_notebook(pool.imap(test, generator), total=len(generator)))\n",
    "wins = sum(data) / len(data)\n",
    "losses = 1 - wins\n",
    "\n",
    "plt.bar(0, losses)\n",
    "plt.bar(1, wins)\n",
    "plt.xticks([0, 1], [\"Enhanced w/ probabilities\", \"UCT\"]);"
   ]
  },
  {
   "cell_type": "code",
   "execution_count": 85,
   "metadata": {},
   "outputs": [],
   "source": [
    "from sklearn.model_selection import learning_curve\n",
    "\n",
    "def plot_learning_curve(estimator, title, X, y, ylim=None, cv=None, n_jobs=1, train_sizes=np.linspace(.1, 1.0, 5), scoring=None):\n",
    "    plt.figure()\n",
    "    plt.title(title)\n",
    "    if ylim is not None:\n",
    "        plt.ylim(*ylim)\n",
    "    plt.xlabel(\"Training examples\")\n",
    "    plt.ylabel(\"Score\")\n",
    "    \n",
    "    train_sizes, train_scores, test_scores = learning_curve(\n",
    "        estimator, X, y, cv=cv, n_jobs=n_jobs, train_sizes=train_sizes, scoring=scoring)\n",
    "    \n",
    "    train_scores_mean = np.mean(train_scores, axis=1)\n",
    "    train_scores_std = np.std(train_scores, axis=1)\n",
    "    test_scores_mean = np.mean(test_scores, axis=1)\n",
    "    test_scores_std = np.std(test_scores, axis=1)\n",
    "    \n",
    "    plt.grid()\n",
    "\n",
    "    plt.fill_between(train_sizes, train_scores_mean - train_scores_std,\n",
    "                     train_scores_mean + train_scores_std, alpha=0.1,\n",
    "                     color=\"r\")\n",
    "    plt.fill_between(train_sizes, test_scores_mean - test_scores_std,\n",
    "                     test_scores_mean + test_scores_std, alpha=0.1, color=\"g\")\n",
    "    plt.plot(train_sizes, train_scores_mean, 'o-', color=\"r\",\n",
    "             label=\"Training score\")\n",
    "    plt.plot(train_sizes, test_scores_mean, 'o-', color=\"g\",\n",
    "             label=\"Cross-validation score\")\n",
    "\n",
    "    plt.legend(loc=\"best\")\n",
    "    return plt"
   ]
  },
  {
   "cell_type": "code",
   "execution_count": 93,
   "metadata": {},
   "outputs": [
    {
     "data": {
      "image/png": "[encoded data removed]",
      "text/plain": [
       "<Figure size 432x288 with 1 Axes>"
      ]
     },
     "metadata": {},
     "output_type": "display_data"
    }
   ],
   "source": [
    "def custom(y, y_pred, *args):\n",
    "    return np.mean(y != y_pred)\n",
    "\n",
    "scorer = sklearn.metrics.make_scorer(custom)\n",
    "plot_learning_curve(DecisionTreeClassifier(), \"Learning curve\", X, Yb, scoring=scorer);"
   ]
  }
 ],
 "metadata": {
  "kernelspec": {
   "display_name": "Python 3",
   "language": "python",
   "name": "python3"
  },
  "language_info": {
   "codemirror_mode": {
    "name": "ipython",
    "version": 3
   },
   "file_extension": ".py",
   "mimetype": "text/x-python",
   "name": "python",
   "nbconvert_exporter": "python",
   "pygments_lexer": "ipython3",
   "version": "3.6.5"
  }
 },
 "nbformat": 4,
 "nbformat_minor": 2
}
