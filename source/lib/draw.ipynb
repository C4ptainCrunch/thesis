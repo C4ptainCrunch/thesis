{
 "cells": [
  {
   "cell_type": "code",
   "execution_count": 1,
   "metadata": {},
   "outputs": [],
   "source": [
    "from IPython.display import SVG\n",
    "import math\n",
    "import random\n",
    "import numpy as np\n",
    "import hashlib"
   ]
  },
  {
   "cell_type": "markdown",
   "metadata": {},
   "source": [
    "Juptyper notebooks and sphinx are both capable of displaying SVG to the user. We will use this feature to display the board to the reader.\n",
    "Here is an example of a basic SVG file:"
   ]
  },
  {
   "cell_type": "code",
   "execution_count": 2,
   "metadata": {},
   "outputs": [
    {
     "data": {
      "image/svg+xml": [
       "<svg width=\"210\" height=\"210\">\n",
       "  <style>\n",
       "    circle {\n",
       "      fill: none;\n",
       "      stroke: #000;\n",
       "      stroke-width: 2;\n",
       "    }\n",
       "    .bean {\n",
       "      fill: #000\n",
       "    }\n",
       "  </style>\n",
       "  <circle cx=\"100\" cy=\"100\" r=\"50\"/>\n",
       "  <circle cx=\"100\" cy=\"100\" r=\"4\" class=\"bean\"/></svg>"
      ],
      "text/plain": [
       "<IPython.core.display.SVG object>"
      ]
     },
     "execution_count": 2,
     "metadata": {},
     "output_type": "execute_result"
    }
   ],
   "source": [
    "SVG(\"\"\"\n",
    "<svg width=\"210\" height=\"210\">\n",
    "  <style>\n",
    "    circle {\n",
    "      fill: none;\n",
    "      stroke: #000;\n",
    "      stroke-width: 2;\n",
    "    }\n",
    "    .bean {\n",
    "      fill: #000\n",
    "    }\n",
    "  </style>\n",
    "  <circle cx=\"100\" cy=\"100\" r=\"50\"/>\n",
    "  <circle cx=\"100\" cy=\"100\" r=\"4\" class=\"bean\"/></svg>\n",
    "\"\"\")"
   ]
  },
  {
   "cell_type": "markdown",
   "metadata": {},
   "source": [
    "We can now write a function that takes a board matrix as input and returns a string containing an SVG file"
   ]
  },
  {
   "cell_type": "code",
   "execution_count": 3,
   "metadata": {},
   "outputs": [],
   "source": [
    "def board_to_svg(pits, show_count=False, highlight=None):\n",
    "    # Seed the random with a hash of the boad content so the SVG representation\n",
    "    # of a given board is constant\n",
    "    rand = random.Random(hashlib.md5(str(pits).encode()).digest())\n",
    "    radius = 40\n",
    "    pit_size = radius*2.2\n",
    "    bean_radius = 4\n",
    "    bean_size = bean_radius * 2.2\n",
    "    grid_bean_size = bean_radius * 3\n",
    "    \n",
    "    board = \"\"\n",
    "    beans = \"\"\n",
    "    if highlight is None:\n",
    "        highlight = set()\n",
    "\n",
    "    for player in range(pits.shape[0]):\n",
    "        for pit in range(pits.shape[1]):\n",
    "            cx = radius*1.2+pit*pit_size\n",
    "            cy = radius*1.2+player*pit_size\n",
    "            board += '<circle cx=\"{x}\" cy=\"{y}\" r=\"{r}\" {klass}/>'.format(\n",
    "                x=cx,\n",
    "                y=cy,\n",
    "                r=radius,\n",
    "                klass='class=\"highlight\"' if (player, pit) in highlight else ''\n",
    "            )\n",
    "            n_beans = pits[player][pit]\n",
    "            if show_count:\n",
    "                board += '<text x=\"{x}\" y=\"{y}\" >{n}</text>'.format(\n",
    "                    x=cx + radius * 0.85,\n",
    "                    y=cy + radius * 0.85,\n",
    "                    n=n_beans\n",
    "                )\n",
    "            if n_beans == 0:\n",
    "                pass\n",
    "            elif n_beans <= 6:\n",
    "                distance = math.sqrt(bean_radius * (n_beans - 1)) * 3\n",
    "                start_angle = rand.random() * math.pi\n",
    "                for i in range(n_beans):\n",
    "                    angle = i * 2 * math.pi / n_beans\n",
    "                    bx = cx + math.sin(start_angle + angle) * distance\n",
    "                    by = cy + math.cos(start_angle + angle) * distance\n",
    "                    beans += '<circle cx=\"{x}\" cy=\"{y}\" r=\"{r}\" class=\"bean\"/>'.format(x=bx, y=by, r=bean_radius)\n",
    "            else:\n",
    "                grid_width = math.ceil(math.sqrt(n_beans))\n",
    "                offset = grid_bean_size * grid_width / 3\n",
    "                for i in range(n_beans):\n",
    "                    bx = cx - offset + (i % grid_width) * grid_bean_size\n",
    "                    by = cy - offset + (i // grid_width) * grid_bean_size\n",
    "                    beans += '<circle cx=\"{x}\" cy=\"{y}\" r=\"{r}\" class=\"bean\"/>'.format(x=bx, y=by, r=bean_radius)\n",
    "\n",
    "\n",
    "    return \"\"\"\n",
    "    <svg xmlns=\"http://www.w3.org/2000/svg\" xmlns:xlink=\"http://www.w3.org/1999/xlink\" width=\"535\" height=\"180\">\n",
    "      <style>\n",
    "        circle {\n",
    "          fill: none;\n",
    "          stroke: #000;\n",
    "          stroke-width: 2;\n",
    "        }\n",
    "        .bean {\n",
    "          fill: #000\n",
    "        }\n",
    "        .highlight {\n",
    "          stroke: red;\n",
    "        }\n",
    "      </style>\n",
    "\n",
    "      %s\n",
    "      %s\n",
    "    </svg>\n",
    "    \"\"\" % (board, beans)"
   ]
  },
  {
   "cell_type": "markdown",
   "metadata": {},
   "source": [
    "Here is an example with a board generated at random"
   ]
  },
  {
   "cell_type": "code",
   "execution_count": 4,
   "metadata": {
    "scrolled": true
   },
   "outputs": [
    {
     "data": {
      "image/svg+xml": [
       "<svg xmlns=\"http://www.w3.org/2000/svg\" xmlns:xlink=\"http://www.w3.org/1999/xlink\" width=\"535\" height=\"180\">\n",
       "      <style>\n",
       "        circle {\n",
       "          fill: none;\n",
       "          stroke: #000;\n",
       "          stroke-width: 2;\n",
       "        }\n",
       "        .bean {\n",
       "          fill: #000\n",
       "        }\n",
       "        .highlight {\n",
       "          stroke: red;\n",
       "        }\n",
       "      </style>\n",
       "\n",
       "      <circle cx=\"48.0\" cy=\"48.0\" r=\"40\"/><text x=\"82.0\" y=\"82.0\">5</text><circle cx=\"136.0\" cy=\"48.0\" r=\"40\"/><text x=\"170.0\" y=\"82.0\">1</text><circle cx=\"224.0\" cy=\"48.0\" r=\"40\"/><text x=\"258.0\" y=\"82.0\">13</text><circle cx=\"312.0\" cy=\"48.0\" r=\"40\"/><text x=\"346.0\" y=\"82.0\">2</text><circle cx=\"400.0\" cy=\"48.0\" r=\"40\"/><text x=\"434.0\" y=\"82.0\">4</text><circle cx=\"488.0\" cy=\"48.0\" r=\"40\" class=\"highlight\"/><text x=\"522.0\" y=\"82.0\">5</text><circle cx=\"48.0\" cy=\"136.0\" r=\"40\"/><text x=\"82.0\" y=\"170.0\">6</text><circle cx=\"136.0\" cy=\"136.0\" r=\"40\"/><text x=\"170.0\" y=\"170.0\">10</text><circle cx=\"224.0\" cy=\"136.0\" r=\"40\"/><text x=\"258.0\" y=\"170.0\">0</text><circle cx=\"312.0\" cy=\"136.0\" r=\"40\"/><text x=\"346.0\" y=\"170.0\">5</text><circle cx=\"400.0\" cy=\"136.0\" r=\"40\"/><text x=\"434.0\" y=\"170.0\">11</text><circle cx=\"488.0\" cy=\"136.0\" r=\"40\"/><text x=\"522.0\" y=\"170.0\">5</text>\n",
       "      <circle cx=\"54.807448556728964\" cy=\"57.88223882262966\" r=\"4\" class=\"bean\"/><circle cx=\"59.50218492020934\" cy=\"44.57951142944332\" r=\"4\" class=\"bean\"/><circle cx=\"48.30129266884691\" cy=\"36.00378298263577\" r=\"4\" class=\"bean\"/><circle cx=\"36.684024189699215\" cy=\"44.0064187174057\" r=\"4\" class=\"bean\"/><circle cx=\"40.70504966451558\" cy=\"57.528048047885555\" r=\"4\" class=\"bean\"/><circle cx=\"136.0\" cy=\"48.0\" r=\"4\" class=\"bean\"/><circle cx=\"208.0\" cy=\"32.0\" r=\"4\" class=\"bean\"/><circle cx=\"220.0\" cy=\"32.0\" r=\"4\" class=\"bean\"/><circle cx=\"232.0\" cy=\"32.0\" r=\"4\" class=\"bean\"/><circle cx=\"244.0\" cy=\"32.0\" r=\"4\" class=\"bean\"/><circle cx=\"208.0\" cy=\"44.0\" r=\"4\" class=\"bean\"/><circle cx=\"220.0\" cy=\"44.0\" r=\"4\" class=\"bean\"/><circle cx=\"232.0\" cy=\"44.0\" r=\"4\" class=\"bean\"/><circle cx=\"244.0\" cy=\"44.0\" r=\"4\" class=\"bean\"/><circle cx=\"208.0\" cy=\"56.0\" r=\"4\" class=\"bean\"/><circle cx=\"220.0\" cy=\"56.0\" r=\"4\" class=\"bean\"/><circle cx=\"232.0\" cy=\"56.0\" r=\"4\" class=\"bean\"/><circle cx=\"244.0\" cy=\"56.0\" r=\"4\" class=\"bean\"/><circle cx=\"208.0\" cy=\"68.0\" r=\"4\" class=\"bean\"/><circle cx=\"314.1815544079252\" cy=\"53.5893488319537\" r=\"4\" class=\"bean\"/><circle cx=\"309.8184455920748\" cy=\"42.4106511680463\" r=\"4\" class=\"bean\"/><circle cx=\"410.32638924897725\" cy=\"46.83137470564476\" r=\"4\" class=\"bean\"/><circle cx=\"398.83137470564475\" cy=\"37.673610751022736\" r=\"4\" class=\"bean\"/><circle cx=\"389.67361075102275\" cy=\"49.16862529435524\" r=\"4\" class=\"bean\"/><circle cx=\"401.16862529435525\" cy=\"58.326389248977264\" r=\"4\" class=\"bean\"/><circle cx=\"498.7244439202236\" cy=\"42.61610711455188\" r=\"4\" class=\"bean\"/><circle cx=\"486.19364901482965\" cy=\"36.136733328531555\" r=\"4\" class=\"bean\"/><circle cx=\"476.15916977532925\" cy=\"46.051990864876785\" r=\"4\" class=\"bean\"/><circle cx=\"482.4883154513068\" cy=\"58.65933081556701\" r=\"4\" class=\"bean\"/><circle cx=\"496.4344218383107\" cy=\"56.53583787647277\" r=\"4\" class=\"bean\"/><circle cx=\"50.181299378497656\" cy=\"122.76210239421056\" r=\"4\" class=\"bean\"/><circle cx=\"37.62629406993798\" cy=\"127.4919905220671\" r=\"4\" class=\"bean\"/><circle cx=\"35.444994691440314\" cy=\"140.72988812785653\" r=\"4\" class=\"bean\"/><circle cx=\"45.818700621502344\" cy=\"149.23789760578944\" r=\"4\" class=\"bean\"/><circle cx=\"58.373705930062016\" cy=\"144.50800947793292\" r=\"4\" class=\"bean\"/><circle cx=\"60.555005308559686\" cy=\"131.27011187214347\" r=\"4\" class=\"bean\"/><circle cx=\"120.0\" cy=\"120.0\" r=\"4\" class=\"bean\"/><circle cx=\"132.0\" cy=\"120.0\" r=\"4\" class=\"bean\"/><circle cx=\"144.0\" cy=\"120.0\" r=\"4\" class=\"bean\"/><circle cx=\"156.0\" cy=\"120.0\" r=\"4\" class=\"bean\"/><circle cx=\"120.0\" cy=\"132.0\" r=\"4\" class=\"bean\"/><circle cx=\"132.0\" cy=\"132.0\" r=\"4\" class=\"bean\"/><circle cx=\"144.0\" cy=\"132.0\" r=\"4\" class=\"bean\"/><circle cx=\"156.0\" cy=\"132.0\" r=\"4\" class=\"bean\"/><circle cx=\"120.0\" cy=\"144.0\" r=\"4\" class=\"bean\"/><circle cx=\"132.0\" cy=\"144.0\" r=\"4\" class=\"bean\"/><circle cx=\"323.85126694135516\" cy=\"134.11652664347434\" r=\"4\" class=\"bean\"/><circle cx=\"313.8709532807607\" cy=\"124.14675007345198\" r=\"4\" class=\"bean\"/><circle cx=\"301.3050457775181\" cy=\"130.5577620247718\" r=\"4\" class=\"bean\"/><circle cx=\"303.51920150162124\" cy=\"144.4897618829916\" r=\"4\" class=\"bean\"/><circle cx=\"317.4535324987448\" cy=\"146.68919937531032\" r=\"4\" class=\"bean\"/><circle cx=\"384.0\" cy=\"120.0\" r=\"4\" class=\"bean\"/><circle cx=\"396.0\" cy=\"120.0\" r=\"4\" class=\"bean\"/><circle cx=\"408.0\" cy=\"120.0\" r=\"4\" class=\"bean\"/><circle cx=\"420.0\" cy=\"120.0\" r=\"4\" class=\"bean\"/><circle cx=\"384.0\" cy=\"132.0\" r=\"4\" class=\"bean\"/><circle cx=\"396.0\" cy=\"132.0\" r=\"4\" class=\"bean\"/><circle cx=\"408.0\" cy=\"132.0\" r=\"4\" class=\"bean\"/><circle cx=\"420.0\" cy=\"132.0\" r=\"4\" class=\"bean\"/><circle cx=\"384.0\" cy=\"144.0\" r=\"4\" class=\"bean\"/><circle cx=\"396.0\" cy=\"144.0\" r=\"4\" class=\"bean\"/><circle cx=\"408.0\" cy=\"144.0\" r=\"4\" class=\"bean\"/><circle cx=\"499.7237339606692\" cy=\"138.56009023658373\" r=\"4\" class=\"bean\"/><circle cx=\"494.0576235331841\" cy=\"125.64117781163252\" r=\"4\" class=\"bean\"/><circle cx=\"480.0200832738898\" cy=\"127.03780556758858\" r=\"4\" class=\"bean\"/><circle cx=\"477.010516702686\" cy=\"140.81988141535214\" r=\"4\" class=\"bean\"/><circle cx=\"489.1880425295709\" cy=\"147.941044968843\" r=\"4\" class=\"bean\"/>\n",
       "    </svg>"
      ],
      "text/plain": [
       "<IPython.core.display.SVG object>"
      ]
     },
     "execution_count": 4,
     "metadata": {},
     "output_type": "execute_result"
    }
   ],
   "source": [
    "random_board = np.random.randint(0, 15, (2, 6))\n",
    "SVG(board_to_svg(random_board, show_count=True, highlight=[(0, 5)]))"
   ]
  },
  {
   "cell_type": "code",
   "execution_count": null,
   "metadata": {},
   "outputs": [],
   "source": []
  },
  {
   "cell_type": "code",
   "execution_count": 7,
   "metadata": {},
   "outputs": [
    {
     "data": {
      "image/svg+xml": [
       "<svg xmlns=\"http://www.w3.org/2000/svg\" xmlns:xlink=\"http://www.w3.org/1999/xlink\" width=\"535\" height=\"180\">\n",
       "  <style>\n",
       "    circle {\n",
       "      fill: none;\n",
       "      stroke: #000;\n",
       "      stroke-width: 2;\n",
       "    }\n",
       "    text {\n",
       "      font-size: 1.5em;\n",
       "    }\n",
       "  </style>\n",
       "\n",
       "  <circle cx=\"48.0\" cy=\"48.0\" r=\"40\"/><text x=\"40.0\" y=\"56.0\">6'</text><circle cx=\"136.0\" cy=\"48.0\" r=\"40\"/><text x=\"128.0\" y=\"56.0\">5'</text><circle cx=\"224.0\" cy=\"48.0\" r=\"40\"/><text x=\"216.0\" y=\"56.0\">4'</text><circle cx=\"312.0\" cy=\"48.0\" r=\"40\"/><text x=\"304.0\" y=\"56.0\">3'</text><circle cx=\"400.0\" cy=\"48.0\" r=\"40\"/><text x=\"392.0\" y=\"56.0\">2'</text><circle cx=\"488.0\" cy=\"48.0\" r=\"40\"/><text x=\"480.0\" y=\"56.0\">1'</text><circle cx=\"48.0\" cy=\"136.0\" r=\"40\"/><text x=\"40.0\" y=\"144.0\">1</text><circle cx=\"136.0\" cy=\"136.0\" r=\"40\"/><text x=\"128.0\" y=\"144.0\">2</text><circle cx=\"224.0\" cy=\"136.0\" r=\"40\"/><text x=\"216.0\" y=\"144.0\">3</text><circle cx=\"312.0\" cy=\"136.0\" r=\"40\"/><text x=\"304.0\" y=\"144.0\">4</text><circle cx=\"400.0\" cy=\"136.0\" r=\"40\"/><text x=\"392.0\" y=\"144.0\">5</text><circle cx=\"488.0\" cy=\"136.0\" r=\"40\"/><text x=\"480.0\" y=\"144.0\">6</text>\n",
       "  \n",
       "</svg>"
      ],
      "text/plain": [
       "<IPython.core.display.SVG object>"
      ]
     },
     "execution_count": 7,
     "metadata": {},
     "output_type": "execute_result"
    }
   ],
   "source": [
    "\n",
    "radius = 40\n",
    "pit_size = radius*2.2\n",
    "bean_radius = 4\n",
    "bean_size = bean_radius * 2.2\n",
    "grid_bean_size = bean_radius * 3\n",
    "\n",
    "board = \"\"\n",
    "beans = \"\"\n",
    "\n",
    "pits = [\n",
    "    [\"6'\", \"5'\", \"4'\", \"3'\", \"2'\", \"1'\"],\n",
    "    [1, 2, 3, 4, 5, 6]\n",
    "]\n",
    "\n",
    "for player in range(2):\n",
    "    for pit in range(6):\n",
    "        cx = radius*1.2+pit*pit_size\n",
    "        cy = radius*1.2+player*pit_size\n",
    "        board += '<circle cx=\"{x}\" cy=\"{y}\" r=\"{r}\"/>'.format(\n",
    "            x=cx,\n",
    "            y=cy,\n",
    "            r=radius,\n",
    "        )\n",
    "        text = pits[player][pit]\n",
    "        board += '<text x=\"{x}\" y=\"{y}\" >{n}</text>'.format(\n",
    "            x=cx - radius * 0.2,\n",
    "            y=cy + radius * 0.2,\n",
    "            n=text\n",
    "        )\n",
    "\n",
    "\n",
    "pit_numbering = SVG(\"\"\"\n",
    "<svg xmlns=\"http://www.w3.org/2000/svg\" xmlns:xlink=\"http://www.w3.org/1999/xlink\" width=\"535\" height=\"180\">\n",
    "  <style>\n",
    "    circle {\n",
    "      fill: none;\n",
    "      stroke: #000;\n",
    "      stroke-width: 2;\n",
    "    }\n",
    "    text {\n",
    "      font-size: 1.5em;\n",
    "    }\n",
    "  </style>\n",
    "\n",
    "  %s\n",
    "  %s\n",
    "</svg>\n",
    "\"\"\" % (board, beans)) \n",
    "\n",
    "pit_numbering"
   ]
  },
  {
   "cell_type": "code",
   "execution_count": null,
   "metadata": {},
   "outputs": [],
   "source": []
  },
  {
   "cell_type": "code",
   "execution_count": null,
   "metadata": {},
   "outputs": [],
   "source": []
  }
 ],
 "metadata": {
  "kernelspec": {
   "display_name": "Python 3",
   "language": "python",
   "name": "python3"
  },
  "language_info": {
   "codemirror_mode": {
    "name": "ipython",
    "version": 3
   },
   "file_extension": ".py",
   "mimetype": "text/x-python",
   "name": "python",
   "nbconvert_exporter": "python",
   "pygments_lexer": "ipython3",
   "version": "3.9.0"
  }
 },
 "nbformat": 4,
 "nbformat_minor": 2
}
