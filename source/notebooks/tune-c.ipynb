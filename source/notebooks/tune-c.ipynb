{
 "cells": [
  {
   "cell_type": "code",
   "execution_count": 1,
   "metadata": {},
   "outputs": [],
   "source": [
    "import boto3\n",
    "import time\n",
    "import json\n",
    "\n",
    "session = boto3.Session(profile_name='nikita')\n",
    "\n",
    "client = session.client('batch')\n",
    "log_client = session.client('logs')\n",
    "\n",
    "\n",
    "import numpy as np\n",
    "import math"
   ]
  },
  {
   "cell_type": "code",
   "execution_count": 2,
   "metadata": {},
   "outputs": [],
   "source": [
    "SQRT22 = math.sqrt(2) / 2\n",
    "space = np.linspace(0.01, SQRT22 * 3, 15)"
   ]
  },
  {
   "cell_type": "code",
   "execution_count": 3,
   "metadata": {},
   "outputs": [
    {
     "data": {
      "text/plain": [
       "array([0.01      , 0.1608086 , 0.31161719, 0.46242579, 0.61323438,\n",
       "       0.76404298, 0.91485158, 1.06566017, 1.21646877, 1.36727736,\n",
       "       1.51808596, 1.66889456, 1.81970315, 1.97051175, 2.12132034])"
      ]
     },
     "execution_count": 3,
     "metadata": {},
     "output_type": "execute_result"
    }
   ],
   "source": [
    "space"
   ]
  },
  {
   "cell_type": "code",
   "execution_count": 8,
   "metadata": {},
   "outputs": [],
   "source": [
    "def submit(a, b, name=\"simulation\"):\n",
    "    return client.submit_job(\n",
    "        jobDefinition='simulate',\n",
    "        jobName=name,\n",
    "        jobQueue='first-run-job-queue',\n",
    "        containerOverrides={\n",
    "            'command': [\"python\", \"simulate.py\"],\n",
    "            'environment': [\n",
    "                {\n",
    "                    'name': 'PLAYER_A',\n",
    "                    'value': a % 0,\n",
    "                },\n",
    "                {\n",
    "                    'name': 'PLAYER_B',\n",
    "                    'value': b % 1,\n",
    "                }\n",
    "            ]\n",
    "        }\n",
    "    )"
   ]
  },
  {
   "cell_type": "code",
   "execution_count": 119,
   "metadata": {},
   "outputs": [],
   "source": [
    "for i in range(30):\n",
    "    for c in space:\n",
    "        a = \"UCTPlayer(%s, td(seconds=3), c=math.sqrt(2) / 2)\"\n",
    "        b = f\"UCTPlayer(%s, td(seconds=3), c={c})\"\n",
    "        \n",
    "        submit(a, b, \"tune_c\")\n",
    "        submit(b, a, \"tune_c_reverse\")"
   ]
  },
  {
   "cell_type": "code",
   "execution_count": 4,
   "metadata": {},
   "outputs": [],
   "source": [
    "space2 = np.linspace(SQRT22 - 0.2, SQRT22 + 0.2, 5)"
   ]
  },
  {
   "cell_type": "code",
   "execution_count": 5,
   "metadata": {},
   "outputs": [
    {
     "data": {
      "text/plain": [
       "array([0.50710678, 0.60710678, 0.70710678, 0.80710678, 0.90710678])"
      ]
     },
     "execution_count": 5,
     "metadata": {},
     "output_type": "execute_result"
    }
   ],
   "source": [
    "space2"
   ]
  },
  {
   "cell_type": "code",
   "execution_count": 230,
   "metadata": {},
   "outputs": [],
   "source": [
    "for i in range(30):\n",
    "    for c in space2:\n",
    "        a = \"UCTPlayer(%s, td(seconds=3), c=math.sqrt(2) / 2)\"\n",
    "        b = f\"UCTPlayer(%s, td(seconds=3), c={c})\"\n",
    "        \n",
    "        submit(a, b, \"tune_c\")\n",
    "        submit(b, a, \"tune_c_reverse\")"
   ]
  },
  {
   "cell_type": "code",
   "execution_count": 6,
   "metadata": {},
   "outputs": [],
   "source": [
    "space3 = [0.22, 0.38]"
   ]
  },
  {
   "cell_type": "code",
   "execution_count": 9,
   "metadata": {},
   "outputs": [],
   "source": [
    "for i in range(30):\n",
    "    for c in space3:\n",
    "        a = \"UCTPlayer(%s, td(seconds=3), c=math.sqrt(2) / 2)\"\n",
    "        b = f\"UCTPlayer(%s, td(seconds=3), c={c})\"\n",
    "        \n",
    "        submit(a, b, \"tune_c\")\n",
    "        submit(b, a, \"tune_c_reverse\")"
   ]
  }
 ],
 "metadata": {
  "kernelspec": {
   "display_name": "Python 3",
   "language": "python",
   "name": "python3"
  },
  "language_info": {
   "codemirror_mode": {
    "name": "ipython",
    "version": 3
   },
   "file_extension": ".py",
   "mimetype": "text/x-python",
   "name": "python",
   "nbconvert_exporter": "python",
   "pygments_lexer": "ipython3",
   "version": "3.7.9"
  }
 },
 "nbformat": 4,
 "nbformat_minor": 2
}
