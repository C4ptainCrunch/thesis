{
 "cells": [
  {
   "cell_type": "code",
   "execution_count": 1,
   "metadata": {},
   "outputs": [
    {
     "name": "stdout",
     "output_type": "stream",
     "text": [
      "Populating the interactive namespace from numpy and matplotlib\n"
     ]
    }
   ],
   "source": [
    "import boto3\n",
    "import time\n",
    "import json\n",
    "\n",
    "session = boto3.Session(profile_name='nikita')\n",
    "client = session.client('logs')\n",
    "\n",
    "\n",
    "import numpy as np\n",
    "import pandas as pd\n",
    "import math\n",
    "%pylab inline\n",
    "\n",
    "\n",
    "from datetime import datetime, timezone"
   ]
  },
  {
   "cell_type": "markdown",
   "metadata": {},
   "source": [
    "# Query results"
   ]
  },
  {
   "cell_type": "code",
   "execution_count": 2,
   "metadata": {},
   "outputs": [
    {
     "name": "stdout",
     "output_type": "stream",
     "text": [
      "Querying\n",
      "Querying\n",
      "Done, with 6945 results\n"
     ]
    }
   ],
   "source": [
    "start = 0\n",
    "results = []\n",
    "\n",
    "while True:\n",
    "    print('Querying')\n",
    "    \n",
    "    # Query for the first time begining in 1970\n",
    "    query = client.start_query(\n",
    "        logGroupName='/aws/batch/job',\n",
    "        startTime=start,\n",
    "        endTime=int(time.time()),\n",
    "        queryString=\"\"\"\n",
    "            fields @message, @timestamp\n",
    "            | filter success == 1\n",
    "            | sort @timestamp asc\n",
    "            | limit 10000\n",
    "        \"\"\",\n",
    "        limit=10000\n",
    "    )\n",
    "\n",
    "    # Loop untill the query response is ready\n",
    "    query_result = {'status': 'Scheduled'}\n",
    "    while query_result['status'] in ('Scheduled', 'Running'):\n",
    "        query_result = client.get_query_results(queryId=query['queryId'])\n",
    "        time.sleep(1)\n",
    "    \n",
    "    tmp = query_result\n",
    "    \n",
    "    # If we reached the end, we don't have any more data, we break\n",
    "    if len(query_result['results']) == 0:\n",
    "        break\n",
    "\n",
    "    # If we did not reach the end, we get the timestamp of the last line and use this\n",
    "    # as a starting point for the next iteration\n",
    "    assert query_result['results'][-1][1]['field'] == \"@timestamp\"\n",
    "    start = int(datetime.strptime(query_result['results'][-1][1]['value'], \"%Y-%m-%d %H:%M:%S.%f\").replace(tzinfo=timezone.utc).timestamp()) + 1\n",
    "\n",
    "    # Process the data a little bit and push it to results\n",
    "    data = [\n",
    "        json.loads(row[0]['value'])\n",
    "        for row in query_result['results']\n",
    "    ]\n",
    "    results += data\n",
    "\n",
    "print(f\"Done, with {len(results)} results\")"
   ]
  },
  {
   "cell_type": "code",
   "execution_count": 3,
   "metadata": {},
   "outputs": [],
   "source": [
    "with open(\"../eps_matrix2.out\") as fd:\n",
    "    text_data = [json.loads(line) for line in fd if line.startswith(\"{\")]"
   ]
  },
  {
   "cell_type": "code",
   "execution_count": 4,
   "metadata": {},
   "outputs": [],
   "source": [
    "for row in data:\n",
    "    if row['winner'] is None:\n",
    "        row['winner'] = 0.5\n",
    "\n",
    "for row in text_data:\n",
    "    if row['winner'] is None:\n",
    "        row['winner'] = 0.5\n",
    "\n",
    "df = pd.DataFrame(results + text_data)"
   ]
  },
  {
   "cell_type": "code",
   "execution_count": 5,
   "metadata": {},
   "outputs": [],
   "source": [
    "from datetime import timedelta as td\n",
    "\n",
    "class Player:\n",
    "    def __init__(self, *args, **kwargs):\n",
    "        self.args = args\n",
    "        self.kwargs = kwargs\n",
    "        \n",
    "class GreedyPlayer(Player):\n",
    "    pass\n",
    "\n",
    "class MCTSPlayer(Player):\n",
    "    pass\n",
    "\n",
    "class UCTPlayer(Player):\n",
    "    pass\n",
    "\n",
    "# Fix bad data\n",
    "df['version'] = df.version.fillna(1).astype(int)\n",
    "df['side'] = df['side'].fillna(-1).astype(int)\n",
    "\n",
    "# Only keep usable data\n",
    "df = df[df.version >= 2]"
   ]
  },
  {
   "cell_type": "code",
   "execution_count": 6,
   "metadata": {},
   "outputs": [],
   "source": [
    "df.to_pickle(\"raw-results.pkl\")"
   ]
  },
  {
   "cell_type": "code",
   "execution_count": 7,
   "metadata": {},
   "outputs": [
    {
     "data": {
      "text/html": [
       "<div>\n",
       "<style scoped>\n",
       "    .dataframe tbody tr th:only-of-type {\n",
       "        vertical-align: middle;\n",
       "    }\n",
       "\n",
       "    .dataframe tbody tr th {\n",
       "        vertical-align: top;\n",
       "    }\n",
       "\n",
       "    .dataframe thead th {\n",
       "        text-align: right;\n",
       "    }\n",
       "</style>\n",
       "<table border=\"1\" class=\"dataframe\">\n",
       "  <thead>\n",
       "    <tr style=\"text-align: right;\">\n",
       "      <th></th>\n",
       "      <th>player</th>\n",
       "      <th>opponent</th>\n",
       "      <th>duration</th>\n",
       "      <th>depth</th>\n",
       "      <th>score</th>\n",
       "      <th>winner</th>\n",
       "      <th>success</th>\n",
       "      <th>pool</th>\n",
       "      <th>side</th>\n",
       "      <th>version</th>\n",
       "    </tr>\n",
       "  </thead>\n",
       "  <tbody>\n",
       "    <tr>\n",
       "      <td>40001</td>\n",
       "      <td>GreedyPlayer(0, 0.5)</td>\n",
       "      <td>GreedyPlayer(1, 0.05)</td>\n",
       "      <td>0.0078</td>\n",
       "      <td>30</td>\n",
       "      <td>[6, 26]</td>\n",
       "      <td>1.0</td>\n",
       "      <td>True</td>\n",
       "      <td>local-eps-matrix</td>\n",
       "      <td>0</td>\n",
       "      <td>2</td>\n",
       "    </tr>\n",
       "    <tr>\n",
       "      <td>26887</td>\n",
       "      <td>GreedyPlayer(0, 0.6000000000000001)</td>\n",
       "      <td>GreedyPlayer(1, 0.8500000000000001)</td>\n",
       "      <td>0.0099</td>\n",
       "      <td>37</td>\n",
       "      <td>[25, 8]</td>\n",
       "      <td>0.0</td>\n",
       "      <td>True</td>\n",
       "      <td>local-eps-matrix</td>\n",
       "      <td>0</td>\n",
       "      <td>2</td>\n",
       "    </tr>\n",
       "    <tr>\n",
       "      <td>43470</td>\n",
       "      <td>GreedyPlayer(0, 0.65)</td>\n",
       "      <td>GreedyPlayer(1, 0.4)</td>\n",
       "      <td>0.0145</td>\n",
       "      <td>71</td>\n",
       "      <td>[20, 23]</td>\n",
       "      <td>1.0</td>\n",
       "      <td>True</td>\n",
       "      <td>local-eps-matrix</td>\n",
       "      <td>1</td>\n",
       "      <td>2</td>\n",
       "    </tr>\n",
       "    <tr>\n",
       "      <td>35905</td>\n",
       "      <td>GreedyPlayer(0, 0.8500000000000001)</td>\n",
       "      <td>GreedyPlayer(1, 0.55)</td>\n",
       "      <td>0.0054</td>\n",
       "      <td>20</td>\n",
       "      <td>[3, 26]</td>\n",
       "      <td>1.0</td>\n",
       "      <td>True</td>\n",
       "      <td>local-eps-matrix</td>\n",
       "      <td>0</td>\n",
       "      <td>2</td>\n",
       "    </tr>\n",
       "    <tr>\n",
       "      <td>48936</td>\n",
       "      <td>GreedyPlayer(0, 0.8)</td>\n",
       "      <td>GreedyPlayer(1, 0.6000000000000001)</td>\n",
       "      <td>0.0185</td>\n",
       "      <td>88</td>\n",
       "      <td>[20, 26]</td>\n",
       "      <td>1.0</td>\n",
       "      <td>True</td>\n",
       "      <td>local-eps-matrix</td>\n",
       "      <td>1</td>\n",
       "      <td>2</td>\n",
       "    </tr>\n",
       "  </tbody>\n",
       "</table>\n",
       "</div>"
      ],
      "text/plain": [
       "                                    player  \\\n",
       "40001                 GreedyPlayer(0, 0.5)   \n",
       "26887  GreedyPlayer(0, 0.6000000000000001)   \n",
       "43470                GreedyPlayer(0, 0.65)   \n",
       "35905  GreedyPlayer(0, 0.8500000000000001)   \n",
       "48936                 GreedyPlayer(0, 0.8)   \n",
       "\n",
       "                                  opponent  duration  depth     score  winner  \\\n",
       "40001                GreedyPlayer(1, 0.05)    0.0078     30   [6, 26]     1.0   \n",
       "26887  GreedyPlayer(1, 0.8500000000000001)    0.0099     37   [25, 8]     0.0   \n",
       "43470                 GreedyPlayer(1, 0.4)    0.0145     71  [20, 23]     1.0   \n",
       "35905                GreedyPlayer(1, 0.55)    0.0054     20   [3, 26]     1.0   \n",
       "48936  GreedyPlayer(1, 0.6000000000000001)    0.0185     88  [20, 26]     1.0   \n",
       "\n",
       "       success              pool  side  version  \n",
       "40001     True  local-eps-matrix     0        2  \n",
       "26887     True  local-eps-matrix     0        2  \n",
       "43470     True  local-eps-matrix     1        2  \n",
       "35905     True  local-eps-matrix     0        2  \n",
       "48936     True  local-eps-matrix     1        2  "
      ]
     },
     "execution_count": 7,
     "metadata": {},
     "output_type": "execute_result"
    }
   ],
   "source": [
    "df.sample(5)"
   ]
  },
  {
   "cell_type": "code",
   "execution_count": 8,
   "metadata": {},
   "outputs": [],
   "source": [
    "is_normalized = df['side'] == 0\n",
    "\n",
    "to_normalise = df[~is_normalized].copy()\n",
    "\n",
    "# Swap columns\n",
    "opponents = to_normalise['opponent'].copy()\n",
    "players = to_normalise['player'].copy()\n",
    "\n",
    "to_normalise['player'] = opponents\n",
    "to_normalise['opponent'] = players\n",
    "\n",
    "# Swap winner\n",
    "to_normalise['winner'] = 1 - to_normalise['winner']\n",
    "\n",
    "# Swap individual scores\n",
    "to_normalise['score'] = to_normalise['score'].map(lambda x: list(reversed(x)))\n",
    "\n",
    "# Concatenate the 2 sides\n",
    "normalised = pd.concat([\n",
    "    df[is_normalized].copy(),\n",
    "    to_normalise.copy()\n",
    "])\n",
    "\n",
    "\n",
    "# Evaluate both players\n",
    "normalised['player_eval'] = normalised['player'].map(lambda x: eval(x))\n",
    "normalised['opponent_eval'] = normalised['opponent'].map(lambda x: eval(x))"
   ]
  },
  {
   "cell_type": "markdown",
   "metadata": {},
   "source": [
    "# Plot\n"
   ]
  },
  {
   "cell_type": "markdown",
   "metadata": {},
   "source": [
    "## MCTS time compare"
   ]
  },
  {
   "cell_type": "code",
   "execution_count": 18,
   "metadata": {},
   "outputs": [],
   "source": [
    "mcts = normalised[normalised.pool == 'mcts_5s_time_compare_longer'].copy()\n",
    "mcts['time'] = mcts.opponent_eval.map(lambda x: x.args[1].total_seconds())\n",
    "grouped = mcts.groupby('time').winner.agg(['mean', 'count'])"
   ]
  },
  {
   "cell_type": "code",
   "execution_count": 19,
   "metadata": {},
   "outputs": [
    {
     "data": {
      "text/html": [
       "<div>\n",
       "<style scoped>\n",
       "    .dataframe tbody tr th:only-of-type {\n",
       "        vertical-align: middle;\n",
       "    }\n",
       "\n",
       "    .dataframe tbody tr th {\n",
       "        vertical-align: top;\n",
       "    }\n",
       "\n",
       "    .dataframe thead th {\n",
       "        text-align: right;\n",
       "    }\n",
       "</style>\n",
       "<table border=\"1\" class=\"dataframe\">\n",
       "  <thead>\n",
       "    <tr style=\"text-align: right;\">\n",
       "      <th></th>\n",
       "      <th>mean</th>\n",
       "      <th>count</th>\n",
       "    </tr>\n",
       "    <tr>\n",
       "      <th>time</th>\n",
       "      <th></th>\n",
       "      <th></th>\n",
       "    </tr>\n",
       "  </thead>\n",
       "  <tbody>\n",
       "    <tr>\n",
       "      <td>0.5</td>\n",
       "      <td>0.30</td>\n",
       "      <td>10</td>\n",
       "    </tr>\n",
       "    <tr>\n",
       "      <td>1.0</td>\n",
       "      <td>0.20</td>\n",
       "      <td>10</td>\n",
       "    </tr>\n",
       "    <tr>\n",
       "      <td>1.5</td>\n",
       "      <td>0.25</td>\n",
       "      <td>10</td>\n",
       "    </tr>\n",
       "    <tr>\n",
       "      <td>2.0</td>\n",
       "      <td>0.50</td>\n",
       "      <td>10</td>\n",
       "    </tr>\n",
       "    <tr>\n",
       "      <td>3.0</td>\n",
       "      <td>0.40</td>\n",
       "      <td>10</td>\n",
       "    </tr>\n",
       "    <tr>\n",
       "      <td>5.0</td>\n",
       "      <td>0.60</td>\n",
       "      <td>10</td>\n",
       "    </tr>\n",
       "    <tr>\n",
       "      <td>7.0</td>\n",
       "      <td>0.50</td>\n",
       "      <td>10</td>\n",
       "    </tr>\n",
       "    <tr>\n",
       "      <td>10.0</td>\n",
       "      <td>0.70</td>\n",
       "      <td>10</td>\n",
       "    </tr>\n",
       "    <tr>\n",
       "      <td>15.0</td>\n",
       "      <td>0.70</td>\n",
       "      <td>10</td>\n",
       "    </tr>\n",
       "    <tr>\n",
       "      <td>20.0</td>\n",
       "      <td>0.70</td>\n",
       "      <td>10</td>\n",
       "    </tr>\n",
       "    <tr>\n",
       "      <td>30.0</td>\n",
       "      <td>0.70</td>\n",
       "      <td>10</td>\n",
       "    </tr>\n",
       "    <tr>\n",
       "      <td>40.0</td>\n",
       "      <td>1.00</td>\n",
       "      <td>10</td>\n",
       "    </tr>\n",
       "  </tbody>\n",
       "</table>\n",
       "</div>"
      ],
      "text/plain": [
       "      mean  count\n",
       "time             \n",
       "0.5   0.30     10\n",
       "1.0   0.20     10\n",
       "1.5   0.25     10\n",
       "2.0   0.50     10\n",
       "3.0   0.40     10\n",
       "5.0   0.60     10\n",
       "7.0   0.50     10\n",
       "10.0  0.70     10\n",
       "15.0  0.70     10\n",
       "20.0  0.70     10\n",
       "30.0  0.70     10\n",
       "40.0  1.00     10"
      ]
     },
     "execution_count": 19,
     "metadata": {},
     "output_type": "execute_result"
    }
   ],
   "source": [
    "grouped"
   ]
  },
  {
   "cell_type": "code",
   "execution_count": 20,
   "metadata": {},
   "outputs": [
    {
     "data": {
      "image/png": "[encoded data removed]",
      "text/plain": [
       "<Figure size 720x432 with 2 Axes>"
      ]
     },
     "metadata": {
      "needs_background": "light"
     },
     "output_type": "display_data"
    }
   ],
   "source": [
    "plt.figure(figsize=(10, 6))\n",
    "\n",
    "plt.scatter(\n",
    "    grouped.index,\n",
    "    grouped['mean'],\n",
    "    c=grouped['count'],\n",
    "    label='win ratio',\n",
    "    s=100\n",
    ")\n",
    "\n",
    "plt.vlines(5, 0, 1, linestyles='dashed', label=\"5s\", color=\"grey\")\n",
    "plt.hlines(0.5, grouped.index.min() , grouped.index.max(), linestyles='dotted', label=\"0.5 win ratio\", color=\"grey\")\n",
    "plt.legend()\n",
    "cb = plt.colorbar()\n",
    "cb.set_label('# of matches', rotation=270)\n",
    "cb.ax.set_yticklabels([int(i) for i in cb.get_ticks()])\n",
    "cb.ax.get_yaxis().labelpad = 15\n",
    "\n",
    "plt.ylim(0, 1)\n",
    "\n",
    "plt.title(\"Win ratios of different time values against 5s\");\n",
    "plt.xlabel(\"Opponent's time limit\")\n",
    "plt.ylabel(\"Opponent's win ratio\");"
   ]
  },
  {
   "cell_type": "markdown",
   "metadata": {},
   "source": [
    "## UTC c=1.5"
   ]
  },
  {
   "cell_type": "code",
   "execution_count": 12,
   "metadata": {
    "scrolled": false
   },
   "outputs": [],
   "source": [
    "uct = normalised[normalised.pool == 'uct-1_5-vs-range'].copy()\n",
    "uct['c'] = uct.opponent_eval.map(lambda x: x.kwargs['c'])\n",
    "grouped = uct.groupby('c').winner.agg(['mean', 'count'])"
   ]
  },
  {
   "cell_type": "code",
   "execution_count": 13,
   "metadata": {},
   "outputs": [
    {
     "data": {
      "image/png": "[encoded data removed]",
      "text/plain": [
       "<Figure size 720x432 with 2 Axes>"
      ]
     },
     "metadata": {
      "needs_background": "light"
     },
     "output_type": "display_data"
    }
   ],
   "source": [
    "plt.figure(figsize=(10, 6))\n",
    "\n",
    "plt.scatter(\n",
    "    grouped.index,\n",
    "    grouped['mean'],\n",
    "    c=grouped['count'],\n",
    "    label='win ratio',\n",
    "    s=100\n",
    ")\n",
    "\n",
    "plt.vlines(1.5, 0, 1, linestyles='dashed', label=\"$1.5$\", color=\"grey\")\n",
    "plt.hlines(0.5, grouped.index.min() , grouped.index.max(), linestyles='dotted', label=\"0.5 win ratio\", color=\"grey\")\n",
    "plt.legend()\n",
    "cb = plt.colorbar()\n",
    "cb.set_label('# of matches', rotation=270)\n",
    "#cb.ax.set_yticklabels([int(i) for i in cb.get_ticks()])\n",
    "cb.ax.get_yaxis().labelpad = 15\n",
    "\n",
    "plt.ylim(0, 1)\n",
    "\n",
    "plt.title(\"Win ratios of different $c$ values against $c = 1.5$\");\n",
    "plt.xlabel(\"Opponent's value of $c$\")\n",
    "plt.ylabel(\"Opponent's win ratio\");"
   ]
  },
  {
   "cell_type": "code",
   "execution_count": 14,
   "metadata": {},
   "outputs": [
    {
     "data": {
      "text/plain": [
       "array([0.  , 0.05, 0.1 , 0.15, 0.2 , 0.25, 0.3 , 0.35, 0.4 , 0.45, 0.5 ,\n",
       "       0.55, 0.6 , 0.65, 0.7 , 0.75, 0.8 , 0.85, 0.9 , 0.95, 1.  ])"
      ]
     },
     "execution_count": 14,
     "metadata": {},
     "output_type": "execute_result"
    }
   ],
   "source": [
    "np.linspace(0, 1, 21)"
   ]
  },
  {
   "cell_type": "markdown",
   "metadata": {},
   "source": [
    "## EPs matric"
   ]
  },
  {
   "cell_type": "code",
   "execution_count": 15,
   "metadata": {},
   "outputs": [],
   "source": [
    "eps = normalised[normalised.pool == 'local-eps-matrix'].copy()\n",
    "eps['eps1'] = eps.player_eval.map(lambda x: x.args[1])\n",
    "eps['eps2'] = eps.opponent_eval.map(lambda x: x.args[1])"
   ]
  },
  {
   "cell_type": "code",
   "execution_count": 16,
   "metadata": {},
   "outputs": [
    {
     "data": {
      "text/html": [
       "<div>\n",
       "<style scoped>\n",
       "    .dataframe tbody tr th:only-of-type {\n",
       "        vertical-align: middle;\n",
       "    }\n",
       "\n",
       "    .dataframe tbody tr th {\n",
       "        vertical-align: top;\n",
       "    }\n",
       "\n",
       "    .dataframe thead th {\n",
       "        text-align: right;\n",
       "    }\n",
       "</style>\n",
       "<table border=\"1\" class=\"dataframe\">\n",
       "  <thead>\n",
       "    <tr style=\"text-align: right;\">\n",
       "      <th></th>\n",
       "      <th></th>\n",
       "      <th>mean</th>\n",
       "      <th>count</th>\n",
       "    </tr>\n",
       "    <tr>\n",
       "      <th>eps1</th>\n",
       "      <th>eps2</th>\n",
       "      <th></th>\n",
       "      <th></th>\n",
       "    </tr>\n",
       "  </thead>\n",
       "  <tbody>\n",
       "    <tr>\n",
       "      <td rowspan=\"5\" valign=\"top\">0.0</td>\n",
       "      <td>0.00</td>\n",
       "      <td>0.415</td>\n",
       "      <td>100</td>\n",
       "    </tr>\n",
       "    <tr>\n",
       "      <td>0.05</td>\n",
       "      <td>0.505</td>\n",
       "      <td>100</td>\n",
       "    </tr>\n",
       "    <tr>\n",
       "      <td>0.10</td>\n",
       "      <td>0.495</td>\n",
       "      <td>100</td>\n",
       "    </tr>\n",
       "    <tr>\n",
       "      <td>0.15</td>\n",
       "      <td>0.475</td>\n",
       "      <td>100</td>\n",
       "    </tr>\n",
       "    <tr>\n",
       "      <td>0.20</td>\n",
       "      <td>0.405</td>\n",
       "      <td>100</td>\n",
       "    </tr>\n",
       "    <tr>\n",
       "      <td>...</td>\n",
       "      <td>...</td>\n",
       "      <td>...</td>\n",
       "      <td>...</td>\n",
       "    </tr>\n",
       "    <tr>\n",
       "      <td rowspan=\"5\" valign=\"top\">1.0</td>\n",
       "      <td>0.80</td>\n",
       "      <td>0.710</td>\n",
       "      <td>100</td>\n",
       "    </tr>\n",
       "    <tr>\n",
       "      <td>0.85</td>\n",
       "      <td>0.675</td>\n",
       "      <td>100</td>\n",
       "    </tr>\n",
       "    <tr>\n",
       "      <td>0.90</td>\n",
       "      <td>0.605</td>\n",
       "      <td>100</td>\n",
       "    </tr>\n",
       "    <tr>\n",
       "      <td>0.95</td>\n",
       "      <td>0.575</td>\n",
       "      <td>100</td>\n",
       "    </tr>\n",
       "    <tr>\n",
       "      <td>1.00</td>\n",
       "      <td>0.560</td>\n",
       "      <td>100</td>\n",
       "    </tr>\n",
       "  </tbody>\n",
       "</table>\n",
       "<p>441 rows × 2 columns</p>\n",
       "</div>"
      ],
      "text/plain": [
       "            mean  count\n",
       "eps1 eps2              \n",
       "0.0  0.00  0.415    100\n",
       "     0.05  0.505    100\n",
       "     0.10  0.495    100\n",
       "     0.15  0.475    100\n",
       "     0.20  0.405    100\n",
       "...          ...    ...\n",
       "1.0  0.80  0.710    100\n",
       "     0.85  0.675    100\n",
       "     0.90  0.605    100\n",
       "     0.95  0.575    100\n",
       "     1.00  0.560    100\n",
       "\n",
       "[441 rows x 2 columns]"
      ]
     },
     "execution_count": 16,
     "metadata": {},
     "output_type": "execute_result"
    }
   ],
   "source": [
    "grouped = eps.groupby(['eps1', 'eps2']).winner.agg(['mean', 'count'])\n",
    "grouped"
   ]
  },
  {
   "cell_type": "markdown",
   "metadata": {},
   "source": [
    "# Triangel pas d'aller retour"
   ]
  },
  {
   "cell_type": "code",
   "execution_count": 17,
   "metadata": {},
   "outputs": [
    {
     "data": {
      "text/plain": [
       "<matplotlib.image.AxesImage at 0x7fb0d5dee110>"
      ]
     },
     "execution_count": 17,
     "metadata": {},
     "output_type": "execute_result"
    },
    {
     "data": {
      "image/png": "[encoded data removed]",
      "text/plain": [
       "<Figure size 432x288 with 1 Axes>"
      ]
     },
     "metadata": {
      "needs_background": "light"
     },
     "output_type": "display_data"
    }
   ],
   "source": [
    "plt.imshow(grouped.drop('count', axis=1).unstack().values, origin='lower')"
   ]
  },
  {
   "cell_type": "code",
   "execution_count": null,
   "metadata": {},
   "outputs": [],
   "source": []
  }
 ],
 "metadata": {
  "kernelspec": {
   "display_name": "Python 3",
   "language": "python",
   "name": "python3"
  },
  "language_info": {
   "codemirror_mode": {
    "name": "ipython",
    "version": 3
   },
   "file_extension": ".py",
   "mimetype": "text/x-python",
   "name": "python",
   "nbconvert_exporter": "python",
   "pygments_lexer": "ipython3",
   "version": "3.7.9"
  }
 },
 "nbformat": 4,
 "nbformat_minor": 2
}
