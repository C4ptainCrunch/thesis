{
 "cells": [
  {
   "cell_type": "code",
   "execution_count": 32,
   "metadata": {
    "tags": [
     "ha"
    ]
   },
   "outputs": [
    {
     "name": "stdout",
     "output_type": "stream",
     "text": [
      "importing Jupyter notebook from draw.ipynb\n"
     ]
    }
   ],
   "source": [
    "import numpy as np\n",
    "import itertools\n",
    "from recordclass import recordclass\n",
    "\n",
    "import import_ipynb\n",
    "from draw import board_to_svg"
   ]
  },
  {
   "cell_type": "raw",
   "metadata": {},
   "source": [
    ":orphan:\n",
    "\n",
    "Implementation of the rules\n",
    "~~~~~~~~~~~~~~~~~~~~~~~~~~~\n",
    "\n",
    "This notebook implements the rules of Awalé.\n",
    "As the rest of this work is always using trees as the base model for a game,\n",
    "we also use it here in the implementation.\n",
    "\n",
    "\n",
    "Every node of the tree is immutable and new nodes are created when applying an action on a node.\n",
    "The only exception on immutability are the for counters used later by the MCTS (`wins` and `playouts`)"
   ]
  },
  {
   "cell_type": "markdown",
   "metadata": {},
   "source": [
    "Some rules have deliberately been excuded from this implementation :\n",
    "\n",
    "* Loops in the game state are not checked (this speeds up considerably the computations and we never encountered a loop in practice)\n",
    "* You are authorized to starve your opponent. This was made so the rules are a little bit simpler and should not change the complexity of the game.\n",
    "\n",
    "The main method you are interested in is `Game.step(i)` to play the i-th pit in the current sate. This will return the new state, the amount of seeds captured and a boolean informing you if the game is finished.\n",
    "\n",
    "On top of the simple implementation of Awalé, the `Game` class has a lot of helpers meant to be used by the MCTS algorithm and other agents.\n",
    "\n",
    "* `view_from_current_player` shows you the pits from the view of the current player\n",
    "* `legal_actions` gives you a list of the action the current player can make\n",
    "* `is_fully_expanded` tells you if all actions of this state have been computed\n",
    "* ..."
   ]
  },
  {
   "cell_type": "code",
   "execution_count": 66,
   "metadata": {},
   "outputs": [],
   "source": [
    "GAME_NODE_FIELDS = [\n",
    "    'n_pits', 'seeds_per_pit', 'pits', 'current_player',\n",
    "    'captures', 'parent', 'children', 'wins', 'n_playouts'\n",
    "]\n",
    "        \n",
    "class Game(recordclass('GameNode', GAME_NODE_FIELDS)):\n",
    "    @classmethod\n",
    "    def start_game(klass, n_pits=6, seeds_per_pit=4):\n",
    "        return klass(\n",
    "            n_pits,\n",
    "            seeds_per_pit,\n",
    "            pits=np.ones((n_pits * 2), dtype=int) * seeds_per_pit,\n",
    "            current_player=0,\n",
    "            captures=np.zeros((2,), dtype=int),\n",
    "            parent=None,\n",
    "            children=[None] * n_pits,\n",
    "            wins=[0, 0],\n",
    "            n_playouts=0\n",
    "        )\n",
    "    \n",
    "    @property\n",
    "    def view_from_current_player(self):\n",
    "        if self.current_player == 0:\n",
    "            return self.pits\n",
    "        else:\n",
    "            return np.roll(self.pits, self.n_pits)\n",
    "    \n",
    "    @property\n",
    "    def current_player_pits(self):\n",
    "        if self.current_player == 0:\n",
    "            return self.pits[:self.n_pits]\n",
    "        else:\n",
    "            return self.pits[self.n_pits:]\n",
    "\n",
    "    @property\n",
    "    def legal_actions(self):\n",
    "        # todo : add the Let the opponent play rule\n",
    "        our_pits = self.current_player_pits\n",
    "        return [x for x in range(self.n_pits) if our_pits[x] != 0]\n",
    "    \n",
    "    @property\n",
    "    def successors(self):\n",
    "        children = [x for x in self.children if x is not None]\n",
    "        successors = children + list(itertools.chain(*[x.successors for x in children]))\n",
    "        return successors\n",
    "\n",
    "    def step(self, action):\n",
    "        assert 0 <= action < self.n_pits, \"Illegal action\"\n",
    "        \n",
    "        # If we already did compute the children node, juste return it\n",
    "        if self.children[action] is not None:\n",
    "            new_game = self.children[action]\n",
    "            captures = new_game.captures[self.current_player] - self.captures[self.current_player]\n",
    "            return new_game, captures, new_game.game_finished\n",
    "        \n",
    "        target_pit = action if self.current_player == 0 else action - self.n_pits\n",
    "        \n",
    "        seeds = self.pits[target_pit]\n",
    "        assert seeds != 0, \"Illegal action: pit % is empty\" % target_pit\n",
    "        \n",
    "        # copy attributes\n",
    "        pits = np.copy(self.pits)\n",
    "        captures = np.copy(self.captures)\n",
    "        \n",
    "        # empty the target pit\n",
    "        pits[target_pit] = 0\n",
    "        \n",
    "        # fill the next pits\n",
    "        pit_to_sow = target_pit\n",
    "        while seeds > 0:\n",
    "            pit_to_sow = (pit_to_sow + 1) % (self.n_pits * 2)\n",
    "            if pit_to_sow != target_pit: # do not fill the target pit ever\n",
    "                pits[pit_to_sow] += 1\n",
    "                seeds -= 1\n",
    "        \n",
    "        # capture\n",
    "        # count the captures of the play\n",
    "        round_captures = 0\n",
    "        if pit_to_sow in self.adverse_pits_idx:\n",
    "            # if the last seed was in a adverse pit\n",
    "            # we can try to collect seeds\n",
    "            while pits[pit_to_sow] in (2, 3):\n",
    "                # if the pit contains 2 or 3 seeds, we capture them\n",
    "                captures[self.current_player] += pits[pit_to_sow]\n",
    "                round_captures += pits[pit_to_sow]\n",
    "                pits[pit_to_sow] = 0\n",
    "                \n",
    "                # go backwards\n",
    "                pit_to_sow = (pit_to_sow - 1) % (self.n_pits * 2)\n",
    "        \n",
    "        # change player\n",
    "        current_player = (self.current_player + 1) % 2\n",
    "        \n",
    "        new_game = type(self)(\n",
    "            self.n_pits,\n",
    "            self.seeds_per_pit,\n",
    "            pits,\n",
    "            current_player,\n",
    "            captures,\n",
    "            self,\n",
    "            [None] * self.n_pits,\n",
    "            [0, 0],\n",
    "            0\n",
    "        )\n",
    "        \n",
    "        self.children[action] = new_game\n",
    "        return new_game, round_captures, new_game.game_finished\n",
    "    \n",
    "    @property\n",
    "    def current_opponent(self):\n",
    "        return (self.current_player + 1) % 2\n",
    "    \n",
    "    @property\n",
    "    def adverse_pits_idx(self):\n",
    "        if self.current_player == 1:\n",
    "            return list(range(self.n_pits))\n",
    "        else:\n",
    "            return list(range(self.n_pits, self.n_pits * 2))\n",
    "    \n",
    "    @property\n",
    "    def is_state_loop(self):\n",
    "        return False\n",
    "    \n",
    "#     @property\n",
    "#     def is_state_loop(self):\n",
    "#         ancestor = self.parent\n",
    "#         while ancestor is not None:\n",
    "#             if np.all(ancestor.pits == self.pits):\n",
    "#                 return True\n",
    "#             ancestor = ancestor.parent\n",
    "#         return False\n",
    "    \n",
    "    \n",
    "    @property\n",
    "    def game_finished(self):\n",
    "        no_moves_left = np.count_nonzero(self.current_player_pits) == 0\n",
    "        \n",
    "        half_seeds = self.n_pits * self.seeds_per_pit\n",
    "        enough_captures = self.captures[0] > half_seeds or self.captures[1] > half_seeds\n",
    "        \n",
    "        draw = self.captures[0] == half_seeds and self.captures[1] == half_seeds\n",
    "        \n",
    "        loop = self.is_state_loop\n",
    "        \n",
    "        return no_moves_left or enough_captures or draw or loop\n",
    "    \n",
    "    def show_state(self):\n",
    "        if self.game_finished:\n",
    "            print(\"Game finished\")\n",
    "        print(\"Current player: {} - Score: {}/{}\\n{}\".format(\n",
    "            self.current_player,\n",
    "            self.captures[self.current_player],\n",
    "            self.captures[(self.current_player + 1) % 2],\n",
    "            \"-\" * self.n_pits * 3\n",
    "        ))\n",
    "        \n",
    "        pits = []\n",
    "        for seeds in self.view_from_current_player:\n",
    "            pits.append(\"{:3}\".format(seeds))\n",
    "        \n",
    "        print(\"\".join(reversed(pits[self.n_pits:])))\n",
    "        print(\"\".join(pits[:self.n_pits]))\n",
    "    \n",
    "    def update_stats(self, winner):\n",
    "        assert winner in [0, 1]\n",
    "        self.wins[winner] += 1\n",
    "        self.n_playouts += 1\n",
    "        if self.parent:\n",
    "            self.parent.update_stats(winner)\n",
    "    \n",
    "    @property\n",
    "    def winner(self):\n",
    "        if not self.game_finished:\n",
    "            return None\n",
    "        return np.argmax(self.captures)\n",
    "    \n",
    "    @property\n",
    "    def unvisited_actions(self):\n",
    "        return [i for i, x in enumerate(self.children) if x is None]\n",
    "\n",
    "    @property\n",
    "    def legal_unvisited_actions(self):\n",
    "        return list(set(self.unvisited_actions).intersection(set(self.legal_actions)))\n",
    "    \n",
    "    @property\n",
    "    def expanded_children(self):\n",
    "        return [x for x in self.children if x is not None]\n",
    "    \n",
    "    @property\n",
    "    def is_fully_expanded(self):\n",
    "        legal_actions = set(self.legal_actions)\n",
    "        unvisited_actions = set(self.unvisited_actions)\n",
    "        return len(legal_actions.intersection(unvisited_actions)) == 0\n",
    "    \n",
    "    @property\n",
    "    def is_leaf_game(self):\n",
    "        return self.children == [None] * self.n_pits\n",
    "    \n",
    "    @property\n",
    "    def depth(self):\n",
    "        if self.parent is None:\n",
    "            return 0\n",
    "        return 1 + self.parent.depth\n",
    "    \n",
    "    def __repr__(self):\n",
    "        return \"<Game {wins}/{n_playouts} player:{player} captures:{captures[0]}/{captures[1]}>\".format(\n",
    "            wins=self.wins,\n",
    "            n_playouts=self.n_playouts,\n",
    "            player=self.current_player,\n",
    "            captures=self.captures\n",
    "        )\n",
    "    \n",
    "    def _repr_svg_(self):\n",
    "        board = np.array([\n",
    "            list(reversed(self.pits[self.n_pits:])),\n",
    "            self.pits[:self.n_pits]\n",
    "        ])\n",
    "        return board_to_svg(board, True)\n",
    "        "
   ]
  },
  {
   "cell_type": "markdown",
   "metadata": {
    "tags": [
     "ha"
    ]
   },
   "source": [
    "### Usage\n",
    "\n",
    "Here is an example of the usage of the API. We initialize a game and play the 5th pit"
   ]
  },
  {
   "cell_type": "code",
   "execution_count": 67,
   "metadata": {
    "tags": [
     "ha"
    ]
   },
   "outputs": [
    {
     "data": {
      "text/plain": [
       "1"
      ]
     },
     "execution_count": 67,
     "metadata": {},
     "output_type": "execute_result"
    }
   ],
   "source": [
    "initial_state = Game.start_game()\n",
    "new_state, captures, finished = initial_state.step(5)\n",
    "new_state.current_player"
   ]
  },
  {
   "cell_type": "markdown",
   "metadata": {
    "tags": [
     "ha"
    ]
   },
   "source": [
    "Now that the current player is the number 1 (the second player) we play the 2nd pit and show the board in a human friendly manner"
   ]
  },
  {
   "cell_type": "code",
   "execution_count": 69,
   "metadata": {
    "tags": [
     "ha"
    ]
   },
   "outputs": [
    {
     "name": "stdout",
     "output_type": "stream",
     "text": [
      "Current player: 1 - Score: 0/0\n",
      "------------------\n",
      "  1  5  5  0  5  5\n",
      "  6  5  0  6  5  5\n"
     ]
    }
   ],
   "source": [
    "new_state, captures, finished = new_state.step(2)\n",
    "new_state.show_state()"
   ]
  },
  {
   "cell_type": "markdown",
   "metadata": {
    "tags": [
     "ha"
    ]
   },
   "source": [
    "The pits are internaly represented as a numpy array, starting from the bottom left and going counter-clockwise to the top left"
   ]
  },
  {
   "cell_type": "code",
   "execution_count": 70,
   "metadata": {
    "scrolled": true,
    "tags": [
     "ha"
    ]
   },
   "outputs": [
    {
     "data": {
      "text/plain": [
       "array([5, 5, 0, 5, 5, 1, 6, 5, 0, 6, 5, 5])"
      ]
     },
     "execution_count": 70,
     "metadata": {},
     "output_type": "execute_result"
    }
   ],
   "source": [
    "new_state.pits"
   ]
  },
  {
   "cell_type": "markdown",
   "metadata": {},
   "source": [
    "The board can also be displayed as an SVG"
   ]
  },
  {
   "cell_type": "code",
   "execution_count": 71,
   "metadata": {},
   "outputs": [
    {
     "data": {
      "image/svg+xml": [
       "\n",
       "    <svg width=\"700\" height=\"240\">\n",
       "      <style>\n",
       "        circle {\n",
       "          fill: none;\n",
       "          stroke: #000;\n",
       "          stroke-width: 2;\n",
       "        }\n",
       "        .bean {\n",
       "          fill: #000\n",
       "        }\n",
       "      </style>\n",
       "\n",
       "      <circle cx=\"48.0\" cy=\"48.0\" r=\"40\"/><text x=\"82.0\" y=\"82.0\" >5</text><circle cx=\"136.0\" cy=\"48.0\" r=\"40\"/><text x=\"170.0\" y=\"82.0\" >5</text><circle cx=\"224.0\" cy=\"48.0\" r=\"40\"/><text x=\"258.0\" y=\"82.0\" >6</text><circle cx=\"312.0\" cy=\"48.0\" r=\"40\"/><text x=\"346.0\" y=\"82.0\" >0</text><circle cx=\"400.0\" cy=\"48.0\" r=\"40\"/><text x=\"434.0\" y=\"82.0\" >5</text><circle cx=\"488.0\" cy=\"48.0\" r=\"40\"/><text x=\"522.0\" y=\"82.0\" >6</text><circle cx=\"48.0\" cy=\"136.0\" r=\"40\"/><text x=\"82.0\" y=\"170.0\" >5</text><circle cx=\"136.0\" cy=\"136.0\" r=\"40\"/><text x=\"170.0\" y=\"170.0\" >5</text><circle cx=\"224.0\" cy=\"136.0\" r=\"40\"/><text x=\"258.0\" y=\"170.0\" >0</text><circle cx=\"312.0\" cy=\"136.0\" r=\"40\"/><text x=\"346.0\" y=\"170.0\" >5</text><circle cx=\"400.0\" cy=\"136.0\" r=\"40\"/><text x=\"434.0\" y=\"170.0\" >5</text><circle cx=\"488.0\" cy=\"136.0\" r=\"40\"/><text x=\"522.0\" y=\"170.0\" >1</text>\n",
       "      <circle cx=\"56.2799707874285\" cy=\"39.314259746036\" r=\"4\" class=\"bean\"/><circle cx=\"42.298021818863944\" cy=\"37.44123848068116\" r=\"4\" class=\"bean\"/><circle cx=\"36.196012893519104\" cy=\"50.16006675592047\" r=\"4\" class=\"bean\"/><circle cx=\"46.406712946565335\" cy=\"59.89375619244642\" r=\"4\" class=\"bean\"/><circle cx=\"58.8192815536231\" cy=\"53.190678824915956\" r=\"4\" class=\"bean\"/><circle cx=\"140.33004000906203\" cy=\"36.80845169246355\" r=\"4\" class=\"bean\"/><circle cx=\"126.69426100380909\" cy=\"40.42350861316588\" r=\"4\" class=\"bean\"/><circle cx=\"125.91869700085664\" cy=\"54.50901911500214\" r=\"4\" class=\"bean\"/><circle cx=\"139.07515109183407\" cy=\"59.5992864333282\" r=\"4\" class=\"bean\"/><circle cx=\"147.98185089443817\" cy=\"48.659734146040236\" r=\"4\" class=\"bean\"/><circle cx=\"231.4527937697662\" cy=\"59.15597889139873\" r=\"4\" class=\"bean\"/><circle cx=\"237.38775800891736\" cy=\"47.12368071191545\" r=\"4\" class=\"bean\"/><circle cx=\"229.93496423915116\" cy=\"35.967701820516716\" r=\"4\" class=\"bean\"/><circle cx=\"216.5472062302338\" cy=\"36.84402110860126\" r=\"4\" class=\"bean\"/><circle cx=\"210.61224199108264\" cy=\"48.876319288084545\" r=\"4\" class=\"bean\"/><circle cx=\"218.06503576084884\" cy=\"60.03229817948329\" r=\"4\" class=\"bean\"/><circle cx=\"409.70634138254957\" cy=\"40.944014103939445\" r=\"4\" class=\"bean\"/><circle cx=\"396.28878307507756\" cy=\"36.58830122478825\" r=\"4\" class=\"bean\"/><circle cx=\"388.0000004182245\" cy=\"48.00316818360415\" r=\"4\" class=\"bean\"/><circle cx=\"396.29480931840067\" cy=\"59.41365682036171\" r=\"4\" class=\"bean\"/><circle cx=\"409.7100658057477\" cy=\"55.05085966730644\" r=\"4\" class=\"bean\"/><circle cx=\"501.38652100666746\" cy=\"47.104983051528734\" r=\"4\" class=\"bean\"/><circle cx=\"493.91815308914\" cy=\"35.95942426569631\" r=\"4\" class=\"bean\"/><circle cx=\"480.5316320824725\" cy=\"36.85444121416757\" r=\"4\" class=\"bean\"/><circle cx=\"474.61347899333254\" cy=\"48.895016948471266\" r=\"4\" class=\"bean\"/><circle cx=\"482.08184691086\" cy=\"60.04057573430369\" r=\"4\" class=\"bean\"/><circle cx=\"495.4683679175275\" cy=\"59.14555878583242\" r=\"4\" class=\"bean\"/><circle cx=\"59.26781171115816\" cy=\"131.8724802554213\" r=\"4\" class=\"bean\"/><circle cx=\"47.55644075894646\" cy=\"124.00820050202323\" r=\"4\" class=\"bean\"/><circle cx=\"36.45805360184664\" cy=\"132.7161800685551\" r=\"4\" class=\"bean\"/><circle cx=\"41.31024407066534\" cy=\"145.9622871674095\" r=\"4\" class=\"bean\"/><circle cx=\"55.4074498573834\" cy=\"145.44085200659086\" r=\"4\" class=\"bean\"/><circle cx=\"147.6260662250342\" cy=\"133.02769716699\" r=\"4\" class=\"bean\"/><circle cx=\"136.76582406352748\" cy=\"124.02446186997335\" r=\"4\" class=\"bean\"/><circle cx=\"124.84723907562834\" cy=\"131.57101323508314\" r=\"4\" class=\"bean\"/><circle cx=\"128.34139061680915\" cy=\"145.2382737735846\" r=\"4\" class=\"bean\"/><circle cx=\"142.41948001900084\" cy=\"146.1385539543689\" r=\"4\" class=\"bean\"/><circle cx=\"323.9873451112079\" cy=\"135.4490397611448\" r=\"4\" class=\"bean\"/><circle cx=\"315.1802990314179\" cy=\"124.42910124187571\" r=\"4\" class=\"bean\"/><circle cx=\"301.97818778459674\" cy=\"129.39975152595042\" r=\"4\" class=\"bean\"/><circle cx=\"302.625880390594\" cy=\"143.49172086696703\" r=\"4\" class=\"bean\"/><circle cx=\"316.22828768218346\" cy=\"147.23038660406203\" r=\"4\" class=\"bean\"/><circle cx=\"404.8395563279855\" cy=\"125.01916694652652\" r=\"4\" class=\"bean\"/><circle cx=\"391.0521123207272\" cy=\"128.00404439237448\" r=\"4\" class=\"bean\"/><circle cx=\"389.6303449587075\" cy=\"142.0390607154256\" r=\"4\" class=\"bean\"/><circle cx=\"402.53908841214235\" cy=\"147.72830038988278\" r=\"4\" class=\"bean\"/><circle cx=\"411.9388979804375\" cy=\"137.2094275557906\" r=\"4\" class=\"bean\"/><circle cx=\"488.0\" cy=\"136.0\" r=\"4\" class=\"bean\"/>\n",
       "    </svg>\n",
       "    "
      ],
      "text/plain": [
       "<Game [0, 0]/0 player:1 captures:0/0>"
      ]
     },
     "execution_count": 71,
     "metadata": {},
     "output_type": "execute_result"
    }
   ],
   "source": [
    "new_state"
   ]
  }
 ],
 "metadata": {
  "celltoolbar": "Tags",
  "kernelspec": {
   "display_name": "Python 3",
   "language": "python",
   "name": "python3"
  },
  "language_info": {
   "codemirror_mode": {
    "name": "ipython",
    "version": 3
   },
   "file_extension": ".py",
   "mimetype": "text/x-python",
   "name": "python",
   "nbconvert_exporter": "python",
   "pygments_lexer": "ipython3",
   "version": "3.7.4"
  }
 },
 "nbformat": 4,
 "nbformat_minor": 2
}
