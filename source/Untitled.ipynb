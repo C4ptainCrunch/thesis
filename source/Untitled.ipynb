{
 "cells": [
  {
   "cell_type": "code",
   "execution_count": 4,
   "id": "71fd2b51",
   "metadata": {},
   "outputs": [],
   "source": [
    "import boto3\n",
    "client = boto3.client('batch')\n",
    "def submit_aws_job(*args, local=False, **kwargs):\n",
    "    if not local:\n",
    "        return client.submit_job(*args, **kwargs)"
   ]
  },
  {
   "cell_type": "code",
   "execution_count": 5,
   "id": "70a20bed",
   "metadata": {},
   "outputs": [],
   "source": [
    "def submit_match(a, b, pool, side, timeout=600 , local=False):\n",
    "    return submit_aws_job(\n",
    "        jobDefinition='run-match',\n",
    "        jobName=pool,\n",
    "        jobQueue='matches',\n",
    "        containerOverrides={\n",
    "            'command': [\"python\", \"simulate.py\"],\n",
    "            'environment': [\n",
    "                {'name': 'PLAYER_A', 'value': a % 0},\n",
    "                {'name': 'PLAYER_B', 'value': b % 1},\n",
    "                {'name': 'POOL','value': pool},\n",
    "                {'name': 'SIDE', 'value': str(side)},\n",
    "            ]\n",
    "        },\n",
    "        timeout={'attemptDurationSeconds': timeout},\n",
    "        local=local,\n",
    "    )"
   ]
  },
  {
   "cell_type": "code",
   "execution_count": 7,
   "id": "22ef01fa",
   "metadata": {},
   "outputs": [],
   "source": [
    "def sumbit_symmetric_match(a, b, pool, timeout=600, local=False):\n",
    "    submit_match(a, b, pool, side=0, timeout=timeout, local=local)\n",
    "    #submit_match(b, a, pool, side=1, timeout=timeout, local=local)"
   ]
  },
  {
   "cell_type": "code",
   "execution_count": 8,
   "id": "ef6b4535",
   "metadata": {},
   "outputs": [],
   "source": [
    "sumbit_symmetric_match(\"GreedyPlayer(%s)\", \"GreedyPlayer(%s)\", \"tests-3\")"
   ]
  },
  {
   "cell_type": "code",
   "execution_count": null,
   "id": "150a107f",
   "metadata": {},
   "outputs": [],
   "source": []
  }
 ],
 "metadata": {
  "kernelspec": {
   "display_name": "Python 3",
   "language": "python",
   "name": "python3"
  },
  "language_info": {
   "codemirror_mode": {
    "name": "ipython",
    "version": 3
   },
   "file_extension": ".py",
   "mimetype": "text/x-python",
   "name": "python",
   "nbconvert_exporter": "python",
   "pygments_lexer": "ipython3",
   "version": "3.9.1"
  }
 },
 "nbformat": 4,
 "nbformat_minor": 5
}
