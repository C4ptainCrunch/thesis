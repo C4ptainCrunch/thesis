{
 "cells": [
  {
   "cell_type": "code",
   "execution_count": 9,
   "metadata": {
    "tags": [
     "ha"
    ]
   },
   "outputs": [],
   "source": [
    "import numpy as np\n",
    "import import_ipynb\n",
    "from draw import board_to_svg\n",
    "from IPython.display import SVG"
   ]
  },
  {
   "cell_type": "raw",
   "metadata": {},
   "source": [
    "\n",
    "The subject of our study, Awalé is played on a board made of two rows of six\n",
    "pits. Each row is owned by a player that sits in front of it.\n",
    "In the initial state of the game every pit contains 4 seeds thus the game contains\n",
    "48 seeds in total.\n",
    "\n",
    ".. figure:: /_static/awale.jpg\n",
    "\n",
    "   A typical Awalé board in the start position.\n",
    "\n",
    "The board can be schematized like this, every big circle representing a pit and every small disc representing a seed. The 6 pits from the top row belonging to player A and the 6 others belonging to player B."
   ]
  },
  {
   "cell_type": "code",
   "execution_count": 18,
   "metadata": {
    "tags": [
     "hc"
    ]
   },
   "outputs": [
    {
     "data": {
      "image/svg+xml": [
       "<svg height=\"240\" width=\"700\">\n",
       "      <style>\n",
       "        circle {\n",
       "          fill: none;\n",
       "          stroke: #000;\n",
       "          stroke-width: 2;\n",
       "        }\n",
       "        .bean {\n",
       "          fill: #000\n",
       "        }\n",
       "        .highlight {\n",
       "          stroke: red;\n",
       "        }\n",
       "      </style>\n",
       "\n",
       "      <circle cx=\"48.0\" cy=\"48.0\" r=\"40\"/><circle cx=\"136.0\" cy=\"48.0\" r=\"40\"/><circle cx=\"224.0\" cy=\"48.0\" r=\"40\"/><circle cx=\"312.0\" cy=\"48.0\" r=\"40\"/><circle cx=\"400.0\" cy=\"48.0\" r=\"40\"/><circle cx=\"488.0\" cy=\"48.0\" r=\"40\"/><circle cx=\"48.0\" cy=\"136.0\" r=\"40\"/><circle cx=\"136.0\" cy=\"136.0\" r=\"40\"/><circle cx=\"224.0\" cy=\"136.0\" r=\"40\"/><circle cx=\"312.0\" cy=\"136.0\" r=\"40\"/><circle cx=\"400.0\" cy=\"136.0\" r=\"40\"/><circle cx=\"488.0\" cy=\"136.0\" r=\"40\"/>\n",
       "      <circle class=\"bean\" cx=\"57.20392010158474\" cy=\"52.82574914014853\" r=\"4\"/><circle class=\"bean\" cx=\"52.82574914014853\" cy=\"38.79607989841526\" r=\"4\"/><circle class=\"bean\" cx=\"38.79607989841526\" cy=\"43.17425085985147\" r=\"4\"/><circle class=\"bean\" cx=\"43.17425085985147\" cy=\"57.20392010158474\" r=\"4\"/><circle class=\"bean\" cx=\"139.80786598792946\" cy=\"57.6695479014259\" r=\"4\"/><circle class=\"bean\" cx=\"145.66954790142591\" cy=\"44.19213401207055\" r=\"4\"/><circle class=\"bean\" cx=\"132.19213401207054\" cy=\"38.3304520985741\" r=\"4\"/><circle class=\"bean\" cx=\"126.3304520985741\" cy=\"51.80786598792945\" r=\"4\"/><circle class=\"bean\" cx=\"231.73256438749917\" cy=\"41.05684164135805\" r=\"4\"/><circle class=\"bean\" cx=\"217.05684164135806\" cy=\"40.267435612500826\" r=\"4\"/><circle class=\"bean\" cx=\"216.26743561250083\" cy=\"54.943158358641945\" r=\"4\"/><circle class=\"bean\" cx=\"230.94315835864194\" cy=\"55.732564387499174\" r=\"4\"/><circle class=\"bean\" cx=\"318.44281053347044\" cy=\"39.845848147734664\" r=\"4\"/><circle class=\"bean\" cx=\"303.84584814773467\" cy=\"41.55718946652954\" r=\"4\"/><circle class=\"bean\" cx=\"305.55718946652956\" cy=\"56.15415185226533\" r=\"4\"/><circle class=\"bean\" cx=\"320.15415185226533\" cy=\"54.44281053347046\" r=\"4\"/><circle class=\"bean\" cx=\"402.70809077850083\" cy=\"58.03325691564802\" r=\"4\"/><circle class=\"bean\" cx=\"410.033256915648\" cy=\"45.29190922149916\" r=\"4\"/><circle class=\"bean\" cx=\"397.29190922149917\" cy=\"37.96674308435198\" r=\"4\"/><circle class=\"bean\" cx=\"389.966743084352\" cy=\"50.70809077850084\" r=\"4\"/><circle class=\"bean\" cx=\"493.3278108536613\" cy=\"56.922691942884114\" r=\"4\"/><circle class=\"bean\" cx=\"496.9226919428841\" cy=\"42.67218914633873\" r=\"4\"/><circle class=\"bean\" cx=\"482.6721891463387\" cy=\"39.077308057115886\" r=\"4\"/><circle class=\"bean\" cx=\"479.0773080571159\" cy=\"53.32781085366127\" r=\"4\"/><circle class=\"bean\" cx=\"54.973838844906155\" cy=\"128.29509430523137\" r=\"4\"/><circle class=\"bean\" cx=\"40.29509430523137\" cy=\"129.02616115509386\" r=\"4\"/><circle class=\"bean\" cx=\"41.026161155093845\" cy=\"143.70490569476863\" r=\"4\"/><circle class=\"bean\" cx=\"55.70490569476863\" cy=\"142.97383884490617\" r=\"4\"/><circle class=\"bean\" cx=\"139.12574234091747\" cy=\"126.0889084951154\" r=\"4\"/><circle class=\"bean\" cx=\"126.0889084951154\" cy=\"132.87425765908253\" r=\"4\"/><circle class=\"bean\" cx=\"132.8742576590825\" cy=\"145.9110915048846\" r=\"4\"/><circle class=\"bean\" cx=\"145.9110915048846\" cy=\"139.1257423409175\" r=\"4\"/><circle class=\"bean\" cx=\"232.78054435429473\" cy=\"130.44103958979173\" r=\"4\"/><circle class=\"bean\" cx=\"218.44103958979173\" cy=\"127.21945564570527\" r=\"4\"/><circle class=\"bean\" cx=\"215.21945564570527\" cy=\"141.55896041020827\" r=\"4\"/><circle class=\"bean\" cx=\"229.55896041020827\" cy=\"144.78054435429473\" r=\"4\"/><circle class=\"bean\" cx=\"315.14096335205346\" cy=\"145.90627827294676\" r=\"4\"/><circle class=\"bean\" cx=\"321.90627827294674\" cy=\"132.8590366479465\" r=\"4\"/><circle class=\"bean\" cx=\"308.85903664794654\" cy=\"126.09372172705324\" r=\"4\"/><circle class=\"bean\" cx=\"302.09372172705326\" cy=\"139.1409633520535\" r=\"4\"/><circle class=\"bean\" cx=\"410.08972822644796\" cy=\"133.51054537771438\" r=\"4\"/><circle class=\"bean\" cx=\"397.5105453777144\" cy=\"125.91027177355204\" r=\"4\"/><circle class=\"bean\" cx=\"389.91027177355204\" cy=\"138.48945462228562\" r=\"4\"/><circle class=\"bean\" cx=\"402.4894546222856\" cy=\"146.08972822644796\" r=\"4\"/><circle class=\"bean\" cx=\"492.91372395230076\" cy=\"126.84274512091174\" r=\"4\"/><circle class=\"bean\" cx=\"478.84274512091173\" cy=\"131.08627604769924\" r=\"4\"/><circle class=\"bean\" cx=\"483.08627604769924\" cy=\"145.15725487908827\" r=\"4\"/><circle class=\"bean\" cx=\"497.15725487908827\" cy=\"140.91372395230076\" r=\"4\"/>\n",
       "    </svg>"
      ],
      "text/plain": [
       "<IPython.core.display.SVG object>"
      ]
     },
     "execution_count": 18,
     "metadata": {},
     "output_type": "execute_result"
    }
   ],
   "source": [
    "board = np.full((2, 6), 4)\n",
    "SVG(board_to_svg(board))"
   ]
  },
  {
   "cell_type": "raw",
   "metadata": {},
   "source": [
    "The goal for both players is to capture more seeds than its opponent. As the\n",
    "game has 48 seeds, capturing 25 is enough to win and end the game.\n",
    "\n",
    "Each player plays alternatively, without the right to pass their turn. A\n",
    "player's turn consists in choosing one of his non-empty pits, pick all seeds\n",
    "contained in the pit and seed them one by one in every consecutive pits on the right\n",
    "(rotating counter-clockwise). The player thus has at most 6 possible moves at\n",
    "each turn.\n",
    "\n",
    "Usually, the player that starts the game is the oldest player. Here, we will start at random.\n",
    "\n",
    "As an example, if we start from the initial state showed above, the first player to move is B (on the bottom) and he chooses the 4th pit, the board will then have the following state [#numbers]_.\n",
    "\n",
    ".. [#numbers] Numbers in the bottom right of each pits are the count of stones in each pit for better readability.\n"
   ]
  },
  {
   "cell_type": "code",
   "execution_count": 20,
   "metadata": {
    "tags": [
     "hc"
    ]
   },
   "outputs": [
    {
     "data": {
      "image/svg+xml": [
       "<svg height=\"240\" width=\"700\">\n",
       "      <style>\n",
       "        circle {\n",
       "          fill: none;\n",
       "          stroke: #000;\n",
       "          stroke-width: 2;\n",
       "        }\n",
       "        .bean {\n",
       "          fill: #000\n",
       "        }\n",
       "        .highlight {\n",
       "          stroke: red;\n",
       "        }\n",
       "      </style>\n",
       "\n",
       "      <circle cx=\"48.0\" cy=\"48.0\" r=\"40\"/><text x=\"82.0\" y=\"82.0\">4</text><circle cx=\"136.0\" cy=\"48.0\" r=\"40\"/><text x=\"170.0\" y=\"82.0\">4</text><circle cx=\"224.0\" cy=\"48.0\" r=\"40\"/><text x=\"258.0\" y=\"82.0\">4</text><circle cx=\"312.0\" cy=\"48.0\" r=\"40\"/><text x=\"346.0\" y=\"82.0\">4</text><circle cx=\"400.0\" cy=\"48.0\" r=\"40\"/><text x=\"434.0\" y=\"82.0\">5</text><circle cx=\"488.0\" cy=\"48.0\" r=\"40\"/><text x=\"522.0\" y=\"82.0\">5</text><circle cx=\"48.0\" cy=\"136.0\" r=\"40\"/><text x=\"82.0\" y=\"170.0\">4</text><circle cx=\"136.0\" cy=\"136.0\" r=\"40\"/><text x=\"170.0\" y=\"170.0\">4</text><circle cx=\"224.0\" cy=\"136.0\" r=\"40\"/><text x=\"258.0\" y=\"170.0\">4</text><circle class=\"highlight\" cx=\"312.0\" cy=\"136.0\" r=\"40\"/><text x=\"346.0\" y=\"170.0\">0</text><circle cx=\"400.0\" cy=\"136.0\" r=\"40\"/><text x=\"434.0\" y=\"170.0\">5</text><circle cx=\"488.0\" cy=\"136.0\" r=\"40\"/><text x=\"522.0\" y=\"170.0\">5</text>\n",
       "      <circle class=\"bean\" cx=\"55.50686067807496\" cy=\"55.18658769931683\" r=\"4\"/><circle class=\"bean\" cx=\"55.18658769931683\" cy=\"40.49313932192504\" r=\"4\"/><circle class=\"bean\" cx=\"40.49313932192504\" cy=\"40.81341230068317\" r=\"4\"/><circle class=\"bean\" cx=\"40.81341230068317\" cy=\"55.50686067807496\" r=\"4\"/><circle class=\"bean\" cx=\"145.47141880584013\" cy=\"43.72305882617287\" r=\"4\"/><circle class=\"bean\" cx=\"131.72305882617286\" cy=\"38.52858119415986\" r=\"4\"/><circle class=\"bean\" cx=\"126.52858119415987\" cy=\"52.27694117382713\" r=\"4\"/><circle class=\"bean\" cx=\"140.27694117382714\" cy=\"57.47141880584014\" r=\"4\"/><circle class=\"bean\" cx=\"229.5581421742763\" cy=\"39.218937674146076\" r=\"4\"/><circle class=\"bean\" cx=\"215.21893767414608\" cy=\"42.44185782572369\" r=\"4\"/><circle class=\"bean\" cx=\"218.44185782572367\" cy=\"56.78106232585392\" r=\"4\"/><circle class=\"bean\" cx=\"232.78106232585392\" cy=\"53.55814217427631\" r=\"4\"/><circle class=\"bean\" cx=\"322.2430144943288\" cy=\"49.755179212778415\" r=\"4\"/><circle class=\"bean\" cx=\"313.75517921277844\" cy=\"37.75698550567117\" r=\"4\"/><circle class=\"bean\" cx=\"301.7569855056712\" cy=\"46.24482078722158\" r=\"4\"/><circle class=\"bean\" cx=\"310.24482078722156\" cy=\"58.24301449432883\" r=\"4\"/><circle class=\"bean\" cx=\"402.46566000258554\" cy=\"36.256043224208895\" r=\"4\"/><circle class=\"bean\" cx=\"389.59276422444475\" cy=\"42.02593576264841\" r=\"4\"/><circle class=\"bean\" cx=\"391.10231455918745\" cy=\"56.0517820261326\" r=\"4\"/><circle class=\"bean\" cx=\"404.908163751928\" cy=\"58.950339199507034\" r=\"4\"/><circle class=\"bean\" cx=\"411.9310974618543\" cy=\"46.71589978750306\" r=\"4\"/><circle class=\"bean\" cx=\"490.9241508189833\" cy=\"59.6382705754695\" r=\"4\"/><circle class=\"bean\" cx=\"499.97226536638766\" cy=\"48.81539070193006\" r=\"4\"/><circle class=\"bean\" cx=\"492.4751160997775\" cy=\"36.86566859243392\" r=\"4\"/><circle class=\"bean\" cx=\"478.79350848687665\" cy=\"40.303214046188636\" r=\"4\"/><circle class=\"bean\" cx=\"477.8349592279749\" cy=\"54.377456083977876\" r=\"4\"/><circle class=\"bean\" cx=\"56.450644882195114\" cy=\"129.95131410345772\" r=\"4\"/><circle class=\"bean\" cx=\"41.95131410345772\" cy=\"127.54935511780488\" r=\"4\"/><circle class=\"bean\" cx=\"39.549355117804886\" cy=\"142.04868589654228\" r=\"4\"/><circle class=\"bean\" cx=\"54.04868589654228\" cy=\"144.45064488219512\" r=\"4\"/><circle class=\"bean\" cx=\"146.20063559477217\" cy=\"134.01328576220254\" r=\"4\"/><circle class=\"bean\" cx=\"134.01328576220254\" cy=\"125.79936440522783\" r=\"4\"/><circle class=\"bean\" cx=\"125.79936440522783\" cy=\"137.98671423779746\" r=\"4\"/><circle class=\"bean\" cx=\"137.98671423779746\" cy=\"146.20063559477217\" r=\"4\"/><circle class=\"bean\" cx=\"232.15353974925245\" cy=\"142.44358514783193\" r=\"4\"/><circle class=\"bean\" cx=\"230.44358514783193\" cy=\"127.84646025074755\" r=\"4\"/><circle class=\"bean\" cx=\"215.84646025074755\" cy=\"129.55641485216807\" r=\"4\"/><circle class=\"bean\" cx=\"217.55641485216807\" cy=\"144.15353974925245\" r=\"4\"/><circle class=\"bean\" cx=\"411.3581123084395\" cy=\"139.87211631913027\" r=\"4\"/><circle class=\"bean\" cx=\"407.19245118448873\" cy=\"126.39434302305423\" r=\"4\"/><circle class=\"bean\" cx=\"393.08706698599894\" cy=\"126.19126118484469\" r=\"4\"/><circle class=\"bean\" cx=\"388.53512125090737\" cy=\"139.54352300240942\" r=\"4\"/><circle class=\"bean\" cx=\"399.82724827016546\" cy=\"147.9987564705614\" r=\"4\"/><circle class=\"bean\" cx=\"497.3640343033425\" cy=\"128.4956771414188\" r=\"4\"/><circle class=\"bean\" cx=\"483.7566105806065\" cy=\"124.77531086241676\" r=\"4\"/><circle class=\"bean\" cx=\"476.01340680797057\" cy=\"136.567083458403\" r=\"4\"/><circle class=\"bean\" cx=\"484.83526741740127\" cy=\"147.57516598933415\" r=\"4\"/><circle class=\"bean\" cx=\"498.03068089067915\" cy=\"142.5867625484273\" r=\"4\"/>\n",
       "    </svg>"
      ],
      "text/plain": [
       "<IPython.core.display.SVG object>"
      ]
     },
     "execution_count": 20,
     "metadata": {},
     "output_type": "execute_result"
    }
   ],
   "source": [
    "board = np.array([\n",
    "    [4, 4, 4, 4, 5, 5],\n",
    "    [4, 4, 4, 0, 5, 5],\n",
    "])\n",
    "SVG(board_to_svg(board, True,highlight=[(1, 3)]))"
   ]
  },
  {
   "cell_type": "raw",
   "metadata": {},
   "source": [
    "When the last sowed seed is placed in a pit owned by the opponent and after seeding\n",
    "the pit contains two or three seeds, the content of the pit is captured by\n",
    "the player and removed from the game. If the pit preceding the captured pit also\n",
    "contains two or three seeds, it is also captured. The capture continues until a\n",
    "pit without two or three seeds is encountered. When the capture is ended the\n",
    "next player's turn starts.\n",
    "\n",
    "Otherwise, when the last sowed seed is placed in a pit that now contains one seed, more\n",
    "than 3 seeds or in the current player's own pits, the turn of the player is ended without\n",
    "any capture.\n",
    "\n",
    "For example, if the bottom player plays the 4th pit in the following configuration he will\n",
    "be able to capture the opponent's 4th and 5th pits (highlighted in red in the second figure) "
   ]
  },
  {
   "cell_type": "code",
   "execution_count": 15,
   "metadata": {
    "tags": [
     "hc"
    ]
   },
   "outputs": [
    {
     "data": {
      "image/svg+xml": [
       "<svg height=\"240\" width=\"700\">\n",
       "      <style>\n",
       "        circle {\n",
       "          fill: none;\n",
       "          stroke: #000;\n",
       "          stroke-width: 2;\n",
       "        }\n",
       "        .bean {\n",
       "          fill: #000\n",
       "        }\n",
       "        .highlight {\n",
       "          stroke: red;\n",
       "        }\n",
       "      </style>\n",
       "\n",
       "      <circle cx=\"48.0\" cy=\"48.0\" r=\"40\"/><text x=\"82.0\" y=\"82.0\">4</text><circle cx=\"136.0\" cy=\"48.0\" r=\"40\"/><text x=\"170.0\" y=\"82.0\">6</text><circle cx=\"224.0\" cy=\"48.0\" r=\"40\"/><text x=\"258.0\" y=\"82.0\">4</text><circle cx=\"312.0\" cy=\"48.0\" r=\"40\"/><text x=\"346.0\" y=\"82.0\">1</text><circle cx=\"400.0\" cy=\"48.0\" r=\"40\"/><text x=\"434.0\" y=\"82.0\">2</text><circle cx=\"488.0\" cy=\"48.0\" r=\"40\"/><text x=\"522.0\" y=\"82.0\">3</text><circle cx=\"48.0\" cy=\"136.0\" r=\"40\"/><text x=\"82.0\" y=\"170.0\">3</text><circle cx=\"136.0\" cy=\"136.0\" r=\"40\"/><text x=\"170.0\" y=\"170.0\">3</text><circle cx=\"224.0\" cy=\"136.0\" r=\"40\"/><text x=\"258.0\" y=\"170.0\">3</text><circle class=\"highlight\" cx=\"312.0\" cy=\"136.0\" r=\"40\"/><text x=\"346.0\" y=\"170.0\">5</text><circle cx=\"400.0\" cy=\"136.0\" r=\"40\"/><text x=\"434.0\" y=\"170.0\">2</text><circle cx=\"488.0\" cy=\"136.0\" r=\"40\"/><text x=\"522.0\" y=\"170.0\">2</text>\n",
       "      <circle class=\"bean\" cx=\"55.521583040140904\" cy=\"55.17117762785616\" r=\"4\"/><circle class=\"bean\" cx=\"55.17117762785616\" cy=\"40.478416959859096\" r=\"4\"/><circle class=\"bean\" cx=\"40.478416959859096\" cy=\"40.82882237214384\" r=\"4\"/><circle class=\"bean\" cx=\"40.82882237214383\" cy=\"55.5215830401409\" r=\"4\"/><circle class=\"bean\" cx=\"148.81272301943912\" cy=\"51.97921208622192\" r=\"4\"/><circle class=\"bean\" cx=\"145.8524602634338\" cy=\"38.89346241662301\" r=\"4\"/><circle class=\"bean\" cx=\"133.0397372439947\" cy=\"34.914250330401096\" r=\"4\"/><circle class=\"bean\" cx=\"123.18727698056087\" cy=\"44.020787913778086\" r=\"4\"/><circle class=\"bean\" cx=\"126.14753973656617\" cy=\"57.106537583376976\" r=\"4\"/><circle class=\"bean\" cx=\"138.9602627560053\" cy=\"61.085749669598904\" r=\"4\"/><circle class=\"bean\" cx=\"228.18431998639886\" cy=\"38.4872997392211\" r=\"4\"/><circle class=\"bean\" cx=\"214.4872997392211\" cy=\"43.815680013601124\" r=\"4\"/><circle class=\"bean\" cx=\"219.8156800136011\" cy=\"57.5127002607789\" r=\"4\"/><circle class=\"bean\" cx=\"233.5127002607789\" cy=\"52.184319986398876\" r=\"4\"/><circle class=\"bean\" cx=\"312.0\" cy=\"48.0\" r=\"4\"/><circle class=\"bean\" cx=\"404.2727501572719\" cy=\"52.212316001148665\" r=\"4\"/><circle class=\"bean\" cx=\"395.7272498427281\" cy=\"43.787683998851335\" r=\"4\"/><circle class=\"bean\" cx=\"496.0625365670939\" cy=\"45.35509846983406\" r=\"4\"/><circle class=\"bean\" cx=\"481.678179800821\" cy=\"42.34008927903869\" r=\"4\"/><circle class=\"bean\" cx=\"486.2592836320851\" cy=\"56.304812251127245\" r=\"4\"/><circle class=\"bean\" cx=\"55.64744053341077\" cy=\"132.32349985884048\" r=\"4\"/><circle class=\"bean\" cx=\"40.99233721403339\" cy=\"131.21537229471522\" r=\"4\"/><circle class=\"bean\" cx=\"47.360222252555836\" cy=\"144.4611278464443\" r=\"4\"/><circle class=\"bean\" cx=\"136.23131192021347\" cy=\"144.482127963876\" r=\"4\"/><circle class=\"bean\" cx=\"143.23008233476025\" cy=\"131.55861401895896\" r=\"4\"/><circle class=\"bean\" cx=\"128.53860574502627\" cy=\"131.95925801716504\" r=\"4\"/><circle class=\"bean\" cx=\"232.0082861925779\" cy=\"138.80488007903477\" r=\"4\"/><circle class=\"bean\" cx=\"222.42495430672406\" cy=\"127.66218067693399\" r=\"4\"/><circle class=\"bean\" cx=\"217.56675950069803\" cy=\"141.53293924403124\" r=\"4\"/><circle class=\"bean\" cx=\"317.06216392311165\" cy=\"125.11999556913936\" r=\"4\"/><circle class=\"bean\" cx=\"303.2167955692631\" cy=\"127.82348974635977\" r=\"4\"/><circle class=\"bean\" cx=\"301.5095172085543\" cy=\"141.82664318474895\" r=\"4\"/><circle class=\"bean\" cx=\"314.2997295072276\" cy=\"147.777573782133\" r=\"4\"/><circle class=\"bean\" cx=\"323.9117937918434\" cy=\"137.4522977176189\" r=\"4\"/><circle class=\"bean\" cx=\"405.96177460638415\" cy=\"136.67619785763702\" r=\"4\"/><circle class=\"bean\" cx=\"394.03822539361585\" cy=\"135.32380214236298\" r=\"4\"/><circle class=\"bean\" cx=\"490.3158405993784\" cy=\"130.46494062197428\" r=\"4\"/><circle class=\"bean\" cx=\"485.6841594006216\" cy=\"141.53505937802572\" r=\"4\"/>\n",
       "    </svg>"
      ],
      "text/plain": [
       "<IPython.core.display.SVG object>"
      ]
     },
     "execution_count": 15,
     "metadata": {},
     "output_type": "execute_result"
    }
   ],
   "source": [
    "board = np.array([\n",
    "    [4, 6, 4, 1, 2, 3],\n",
    "    [3, 3, 3, 5, 2, 2],\n",
    "])\n",
    "SVG(board_to_svg(board, True,highlight=[(1, 3)]))"
   ]
  },
  {
   "cell_type": "code",
   "execution_count": 16,
   "metadata": {
    "tags": [
     "hc"
    ]
   },
   "outputs": [
    {
     "data": {
      "image/svg+xml": [
       "<svg height=\"240\" width=\"700\">\n",
       "      <style>\n",
       "        circle {\n",
       "          fill: none;\n",
       "          stroke: #000;\n",
       "          stroke-width: 2;\n",
       "        }\n",
       "        .bean {\n",
       "          fill: #000\n",
       "        }\n",
       "        .highlight {\n",
       "          stroke: red;\n",
       "        }\n",
       "      </style>\n",
       "\n",
       "      <circle cx=\"48.0\" cy=\"48.0\" r=\"40\"/><text x=\"82.0\" y=\"82.0\">4</text><circle cx=\"136.0\" cy=\"48.0\" r=\"40\"/><text x=\"170.0\" y=\"82.0\">6</text><circle cx=\"224.0\" cy=\"48.0\" r=\"40\"/><text x=\"258.0\" y=\"82.0\">4</text><circle class=\"highlight\" cx=\"312.0\" cy=\"48.0\" r=\"40\"/><text x=\"346.0\" y=\"82.0\">2</text><circle class=\"highlight\" cx=\"400.0\" cy=\"48.0\" r=\"40\"/><text x=\"434.0\" y=\"82.0\">3</text><circle cx=\"488.0\" cy=\"48.0\" r=\"40\"/><text x=\"522.0\" y=\"82.0\">4</text><circle cx=\"48.0\" cy=\"136.0\" r=\"40\"/><text x=\"82.0\" y=\"170.0\">3</text><circle cx=\"136.0\" cy=\"136.0\" r=\"40\"/><text x=\"170.0\" y=\"170.0\">3</text><circle cx=\"224.0\" cy=\"136.0\" r=\"40\"/><text x=\"258.0\" y=\"170.0\">3</text><circle cx=\"312.0\" cy=\"136.0\" r=\"40\"/><text x=\"346.0\" y=\"170.0\">0</text><circle cx=\"400.0\" cy=\"136.0\" r=\"40\"/><text x=\"434.0\" y=\"170.0\">3</text><circle cx=\"488.0\" cy=\"136.0\" r=\"40\"/><text x=\"522.0\" y=\"170.0\">3</text>\n",
       "      <circle class=\"bean\" cx=\"52.05524390868352\" cy=\"38.43156246605094\" r=\"4\"/><circle class=\"bean\" cx=\"38.43156246605094\" cy=\"43.94475609131648\" r=\"4\"/><circle class=\"bean\" cx=\"43.94475609131648\" cy=\"57.56843753394906\" r=\"4\"/><circle class=\"bean\" cx=\"57.56843753394906\" cy=\"52.05524390868352\" r=\"4\"/><circle class=\"bean\" cx=\"137.90812567846888\" cy=\"34.719975286349516\" r=\"4\"/><circle class=\"bean\" cx=\"125.45322407432796\" cy=\"39.70750233200728\" r=\"4\"/><circle class=\"bean\" cx=\"123.54509839585907\" cy=\"52.98752704565777\" r=\"4\"/><circle class=\"bean\" cx=\"134.09187432153112\" cy=\"61.280024713650484\" r=\"4\"/><circle class=\"bean\" cx=\"146.54677592567205\" cy=\"56.29249766799272\" r=\"4\"/><circle class=\"bean\" cx=\"148.45490160414093\" cy=\"43.01247295434223\" r=\"4\"/><circle class=\"bean\" cx=\"234.0343685068875\" cy=\"50.70396905825204\" r=\"4\"/><circle class=\"bean\" cx=\"226.70396905825206\" cy=\"37.965631493112504\" r=\"4\"/><circle class=\"bean\" cx=\"213.9656314931125\" cy=\"45.29603094174796\" r=\"4\"/><circle class=\"bean\" cx=\"221.29603094174797\" cy=\"58.034368506887496\" r=\"4\"/><circle class=\"bean\" cx=\"312.304586192696\" cy=\"53.99226395039629\" r=\"4\"/><circle class=\"bean\" cx=\"311.695413807304\" cy=\"42.00773604960371\" r=\"4\"/><circle class=\"bean\" cx=\"404.3692517315943\" cy=\"40.72609875610344\" r=\"4\"/><circle class=\"bean\" cx=\"391.5159908723692\" cy=\"47.85306762685844\" r=\"4\"/><circle class=\"bean\" cx=\"404.11475739603645\" cy=\"55.42083361703812\" r=\"4\"/><circle class=\"bean\" cx=\"497.1950211106168\" cy=\"43.1573161598849\" r=\"4\"/><circle class=\"bean\" cx=\"483.1573161598849\" cy=\"38.80497888938323\" r=\"4\"/><circle class=\"bean\" cx=\"478.8049788893832\" cy=\"52.8426838401151\" r=\"4\"/><circle class=\"bean\" cx=\"492.8426838401151\" cy=\"57.19502111061677\" r=\"4\"/><circle class=\"bean\" cx=\"55.57431126257092\" cy=\"132.17510668152806\" r=\"4\"/><circle class=\"bean\" cx=\"40.90038958815248\" cy=\"131.35290068967896\" r=\"4\"/><circle class=\"bean\" cx=\"47.52529914927659\" cy=\"144.47199262879298\" r=\"4\"/><circle class=\"bean\" cx=\"142.43620416376834\" cy=\"141.52949147411323\" r=\"4\"/><circle class=\"bean\" cx=\"137.57057800470736\" cy=\"127.66133795317681\" r=\"4\"/><circle class=\"bean\" cx=\"127.99321783152429\" cy=\"138.80917057270995\" r=\"4\"/><circle class=\"bean\" cx=\"232.11466054904074\" cy=\"138.48037984466936\" r=\"4\"/><circle class=\"bean\" cx=\"222.0907416819982\" cy=\"127.73230789910866\" r=\"4\"/><circle class=\"bean\" cx=\"217.79459776896107\" cy=\"141.78731225622198\" r=\"4\"/><circle class=\"bean\" cx=\"404.4368296390003\" cy=\"128.76712071478525\" r=\"4\"/><circle class=\"bean\" cx=\"391.51772797699766\" cy=\"135.77403246296942\" r=\"4\"/><circle class=\"bean\" cx=\"404.04544238400206\" cy=\"143.45884682224536\" r=\"4\"/><circle class=\"bean\" cx=\"491.4292592108973\" cy=\"128.23854515799545\" r=\"4\"/><circle class=\"bean\" cx=\"479.56375333104967\" cy=\"136.91090182820344\" r=\"4\"/><circle class=\"bean\" cx=\"493.00698745805306\" cy=\"142.85055301380112\" r=\"4\"/>\n",
       "    </svg>"
      ],
      "text/plain": [
       "<IPython.core.display.SVG object>"
      ]
     },
     "execution_count": 16,
     "metadata": {},
     "output_type": "execute_result"
    }
   ],
   "source": [
    "board = np.array([\n",
    "    [4, 6, 4, 2, 3, 4],\n",
    "    [3, 3, 3, 0, 3, 3],\n",
    "])\n",
    "SVG(board_to_svg(board, True,highlight=[(0, 3), (0, 4)]))"
   ]
  },
  {
   "cell_type": "raw",
   "metadata": {},
   "source": [
    "If the pit chosen by the player contains more than 12 seeds, the sowing makes\n",
    "more than a full revolution and the starting hole is skipped during the second\n",
    "and subsequent passes.\n",
    "\n",
    "If the current player's opponent has no seed left in his half of the board, the\n",
    "current player has to play a move that gives him seeds if such a move exists.\n",
    "This rule is called the \"let the opponent play\" or \"don't starve your opponent\".\n",
    "\n",
    "This rule has for second consequence that if a player plays a move that could capture\n",
    "every seed of the opponent, he may play this move but he may not capture the seeds as\n",
    "it would also prevent the opponent of playing.\n",
    "\n",
    "In the following example, the bottom player has to play the fifth pit because playing the first would leave the opponent without any move to play."
   ]
  },
  {
   "cell_type": "code",
   "execution_count": 17,
   "metadata": {
    "tags": [
     "hc"
    ]
   },
   "outputs": [
    {
     "data": {
      "image/svg+xml": [
       "<svg height=\"240\" width=\"700\">\n",
       "      <style>\n",
       "        circle {\n",
       "          fill: none;\n",
       "          stroke: #000;\n",
       "          stroke-width: 2;\n",
       "        }\n",
       "        .bean {\n",
       "          fill: #000\n",
       "        }\n",
       "        .highlight {\n",
       "          stroke: red;\n",
       "        }\n",
       "      </style>\n",
       "\n",
       "      <circle cx=\"48.0\" cy=\"48.0\" r=\"40\"/><text x=\"82.0\" y=\"82.0\">0</text><circle cx=\"136.0\" cy=\"48.0\" r=\"40\"/><text x=\"170.0\" y=\"82.0\">0</text><circle cx=\"224.0\" cy=\"48.0\" r=\"40\"/><text x=\"258.0\" y=\"82.0\">0</text><circle cx=\"312.0\" cy=\"48.0\" r=\"40\"/><text x=\"346.0\" y=\"82.0\">0</text><circle cx=\"400.0\" cy=\"48.0\" r=\"40\"/><text x=\"434.0\" y=\"82.0\">0</text><circle cx=\"488.0\" cy=\"48.0\" r=\"40\"/><text x=\"522.0\" y=\"82.0\">0</text><circle cx=\"48.0\" cy=\"136.0\" r=\"40\"/><text x=\"82.0\" y=\"170.0\">2</text><circle cx=\"136.0\" cy=\"136.0\" r=\"40\"/><text x=\"170.0\" y=\"170.0\">0</text><circle cx=\"224.0\" cy=\"136.0\" r=\"40\"/><text x=\"258.0\" y=\"170.0\">0</text><circle cx=\"312.0\" cy=\"136.0\" r=\"40\"/><text x=\"346.0\" y=\"170.0\">0</text><circle class=\"highlight\" cx=\"400.0\" cy=\"136.0\" r=\"40\"/><text x=\"434.0\" y=\"170.0\">3</text><circle cx=\"488.0\" cy=\"136.0\" r=\"40\"/><text x=\"522.0\" y=\"170.0\">0</text>\n",
       "      <circle class=\"bean\" cx=\"51.13002272569441\" cy=\"130.881117530492\" r=\"4\"/><circle class=\"bean\" cx=\"44.86997727430559\" cy=\"141.118882469508\" r=\"4\"/><circle class=\"bean\" cx=\"402.8477633300908\" cy=\"143.99313730745257\" r=\"4\"/><circle class=\"bean\" cx=\"405.4983782991457\" cy=\"129.53719595844933\" r=\"4\"/><circle class=\"bean\" cx=\"391.65385837076354\" cy=\"134.4696667340981\" r=\"4\"/>\n",
       "    </svg>"
      ],
      "text/plain": [
       "<IPython.core.display.SVG object>"
      ]
     },
     "execution_count": 17,
     "metadata": {},
     "output_type": "execute_result"
    }
   ],
   "source": [
    "board = np.array([\n",
    "    [0, 0, 0, 0, 0, 0],\n",
    "    [2, 0, 0, 0, 3, 0],\n",
    "])\n",
    "SVG(board_to_svg(board, True,highlight=[(1, 4)]))"
   ]
  },
  {
   "cell_type": "raw",
   "metadata": {},
   "source": [
    "\n",
    "When a player has captured more than 25 seeds the game ends and he wins. If both\n",
    "players have captured 24 seeds, the game ends by a draw. If the current player\n",
    "pits are all empty, the game ends and the player with the most captures wins.\n",
    "\n",
    "The last way to stop the game is when a position is encountered twice in the\n",
    "same game (there is a cycle): the game ends and player with the most captures\n",
    "wins."
   ]
  }
 ],
 "metadata": {
  "celltoolbar": "Tags",
  "kernelspec": {
   "display_name": "Python 3",
   "language": "python",
   "name": "python3"
  },
  "language_info": {
   "codemirror_mode": {
    "name": "ipython",
    "version": 3
   },
   "file_extension": ".py",
   "mimetype": "text/x-python",
   "name": "python",
   "nbconvert_exporter": "python",
   "pygments_lexer": "ipython3",
   "version": "3.7.4"
  }
 },
 "nbformat": 4,
 "nbformat_minor": 2
}
