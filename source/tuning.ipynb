{
 "cells": [
  {
   "cell_type": "code",
   "execution_count": 1,
   "metadata": {},
   "outputs": [
    {
     "name": "stdout",
     "output_type": "stream",
     "text": [
      "importing Jupyter notebook from index.ipynb\n",
      "importing Jupyter notebook from /home/nikita/Code/Thesis/source/lib/draw.ipynb\n",
      "importing Jupyter notebook from players.ipynb\n"
     ]
    }
   ],
   "source": [
    "%matplotlib inline\n",
    "\n",
    "import numpy as np\n",
    "import itertools\n",
    "import random\n",
    "import math\n",
    "import matplotlib.pyplot as plt\n",
    "import tqdm\n",
    "from datetime import timedelta\n",
    "\n",
    "import import_ipynb\n",
    "from index import Game\n",
    "from players import GreedyPlayer, MCTSPlayer, UCTPlayer"
   ]
  },
  {
   "cell_type": "code",
   "execution_count": 2,
   "metadata": {},
   "outputs": [],
   "source": [
    "def play_game(player, opponent):\n",
    "    game = Game()\n",
    "    opponent_action = -1\n",
    "    i = 0\n",
    "    \n",
    "    while not game.game_finished and i < 500:\n",
    "        player_action = player.play(opponent_action)\n",
    "        game, captures, finished = game.step(player_action)\n",
    "\n",
    "        player, opponent = opponent, player\n",
    "        opponent_action = player_action\n",
    "        i += 1\n",
    "    ret = game.winner\n",
    "    del game\n",
    "    return ret"
   ]
  },
  {
   "cell_type": "code",
   "execution_count": 3,
   "metadata": {},
   "outputs": [],
   "source": [
    "import itertools\n",
    "\n",
    "eps = np.linspace(0, 1, 11)\n",
    "\n",
    "def greedy_meet(eps1, eps2):\n",
    "    winners = []\n",
    "    for i in range(50):\n",
    "        player = GreedyPlayer(0, eps1)\n",
    "        opponent = GreedyPlayer(1, eps2)\n",
    "        winner = play_game(player, opponent)\n",
    "        winners.append(winner if winner is not None else 0.5)\n",
    "    return np.array(winners)\n",
    "        "
   ]
  },
  {
   "cell_type": "raw",
   "metadata": {},
   "source": [
    "res = np.zeros((len(eps), len(eps), 50))\n",
    "\n",
    "for i, eps1 in enumerate(tqdm.tqdm_notebook(eps)):\n",
    "    for j, eps2 in enumerate(eps):\n",
    "        res[i, j] = greedy_meet(eps1, eps2)"
   ]
  },
  {
   "cell_type": "raw",
   "metadata": {},
   "source": [
    "plt.imshow(res.mean(axis=2), origin='lower', cmap='Spectral')\n",
    "plt.xlabel(\"i\")\n",
    "plt.ylabel(\"j\")\n",
    "plt.title(\"1 is left winning all the time, 0 is bottom\")\n",
    "ticks = [\"%.1f\" % x for x in eps]\n",
    "plt.xticks(np.arange(11), ticks)\n",
    "plt.yticks(np.arange(11), ticks)\n",
    "plt.clim(0,1)\n",
    "plt.colorbar();"
   ]
  },
  {
   "cell_type": "code",
   "execution_count": null,
   "metadata": {},
   "outputs": [
    {
     "data": {
      "application/vnd.jupyter.widget-view+json": {
       "model_id": "0941b6a302d24280a8e09e4719697964",
       "version_major": 2,
       "version_minor": 0
      },
      "text/plain": [
       "HBox(children=(IntProgress(value=0, max=11), HTML(value='')))"
      ]
     },
     "metadata": {},
     "output_type": "display_data"
    },
    {
     "data": {
      "application/vnd.jupyter.widget-view+json": {
       "model_id": "2eb9a2d619fa4bc68a26f885a6486f10",
       "version_major": 2,
       "version_minor": 0
      },
      "text/plain": [
       "HBox(children=(IntProgress(value=0, max=25), HTML(value='')))"
      ]
     },
     "metadata": {},
     "output_type": "display_data"
    }
   ],
   "source": [
    "eps = np.linspace(0, 1, 11)\n",
    "\n",
    "def mcts_meet(base, c):\n",
    "    winners = []\n",
    "    for i in tqdm.tqdm_notebook(range(25)):\n",
    "        player = MCTSPlayer(0, timedelta(seconds=5), c=base)\n",
    "        opponent = MCTSPlayer(1, timedelta(seconds=5), c=c)\n",
    "        winner = play_game(player, opponent)\n",
    "        winners.append(winner if winner is not None else 0.5)\n",
    "        \n",
    "    for i in tqdm.tqdm_notebook(range(25)):\n",
    "        player = MCTSPlayer(0, timedelta(seconds=5), c=c)\n",
    "        opponent = MCTSPlayer(1, timedelta(seconds=5), c=base)\n",
    "        winner = play_game(player, opponent)\n",
    "        winners.append((winner + 1) % 2 if winner is not None else 0.5)\n",
    "        \n",
    "    return np.array(winners).mean()\n",
    "\n",
    "res = np.zeros((len(eps), 50))\n",
    "\n",
    "for i, eps1 in  enumerate(tqdm.tqdm_notebook(eps)):\n",
    "    res[i] = mcts_meet(math.sqrt(2)/2, eps1)"
   ]
  },
  {
   "cell_type": "code",
   "execution_count": null,
   "metadata": {},
   "outputs": [],
   "source": [
    "player = MCTSPlayer(0, timedelta(seconds=5), c=math.sqrt(2)/2)\n",
    "opponent = MCTSPlayer(1, timedelta(seconds=5), c=0.5)\n",
    "winner = play_game(player, opponent)"
   ]
  },
  {
   "cell_type": "code",
   "execution_count": null,
   "metadata": {},
   "outputs": [],
   "source": [
    "winner"
   ]
  },
  {
   "cell_type": "code",
   "execution_count": null,
   "metadata": {},
   "outputs": [],
   "source": []
  }
 ],
 "metadata": {
  "kernelspec": {
   "display_name": "Python 3",
   "language": "python",
   "name": "python3"
  },
  "language_info": {
   "codemirror_mode": {
    "name": "ipython",
    "version": 3
   },
   "file_extension": ".py",
   "mimetype": "text/x-python",
   "name": "python",
   "nbconvert_exporter": "python",
   "pygments_lexer": "ipython3",
   "version": "3.7.7"
  }
 },
 "nbformat": 4,
 "nbformat_minor": 2
}
