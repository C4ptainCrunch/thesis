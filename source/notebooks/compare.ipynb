{
 "cells": [
  {
   "cell_type": "raw",
   "metadata": {},
   "source": [
    ".. _compare:"
   ]
  },
  {
   "cell_type": "markdown",
   "metadata": {},
   "source": [
    "# Comparing the agents"
   ]
  },
  {
   "cell_type": "code",
   "execution_count": 1,
   "metadata": {},
   "outputs": [
    {
     "name": "stdout",
     "output_type": "stream",
     "text": [
      "importing Jupyter notebook from rules.ipynb\n",
      "importing Jupyter notebook from draw.ipynb\n",
      "Current player: 0 - Score: 0/0\n",
      "------------------\n",
      "  5  5  6  0  5  5\n",
      "  5  5  4  4  4  0\n",
      "importing Jupyter notebook from players.ipynb\n"
     ]
    }
   ],
   "source": [
    "#%matplotlib inline\n",
    "\n",
    "import numpy as np\n",
    "import itertools\n",
    "import random\n",
    "import math\n",
    "import matplotlib.pyplot as plt\n",
    "import tqdm\n",
    "from datetime import timedelta\n",
    "\n",
    "import import_ipynb\n",
    "from rules import Game\n",
    "from players import RandomPlayer, GreedyPlayer, MCTSPlayer, UCTPlayer, GreedyUCTPlayer, HumanPlayer"
   ]
  },
  {
   "cell_type": "code",
   "execution_count": 2,
   "metadata": {},
   "outputs": [],
   "source": [
    "def play_game(player, opponent):\n",
    "    game = Game.start_game()\n",
    "    opponent_action = -1\n",
    "\n",
    "    while not game.game_finished:\n",
    "        player_action = player.play(opponent_action)\n",
    "        game, captures, finished = game.step(player_action)\n",
    "\n",
    "        player, opponent = opponent, player\n",
    "        opponent_action = player_action\n",
    "    return game"
   ]
  },
  {
   "cell_type": "code",
   "execution_count": 3,
   "metadata": {},
   "outputs": [],
   "source": [
    "player = MCTSPlayer(0, 100)\n",
    "opponent = HumanPlayer(1)\n",
    "\n",
    "#endstate = play_game(player, opponent)\n",
    "#print(endstate.winner)\n",
    "#endstate.show_state()"
   ]
  },
  {
   "cell_type": "code",
   "execution_count": 4,
   "metadata": {},
   "outputs": [
    {
     "data": {
      "text/plain": [
       "array([0.3, 0.7])"
      ]
     },
     "execution_count": 4,
     "metadata": {},
     "output_type": "execute_result"
    }
   ],
   "source": [
    "from scipy.stats import binom\n",
    "\n",
    "alpha = 0.01\n",
    "n = 40# number of flips\n",
    "p = 0.5 # fair\n",
    "np.array(binom.interval(1 - alpha, n, p))/n"
   ]
  },
  {
   "cell_type": "code",
   "execution_count": 5,
   "metadata": {},
   "outputs": [],
   "source": [
    "def greedy_vs_random(*args):\n",
    "    # Create our players\n",
    "    player = RandomPlayer(0)\n",
    "    opponent = GreedyPlayer(1)\n",
    "    \n",
    "    # Run a full game\n",
    "    game = play_game(player, opponent)\n",
    "    \n",
    "    return game.winner"
   ]
  },
  {
   "cell_type": "code",
   "execution_count": 6,
   "metadata": {},
   "outputs": [],
   "source": [
    "def greedy_vs_mcts20(*args):\n",
    "    # Create our players\n",
    "    player = GreedyPlayer(0)\n",
    "    opponent = MCTSPlayer(1, 20)\n",
    "    \n",
    "    # Run a full game\n",
    "    game = play_game(player, opponent)\n",
    "    \n",
    "    return game.winner\n",
    "\n",
    "def greedy_vs_mcts100(*args):\n",
    "    # Create our players\n",
    "    player = GreedyPlayer(0)\n",
    "    opponent = MCTSPlayer(1, 100)\n",
    "    \n",
    "    # Run a full game\n",
    "    game = play_game(player, opponent)\n",
    "    \n",
    "    return game.winner"
   ]
  },
  {
   "cell_type": "code",
   "execution_count": 7,
   "metadata": {},
   "outputs": [],
   "source": [
    "def mcts_vs_mcts(*args):\n",
    "    # Create our players\n",
    "    player = MCTSPlayer(0, 20)\n",
    "    opponent = MCTSPlayer(1, 50)\n",
    "    \n",
    "    # Run a full game\n",
    "    game = play_game(player, opponent)\n",
    "    \n",
    "    return game.winner"
   ]
  },
  {
   "cell_type": "code",
   "execution_count": 8,
   "metadata": {},
   "outputs": [],
   "source": [
    "def mcts_vs_uct(*args):\n",
    "    # Create our players\n",
    "    player = MCTSPlayer(0, 50)\n",
    "    opponent = UCTPlayer(1, 50)\n",
    "    \n",
    "    # Run a full game\n",
    "    game = play_game(player, opponent)\n",
    "    \n",
    "    return game.winner"
   ]
  },
  {
   "cell_type": "code",
   "execution_count": 9,
   "metadata": {},
   "outputs": [],
   "source": [
    "def greedy_vs_uct(*args):\n",
    "    # Create our players\n",
    "    player = GreedyPlayer(0)\n",
    "    opponent = UCTPlayer(1, 50)\n",
    "    \n",
    "    # Run a full game\n",
    "    game = play_game(player, opponent)\n",
    "    \n",
    "    return game.winner"
   ]
  },
  {
   "cell_type": "code",
   "execution_count": 10,
   "metadata": {},
   "outputs": [],
   "source": [
    "def uct_vs_greedyuct(*args):\n",
    "    # Create our players\n",
    "    player = UCTPlayer(0, 50)\n",
    "    opponent = GreedyUCTPlayer(1, 50)\n",
    "    \n",
    "    # Run a full game\n",
    "    game = play_game(player, opponent)\n",
    "    \n",
    "    return game.winner\n",
    "\n",
    "def uct50_vs_greedyuct20(*args):\n",
    "    # Create our players\n",
    "    player = UCTPlayer(0, 50)\n",
    "    opponent = GreedyUCTPlayer(1, 20)\n",
    "    \n",
    "    # Run a full game\n",
    "    game = play_game(player, opponent)\n",
    "    \n",
    "    return game.winner"
   ]
  },
  {
   "cell_type": "code",
   "execution_count": 11,
   "metadata": {},
   "outputs": [],
   "source": [
    "import multiprocessing\n",
    "\n",
    "pool = multiprocessing.Pool(4)\n",
    "generator = list(range(20))"
   ]
  },
  {
   "cell_type": "code",
   "execution_count": 12,
   "metadata": {},
   "outputs": [
    {
     "data": {
      "application/vnd.jupyter.widget-view+json": {
       "model_id": "77125fb6ac794cce8d55bafd851b6576",
       "version_major": 2,
       "version_minor": 0
      },
      "text/plain": [
       "HBox(children=(IntProgress(value=0, max=20), HTML(value='')))"
      ]
     },
     "metadata": {},
     "output_type": "display_data"
    },
    {
     "name": "stdout",
     "output_type": "stream",
     "text": [
      "\n"
     ]
    },
    {
     "data": {
      "image/png": "[encoded data removed]",
      "text/plain": [
       "<Figure size 432x288 with 1 Axes>"
      ]
     },
     "metadata": {
      "needs_background": "light"
     },
     "output_type": "display_data"
    }
   ],
   "source": [
    "data = list(tqdm.tqdm_notebook(pool.imap(greedy_vs_random, generator), total=len(generator)))\n",
    "wins = sum(data) / len(data)\n",
    "losses = 1 - wins\n",
    "\n",
    "plt.bar(0, losses)\n",
    "plt.bar(1, wins)\n",
    "plt.xticks([0, 1], [\"Random\", \"Greedy\"]);"
   ]
  },
  {
   "cell_type": "code",
   "execution_count": 13,
   "metadata": {},
   "outputs": [
    {
     "data": {
      "application/vnd.jupyter.widget-view+json": {
       "model_id": "323138a535804fb49cc8f4fee52c4a38",
       "version_major": 2,
       "version_minor": 0
      },
      "text/plain": [
       "HBox(children=(IntProgress(value=0, max=20), HTML(value='')))"
      ]
     },
     "metadata": {},
     "output_type": "display_data"
    },
    {
     "name": "stdout",
     "output_type": "stream",
     "text": [
      "\n"
     ]
    },
    {
     "data": {
      "image/png": "[encoded data removed]",
      "text/plain": [
       "<Figure size 432x288 with 1 Axes>"
      ]
     },
     "metadata": {
      "needs_background": "light"
     },
     "output_type": "display_data"
    }
   ],
   "source": [
    "data = list(tqdm.tqdm_notebook(pool.imap(greedy_vs_mcts20, generator), total=len(generator)))\n",
    "wins = sum(data) / len(data)\n",
    "losses = 1 - wins\n",
    "\n",
    "plt.bar(0, losses)\n",
    "plt.bar(1, wins)\n",
    "plt.xticks([0, 1], [\"Greedy\", \"MCTS 20\"]);"
   ]
  },
  {
   "cell_type": "code",
   "execution_count": 14,
   "metadata": {},
   "outputs": [
    {
     "data": {
      "application/vnd.jupyter.widget-view+json": {
       "model_id": "a24052e25f36427b862984be904cbdbe",
       "version_major": 2,
       "version_minor": 0
      },
      "text/plain": [
       "HBox(children=(IntProgress(value=0, max=20), HTML(value='')))"
      ]
     },
     "metadata": {},
     "output_type": "display_data"
    },
    {
     "name": "stdout",
     "output_type": "stream",
     "text": [
      "\n"
     ]
    },
    {
     "data": {
      "image/png": "[encoded data removed]",
      "text/plain": [
       "<Figure size 432x288 with 1 Axes>"
      ]
     },
     "metadata": {
      "needs_background": "light"
     },
     "output_type": "display_data"
    }
   ],
   "source": [
    "data = list(tqdm.tqdm_notebook(pool.imap(greedy_vs_mcts100, generator), total=len(generator)))\n",
    "wins = sum(data) / len(data)\n",
    "losses = 1 - wins\n",
    "\n",
    "plt.bar(0, losses)\n",
    "plt.bar(1, wins)\n",
    "plt.xticks([0, 1], [\"Greedy\", \"MCTS 100\"]);"
   ]
  },
  {
   "cell_type": "code",
   "execution_count": 15,
   "metadata": {},
   "outputs": [
    {
     "data": {
      "application/vnd.jupyter.widget-view+json": {
       "model_id": "7bca7b06c12d4ce3a09a77c499079bb1",
       "version_major": 2,
       "version_minor": 0
      },
      "text/plain": [
       "HBox(children=(IntProgress(value=0, max=20), HTML(value='')))"
      ]
     },
     "metadata": {},
     "output_type": "display_data"
    },
    {
     "name": "stdout",
     "output_type": "stream",
     "text": [
      "\n"
     ]
    },
    {
     "data": {
      "image/png": "[encoded data removed]",
      "text/plain": [
       "<Figure size 432x288 with 1 Axes>"
      ]
     },
     "metadata": {
      "needs_background": "light"
     },
     "output_type": "display_data"
    }
   ],
   "source": [
    "data = list(tqdm.tqdm_notebook(pool.imap(mcts_vs_mcts, generator), total=len(generator)))\n",
    "wins = sum(data) / len(data)\n",
    "losses = 1 - wins\n",
    "\n",
    "plt.bar(0, losses)\n",
    "plt.bar(1, wins)\n",
    "plt.xticks([0, 1], [\"MCTS 20\", \"MCTS 50\"]);"
   ]
  },
  {
   "cell_type": "code",
   "execution_count": 16,
   "metadata": {
    "scrolled": true
   },
   "outputs": [
    {
     "data": {
      "application/vnd.jupyter.widget-view+json": {
       "model_id": "45c7c03ddd0740c0951ea756f82e1393",
       "version_major": 2,
       "version_minor": 0
      },
      "text/plain": [
       "HBox(children=(IntProgress(value=0, max=20), HTML(value='')))"
      ]
     },
     "metadata": {},
     "output_type": "display_data"
    },
    {
     "name": "stdout",
     "output_type": "stream",
     "text": [
      "\n"
     ]
    },
    {
     "data": {
      "image/png": "[encoded data removed]",
      "text/plain": [
       "<Figure size 432x288 with 1 Axes>"
      ]
     },
     "metadata": {
      "needs_background": "light"
     },
     "output_type": "display_data"
    }
   ],
   "source": [
    "data = list(tqdm.tqdm_notebook(pool.imap(mcts_vs_uct, generator), total=len(generator)))\n",
    "wins = sum(data) / len(data)\n",
    "losses = 1 - wins\n",
    "\n",
    "plt.bar(0, losses)\n",
    "plt.bar(1, wins)\n",
    "plt.xticks([0, 1], [\"MCTS 50\", \"UCT 50\"]);"
   ]
  },
  {
   "cell_type": "code",
   "execution_count": 17,
   "metadata": {},
   "outputs": [
    {
     "data": {
      "application/vnd.jupyter.widget-view+json": {
       "model_id": "779f005fa0df4d7c9d411501dbe2f781",
       "version_major": 2,
       "version_minor": 0
      },
      "text/plain": [
       "HBox(children=(IntProgress(value=0, max=20), HTML(value='')))"
      ]
     },
     "metadata": {},
     "output_type": "display_data"
    },
    {
     "name": "stdout",
     "output_type": "stream",
     "text": [
      "\n"
     ]
    },
    {
     "data": {
      "image/png": "[encoded data removed]",
      "text/plain": [
       "<Figure size 432x288 with 1 Axes>"
      ]
     },
     "metadata": {
      "needs_background": "light"
     },
     "output_type": "display_data"
    }
   ],
   "source": [
    "data = list(tqdm.tqdm_notebook(pool.imap(greedy_vs_uct, generator), total=len(generator)))\n",
    "wins = sum(data) / len(data)\n",
    "losses = 1 - wins\n",
    "\n",
    "plt.bar(0, losses)\n",
    "plt.bar(1, wins)\n",
    "plt.xticks([0, 1], [\"Greedy\", \"UCT 50\"]);"
   ]
  },
  {
   "cell_type": "code",
   "execution_count": 18,
   "metadata": {},
   "outputs": [
    {
     "data": {
      "application/vnd.jupyter.widget-view+json": {
       "model_id": "bb0a827976ea462c98ec38fb23249d2d",
       "version_major": 2,
       "version_minor": 0
      },
      "text/plain": [
       "HBox(children=(IntProgress(value=0, max=20), HTML(value='')))"
      ]
     },
     "metadata": {},
     "output_type": "display_data"
    },
    {
     "name": "stdout",
     "output_type": "stream",
     "text": [
      "\n"
     ]
    },
    {
     "data": {
      "image/png": "[encoded data removed]",
      "text/plain": [
       "<Figure size 432x288 with 1 Axes>"
      ]
     },
     "metadata": {
      "needs_background": "light"
     },
     "output_type": "display_data"
    }
   ],
   "source": [
    "data = list(tqdm.tqdm_notebook(pool.imap(uct_vs_greedyuct, generator), total=len(generator)))\n",
    "wins = sum(data) / len(data)\n",
    "losses = 1 - wins\n",
    "\n",
    "plt.bar(0, losses)\n",
    "plt.bar(1, wins)\n",
    "plt.xticks([0, 1], [\"UCT 50\", \"Greedy UCT 50\"]);"
   ]
  },
  {
   "cell_type": "code",
   "execution_count": 19,
   "metadata": {},
   "outputs": [
    {
     "data": {
      "application/vnd.jupyter.widget-view+json": {
       "model_id": "14f767722c1649469b882443ac1dc6f4",
       "version_major": 2,
       "version_minor": 0
      },
      "text/plain": [
       "HBox(children=(IntProgress(value=0, max=20), HTML(value='')))"
      ]
     },
     "metadata": {},
     "output_type": "display_data"
    },
    {
     "name": "stdout",
     "output_type": "stream",
     "text": [
      "\n"
     ]
    },
    {
     "data": {
      "image/png": "[encoded data removed]",
      "text/plain": [
       "<Figure size 432x288 with 1 Axes>"
      ]
     },
     "metadata": {
      "needs_background": "light"
     },
     "output_type": "display_data"
    }
   ],
   "source": [
    "data = list(tqdm.tqdm_notebook(pool.imap(uct50_vs_greedyuct20, generator), total=len(generator)))\n",
    "wins = sum(data) / len(data)\n",
    "losses = 1 - wins\n",
    "\n",
    "plt.bar(0, losses)\n",
    "plt.bar(1, wins)\n",
    "plt.xticks([0, 1], [\"UCT 50\", \"Greedy UCT 20\"]);"
   ]
  },
  {
   "cell_type": "code",
   "execution_count": 20,
   "metadata": {},
   "outputs": [],
   "source": [
    "# %%time\n",
    "# RUNS = 7\n",
    "# factories = [\n",
    "#     (\"Random\", lambda x: RandomPlayer(x)),\n",
    "#     (\"Greedy\", lambda x: GreedyPlayer(x)),\n",
    "    \n",
    "#     (\"MCTS 20\", lambda x: MCTSPlayer(x, 20)),\n",
    "#     (\"MCTS 100\", lambda x: MCTSPlayer(x, 100)),\n",
    "    \n",
    "#     (\"UCT 20\", lambda x: UCTPlayer(x, 20)),\n",
    "#     (\"UCT 100\", lambda x: UCTPlayer(x, 100)),\n",
    "    \n",
    "#     (\"Greedy UCT 20\", lambda x: GreedyUCTPlayer(x, 20)),\n",
    "#     (\"Greedy UCT 100\", lambda x: GreedyUCTPlayer(x, 100)),\n",
    "# ]\n",
    "\n",
    "# names = [x[0] for x in factories]\n",
    "# games = []\n",
    "\n",
    "# res = np.zeros((len(factories), len(factories), 2))\n",
    "# iterable = list(itertools.product(enumerate(factories), repeat=2))\n",
    "# for (i, (name1, factory1)), (j, (name2, factory2)) in tqdm.tqdm_notebook(iterable):\n",
    "#     if i >= j:\n",
    "#         continue\n",
    "#     for _ in range(RUNS):\n",
    "#         player = factory1(0)\n",
    "#         opponent = factory2(1)\n",
    "\n",
    "#         endstate = play_game(player, opponent)\n",
    "#         res[i,j, endstate.winner] += 1\n",
    "#         games.append((name1, name2, endstate))\n",
    "\n",
    "# ratios = res[:,:, 1] - res[:,:, 0]"
   ]
  },
  {
   "cell_type": "code",
   "execution_count": 21,
   "metadata": {},
   "outputs": [
    {
     "ename": "NameError",
     "evalue": "name 'ratios' is not defined",
     "output_type": "error",
     "traceback": [
      "\u001b[0;31m---------------------------------------------------------------------------\u001b[0m",
      "\u001b[0;31mNameError\u001b[0m                                 Traceback (most recent call last)",
      "\u001b[0;32m<ipython-input-21-85f31400aefb>\u001b[0m in \u001b[0;36m<module>\u001b[0;34m\u001b[0m\n\u001b[1;32m      3\u001b[0m \u001b[0mfig\u001b[0m\u001b[0;34m,\u001b[0m \u001b[0max\u001b[0m \u001b[0;34m=\u001b[0m \u001b[0mplt\u001b[0m\u001b[0;34m.\u001b[0m\u001b[0msubplots\u001b[0m\u001b[0;34m(\u001b[0m\u001b[0mfigsize\u001b[0m\u001b[0;34m=\u001b[0m\u001b[0;34m(\u001b[0m\u001b[0;36m8\u001b[0m\u001b[0;34m,\u001b[0m\u001b[0;36m8\u001b[0m\u001b[0;34m)\u001b[0m\u001b[0;34m)\u001b[0m\u001b[0;34m\u001b[0m\u001b[0;34m\u001b[0m\u001b[0m\n\u001b[1;32m      4\u001b[0m \u001b[0;34m\u001b[0m\u001b[0m\n\u001b[0;32m----> 5\u001b[0;31m \u001b[0mbornes\u001b[0m \u001b[0;34m=\u001b[0m \u001b[0mabs\u001b[0m\u001b[0;34m(\u001b[0m\u001b[0mratios\u001b[0m\u001b[0;34m)\u001b[0m\u001b[0;34m.\u001b[0m\u001b[0mmax\u001b[0m\u001b[0;34m(\u001b[0m\u001b[0;34m)\u001b[0m\u001b[0;34m\u001b[0m\u001b[0;34m\u001b[0m\u001b[0m\n\u001b[0m\u001b[1;32m      6\u001b[0m \u001b[0mim\u001b[0m \u001b[0;34m=\u001b[0m \u001b[0max\u001b[0m\u001b[0;34m.\u001b[0m\u001b[0mimshow\u001b[0m\u001b[0;34m(\u001b[0m\u001b[0mratios\u001b[0m\u001b[0;34m,\u001b[0m \u001b[0mvmin\u001b[0m\u001b[0;34m=\u001b[0m\u001b[0;34m-\u001b[0m\u001b[0mbornes\u001b[0m\u001b[0;34m,\u001b[0m \u001b[0mvmax\u001b[0m\u001b[0;34m=\u001b[0m\u001b[0mbornes\u001b[0m\u001b[0;34m)\u001b[0m\u001b[0;34m\u001b[0m\u001b[0;34m\u001b[0m\u001b[0m\n\u001b[1;32m      7\u001b[0m \u001b[0;34m\u001b[0m\u001b[0m\n",
      "\u001b[0;31mNameError\u001b[0m: name 'ratios' is not defined"
     ]
    },
    {
     "data": {
      "text/plain": [
       "<Figure size 432x288 with 0 Axes>"
      ]
     },
     "metadata": {},
     "output_type": "display_data"
    },
    {
     "data": {
      "image/png": "[encoded data removed]",
      "text/plain": [
       "<Figure size 576x576 with 1 Axes>"
      ]
     },
     "metadata": {
      "needs_background": "light"
     },
     "output_type": "display_data"
    }
   ],
   "source": [
    "plt.set_cmap('RdYlGn')\n",
    "\n",
    "fig, ax = plt.subplots(figsize=(8,8))\n",
    "\n",
    "bornes = abs(ratios).max()\n",
    "im = ax.imshow(ratios, vmin=-bornes, vmax=bornes)\n",
    "\n",
    "cbar = ax.figure.colorbar(im, ax=ax)\n",
    "cbar.ax.set_ylabel(\"Wins minus losses (red means bottom is better)\", rotation=-90, va=\"bottom\")\n",
    "\n",
    "ax.set_xticks(np.arange(len(names)))\n",
    "ax.set_yticks(np.arange(len(names)))\n",
    "\n",
    "ax.set_xticklabels(names)\n",
    "ax.set_yticklabels(names)\n",
    "\n",
    "# Rotate the tick labels and set their alignment.\n",
    "plt.setp(ax.get_xticklabels(), rotation=45, ha=\"right\",\n",
    "         rotation_mode=\"anchor\")\n",
    "\n",
    "# Loop over data dimensions and create text annotations.\n",
    "for i in range(len(names)):\n",
    "    for j in range(len(names)):\n",
    "        s = \"%i / %i\" % (res[i, j, 0], res[i, j, 1])\n",
    "        text = ax.text(j, i, s,\n",
    "                       ha=\"center\", va=\"center\", color=\"w\")\n",
    "\n",
    "for edge, spine in ax.spines.items():\n",
    "        spine.set_visible(False)\n",
    "ax.set_xticks(np.arange(ratios.shape[1]+1)-.5, minor=True)\n",
    "ax.set_yticks(np.arange(ratios.shape[0]+1)-.5, minor=True)\n",
    "ax.grid(which=\"minor\", color=\"w\", linestyle='-', linewidth=3)\n",
    "ax.tick_params(which=\"minor\", bottom=False, left=False)\n",
    "        \n",
    "ax.set_title(\"Left wins / Bottom wins\")\n",
    "fig.tight_layout()\n",
    "plt.show()"
   ]
  },
  {
   "cell_type": "code",
   "execution_count": 22,
   "metadata": {},
   "outputs": [
    {
     "name": "stdout",
     "output_type": "stream",
     "text": [
      "Current player: 1 - Score: 0/0\n",
      "------------------\n",
      "  5  5  0  4  4  4\n",
      "  5  5  4  4  4  4\n",
      "Input move [0-5]: 1\n",
      "\n",
      "\n",
      "Current player: 1 - Score: 0/0\n",
      "------------------\n",
      "  6  0  0  4  4  5\n",
      "  6  1  6  6  5  5\n",
      "Input move [0-5]: 1\n",
      "\n",
      "\n",
      "Current player: 1 - Score: 0/0\n",
      "------------------\n",
      "  0  0  0  4  4  5\n",
      "  7  1  8  7  6  6\n",
      "Input move [0-5]: 1\n",
      "\n",
      "\n",
      "Current player: 1 - Score: 0/0\n",
      "------------------\n",
      "  1  1  1  5  5  0\n",
      "  7  0  9  7  6  6\n",
      "Input move [0-5]: 1\n",
      "Illegal move\n",
      "\n",
      "\n",
      "Input move [0-5]: 2\n",
      "\n",
      "\n",
      "Current player: 1 - Score: 6/0\n",
      "------------------\n",
      "  0  0  0  6  7  0\n",
      "  7  0  0  8  7  7\n",
      "Input move [0-5]: 0\n",
      "\n",
      "\n",
      "Current player: 1 - Score: 6/4\n",
      "------------------\n",
      "  1  1  1  0  8  1\n",
      "  1  0  0  9  8  8\n",
      "Input move [0-5]: 4\n",
      "\n",
      "\n",
      "Current player: 1 - Score: 6/10\n",
      "------------------\n",
      "  0  0  2  1  9  2\n",
      "  0  0  0  9  0  9\n",
      "Input move [0-5]: 3\n",
      "\n",
      "\n",
      "Current player: 1 - Score: 6/10\n",
      "------------------\n",
      "  1  1  4  3 11  0\n",
      "  1  0  0  0  1 10\n",
      "Input move [0-5]: 0\n",
      "\n",
      "\n",
      "Current player: 1 - Score: 6/10\n",
      "------------------\n",
      "  2  0  4  3 11  0\n",
      "  0  1  0  0  1 10\n",
      "Input move [0-5]: 1\n",
      "\n",
      "\n",
      "Current player: 1 - Score: 6/10\n",
      "------------------\n",
      "  3  1  5  0 11  0\n",
      "  0  0  1  0  1 10\n",
      "Input move [0-5]: 2\n",
      "\n",
      "\n",
      "Current player: 1 - Score: 6/10\n",
      "------------------\n",
      "  0  1  5  0 11  0\n",
      "  1  1  1  1  1 10\n",
      "Input move [0-5]: 2\n",
      "\n",
      "\n",
      "Current player: 1 - Score: 6/10\n",
      "------------------\n",
      "  1  0  5  0 11  0\n",
      "  1  1  0  2  1 10\n",
      "Input move [0-5]: 0\n",
      "\n",
      "\n",
      "Current player: 1 - Score: 6/10\n",
      "------------------\n",
      "  0  0  5  0 11  0\n",
      "  1  2  0  2  1 10\n",
      "Input move [0-5]: 5\n",
      "\n",
      "\n",
      "Current player: 1 - Score: 6/13\n",
      "------------------\n",
      "  0  1  6  1 12  1\n",
      "  0  3  1  3  1  0\n",
      "Input move [0-5]: 3\n",
      "\n",
      "\n",
      "Current player: 1 - Score: 8/13\n",
      "------------------\n",
      "  1  2  7  3  0  1\n",
      "  1  4  2  1  3  2\n",
      "Input move [0-5]: 0\n",
      "\n",
      "\n",
      "Current player: 1 - Score: 8/13\n",
      "------------------\n",
      "  1  2  7  3  1  0\n",
      "  0  5  2  1  3  2\n",
      "Input move [0-5]: 2\n",
      "\n",
      "\n",
      "Current player: 1 - Score: 8/13\n",
      "------------------\n",
      "  1  2  7  4  0  0\n",
      "  0  5  0  2  4  2\n",
      "Input move [0-5]: 4\n",
      "\n",
      "\n",
      "Current player: 1 - Score: 8/13\n",
      "------------------\n",
      "  1  2  7  6  0  1\n",
      "  0  5  0  2  0  3\n",
      "Input move [0-5]: 1\n",
      "\n",
      "\n",
      "Current player: 1 - Score: 10/13\n",
      "------------------\n",
      "  0  2  7  6  0  0\n",
      "  1  0  1  3  1  4\n",
      "Input move [0-5]: 0\n",
      "\n",
      "\n",
      "Current player: 1 - Score: 10/17\n",
      "------------------\n",
      "  1  3  8  0  0  0\n",
      "  1  0  0  3  1  4\n",
      "Input move [0-5]: 0\n",
      "\n",
      "\n",
      "Current player: 1 - Score: 10/17\n",
      "------------------\n",
      "  0  3  8  0  0  0\n",
      "  1  1  0  3  1  4\n",
      "Input move [0-5]: 1\n",
      "\n",
      "\n",
      "Current player: 1 - Score: 10/17\n",
      "------------------\n",
      "  1  4  0  0  0  0\n",
      "  2  1  2  4  2  5\n",
      "Input move [0-5]: 2\n",
      "\n",
      "\n",
      "Current player: 1 - Score: 10/20\n",
      "------------------\n",
      "  0  4  0  0  0  0\n",
      "  0  1  0  5  3  5\n",
      "Input move [0-5]: 5\n",
      "\n",
      "\n",
      "Current player: 1 - Score: 10/20\n",
      "------------------\n",
      "  0  5  1  2  0  1\n",
      "  0  1  0  5  3  0\n",
      "Input move [0-5]: 3\n",
      "\n",
      "\n",
      "Current player: 1 - Score: 13/20\n",
      "------------------\n",
      "  0  5  1  1  0  2\n",
      "  0  1  0  0  4  1\n",
      "Input move [0-5]: 5\n",
      "\n",
      "\n",
      "Current player: 1 - Score: 16/20\n",
      "------------------\n",
      "  0  5  2  0  0  0\n",
      "  0  1  0  0  4  0\n",
      "Input move [0-5]: 1\n",
      "\n",
      "\n",
      "Current player: 1 - Score: 16/20\n",
      "------------------\n",
      "  1  0  2  0  0  0\n",
      "  1  1  2  1  4  0\n",
      "Input move [0-5]: 0\n",
      "\n",
      "\n",
      "Current player: 1 - Score: 16/20\n",
      "------------------\n",
      "  2  1  0  0  0  0\n",
      "  0  2  2  1  4  0\n",
      "Input move [0-5]: 1\n",
      "\n",
      "\n",
      "Current player: 1 - Score: 16/20\n",
      "------------------\n",
      "  0  1  0  0  0  0\n",
      "  1  1  3  2  4  0\n",
      "Input move [0-5]: 0\n",
      "\n",
      "\n",
      "Current player: 1 - Score: 16/20\n",
      "------------------\n",
      "  1  0  0  0  0  0\n",
      "  0  2  3  2  4  0\n",
      "Input move [0-5]: 1\n",
      "\n",
      "\n",
      "Current player: 1 - Score: 16/20\n",
      "------------------\n",
      "  0  0  0  0  0  0\n",
      "  1  0  4  3  4  0\n",
      "Input move [0-5]: 0\n",
      "\n",
      "\n",
      "0\n",
      "Game finished\n",
      "Current player: 0 - Score: 20/16\n",
      "------------------\n",
      "  0  4  3  4  1  0\n",
      "  0  0  0  0  0  0\n"
     ]
    }
   ],
   "source": [
    "player = GreedyUCTPlayer(0, 100)\n",
    "opponent = HumanPlayer(1)\n",
    "\n",
    "endstate = play_game(player, opponent)\n",
    "print(endstate.winner)\n",
    "endstate.show_state()"
   ]
  },
  {
   "cell_type": "code",
   "execution_count": 23,
   "metadata": {},
   "outputs": [
    {
     "ename": "NameError",
     "evalue": "name 'games' is not defined",
     "output_type": "error",
     "traceback": [
      "\u001b[0;31m---------------------------------------------------------------------------\u001b[0m",
      "\u001b[0;31mNameError\u001b[0m                                 Traceback (most recent call last)",
      "\u001b[0;32m<ipython-input-23-dd63ebf965f9>\u001b[0m in \u001b[0;36m<module>\u001b[0;34m\u001b[0m\n\u001b[1;32m      1\u001b[0m \u001b[0mnchilds\u001b[0m \u001b[0;34m=\u001b[0m \u001b[0;34m[\u001b[0m\u001b[0;34m]\u001b[0m\u001b[0;34m\u001b[0m\u001b[0;34m\u001b[0m\u001b[0m\n\u001b[1;32m      2\u001b[0m \u001b[0mdepths\u001b[0m \u001b[0;34m=\u001b[0m \u001b[0;34m[\u001b[0m\u001b[0;34m]\u001b[0m\u001b[0;34m\u001b[0m\u001b[0;34m\u001b[0m\u001b[0m\n\u001b[0;32m----> 3\u001b[0;31m \u001b[0;32mfor\u001b[0m \u001b[0m_\u001b[0m\u001b[0;34m,\u001b[0m \u001b[0m_\u001b[0m\u001b[0;34m,\u001b[0m \u001b[0mgame\u001b[0m \u001b[0;32min\u001b[0m \u001b[0mgames\u001b[0m\u001b[0;34m:\u001b[0m\u001b[0;34m\u001b[0m\u001b[0;34m\u001b[0m\u001b[0m\n\u001b[0m\u001b[1;32m      4\u001b[0m     \u001b[0mnode\u001b[0m \u001b[0;34m=\u001b[0m \u001b[0mgame\u001b[0m\u001b[0;34m\u001b[0m\u001b[0;34m\u001b[0m\u001b[0m\n\u001b[1;32m      5\u001b[0m     \u001b[0mdepths\u001b[0m\u001b[0;34m.\u001b[0m\u001b[0mappend\u001b[0m\u001b[0;34m(\u001b[0m\u001b[0mnode\u001b[0m\u001b[0;34m.\u001b[0m\u001b[0mdepth\u001b[0m\u001b[0;34m)\u001b[0m\u001b[0;34m\u001b[0m\u001b[0;34m\u001b[0m\u001b[0m\n",
      "\u001b[0;31mNameError\u001b[0m: name 'games' is not defined"
     ]
    }
   ],
   "source": [
    "nchilds = []\n",
    "depths = []\n",
    "for _, _, game in games:\n",
    "    node = game\n",
    "    depths.append(node.depth)\n",
    "    while node.parent:\n",
    "        nchilds.append(len(node.legal_actions))\n",
    "        node = node.parent"
   ]
  },
  {
   "cell_type": "code",
   "execution_count": null,
   "metadata": {},
   "outputs": [],
   "source": [
    "plt.hist(depths)"
   ]
  },
  {
   "cell_type": "code",
   "execution_count": 24,
   "metadata": {},
   "outputs": [
    {
     "data": {
      "text/plain": [
       "<players.GreedyUCTPlayer at 0x7facba241ad0>"
      ]
     },
     "execution_count": 24,
     "metadata": {},
     "output_type": "execute_result"
    }
   ],
   "source": [
    "player"
   ]
  },
  {
   "cell_type": "code",
   "execution_count": 25,
   "metadata": {},
   "outputs": [
    {
     "data": {
      "image/svg+xml": [
       "\n",
       "    <svg width=\"700\" height=\"240\">\n",
       "      <style>\n",
       "        circle {\n",
       "          fill: none;\n",
       "          stroke: #000;\n",
       "          stroke-width: 2;\n",
       "        }\n",
       "        .bean {\n",
       "          fill: #000\n",
       "        }\n",
       "        .highlight {\n",
       "          stroke: red;\n",
       "        }\n",
       "      </style>\n",
       "\n",
       "      <circle cx=\"48.0\" cy=\"48.0\" r=\"40\" /><text x=\"82.0\" y=\"82.0\" >0</text><circle cx=\"136.0\" cy=\"48.0\" r=\"40\" /><text x=\"170.0\" y=\"82.0\" >4</text><circle cx=\"224.0\" cy=\"48.0\" r=\"40\" /><text x=\"258.0\" y=\"82.0\" >3</text><circle cx=\"312.0\" cy=\"48.0\" r=\"40\" /><text x=\"346.0\" y=\"82.0\" >4</text><circle cx=\"400.0\" cy=\"48.0\" r=\"40\" /><text x=\"434.0\" y=\"82.0\" >0</text><circle cx=\"488.0\" cy=\"48.0\" r=\"40\" /><text x=\"522.0\" y=\"82.0\" >1</text><circle cx=\"48.0\" cy=\"136.0\" r=\"40\" /><text x=\"82.0\" y=\"170.0\" >0</text><circle cx=\"136.0\" cy=\"136.0\" r=\"40\" /><text x=\"170.0\" y=\"170.0\" >0</text><circle cx=\"224.0\" cy=\"136.0\" r=\"40\" /><text x=\"258.0\" y=\"170.0\" >0</text><circle cx=\"312.0\" cy=\"136.0\" r=\"40\" /><text x=\"346.0\" y=\"170.0\" >0</text><circle cx=\"400.0\" cy=\"136.0\" r=\"40\" /><text x=\"434.0\" y=\"170.0\" >0</text><circle cx=\"488.0\" cy=\"136.0\" r=\"40\" /><text x=\"522.0\" y=\"170.0\" >0</text>\n",
       "      <circle cx=\"146.10569928021138\" cy=\"50.42380734752891\" r=\"4\" class=\"bean\"/><circle cx=\"138.4238073475289\" cy=\"37.89430071978862\" r=\"4\" class=\"bean\"/><circle cx=\"125.89430071978862\" cy=\"45.57619265247109\" r=\"4\" class=\"bean\"/><circle cx=\"133.5761926524711\" cy=\"58.10569928021138\" r=\"4\" class=\"bean\"/><circle cx=\"226.42343189628872\" cy=\"39.868150404486656\" r=\"4\" class=\"bean\"/><circle cx=\"215.74589572238688\" cy=\"49.96717121122916\" r=\"4\" class=\"bean\"/><circle cx=\"229.8306723813244\" cy=\"54.164678384284194\" r=\"4\" class=\"bean\"/><circle cx=\"322.14353274911406\" cy=\"45.73974705671016\" r=\"4\" class=\"bean\"/><circle cx=\"309.73974705671014\" cy=\"37.85646725088593\" r=\"4\" class=\"bean\"/><circle cx=\"301.85646725088594\" cy=\"50.260252943289835\" r=\"4\" class=\"bean\"/><circle cx=\"314.26025294328986\" cy=\"58.14353274911407\" r=\"4\" class=\"bean\"/><circle cx=\"488.0\" cy=\"48.0\" r=\"4\" class=\"bean\"/>\n",
       "    </svg>\n",
       "    "
      ],
      "text/plain": [
       "<Game [90, 91]/181 player:1 captures:20/16>"
      ]
     },
     "execution_count": 25,
     "metadata": {},
     "output_type": "execute_result"
    }
   ],
   "source": [
    "player.root"
   ]
  },
  {
   "cell_type": "code",
   "execution_count": 26,
   "metadata": {},
   "outputs": [],
   "source": [
    "r = player.root\n",
    "while r.parent:\n",
    "    r = r.parent"
   ]
  },
  {
   "cell_type": "code",
   "execution_count": 27,
   "metadata": {},
   "outputs": [
    {
     "data": {
      "image/svg+xml": [
       "\n",
       "    <svg width=\"700\" height=\"240\">\n",
       "      <style>\n",
       "        circle {\n",
       "          fill: none;\n",
       "          stroke: #000;\n",
       "          stroke-width: 2;\n",
       "        }\n",
       "        .bean {\n",
       "          fill: #000\n",
       "        }\n",
       "        .highlight {\n",
       "          stroke: red;\n",
       "        }\n",
       "      </style>\n",
       "\n",
       "      <circle cx=\"48.0\" cy=\"48.0\" r=\"40\" /><text x=\"82.0\" y=\"82.0\" >4</text><circle cx=\"136.0\" cy=\"48.0\" r=\"40\" /><text x=\"170.0\" y=\"82.0\" >4</text><circle cx=\"224.0\" cy=\"48.0\" r=\"40\" /><text x=\"258.0\" y=\"82.0\" >4</text><circle cx=\"312.0\" cy=\"48.0\" r=\"40\" /><text x=\"346.0\" y=\"82.0\" >4</text><circle cx=\"400.0\" cy=\"48.0\" r=\"40\" /><text x=\"434.0\" y=\"82.0\" >4</text><circle cx=\"488.0\" cy=\"48.0\" r=\"40\" /><text x=\"522.0\" y=\"82.0\" >4</text><circle cx=\"48.0\" cy=\"136.0\" r=\"40\" /><text x=\"82.0\" y=\"170.0\" >4</text><circle cx=\"136.0\" cy=\"136.0\" r=\"40\" /><text x=\"170.0\" y=\"170.0\" >4</text><circle cx=\"224.0\" cy=\"136.0\" r=\"40\" /><text x=\"258.0\" y=\"170.0\" >4</text><circle cx=\"312.0\" cy=\"136.0\" r=\"40\" /><text x=\"346.0\" y=\"170.0\" >4</text><circle cx=\"400.0\" cy=\"136.0\" r=\"40\" /><text x=\"434.0\" y=\"170.0\" >4</text><circle cx=\"488.0\" cy=\"136.0\" r=\"40\" /><text x=\"522.0\" y=\"170.0\" >4</text>\n",
       "      <circle cx=\"58.392068519215755\" cy=\"47.92991510915365\" r=\"4\" class=\"bean\"/><circle cx=\"47.92991510915365\" cy=\"37.607931480784245\" r=\"4\" class=\"bean\"/><circle cx=\"37.607931480784245\" cy=\"48.07008489084635\" r=\"4\" class=\"bean\"/><circle cx=\"48.07008489084635\" cy=\"58.392068519215755\" r=\"4\" class=\"bean\"/><circle cx=\"145.94213354118597\" cy=\"51.02555460192423\" r=\"4\" class=\"bean\"/><circle cx=\"139.02555460192423\" cy=\"38.057866458814026\" r=\"4\" class=\"bean\"/><circle cx=\"126.05786645881403\" cy=\"44.97444539807577\" r=\"4\" class=\"bean\"/><circle cx=\"132.97444539807577\" cy=\"57.942133541185974\" r=\"4\" class=\"bean\"/><circle cx=\"233.76307225973488\" cy=\"44.43876144421702\" r=\"4\" class=\"bean\"/><circle cx=\"220.43876144421702\" cy=\"38.236927740265116\" r=\"4\" class=\"bean\"/><circle cx=\"214.23692774026512\" cy=\"51.56123855578298\" r=\"4\" class=\"bean\"/><circle cx=\"227.56123855578298\" cy=\"57.763072259734884\" r=\"4\" class=\"bean\"/><circle cx=\"318.9293389515507\" cy=\"55.74495072253674\" r=\"4\" class=\"bean\"/><circle cx=\"319.7449507225367\" cy=\"41.07066104844931\" r=\"4\" class=\"bean\"/><circle cx=\"305.0706610484493\" cy=\"40.25504927746326\" r=\"4\" class=\"bean\"/><circle cx=\"304.25504927746323\" cy=\"54.92933895155068\" r=\"4\" class=\"bean\"/><circle cx=\"410.36535142538537\" cy=\"48.74799052685301\" r=\"4\" class=\"bean\"/><circle cx=\"400.747990526853\" cy=\"37.634648574614644\" r=\"4\" class=\"bean\"/><circle cx=\"389.63464857461463\" cy=\"47.252009473146984\" r=\"4\" class=\"bean\"/><circle cx=\"399.252009473147\" cy=\"58.365351425385356\" r=\"4\" class=\"bean\"/><circle cx=\"495.5716106558089\" cy=\"40.88166367211828\" r=\"4\" class=\"bean\"/><circle cx=\"480.8816636721183\" cy=\"40.42838934419106\" r=\"4\" class=\"bean\"/><circle cx=\"480.4283893441911\" cy=\"55.11833632788172\" r=\"4\" class=\"bean\"/><circle cx=\"495.1183363278817\" cy=\"55.57161065580894\" r=\"4\" class=\"bean\"/><circle cx=\"52.546465527437256\" cy=\"126.65496649509352\" r=\"4\" class=\"bean\"/><circle cx=\"38.65496649509352\" cy=\"131.45353447256275\" r=\"4\" class=\"bean\"/><circle cx=\"43.453534472562744\" cy=\"145.34503350490647\" r=\"4\" class=\"bean\"/><circle cx=\"57.34503350490648\" cy=\"140.54646552743725\" r=\"4\" class=\"bean\"/><circle cx=\"141.17170497012845\" cy=\"145.01407054010278\" r=\"4\" class=\"bean\"/><circle cx=\"145.01407054010278\" cy=\"130.82829502987155\" r=\"4\" class=\"bean\"/><circle cx=\"130.82829502987155\" cy=\"126.98592945989724\" r=\"4\" class=\"bean\"/><circle cx=\"126.98592945989722\" cy=\"141.17170497012845\" r=\"4\" class=\"bean\"/><circle cx=\"232.70206752618728\" cy=\"141.68102286297784\" r=\"4\" class=\"bean\"/><circle cx=\"229.68102286297784\" cy=\"127.29793247381272\" r=\"4\" class=\"bean\"/><circle cx=\"215.29793247381272\" cy=\"130.31897713702216\" r=\"4\" class=\"bean\"/><circle cx=\"218.31897713702216\" cy=\"144.70206752618728\" r=\"4\" class=\"bean\"/><circle cx=\"316.3373267755713\" cy=\"145.4439184897961\" r=\"4\" class=\"bean\"/><circle cx=\"321.4439184897961\" cy=\"131.66267322442872\" r=\"4\" class=\"bean\"/><circle cx=\"307.6626732244287\" cy=\"126.55608151020391\" r=\"4\" class=\"bean\"/><circle cx=\"302.5560815102039\" cy=\"140.33732677557126\" r=\"4\" class=\"bean\"/><circle cx=\"402.5308568755496\" cy=\"125.9205772250846\" r=\"4\" class=\"bean\"/><circle cx=\"389.92057722508457\" cy=\"133.4691431244504\" r=\"4\" class=\"bean\"/><circle cx=\"397.4691431244504\" cy=\"146.0794227749154\" r=\"4\" class=\"bean\"/><circle cx=\"410.07942277491543\" cy=\"138.5308568755496\" r=\"4\" class=\"bean\"/><circle cx=\"489.52339756364734\" cy=\"125.71995817795116\" r=\"4\" class=\"bean\"/><circle cx=\"477.7199581779511\" cy=\"134.47660243635266\" r=\"4\" class=\"bean\"/><circle cx=\"486.47660243635266\" cy=\"146.28004182204884\" r=\"4\" class=\"bean\"/><circle cx=\"498.2800418220489\" cy=\"137.52339756364734\" r=\"4\" class=\"bean\"/>\n",
       "    </svg>\n",
       "    "
      ],
      "text/plain": [
       "<Game [2280, 820]/3100 player:0 captures:0/0>"
      ]
     },
     "execution_count": 27,
     "metadata": {},
     "output_type": "execute_result"
    }
   ],
   "source": [
    "r"
   ]
  },
  {
   "cell_type": "code",
   "execution_count": 28,
   "metadata": {},
   "outputs": [
    {
     "data": {
      "text/plain": [
       "61"
      ]
     },
     "execution_count": 28,
     "metadata": {},
     "output_type": "execute_result"
    }
   ],
   "source": [
    "player.root.depth"
   ]
  },
  {
   "cell_type": "code",
   "execution_count": null,
   "metadata": {},
   "outputs": [
    {
     "name": "stdout",
     "output_type": "stream",
     "text": [
      "Current player: 1 - Score: 0/0\n",
      "------------------\n",
      "  0  4  4  4  4  4\n",
      "  5  5  5  5  4  4\n",
      "Input move [0-5]: 0\n",
      "\n",
      "\n",
      "Current player: 1 - Score: 0/0\n",
      "------------------\n",
      "  1  0  4  4  4  4\n",
      "  1  7  7  6  5  5\n",
      "Input move [0-5]: 0\n",
      "\n",
      "\n",
      "Current player: 1 - Score: 0/0\n",
      "------------------\n",
      "  2  1  5  0  4  4\n",
      "  1  8  7  6  5  5\n",
      "Input move [0-5]: 5\n",
      "\n",
      "\n",
      "Current player: 1 - Score: 2/5\n",
      "------------------\n",
      "  0  1  7  2  0  5\n",
      "  0  8  7  6  5  0\n",
      "Input move [0-5]: 4\n",
      "\n",
      "\n",
      "Current player: 1 - Score: 2/7\n",
      "------------------\n",
      "  1  2  0  3  1  6\n",
      "  1  9  8  7  1  0\n",
      "Input move [0-5]: 0\n",
      "\n",
      "\n",
      "Current player: 1 - Score: 2/7\n",
      "------------------\n",
      "  2  0  0  3  1  6\n",
      "  1 10  8  7  1  0\n",
      "Input move [0-5]: 2\n",
      "\n",
      "\n",
      "Current player: 1 - Score: 2/16\n",
      "------------------\n",
      "  0  0  0  0  2  7\n",
      "  0 10  0  8  2  1\n",
      "Input move [0-5]: 4\n",
      "\n",
      "\n",
      "Current player: 1 - Score: 2/16\n",
      "------------------\n",
      "  0  0  1  1  0  8\n",
      "  0 10  0  8  0  2\n",
      "Input move [0-5]: 1\n",
      "\n",
      "\n",
      "Current player: 1 - Score: 2/16\n",
      "------------------\n",
      "  1  1  2  3  0  9\n",
      "  0  0  1  9  1  3\n",
      "Input move [0-5]: 4\n",
      "\n",
      "\n",
      "Current player: 1 - Score: 2/16\n",
      "------------------\n",
      "  2  2  3  4  1  0\n",
      "  1  1  2 10  0  4\n",
      "Input move [0-5]: 1\n",
      "\n",
      "\n",
      "Current player: 1 - Score: 2/24\n",
      "------------------\n",
      "  0  0  4  0  1  0\n",
      "  0  0  3 10  0  4\n",
      "Input move [0-5]: 2\n",
      "\n",
      "\n",
      "Current player: 1 - Score: 2/24\n",
      "------------------\n",
      "  0  0  4  1  0  0\n",
      "  0  0  0 11  1  5\n",
      "Input move [0-5]: 4\n",
      "\n",
      "\n",
      "Current player: 1 - Score: 2/24\n",
      "------------------\n",
      "  1  1  0  1  0  0\n",
      "  1  1  0 11  0  6\n",
      "Input move [0-5]: 5\n",
      "\n",
      "\n",
      "Current player: 1 - Score: 6/24\n",
      "------------------\n",
      "  0  0  1  2  2  0\n",
      "  1  1  0 11  0  0\n",
      "Input move [0-5]: 3\n",
      "\n",
      "\n",
      "Current player: 1 - Score: 6/24\n",
      "------------------\n",
      "  1  1  2  3  4  0\n",
      "  2  2  1  0  1  1\n",
      "Input move [0-5]: 0\n",
      "\n",
      "\n",
      "Current player: 1 - Score: 6/24\n",
      "------------------\n",
      "  2  2  3  4  0  0\n",
      "  0  3  2  0  1  1\n",
      "Input move [0-5]: 2\n",
      "\n",
      "\n",
      "Current player: 1 - Score: 6/24\n",
      "------------------\n",
      "  0  2  3  4  0  0\n",
      "  1  4  0  1  2  1\n",
      "Input move [0-5]: 0\n",
      "\n",
      "\n",
      "Current player: 1 - Score: 6/24\n",
      "------------------\n",
      "  1  3  0  4  0  0\n",
      "  1  5  0  1  2  1\n",
      "Input move [0-5]: 0\n",
      "\n",
      "\n",
      "Current player: 1 - Score: 6/24\n",
      "------------------\n",
      "  2  4  1  0  0  0\n",
      "  1  6  0  1  2  1\n",
      "Input move [0-5]: 3\n",
      "\n",
      "\n",
      "Current player: 1 - Score: 6/24\n",
      "------------------\n",
      "  2  5  0  0  0  0\n",
      "  1  6  0  0  3  1\n",
      "Input move [0-5]: 4\n",
      "\n",
      "\n",
      "Current player: 1 - Score: 6/24\n",
      "------------------\n",
      "  0  5  0  0  1  1\n",
      "  2  7  0  0  0  2\n",
      "Input move [0-5]: 5\n",
      "\n",
      "\n",
      "Current player: 1 - Score: 10/24\n",
      "------------------\n",
      "  1  0  0  0  0  0\n",
      "  3  8  1  1  0  0\n",
      "Input move [0-5]: 1\n",
      "\n",
      "\n",
      "Current player: 1 - Score: 10/24\n",
      "------------------\n",
      "  1  0  1  2  0  1\n",
      "  3  0  2  2  1  1\n",
      "Input move [0-5]: 5\n",
      "\n",
      "\n",
      "Current player: 1 - Score: 12/24\n",
      "------------------\n",
      "  1  1  2  0  0  0\n",
      "  3  0  2  2  1  0\n",
      "Input move [0-5]: 2\n",
      "\n",
      "\n",
      "Current player: 1 - Score: 12/24\n",
      "------------------\n",
      "  2  2  0  0  0  0\n",
      "  3  0  0  3  2  0\n",
      "Input move [0-5]: 3\n",
      "\n",
      "\n",
      "Current player: 1 - Score: 12/24\n",
      "------------------\n",
      "  0  2  0  0  0  1\n",
      "  4  1  0  0  3  1\n",
      "Input move [0-5]: 5\n",
      "\n",
      "\n",
      "Current player: 1 - Score: 14/24\n",
      "------------------\n",
      "  1  0  0  0  0  0\n",
      "  5  1  0  0  3  0\n",
      "Input move [0-5]: 4\n",
      "\n",
      "\n",
      "Current player: 1 - Score: 14/24\n",
      "------------------\n",
      "  1  0  0  1  0  1\n",
      "  5  1  0  0  0  1\n",
      "Input move [0-5]: 5\n",
      "\n",
      "\n",
      "Current player: 1 - Score: 16/24\n",
      "------------------\n",
      "  1  0  1  0  0  0\n",
      "  5  1  0  0  0  0\n",
      "Input move [0-5]: 0\n",
      "\n",
      "\n",
      "Current player: 1 - Score: 16/24\n",
      "------------------\n",
      "  0  0  1  0  0  0\n",
      "  1  2  1  1  1  1\n",
      "Input move [0-5]: 4\n",
      "\n",
      "\n",
      "Current player: 1 - Score: 16/24\n",
      "------------------\n",
      "  0  1  0  0  0  0\n",
      "  1  2  1  1  0  2\n",
      "Input move [0-5]: 5\n",
      "\n",
      "\n",
      "Current player: 1 - Score: 16/24\n",
      "------------------\n",
      "  0  1  0  0  2  0\n",
      "  1  2  1  1  0  0\n"
     ]
    }
   ],
   "source": [
    "player = GreedyUCTPlayer(0, timedelta(seconds=10))\n",
    "opponent = HumanPlayer(1)\n",
    "\n",
    "endstate = play_game(player, opponent)\n",
    "print(endstate.winner)\n",
    "endstate.show_state()"
   ]
  },
  {
   "cell_type": "code",
   "execution_count": null,
   "metadata": {},
   "outputs": [],
   "source": []
  }
 ],
 "metadata": {
  "kernelspec": {
   "display_name": "Python 3",
   "language": "python",
   "name": "python3"
  },
  "language_info": {
   "codemirror_mode": {
    "name": "ipython",
    "version": 3
   },
   "file_extension": ".py",
   "mimetype": "text/x-python",
   "name": "python",
   "nbconvert_exporter": "python",
   "pygments_lexer": "ipython3",
   "version": "3.7.7"
  }
 },
 "nbformat": 4,
 "nbformat_minor": 2
}
