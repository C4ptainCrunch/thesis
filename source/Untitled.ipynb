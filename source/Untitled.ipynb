{
 "cells": [
  {
   "cell_type": "code",
   "execution_count": 1,
   "id": "71fd2b51",
   "metadata": {},
   "outputs": [],
   "source": [
    "import boto3\n",
    "client = boto3.client('batch')\n",
    "def submit_aws_job(*args, local=False, **kwargs):\n",
    "    if not local:\n",
    "        return client.submit_job(*args, **kwargs)"
   ]
  },
  {
   "cell_type": "code",
   "execution_count": 2,
   "id": "70a20bed",
   "metadata": {},
   "outputs": [],
   "source": [
    "def submit_match(a, b, pool, side, timeout=600 , local=False):\n",
    "    return submit_aws_job(\n",
    "        jobDefinition='run-match',\n",
    "        jobName=pool,\n",
    "        jobQueue='matches',\n",
    "        containerOverrides={\n",
    "            'command': [\"python\", \"simulate.py\"],\n",
    "            'environment': [\n",
    "                {'name': 'PLAYER_A', 'value': a % 0},\n",
    "                {'name': 'PLAYER_B', 'value': b % 1},\n",
    "                {'name': 'POOL','value': pool},\n",
    "                {'name': 'SIDE', 'value': str(side)},\n",
    "            ]\n",
    "        },\n",
    "        timeout={'attemptDurationSeconds': timeout},\n",
    "        local=local,\n",
    "    )"
   ]
  },
  {
   "cell_type": "code",
   "execution_count": 3,
   "id": "22ef01fa",
   "metadata": {},
   "outputs": [],
   "source": [
    "def sumbit_symmetric_match(a, b, pool, timeout=600, local=False):\n",
    "    submit_match(a, b, pool, side=0, timeout=timeout, local=local)\n",
    "    #submit_match(b, a, pool, side=1, timeout=timeout, local=local)"
   ]
  },
  {
   "cell_type": "code",
   "execution_count": 10,
   "id": "89e254ae",
   "metadata": {},
   "outputs": [],
   "source": [
    "fine_search_space = [0.5, 0.7, 0.9]\n",
    "for i in range(25):\n",
    "    for c in fine_search_space:\n",
    "            player = \"UCTPlayer(%s, td(seconds=5), c=math.sqrt(2)/2)\"\n",
    "            opponent = f\"UCTPlayer(%s, td(seconds=5), c={c:.2f})\"\n",
    "\n",
    "            sumbit_symmetric_match(player, opponent, \"uct-tuning-c-fine\")"
   ]
  },
  {
   "cell_type": "code",
   "execution_count": 9,
   "id": "aac8af0b",
   "metadata": {},
   "outputs": [],
   "source": [
    "fine_search_space = [0.95]\n",
    "for i in range(25):\n",
    "    for c in fine_search_space:\n",
    "            player = \"GreedyUCTPlayer(%s, td(seconds=5), c=math.sqrt(2)/2)\"\n",
    "            opponent = f\"GreedyUCTPlayer(%s, td(seconds=5), c={c:.2f})\"\n",
    "\n",
    "            sumbit_symmetric_match(player, opponent, \"greedy-uct-tuning-c-fine\")"
   ]
  }
 ],
 "metadata": {
  "kernelspec": {
   "display_name": "Python 3",
   "language": "python",
   "name": "python3"
  },
  "language_info": {
   "codemirror_mode": {
    "name": "ipython",
    "version": 3
   },
   "file_extension": ".py",
   "mimetype": "text/x-python",
   "name": "python",
   "nbconvert_exporter": "python",
   "pygments_lexer": "ipython3",
   "version": "3.9.1"
  }
 },
 "nbformat": 4,
 "nbformat_minor": 5
}
