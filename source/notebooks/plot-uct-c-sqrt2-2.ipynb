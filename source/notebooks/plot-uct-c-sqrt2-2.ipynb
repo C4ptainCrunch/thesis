{
 "cells": [
  {
   "cell_type": "code",
   "execution_count": 4,
   "metadata": {},
   "outputs": [
    {
     "name": "stdout",
     "output_type": "stream",
     "text": [
      "Populating the interactive namespace from numpy and matplotlib\n"
     ]
    }
   ],
   "source": [
    "import boto3\n",
    "import time\n",
    "import json\n",
    "\n",
    "session = boto3.Session(profile_name='nikita')\n",
    "log_client = session.client('logs')\n",
    "\n",
    "\n",
    "import numpy as np\n",
    "import math\n",
    "%pylab inline"
   ]
  },
  {
   "cell_type": "code",
   "execution_count": 44,
   "metadata": {},
   "outputs": [],
   "source": [
    "space = [0.5, 1, 1.5, 2]"
   ]
  },
  {
   "cell_type": "markdown",
   "metadata": {},
   "source": [
    "# Query results"
   ]
  },
  {
   "cell_type": "code",
   "execution_count": 6,
   "metadata": {},
   "outputs": [],
   "source": [
    "query = log_client.start_query(\n",
    "    logGroupName='/aws/batch/job',\n",
    "    startTime=0,\n",
    "    endTime=int(time.time()),\n",
    "    queryString=\"\"\"\n",
    "        fields @message\n",
    "        | filter success == 1\n",
    "        | limit 10000\n",
    "    \"\"\",\n",
    "    limit=10000\n",
    ")"
   ]
  },
  {
   "cell_type": "code",
   "execution_count": 7,
   "metadata": {},
   "outputs": [],
   "source": [
    "query_result = {'status': 'Scheduled'}\n",
    "while query_result['status'] in ('Scheduled', 'Running'):\n",
    "    query_result = log_client.get_query_results(queryId=query['queryId'])\n",
    "    time.sleep(1)"
   ]
  },
  {
   "cell_type": "code",
   "execution_count": 36,
   "metadata": {},
   "outputs": [],
   "source": [
    "data = [\n",
    "    json.loads(row[0]['value'])\n",
    "    for row in query_result['results']\n",
    "]"
   ]
  },
  {
   "cell_type": "code",
   "execution_count": 37,
   "metadata": {},
   "outputs": [
    {
     "data": {
      "text/plain": [
       "8006"
      ]
     },
     "execution_count": 37,
     "metadata": {},
     "output_type": "execute_result"
    }
   ],
   "source": [
    "len(data)"
   ]
  },
  {
   "cell_type": "code",
   "execution_count": 38,
   "metadata": {},
   "outputs": [],
   "source": [
    "useful = [x for x in data if x['player'].startswith('UCTPlayer') and x['opponent'].startswith('UCTPlayer') and \"version\" not in x]"
   ]
  },
  {
   "cell_type": "code",
   "execution_count": 39,
   "metadata": {},
   "outputs": [
    {
     "data": {
      "text/plain": [
       "{'player': 'UCTPlayer(0, td(seconds=0.1), c=math.sqrt(2) / 2)',\n",
       " 'opponent': 'UCTPlayer(1, td(seconds=0.1), c=1)',\n",
       " 'duration': 6.3519,\n",
       " 'depth': 61,\n",
       " 'score': [26, 13],\n",
       " 'winner': 0,\n",
       " 'success': True}"
      ]
     },
     "execution_count": 39,
     "metadata": {},
     "output_type": "execute_result"
    }
   ],
   "source": [
    "match"
   ]
  },
  {
   "cell_type": "code",
   "execution_count": 45,
   "metadata": {},
   "outputs": [],
   "source": [
    "from datetime import timedelta as td\n",
    "class UCTPlayer:\n",
    "    def __init__(self, *args, **kwargs):\n",
    "        self.args = args\n",
    "        self.kwargs = kwargs\n",
    "\n",
    "\n",
    "from collections import defaultdict\n",
    "summary = defaultdict(list)\n",
    "\n",
    "for match in useful:\n",
    "    reverse = 'math.sqrt(2) / 2)' in match['opponent']\n",
    "    c = eval(match['player'] if reverse else match['opponent']).kwargs['c']\n",
    "    w = match['winner']\n",
    "    if w is None:\n",
    "        summary[c].append(0.5)\n",
    "    else:\n",
    "        summary[c].append((w + reverse) % 2)"
   ]
  },
  {
   "cell_type": "code",
   "execution_count": 46,
   "metadata": {},
   "outputs": [],
   "source": [
    "ratios = {k: sum(v)/len(v) for k,v in summary.items()}"
   ]
  },
  {
   "cell_type": "code",
   "execution_count": null,
   "metadata": {},
   "outputs": [],
   "source": []
  },
  {
   "cell_type": "code",
   "execution_count": 53,
   "metadata": {},
   "outputs": [
    {
     "data": {
      "image/png": "[encoded data removed]",
      "text/plain": [
       "<Figure size 720x432 with 1 Axes>"
      ]
     },
     "metadata": {
      "needs_background": "light"
     },
     "output_type": "display_data"
    }
   ],
   "source": [
    "plt.figure(figsize=(10, 6))\n",
    "plt.scatter(\n",
    "    list(summary.keys()),\n",
    "    [sum(v)/len(v) for v in summary.values()],\n",
    "    #c=[len(v) for v in summary.values()],\n",
    "    label='win ratio',\n",
    "    s=100\n",
    ")\n",
    "SQRT22 = math.sqrt(2)/2\n",
    "space = list(summary.keys())\n",
    "plt.vlines(SQRT22, 0, 1, linestyles='dashed', label=\"$\\sqrt{2}/2$\", color=\"grey\")\n",
    "plt.hlines(0.5, min(space) , max(space), linestyles='dotted', label=\"0.5 win ratio\", color=\"grey\")\n",
    "plt.legend()\n",
    "#cb = plt.colorbar()\n",
    "#cb.set_label('# of matches', rotation=270)\n",
    "#cb.ax.set_yticklabels([int(i) for i in cb.get_ticks()])\n",
    "#cb.ax.get_yaxis().labelpad = 15\n",
    "\n",
    "plt.ylim(0, 1)\n",
    "\n",
    "plt.title(\"Win ratios of different $c$ values against $c = \\sqrt{2}/2$\");\n",
    "plt.xlabel(\"Opponent's value of $c$\")\n",
    "plt.ylabel(\"Opponent's win ratio\");\n",
    "\n",
    "plt.savefig(\"uct-value.png\")"
   ]
  },
  {
   "cell_type": "code",
   "execution_count": 50,
   "metadata": {},
   "outputs": [
    {
     "data": {
      "text/plain": [
       "2.121320343559643"
      ]
     },
     "execution_count": 50,
     "metadata": {},
     "output_type": "execute_result"
    }
   ],
   "source": [
    "max(list(summary.keys()))"
   ]
  },
  {
   "cell_type": "code",
   "execution_count": null,
   "metadata": {},
   "outputs": [],
   "source": []
  }
 ],
 "metadata": {
  "kernelspec": {
   "display_name": "Python 3",
   "language": "python",
   "name": "python3"
  },
  "language_info": {
   "codemirror_mode": {
    "name": "ipython",
    "version": 3
   },
   "file_extension": ".py",
   "mimetype": "text/x-python",
   "name": "python",
   "nbconvert_exporter": "python",
   "pygments_lexer": "ipython3",
   "version": "3.9.0"
  }
 },
 "nbformat": 4,
 "nbformat_minor": 2
}
