{
 "cells": [
  {
   "cell_type": "raw",
   "metadata": {},
   "source": [
    ".. contents:: Table of Contents\n",
    "   :depth: 3\n",
    "\n",
    ".. sectnum::"
   ]
  },
  {
   "cell_type": "raw",
   "metadata": {},
   "source": [
    "============\n",
    "Introduction\n",
    "============\n",
    "\n",
    "Awale is a popular board game played mainly in Africa. The board has two rows of six pits, each containing four seeds in the initial state.\n",
    "\n",
    "\n",
    ".. figure:: /_static/awale.jpg\n",
    "\n",
    "   A typical Awalé board in the initial state.\n",
    "\t\n",
    "At each turn, the players move some seeds and can potentially capture some of them, according to deterministic rules. The goal of the game is to capture more seeds than one's opponent. \n",
    "\n",
    ".. todo:: Texte expliquant ce que je vais faire dans mon memoire et pourquoi c'est interessant, pourquoi c'est nouveau\n",
    "\n",
    "In Section 2, we present Awale in detail.\n",
    "Section 3 reviews various approaches to solve Awale: retrograde analysis, Minimax, and basic Monte Carlo Tree Search.\n",
    "In Section 4, we described more advanced versions of MCTS and in particular UCT.\n",
    "Section 5 presents some empirical results (simulations) allowing to compare several MCTS algorithms and Section 6 concludes."
   ]
  },
  {
   "cell_type": "raw",
   "metadata": {},
   "source": [
    "=====\n",
    "Awale\n",
    "=====\n",
    "\n",
    "The subject of our study, Awale is an ancient, two player board game originating from Ghana.\n",
    "This game is also sometimes called Awele, Oware, Owari or Ayo in the neighouring countries, languages and cultures :cite:`crane1982`.\n",
    "\n",
    "Originally, the game is played on the ground, by digging two rows of six small pits, each containing\n",
    "stones, seeds or shells. In the present document, we will name them seeds. The game is also often played on a wooden board symbolizing the original dirt pits.\n",
    "The board can be schematized as in Fig. YYY, every big circle representing a pit and every small disc representing a seed.\n",
    "Numbers at the bottom right of each pit are the counts of seeds in each pit for better readability.\n",
    "Each row of pits is owned by a player that sits in front of it (:numref:`see Fig. %s <intro-kalah>`).\n",
    "For the sake of convenience, the players are named North and South.   \n",
    "The 6 pits from the top row belong to North and the 6 from the bottom to South.\n",
    "\n",
    "The players take turns, a player removing all the seeds from a pit and placing them in other pits following the rules. This is called sowing the seeds. This can result in a configuration in which the player is allowed to capture some seeds according to the rules.\n",
    "The goal for each player is to capture more seeds than his opponent.\n",
    "The rules vary slightly across countries and will be detailed in Section XXX."
   ]
  },
  {
   "cell_type": "code",
   "execution_count": 1,
   "metadata": {
    "scrolled": true,
    "tags": [
     "ha"
    ]
   },
   "outputs": [
    {
     "name": "stdout",
     "output_type": "stream",
     "text": [
      "importing Jupyter notebook from /home/nikita/Code/Thesis/source/lib/draw.ipynb\n"
     ]
    }
   ],
   "source": [
    "import numpy as np\n",
    "import import_ipynb\n",
    "from lib.draw import board_to_svg\n",
    "from IPython.display import SVG"
   ]
  },
  {
   "cell_type": "code",
   "execution_count": 2,
   "metadata": {
    "tags": [
     "hc",
     "fig:initial_board"
    ]
   },
   "outputs": [
    {
     "data": {
      "image/svg+xml": [
       "<svg height=\"240\" width=\"700\">\n",
       "      <style>\n",
       "        circle {\n",
       "          fill: none;\n",
       "          stroke: #000;\n",
       "          stroke-width: 2;\n",
       "        }\n",
       "        .bean {\n",
       "          fill: #000\n",
       "        }\n",
       "        .highlight {\n",
       "          stroke: red;\n",
       "        }\n",
       "      </style>\n",
       "\n",
       "      <circle cx=\"48.0\" cy=\"48.0\" r=\"40\"/><text x=\"82.0\" y=\"82.0\">4</text><circle cx=\"136.0\" cy=\"48.0\" r=\"40\"/><text x=\"170.0\" y=\"82.0\">4</text><circle cx=\"224.0\" cy=\"48.0\" r=\"40\"/><text x=\"258.0\" y=\"82.0\">4</text><circle cx=\"312.0\" cy=\"48.0\" r=\"40\"/><text x=\"346.0\" y=\"82.0\">4</text><circle cx=\"400.0\" cy=\"48.0\" r=\"40\"/><text x=\"434.0\" y=\"82.0\">4</text><circle cx=\"488.0\" cy=\"48.0\" r=\"40\"/><text x=\"522.0\" y=\"82.0\">4</text><circle cx=\"48.0\" cy=\"136.0\" r=\"40\"/><text x=\"82.0\" y=\"170.0\">4</text><circle cx=\"136.0\" cy=\"136.0\" r=\"40\"/><text x=\"170.0\" y=\"170.0\">4</text><circle cx=\"224.0\" cy=\"136.0\" r=\"40\"/><text x=\"258.0\" y=\"170.0\">4</text><circle cx=\"312.0\" cy=\"136.0\" r=\"40\"/><text x=\"346.0\" y=\"170.0\">4</text><circle cx=\"400.0\" cy=\"136.0\" r=\"40\"/><text x=\"434.0\" y=\"170.0\">4</text><circle cx=\"488.0\" cy=\"136.0\" r=\"40\"/><text x=\"522.0\" y=\"170.0\">4</text>\n",
       "      <circle class=\"bean\" cx=\"48.85836403286615\" cy=\"58.35679541108551\" r=\"4\"/><circle class=\"bean\" cx=\"58.35679541108551\" cy=\"47.14163596713385\" r=\"4\"/><circle class=\"bean\" cx=\"47.14163596713385\" cy=\"37.64320458891449\" r=\"4\"/><circle class=\"bean\" cx=\"37.64320458891449\" cy=\"48.85836403286614\" r=\"4\"/><circle class=\"bean\" cx=\"143.50672002880464\" cy=\"40.813265386203334\" r=\"4\"/><circle class=\"bean\" cx=\"128.81326538620334\" cy=\"40.49327997119535\" r=\"4\"/><circle class=\"bean\" cx=\"128.49327997119534\" cy=\"55.186734613796666\" r=\"4\"/><circle class=\"bean\" cx=\"143.18673461379666\" cy=\"55.50672002880465\" r=\"4\"/><circle class=\"bean\" cx=\"226.30548200993613\" cy=\"37.866651456608196\" r=\"4\"/><circle class=\"bean\" cx=\"213.8666514566082\" cy=\"45.694517990063865\" r=\"4\"/><circle class=\"bean\" cx=\"221.69451799006387\" cy=\"58.133348543391804\" r=\"4\"/><circle class=\"bean\" cx=\"234.1333485433918\" cy=\"50.30548200993614\" r=\"4\"/><circle class=\"bean\" cx=\"321.1665457581702\" cy=\"43.10363003201638\" r=\"4\"/><circle class=\"bean\" cx=\"307.1036300320164\" cy=\"38.8334542418298\" r=\"4\"/><circle class=\"bean\" cx=\"302.8334542418298\" cy=\"52.89636996798362\" r=\"4\"/><circle class=\"bean\" cx=\"316.8963699679836\" cy=\"57.1665457581702\" r=\"4\"/><circle class=\"bean\" cx=\"409.7963529305525\" cy=\"44.53135916243028\" r=\"4\"/><circle class=\"bean\" cx=\"396.5313591624303\" cy=\"38.20364706944755\" r=\"4\"/><circle class=\"bean\" cx=\"390.2036470694475\" cy=\"51.46864083756972\" r=\"4\"/><circle class=\"bean\" cx=\"403.4686408375697\" cy=\"57.79635293055245\" r=\"4\"/><circle class=\"bean\" cx=\"492.8571357352154\" cy=\"38.812604697211874\" r=\"4\"/><circle class=\"bean\" cx=\"478.8126046972119\" cy=\"43.14286426478457\" r=\"4\"/><circle class=\"bean\" cx=\"483.1428642647846\" cy=\"57.18739530278812\" r=\"4\"/><circle class=\"bean\" cx=\"497.1873953027881\" cy=\"52.85713573521543\" r=\"4\"/><circle class=\"bean\" cx=\"58.12951251104093\" cy=\"133.67772174607234\" r=\"4\"/><circle class=\"bean\" cx=\"45.67772174607235\" cy=\"125.87048748895907\" r=\"4\"/><circle class=\"bean\" cx=\"37.87048748895907\" cy=\"138.32227825392766\" r=\"4\"/><circle class=\"bean\" cx=\"50.32227825392765\" cy=\"146.12951251104093\" r=\"4\"/><circle class=\"bean\" cx=\"146.1732497623241\" cy=\"133.87750399920924\" r=\"4\"/><circle class=\"bean\" cx=\"133.87750399920924\" cy=\"125.82675023767591\" r=\"4\"/><circle class=\"bean\" cx=\"125.82675023767591\" cy=\"138.12249600079076\" r=\"4\"/><circle class=\"bean\" cx=\"138.12249600079076\" cy=\"146.1732497623241\" r=\"4\"/><circle class=\"bean\" cx=\"224.33505797313063\" cy=\"146.38690214427004\" r=\"4\"/><circle class=\"bean\" cx=\"234.38690214427004\" cy=\"135.66494202686937\" r=\"4\"/><circle class=\"bean\" cx=\"223.66494202686937\" cy=\"125.61309785572996\" r=\"4\"/><circle class=\"bean\" cx=\"213.61309785572996\" cy=\"136.33505797313066\" r=\"4\"/><circle class=\"bean\" cx=\"315.9457395496971\" cy=\"126.3858885274844\" r=\"4\"/><circle class=\"bean\" cx=\"302.3858885274844\" cy=\"132.0542604503029\" r=\"4\"/><circle class=\"bean\" cx=\"308.0542604503029\" cy=\"145.6141114725156\" r=\"4\"/><circle class=\"bean\" cx=\"321.6141114725156\" cy=\"139.9457395496971\" r=\"4\"/><circle class=\"bean\" cx=\"407.39593723677365\" cy=\"143.30069259657637\" r=\"4\"/><circle class=\"bean\" cx=\"407.30069259657637\" cy=\"128.60406276322635\" r=\"4\"/><circle class=\"bean\" cx=\"392.60406276322635\" cy=\"128.69930740342363\" r=\"4\"/><circle class=\"bean\" cx=\"392.69930740342363\" cy=\"143.39593723677365\" r=\"4\"/><circle class=\"bean\" cx=\"490.2003511185129\" cy=\"146.15669508035262\" r=\"4\"/><circle class=\"bean\" cx=\"498.1566950803526\" cy=\"133.7996488814871\" r=\"4\"/><circle class=\"bean\" cx=\"485.7996488814871\" cy=\"125.8433049196474\" r=\"4\"/><circle class=\"bean\" cx=\"477.8433049196474\" cy=\"138.2003511185129\" r=\"4\"/>\n",
       "    </svg>"
      ],
      "text/plain": [
       "<IPython.core.display.SVG object>"
      ]
     },
     "execution_count": 2,
     "metadata": {},
     "output_type": "execute_result"
    }
   ],
   "source": [
    "board = np.full((2, 6), 4)\n",
    "SVG(board_to_svg(board, True))"
   ]
  },
  {
   "cell_type": "raw",
   "metadata": {},
   "source": [
    "Mancala\n",
    "-------\n",
    "\n",
    "The Mancala games are an ancient family of game that are played on many continents :cite:`deVoogt2008`, Awale being one of them.\n",
    "The word mancala comes from the Arabic word \"نقلة\", transliterated as \"naqala\" and literally meaning \"to move\". \n",
    "\n",
    "Like Awale, Mancala games can consist of rows of pits, some of them having more than two rows and sometimes extra pits with a special role. Mancala games can sometimes be played by more than two players.\n",
    "\n",
    ".. _intro-kalah:\n",
    "\n",
    ".. figure:: _static/intro-kalah.jpg\n",
    "\n",
    "  A wooden Mancala game [#source_kalah]_\n",
    "\n",
    "There are too many variants of the Mancala games to list them all here, but a\n",
    "few notable ones are Awale, Wari, Bao, Congkak and Kalah.\n",
    "\n",
    "In particular, Kalah is a commercial, modern variant of Mancala, introduced in the 1950s by William Julius Champion Jr., that is widespread in the United States. :cite:`irving2000solving`. This variant has been studied in Artifical Intelligence as early as 1964 by :cite:`russel1964`.\n",
    "Nowadays, Kalah is often used as an example game in computer-science courses.\n",
    "\n",
    "Mancala games in general, while less known than Chess or Go, are quite popular and\n",
    "are played in tournaments around the world, both in offline and online competitions :cite:`owaresociety,fandom_tournaments`.\n",
    "\n",
    "Mancala games have also been studied in Computer Science and Artificial Intelligence :cite:`deVoogt2008`. Tournaments opposing computers on both sides have been organised multiple times, notably in the Computer Olympiad organized by the International Computer Games Association :cite:`icga_olympiad`.\n"
   ]
  },
  {
   "cell_type": "raw",
   "metadata": {},
   "source": [
    "Rules of the game\n",
    "-----------------\n",
    "\n",
    "The basic rules of Awale are the same everywhere but there are still minor differences around the globe and in the leterature.\n",
    "The rules presented here and implemented later in this thesis are inspired from :cite:`goot2001` and adapted by us.\n",
    "\n",
    "The goal for both players is to capture more seeds than its opponent. As the\n",
    "game has 48 seeds, capturing 25 is enough for a player to win and ends the game.\n",
    "\n",
    "Each player plays alternatively, without the right to pass his turn. A\n",
    "player's turn consists in choosing one of his non-empty pits, picking all seeds\n",
    "contained in the pit and sowing them one by one in every consecutive pits on the right\n",
    "(rotating counter-clockwise). The player thus has at most 6 possible moves at\n",
    "each turn (one per non-empty pit owned by him).\n",
    "\n",
    "Usually, the player that starts the game is the oldest player. In this work, South will always starts playing.\n",
    "\n",
    "In this work, the pits of a player are numbered left to right from his point of view as shown in Fig. YYY. :math:`1` being the leftmost pit of South, until :math:`6` at the far right. The same holds for North: :math:`1'` to :math:`6'`.\n",
    "\n",
    ".. todo:: Insert figure with the pit numbering\n",
    "\n",
    "As an example, if we are in the initial state (showed inf Fig. `initial_board` YYY), the first player to move is South (on the bottom) and he plays :math:`4` (highlighted in the figure in red), the board will then be in the  state shown in Fig. `first_move` YYY."
   ]
  },
  {
   "cell_type": "code",
   "execution_count": 3,
   "metadata": {
    "tags": [
     "hc",
     "fig:first_move"
    ]
   },
   "outputs": [
    {
     "data": {
      "image/svg+xml": [
       "<svg height=\"240\" width=\"700\">\n",
       "      <style>\n",
       "        circle {\n",
       "          fill: none;\n",
       "          stroke: #000;\n",
       "          stroke-width: 2;\n",
       "        }\n",
       "        .bean {\n",
       "          fill: #000\n",
       "        }\n",
       "        .highlight {\n",
       "          stroke: red;\n",
       "        }\n",
       "      </style>\n",
       "\n",
       "      <circle cx=\"48.0\" cy=\"48.0\" r=\"40\"/><text x=\"82.0\" y=\"82.0\">4</text><circle cx=\"136.0\" cy=\"48.0\" r=\"40\"/><text x=\"170.0\" y=\"82.0\">4</text><circle cx=\"224.0\" cy=\"48.0\" r=\"40\"/><text x=\"258.0\" y=\"82.0\">4</text><circle cx=\"312.0\" cy=\"48.0\" r=\"40\"/><text x=\"346.0\" y=\"82.0\">4</text><circle cx=\"400.0\" cy=\"48.0\" r=\"40\"/><text x=\"434.0\" y=\"82.0\">5</text><circle cx=\"488.0\" cy=\"48.0\" r=\"40\"/><text x=\"522.0\" y=\"82.0\">5</text><circle cx=\"48.0\" cy=\"136.0\" r=\"40\"/><text x=\"82.0\" y=\"170.0\">4</text><circle cx=\"136.0\" cy=\"136.0\" r=\"40\"/><text x=\"170.0\" y=\"170.0\">4</text><circle cx=\"224.0\" cy=\"136.0\" r=\"40\"/><text x=\"258.0\" y=\"170.0\">4</text><circle class=\"highlight\" cx=\"312.0\" cy=\"136.0\" r=\"40\"/><text x=\"346.0\" y=\"170.0\">0</text><circle cx=\"400.0\" cy=\"136.0\" r=\"40\"/><text x=\"434.0\" y=\"170.0\">5</text><circle cx=\"488.0\" cy=\"136.0\" r=\"40\"/><text x=\"522.0\" y=\"170.0\">5</text>\n",
       "      <circle class=\"bean\" cx=\"57.11575270219412\" cy=\"52.99029585019171\" r=\"4\"/><circle class=\"bean\" cx=\"52.99029585019171\" cy=\"38.88424729780588\" r=\"4\"/><circle class=\"bean\" cx=\"38.88424729780588\" cy=\"43.00970414980829\" r=\"4\"/><circle class=\"bean\" cx=\"43.00970414980829\" cy=\"57.11575270219412\" r=\"4\"/><circle class=\"bean\" cx=\"137.16690666170632\" cy=\"37.673416400238395\" r=\"4\"/><circle class=\"bean\" cx=\"125.6734164002384\" cy=\"46.833093338293686\" r=\"4\"/><circle class=\"bean\" cx=\"134.83309333829368\" cy=\"58.326583599761605\" r=\"4\"/><circle class=\"bean\" cx=\"146.32658359976162\" cy=\"49.166906661706314\" r=\"4\"/><circle class=\"bean\" cx=\"226.99549657990767\" cy=\"57.95123109166707\" r=\"4\"/><circle class=\"bean\" cx=\"233.95123109166707\" cy=\"45.00450342009232\" r=\"4\"/><circle class=\"bean\" cx=\"221.00450342009233\" cy=\"38.04876890833293\" r=\"4\"/><circle class=\"bean\" cx=\"214.04876890833293\" cy=\"50.99549657990767\" r=\"4\"/><circle class=\"bean\" cx=\"314.74925141379435\" cy=\"58.02205650870866\" r=\"4\"/><circle class=\"bean\" cx=\"322.02205650870866\" cy=\"45.25074858620562\" r=\"4\"/><circle class=\"bean\" cx=\"309.25074858620565\" cy=\"37.97794349129134\" r=\"4\"/><circle class=\"bean\" cx=\"301.97794349129134\" cy=\"50.74925141379438\" r=\"4\"/><circle class=\"bean\" cx=\"408.9668351627827\" cy=\"40.0252983025392\" r=\"4\"/><circle class=\"bean\" cx=\"395.1865124361786\" cy=\"37.0077146383049\" r=\"4\"/><circle class=\"bean\" cx=\"388.05826591835074\" cy=\"49.181095729895304\" r=\"4\"/><circle class=\"bean\" cx=\"397.4330900167492\" cy=\"59.72224266673776\" r=\"4\"/><circle class=\"bean\" cx=\"410.3552964659388\" cy=\"54.063648662522844\" r=\"4\"/><circle class=\"bean\" cx=\"493.53925555625153\" cy=\"58.64502925700706\" r=\"4\"/><circle class=\"bean\" cx=\"499.8357485440967\" cy=\"46.021349853836526\" r=\"4\"/><circle class=\"bean\" cx=\"489.77563932629727\" cy=\"36.13209770081896\" r=\"4\"/><circle class=\"bean\" cx=\"477.261656911316\" cy=\"42.643883150106575\" r=\"4\"/><circle class=\"bean\" cx=\"479.58769966203846\" cy=\"56.55764003823088\" r=\"4\"/><circle class=\"bean\" cx=\"58.173569275798364\" cy=\"138.1209639767171\" r=\"4\"/><circle class=\"bean\" cx=\"50.1209639767171\" cy=\"125.82643072420164\" r=\"4\"/><circle class=\"bean\" cx=\"37.82643072420164\" cy=\"133.8790360232829\" r=\"4\"/><circle class=\"bean\" cx=\"45.8790360232829\" cy=\"146.17356927579837\" r=\"4\"/><circle class=\"bean\" cx=\"146.3735869880095\" cy=\"135.37654751407965\" r=\"4\"/><circle class=\"bean\" cx=\"135.37654751407965\" cy=\"125.62641301199051\" r=\"4\"/><circle class=\"bean\" cx=\"125.62641301199051\" cy=\"136.62345248592035\" r=\"4\"/><circle class=\"bean\" cx=\"136.62345248592035\" cy=\"146.3735869880095\" r=\"4\"/><circle class=\"bean\" cx=\"225.52348957600205\" cy=\"146.2800281863336\" r=\"4\"/><circle class=\"bean\" cx=\"234.2800281863336\" cy=\"134.47651042399795\" r=\"4\"/><circle class=\"bean\" cx=\"222.47651042399795\" cy=\"125.7199718136664\" r=\"4\"/><circle class=\"bean\" cx=\"213.7199718136664\" cy=\"137.52348957600205\" r=\"4\"/><circle class=\"bean\" cx=\"411.9862385570795\" cy=\"136.57453046288333\" r=\"4\"/><circle class=\"bean\" cx=\"404.25036235330504\" cy=\"124.77794939123838\" r=\"4\"/><circle class=\"bean\" cx=\"390.64062984176604\" cy=\"128.48986083743054\" r=\"4\"/><circle class=\"bean\" cx=\"389.96522877561483\" cy=\"142.58052934605203\" r=\"4\"/><circle class=\"bean\" cx=\"403.1575404722346\" cy=\"147.57712996239573\" r=\"4\"/><circle class=\"bean\" cx=\"498.3182578962668\" cy=\"129.87353658411902\" r=\"4\"/><circle class=\"bean\" cx=\"485.36190408877246\" cy=\"124.29357228001794\" r=\"4\"/><circle class=\"bean\" cx=\"476.05130916501247\" cy=\"134.89149319808814\" r=\"4\"/><circle class=\"bean\" cx=\"483.25339885414087\" cy=\"147.02133283964008\" r=\"4\"/><circle class=\"bean\" cx=\"497.0151299958074\" cy=\"143.92006509813484\" r=\"4\"/>\n",
       "    </svg>"
      ],
      "text/plain": [
       "<IPython.core.display.SVG object>"
      ]
     },
     "execution_count": 3,
     "metadata": {},
     "output_type": "execute_result"
    }
   ],
   "source": [
    "board = np.array([\n",
    "    [4, 4, 4, 4, 5, 5],\n",
    "    [4, 4, 4, 0, 5, 5],\n",
    "])\n",
    "SVG(board_to_svg(board, True,highlight=[(1, 3)]))"
   ]
  },
  {
   "cell_type": "raw",
   "metadata": {},
   "source": [
    "When the last sowed seed is placed in a pit owned by the opponent and, after sowing,\n",
    "the pit contains two or three seeds, the content of the pit is captured by\n",
    "the player and removed from the game. If the pit preceding the captured pit also\n",
    "contains two or three seeds, it is also captured. The capture continues until a\n",
    "pit without two or three seeds is encountered. When the capture is ended the\n",
    "next player's turn starts.\n",
    "\n",
    "Otherwise, when the last sowed seed is placed in a pit that, after sowing, contains one seed, more\n",
    "than 3 seeds or in the current player's own pits, the turn of the player is ended without\n",
    "any capture.\n",
    "For example, if South plays :math:`4` in the configuration shown in Fig. `pre_capture` YYY he will\n",
    "be able to capture the opponent's 2nd and 3rd pits (:math:`2'` and :math:`3'` highlighted in red in Fig. `post_capture` YYY)."
   ]
  },
  {
   "cell_type": "code",
   "execution_count": 4,
   "metadata": {
    "tags": [
     "hc",
     "fig:pre_capture"
    ]
   },
   "outputs": [
    {
     "data": {
      "image/svg+xml": [
       "<svg height=\"240\" width=\"700\">\n",
       "      <style>\n",
       "        circle {\n",
       "          fill: none;\n",
       "          stroke: #000;\n",
       "          stroke-width: 2;\n",
       "        }\n",
       "        .bean {\n",
       "          fill: #000\n",
       "        }\n",
       "        .highlight {\n",
       "          stroke: red;\n",
       "        }\n",
       "      </style>\n",
       "\n",
       "      <circle cx=\"48.0\" cy=\"48.0\" r=\"40\"/><text x=\"82.0\" y=\"82.0\">4</text><circle cx=\"136.0\" cy=\"48.0\" r=\"40\"/><text x=\"170.0\" y=\"82.0\">6</text><circle cx=\"224.0\" cy=\"48.0\" r=\"40\"/><text x=\"258.0\" y=\"82.0\">4</text><circle cx=\"312.0\" cy=\"48.0\" r=\"40\"/><text x=\"346.0\" y=\"82.0\">1</text><circle cx=\"400.0\" cy=\"48.0\" r=\"40\"/><text x=\"434.0\" y=\"82.0\">2</text><circle cx=\"488.0\" cy=\"48.0\" r=\"40\"/><text x=\"522.0\" y=\"82.0\">3</text><circle cx=\"48.0\" cy=\"136.0\" r=\"40\"/><text x=\"82.0\" y=\"170.0\">3</text><circle cx=\"136.0\" cy=\"136.0\" r=\"40\"/><text x=\"170.0\" y=\"170.0\">3</text><circle cx=\"224.0\" cy=\"136.0\" r=\"40\"/><text x=\"258.0\" y=\"170.0\">3</text><circle class=\"highlight\" cx=\"312.0\" cy=\"136.0\" r=\"40\"/><text x=\"346.0\" y=\"170.0\">5</text><circle cx=\"400.0\" cy=\"136.0\" r=\"40\"/><text x=\"434.0\" y=\"170.0\">2</text><circle cx=\"488.0\" cy=\"136.0\" r=\"40\"/><text x=\"522.0\" y=\"170.0\">2</text>\n",
       "      <circle class=\"bean\" cx=\"51.66865095435161\" cy=\"57.72321964038328\" r=\"4\"/><circle class=\"bean\" cx=\"57.72321964038328\" cy=\"44.331349045648395\" r=\"4\"/><circle class=\"bean\" cx=\"44.33134904564839\" cy=\"38.27678035961673\" r=\"4\"/><circle class=\"bean\" cx=\"38.27678035961672\" cy=\"51.66865095435161\" r=\"4\"/><circle class=\"bean\" cx=\"144.62966814026612\" cy=\"58.272722511042346\" r=\"4\"/><circle class=\"bean\" cx=\"149.211272730724\" cy=\"45.66284941982151\" r=\"4\"/><circle class=\"bean\" cx=\"140.58160459045789\" cy=\"35.390126908779166\" r=\"4\"/><circle class=\"bean\" cx=\"127.3703318597339\" cy=\"37.727277488957654\" r=\"4\"/><circle class=\"bean\" cx=\"122.78872726927601\" cy=\"50.33715058017848\" r=\"4\"/><circle class=\"bean\" cx=\"131.41839540954211\" cy=\"60.609873091220834\" r=\"4\"/><circle class=\"bean\" cx=\"232.5704332462671\" cy=\"53.87772693915595\" r=\"4\"/><circle class=\"bean\" cx=\"229.87772693915593\" cy=\"39.4295667537329\" r=\"4\"/><circle class=\"bean\" cx=\"215.4295667537329\" cy=\"42.12227306084405\" r=\"4\"/><circle class=\"bean\" cx=\"218.12227306084407\" cy=\"56.5704332462671\" r=\"4\"/><circle class=\"bean\" cx=\"312.0\" cy=\"48.0\" r=\"4\"/><circle class=\"bean\" cx=\"405.02862140254166\" cy=\"51.27306687831151\" r=\"4\"/><circle class=\"bean\" cx=\"394.97137859745834\" cy=\"44.72693312168849\" r=\"4\"/><circle class=\"bean\" cx=\"492.43690236593\" cy=\"55.23283467218798\" r=\"4\"/><circle class=\"bean\" cx=\"492.04536738452265\" cy=\"40.54111250089933\" r=\"4\"/><circle class=\"bean\" cx=\"479.5177302495473\" cy=\"48.226052826912685\" r=\"4\"/><circle class=\"bean\" cx=\"52.119940438868625\" cy=\"143.4179573185733\" r=\"4\"/><circle class=\"bean\" cx=\"52.36416926263885\" cy=\"128.72304825857432\" r=\"4\"/><circle class=\"bean\" cx=\"39.51589029849252\" cy=\"135.8589944228524\" r=\"4\"/><circle class=\"bean\" cx=\"144.2075341075704\" cy=\"133.84677361314039\" r=\"4\"/><circle class=\"bean\" cx=\"130.0314841950954\" cy=\"129.9686801538466\" r=\"4\"/><circle class=\"bean\" cx=\"133.7609816973342\" cy=\"144.184546233013\" r=\"4\"/><circle class=\"bean\" cx=\"232.48297911623112\" cy=\"136.197649471506\" r=\"4\"/><circle class=\"bean\" cx=\"219.9296799052532\" cy=\"128.55469984981798\" r=\"4\"/><circle class=\"bean\" cx=\"219.58734097851567\" cy=\"143.24765067867602\" r=\"4\"/><circle class=\"bean\" cx=\"322.1206951529276\" cy=\"142.44759874848825\" r=\"4\"/><circle class=\"bean\" cx=\"321.25949760134904\" cy=\"128.3670645115649\" r=\"4\"/><circle class=\"bean\" cx=\"307.6019890834542\" cy=\"124.83498768572359\" r=\"4\"/><circle class=\"bean\" cx=\"300.0223821693326\" cy=\"136.73257839340116\" r=\"4\"/><circle class=\"bean\" cx=\"308.99543599293656\" cy=\"147.61777066082212\" r=\"4\"/><circle class=\"bean\" cx=\"402.90163864226326\" cy=\"130.74828664246374\" r=\"4\"/><circle class=\"bean\" cx=\"397.09836135773674\" cy=\"141.25171335753626\" r=\"4\"/><circle class=\"bean\" cx=\"492.43837701281603\" cy=\"140.03742609741727\" r=\"4\"/><circle class=\"bean\" cx=\"483.56162298718397\" cy=\"131.96257390258273\" r=\"4\"/>\n",
       "    </svg>"
      ],
      "text/plain": [
       "<IPython.core.display.SVG object>"
      ]
     },
     "execution_count": 4,
     "metadata": {},
     "output_type": "execute_result"
    }
   ],
   "source": [
    "board = np.array([\n",
    "    [4, 6, 4, 1, 2, 3],\n",
    "    [3, 3, 3, 5, 2, 2],\n",
    "])\n",
    "SVG(board_to_svg(board, True,highlight=[(1, 3)]))"
   ]
  },
  {
   "cell_type": "code",
   "execution_count": 5,
   "metadata": {
    "scrolled": true,
    "tags": [
     "hc",
     "fig:post_capture"
    ]
   },
   "outputs": [
    {
     "data": {
      "image/svg+xml": [
       "<svg height=\"240\" width=\"700\">\n",
       "      <style>\n",
       "        circle {\n",
       "          fill: none;\n",
       "          stroke: #000;\n",
       "          stroke-width: 2;\n",
       "        }\n",
       "        .bean {\n",
       "          fill: #000\n",
       "        }\n",
       "        .highlight {\n",
       "          stroke: red;\n",
       "        }\n",
       "      </style>\n",
       "\n",
       "      <circle cx=\"48.0\" cy=\"48.0\" r=\"40\"/><text x=\"82.0\" y=\"82.0\">4</text><circle cx=\"136.0\" cy=\"48.0\" r=\"40\"/><text x=\"170.0\" y=\"82.0\">6</text><circle cx=\"224.0\" cy=\"48.0\" r=\"40\"/><text x=\"258.0\" y=\"82.0\">4</text><circle class=\"highlight\" cx=\"312.0\" cy=\"48.0\" r=\"40\"/><text x=\"346.0\" y=\"82.0\">2</text><circle class=\"highlight\" cx=\"400.0\" cy=\"48.0\" r=\"40\"/><text x=\"434.0\" y=\"82.0\">3</text><circle cx=\"488.0\" cy=\"48.0\" r=\"40\"/><text x=\"522.0\" y=\"82.0\">4</text><circle cx=\"48.0\" cy=\"136.0\" r=\"40\"/><text x=\"82.0\" y=\"170.0\">3</text><circle cx=\"136.0\" cy=\"136.0\" r=\"40\"/><text x=\"170.0\" y=\"170.0\">3</text><circle cx=\"224.0\" cy=\"136.0\" r=\"40\"/><text x=\"258.0\" y=\"170.0\">3</text><circle cx=\"312.0\" cy=\"136.0\" r=\"40\"/><text x=\"346.0\" y=\"170.0\">0</text><circle cx=\"400.0\" cy=\"136.0\" r=\"40\"/><text x=\"434.0\" y=\"170.0\">3</text><circle cx=\"488.0\" cy=\"136.0\" r=\"40\"/><text x=\"522.0\" y=\"170.0\">3</text>\n",
       "      <circle class=\"bean\" cx=\"48.6788653218035\" cy=\"58.370108093691826\" r=\"4\"/><circle class=\"bean\" cx=\"58.370108093691826\" cy=\"47.3211346781965\" r=\"4\"/><circle class=\"bean\" cx=\"47.3211346781965\" cy=\"37.629891906308174\" r=\"4\"/><circle class=\"bean\" cx=\"37.629891906308174\" cy=\"48.6788653218035\" r=\"4\"/><circle class=\"bean\" cx=\"148.50876231013848\" cy=\"43.14913765723466\" r=\"4\"/><circle class=\"bean\" cx=\"138.05341113597316\" cy=\"34.74166289813608\" r=\"4\"/><circle class=\"bean\" cx=\"125.54464882583468\" cy=\"39.59252524090141\" r=\"4\"/><circle class=\"bean\" cx=\"123.4912376898615\" cy=\"52.85086234276533\" r=\"4\"/><circle class=\"bean\" cx=\"133.94658886402684\" cy=\"61.25833710186392\" r=\"4\"/><circle class=\"bean\" cx=\"146.45535117416534\" cy=\"56.40747475909858\" r=\"4\"/><circle class=\"bean\" cx=\"225.336843269307\" cy=\"58.30596187035973\" r=\"4\"/><circle class=\"bean\" cx=\"234.30596187035974\" cy=\"46.66315673069301\" r=\"4\"/><circle class=\"bean\" cx=\"222.663156730693\" cy=\"37.69403812964027\" r=\"4\"/><circle class=\"bean\" cx=\"213.69403812964026\" cy=\"49.33684326930698\" r=\"4\"/><circle class=\"bean\" cx=\"312.18797563326217\" cy=\"42.002945292787494\" r=\"4\"/><circle class=\"bean\" cx=\"311.81202436673783\" cy=\"53.997054707212506\" r=\"4\"/><circle class=\"bean\" cx=\"405.238589916144\" cy=\"41.324883844420825\" r=\"4\"/><circle class=\"bean\" cx=\"391.5998848779845\" cy=\"46.80080613039987\" r=\"4\"/><circle class=\"bean\" cx=\"403.1615252058715\" cy=\"55.874310025179305\" r=\"4\"/><circle class=\"bean\" cx=\"495.6460754881597\" cy=\"40.96170975098613\" r=\"4\"/><circle class=\"bean\" cx=\"480.96170975098613\" cy=\"40.35392451184032\" r=\"4\"/><circle class=\"bean\" cx=\"480.3539245118403\" cy=\"55.03829024901386\" r=\"4\"/><circle class=\"bean\" cx=\"495.03829024901387\" cy=\"55.64607548815969\" r=\"4\"/><circle class=\"bean\" cx=\"50.740922304804826\" cy=\"127.96959870747274\" r=\"4\"/><circle class=\"bean\" cx=\"39.67500732568559\" cy=\"137.64149230050324\" r=\"4\"/><circle class=\"bean\" cx=\"53.584070369509575\" cy=\"142.388908992024\" r=\"4\"/><circle class=\"bean\" cx=\"143.32411439790647\" cy=\"140.2845476174713\" r=\"4\"/><circle class=\"bean\" cx=\"136.048469881501\" cy=\"127.51485706245397\" r=\"4\"/><circle class=\"bean\" cx=\"128.62741572059252\" cy=\"140.2005953200747\" r=\"4\"/><circle class=\"bean\" cx=\"231.74856738141122\" cy=\"139.458280430464\" r=\"4\"/><circle class=\"bean\" cx=\"223.1206750154868\" cy=\"127.56040358953044\" r=\"4\"/><circle class=\"bean\" cx=\"217.130757603102\" cy=\"140.9813159800056\" r=\"4\"/><circle class=\"bean\" cx=\"408.29901291185763\" cy=\"137.76815855873292\" r=\"4\"/><circle class=\"bean\" cx=\"397.38176377385275\" cy=\"127.92876471262977\" r=\"4\"/><circle class=\"bean\" cx=\"394.3192233142896\" cy=\"142.3030767286373\" r=\"4\"/><circle class=\"bean\" cx=\"490.66546153049484\" cy=\"127.94423716650917\" r=\"4\"/><circle class=\"bean\" cx=\"479.690773974087\" cy=\"137.71952401852676\" r=\"4\"/><circle class=\"bean\" cx=\"493.64376449541817\" cy=\"142.33623881496408\" r=\"4\"/>\n",
       "    </svg>"
      ],
      "text/plain": [
       "<IPython.core.display.SVG object>"
      ]
     },
     "execution_count": 5,
     "metadata": {},
     "output_type": "execute_result"
    }
   ],
   "source": [
    "board = np.array([\n",
    "    [4, 6, 4, 2, 3, 4],\n",
    "    [3, 3, 3, 0, 3, 3],\n",
    "])\n",
    "SVG(board_to_svg(board, True,highlight=[(0, 3), (0, 4)]))"
   ]
  },
  {
   "cell_type": "raw",
   "metadata": {},
   "source": [
    "If the pit chosen by the player contains more than 12 seeds, the sowing makes\n",
    "more than a full revolution of the board and the starting hole is skipped during the second\n",
    "and subsequent passes.\n",
    "\n",
    "If the current player's opponent has no seed left in his half board, the\n",
    "current player has to play a move that gives him seeds if such a move exists.\n",
    "This rule is called the \"feed your opponent\".\n",
    "In Fig. `feed` YYY, South has to play the fifth pit because playing the first would leave the opponent without any move to play."
   ]
  },
  {
   "cell_type": "code",
   "execution_count": 6,
   "metadata": {
    "tags": [
     "hc",
     "fig:feed"
    ]
   },
   "outputs": [
    {
     "data": {
      "image/svg+xml": [
       "<svg height=\"240\" width=\"700\">\n",
       "      <style>\n",
       "        circle {\n",
       "          fill: none;\n",
       "          stroke: #000;\n",
       "          stroke-width: 2;\n",
       "        }\n",
       "        .bean {\n",
       "          fill: #000\n",
       "        }\n",
       "        .highlight {\n",
       "          stroke: red;\n",
       "        }\n",
       "      </style>\n",
       "\n",
       "      <circle cx=\"48.0\" cy=\"48.0\" r=\"40\"/><text x=\"82.0\" y=\"82.0\">0</text><circle cx=\"136.0\" cy=\"48.0\" r=\"40\"/><text x=\"170.0\" y=\"82.0\">0</text><circle cx=\"224.0\" cy=\"48.0\" r=\"40\"/><text x=\"258.0\" y=\"82.0\">0</text><circle cx=\"312.0\" cy=\"48.0\" r=\"40\"/><text x=\"346.0\" y=\"82.0\">0</text><circle cx=\"400.0\" cy=\"48.0\" r=\"40\"/><text x=\"434.0\" y=\"82.0\">0</text><circle cx=\"488.0\" cy=\"48.0\" r=\"40\"/><text x=\"522.0\" y=\"82.0\">0</text><circle cx=\"48.0\" cy=\"136.0\" r=\"40\"/><text x=\"82.0\" y=\"170.0\">2</text><circle cx=\"136.0\" cy=\"136.0\" r=\"40\"/><text x=\"170.0\" y=\"170.0\">0</text><circle cx=\"224.0\" cy=\"136.0\" r=\"40\"/><text x=\"258.0\" y=\"170.0\">0</text><circle cx=\"312.0\" cy=\"136.0\" r=\"40\"/><text x=\"346.0\" y=\"170.0\">0</text><circle class=\"highlight\" cx=\"400.0\" cy=\"136.0\" r=\"40\"/><text x=\"434.0\" y=\"170.0\">3</text><circle cx=\"488.0\" cy=\"136.0\" r=\"40\"/><text x=\"522.0\" y=\"170.0\">0</text>\n",
       "      <circle class=\"bean\" cx=\"53.67043012920275\" cy=\"137.96117876539333\" r=\"4\"/><circle class=\"bean\" cx=\"42.32956987079725\" cy=\"134.03882123460667\" r=\"4\"/><circle class=\"bean\" cx=\"406.96391024098705\" cy=\"131.15191231974134\" r=\"4\"/><circle class=\"bean\" cx=\"392.3194777886281\" cy=\"132.39312066175992\" r=\"4\"/><circle class=\"bean\" cx=\"400.7166119703848\" cy=\"144.45496701849873\" r=\"4\"/>\n",
       "    </svg>"
      ],
      "text/plain": [
       "<IPython.core.display.SVG object>"
      ]
     },
     "execution_count": 6,
     "metadata": {},
     "output_type": "execute_result"
    }
   ],
   "source": [
    "board = np.array([\n",
    "    [0, 0, 0, 0, 0, 0],\n",
    "    [2, 0, 0, 0, 3, 0],\n",
    "])\n",
    "SVG(board_to_svg(board, True,highlight=[(1, 4)]))"
   ]
  },
  {
   "cell_type": "raw",
   "metadata": {},
   "source": [
    "When a player has captured more than 25 seeds the game ends and he wins. If both\n",
    "players have captured 24 seeds, the game ends by a draw. If the current player\n",
    "pits are all empty, the game ends and the player with the most captures wins.\n",
    "\n",
    "The last way to stop the game is when a position is encountered twice in the\n",
    "same game (there is a cycle): the game ends and the player with most captures\n",
    "wins."
   ]
  },
  {
   "cell_type": "raw",
   "metadata": {},
   "source": [
    "Implementation of the rules\n",
    "---------------------------\n",
    "\n",
    "In this subsection, we define in multiple steps a Python :code:`Game()` class holding the state of the game and its rules. We will then succesively inherit from it to add the rules and some sonvenience methods.\n",
    "\n",
    "We set the following encoding conventions:\n",
    " - :code:`0` is South, :code:`1` is North,\n",
    " - player's actions are numbered from :code:`0` to :code:`5`, :code:`0` being to play the leftmost pit in front of him, :code:`5` being playing the rightmost.\n",
    "\n",
    "First, we define a dataclass with the minimal attributes needed to store a state of the game."
   ]
  },
  {
   "cell_type": "code",
   "execution_count": 7,
   "metadata": {
    "tags": [
     "ha"
    ]
   },
   "outputs": [],
   "source": [
    "import numpy as np\n",
    "import itertools\n",
    "from typing import List, Dict, Set, Optional, Tuple"
   ]
  },
  {
   "cell_type": "code",
   "execution_count": 8,
   "metadata": {},
   "outputs": [],
   "source": [
    "from dataclasses import dataclass\n",
    "\n",
    "@dataclass\n",
    "class Game:\n",
    "    pits: np.array # a 2x6 matrix containing the number of seeds in each pits\n",
    "    current_player: int # 0 for South and 1 for North\n",
    "    captures: np.array # the number of seeds captured by each player"
   ]
  },
  {
   "cell_type": "raw",
   "metadata": {},
   "source": [
    "Now that we have defined the fields our dataclass can hold to represent the state of the game,\n",
    "we can inherit from it to add new methods.\n",
    "The first is a static method to instantiate a game state in the initial position, with 4 seeds in each pit."
   ]
  },
  {
   "cell_type": "code",
   "execution_count": 9,
   "metadata": {},
   "outputs": [],
   "source": [
    "class Game(Game):\n",
    "    ...\n",
    "    \n",
    "    @classmethod\n",
    "    def new(klass):\n",
    "        return klass(\n",
    "            # A 6x2 matrix filled with 4 seeds\n",
    "            pits=np.ones(6 * 2, dtype=int) * 4,\n",
    "            # North is the first player\n",
    "            current_player=0,\n",
    "            # No captures have been made\n",
    "            captures=np.zeros(2, dtype=int),\n",
    "        )"
   ]
  },
  {
   "cell_type": "raw",
   "metadata": {},
   "source": [
    "Next, we add some convenient methods that will be useful later."
   ]
  },
  {
   "cell_type": "code",
   "execution_count": 10,
   "metadata": {},
   "outputs": [],
   "source": [
    "class Game(Game):\n",
    "    ...\n",
    "\n",
    "    @property\n",
    "    def view_from_current_player(self) -> List[int]:\n",
    "        '''Returns the board as seen by a player'''\n",
    "        if self.current_player == 0:\n",
    "            return self.pits\n",
    "        else:\n",
    "            return np.roll(self.pits, 6)\n",
    "    \n",
    "    @property\n",
    "    def current_player_pits(self) -> List[int]:\n",
    "        '''Returns a 6-vector containing the pits owned by the current player'''\n",
    "        if self.current_player == 0:\n",
    "            return self.pits[:6]\n",
    "        else:\n",
    "            return self.pits[6:]\n",
    "\n",
    "    @property\n",
    "    def current_opponent(self) -> int:\n",
    "        return (self.current_player + 1) % 2\n",
    "    \n",
    "    @property\n",
    "    def adverse_pits_idx(self) -> List[int]:\n",
    "        '''Returns the indices in the `self.pits` array owned by the opposing player'''\n",
    "        if self.current_player == 1:\n",
    "            return list(range(6))\n",
    "        else:\n",
    "            return list(range(6, 6 * 2))"
   ]
  },
  {
   "cell_type": "raw",
   "metadata": {},
   "source": [
    "Now that the base is set, we start implementing the rules,\n",
    "some of them being deliberately excluded from this implementation:\n",
    "\n",
    "-  Loops in the game state are not checked (this considerably speeds up the computations and we did not encounter a loop in our preliminary work);\n",
    "-  The \"feed your opponent\" rule is removed; This makes the\n",
    "   rules simpler and we expect it does not tremendously change the complexity of the game."
   ]
  },
  {
   "cell_type": "code",
   "execution_count": 11,
   "metadata": {},
   "outputs": [],
   "source": [
    "class Game(Game):\n",
    "    ...\n",
    "    \n",
    "    @property\n",
    "    def legal_actions(self) -> List[int]:\n",
    "        '''Returns a list of indices for each legal action for the current player'''\n",
    "        our_pits = self.current_player_pits\n",
    "        # Return every pit of the player that contains some seeds\n",
    "        return [x for x in range(6) if our_pits[x] != 0]\n",
    "    \n",
    "    @property\n",
    "    def game_finished(self) -> bool:\n",
    "        # Does the current player has an available move ?\n",
    "        no_moves_left = np.sum(self.current_player_pits) == 0\n",
    "        \n",
    "        # Has one player cpatured more than half the total seeds ?\n",
    "        HALF_SEEDS = 24 # (there are 2*6*4=48 seeds in total)\n",
    "        enough_captures = self.captures[0] > HALF_SEEDS or self.captures[1] > HALF_SEEDS\n",
    "        \n",
    "        # Is it a draw ? Does both player have 24 seeds ?\n",
    "        draw = self.captures[0] == HALF_SEEDS and self.captures[1] == HALF_SEEDS\n",
    "        \n",
    "        # If one of the above three are True, the game is finished\n",
    "        return no_moves_left or enough_captures or draw\n",
    "    \n",
    "    @property\n",
    "    def winner(self) -> Optional[int]:\n",
    "        '''Returns the winner of the game or None if the game is not finished or in a draw'''\n",
    "        if not self.game_finished:\n",
    "            return None\n",
    "        # The game is finished but both player have the same amount of seeds: it's a draw\n",
    "        elif self.captures[0] == self.captures[1]:\n",
    "            return None\n",
    "        # Else, there is a winner: the player with the most seeds\n",
    "        else:\n",
    "            return 0 if self.captures[0] > self.captures[1] else 1"
   ]
  },
  {
   "cell_type": "raw",
   "metadata": {},
   "source": [
    "We can now define the :code:`Game.step(i)` method that is called for every step of the game.\n",
    "It takes a single paramter, :code:`i`, and plays the i-th pit in the current sate.\n",
    "This method returns the new state, the amount of seeds captured and a boolean informing whether the game is finished."
   ]
  },
  {
   "cell_type": "code",
   "execution_count": 12,
   "metadata": {},
   "outputs": [],
   "source": [
    "class Game(Game):\n",
    "    ...\n",
    "    \n",
    "    def step(self, action: int) -> Tuple[Game, int, bool]:\n",
    "        '''Plays the action given as parameter and returns:\n",
    "            - a the new state as a new Game object,\n",
    "            - the amount of captured stones in the transition\n",
    "            - a bool indicating if the new state is the end of the game\n",
    "        '''\n",
    "        assert 0 <= action < 6, \"Illegal action\"\n",
    "        \n",
    "        # Translate the action index to a pit index\n",
    "        target_pit = action if self.current_player == 0 else action - 6\n",
    "        \n",
    "        seeds = self.pits[target_pit]\n",
    "        assert seeds != 0, \"Illegal action: pit % is empty\" % target_pit\n",
    "        \n",
    "        # Copy the attributes of `Game` so that the original\n",
    "        # stays immutable\n",
    "        pits = np.copy(self.pits)\n",
    "        captures = np.copy(self.captures)\n",
    "        \n",
    "        # Empty the pit targeted by the player \n",
    "        pits[target_pit] = 0\n",
    "        \n",
    "        # Fill the next pits while there are still seeds\n",
    "        pit_to_sow = target_pit\n",
    "        while seeds > 0:\n",
    "            pit_to_sow = (pit_to_sow + 1) % (6 * 2)\n",
    "            # Do not fill the target pit ever\n",
    "            if pit_to_sow != target_pit:\n",
    "                pits[pit_to_sow] += 1\n",
    "                seeds -= 1\n",
    "\n",
    "        # Count the captures of the play\n",
    "        round_captures = 0\n",
    "        \n",
    "        # If the last seed was in a adverse pit we can try to collect seeds\n",
    "        if pit_to_sow in self.adverse_pits_idx:\n",
    "            # If the pit contains 2 or 3 seeds, we capture them\n",
    "            while pits[pit_to_sow] in (2, 3):\n",
    "                captures[self.current_player] += pits[pit_to_sow]\n",
    "                round_captures += pits[pit_to_sow]\n",
    "                pits[pit_to_sow] = 0\n",
    "                \n",
    "                # Select backwards the next pit to check\n",
    "                pit_to_sow = (pit_to_sow - 1) % (self.n_pits * 2)\n",
    "        \n",
    "        # Change the current player\n",
    "        current_player = (self.current_player + 1) % 2\n",
    "        \n",
    "        # Create the new `Game` instance\n",
    "        new_game = type(self)(\n",
    "            pits,\n",
    "            current_player,\n",
    "            captures\n",
    "        )\n",
    "\n",
    "        return new_game, round_captures, new_game.game_finished\n"
   ]
  },
  {
   "cell_type": "raw",
   "metadata": {},
   "source": [
    "As the game rules are now implemented, we can add some methods to display the current state of the board to the user, either in textual mode or as an SVG file that can be displayed inline in this document."
   ]
  },
  {
   "cell_type": "code",
   "execution_count": 22,
   "metadata": {},
   "outputs": [],
   "source": [
    "class Game(Game):\n",
    "    ...\n",
    "    \n",
    "    def show_state(self):\n",
    "        '''Print a textual representation of the game to the stdandard output'''\n",
    "        if self.game_finished:\n",
    "            print(\"Game finished\")\n",
    "        print(\"Current player: {} - Score: {}/{}\\n{}\".format(\n",
    "            self.current_player,\n",
    "            self.captures[self.current_player],\n",
    "            self.captures[(self.current_player + 1) % 2],\n",
    "            \"-\" * 6 * 3\n",
    "        ))\n",
    "        \n",
    "        pits = []\n",
    "        for seeds in self.view_from_current_player:\n",
    "            pits.append(\"{:3}\".format(seeds))\n",
    "        \n",
    "        print(\"\".join(reversed(pits[6:])))\n",
    "        print(\"\".join(pits[:6]))\n",
    "    \n",
    "    def _repr_svg_(self):\n",
    "        '''Return a SVG file representing the current state to be displayed in a notebook'''\n",
    "        board = np.array([\n",
    "            list(reversed(self.pits[6:])),\n",
    "            self.pits[:6]\n",
    "        ])\n",
    "        return board_to_svg(board, True)"
   ]
  },
  {
   "cell_type": "raw",
   "metadata": {},
   "source": [
    "To show a minimal example of the implementation, we can now play a move and have its results displayed here."
   ]
  },
  {
   "cell_type": "code",
   "execution_count": 27,
   "metadata": {},
   "outputs": [
    {
     "data": {
      "image/svg+xml": [
       "\n",
       "    <svg width=\"700\" height=\"240\">\n",
       "      <style>\n",
       "        circle {\n",
       "          fill: none;\n",
       "          stroke: #000;\n",
       "          stroke-width: 2;\n",
       "        }\n",
       "        .bean {\n",
       "          fill: #000\n",
       "        }\n",
       "        .highlight {\n",
       "          stroke: red;\n",
       "        }\n",
       "      </style>\n",
       "\n",
       "      <circle cx=\"48.0\" cy=\"48.0\" r=\"40\" /><text x=\"82.0\" y=\"82.0\" >4</text><circle cx=\"136.0\" cy=\"48.0\" r=\"40\" /><text x=\"170.0\" y=\"82.0\" >4</text><circle cx=\"224.0\" cy=\"48.0\" r=\"40\" /><text x=\"258.0\" y=\"82.0\" >4</text><circle cx=\"312.0\" cy=\"48.0\" r=\"40\" /><text x=\"346.0\" y=\"82.0\" >5</text><circle cx=\"400.0\" cy=\"48.0\" r=\"40\" /><text x=\"434.0\" y=\"82.0\" >5</text><circle cx=\"488.0\" cy=\"48.0\" r=\"40\" /><text x=\"522.0\" y=\"82.0\" >5</text><circle cx=\"48.0\" cy=\"136.0\" r=\"40\" /><text x=\"82.0\" y=\"170.0\" >4</text><circle cx=\"136.0\" cy=\"136.0\" r=\"40\" /><text x=\"170.0\" y=\"170.0\" >4</text><circle cx=\"224.0\" cy=\"136.0\" r=\"40\" /><text x=\"258.0\" y=\"170.0\" >4</text><circle cx=\"312.0\" cy=\"136.0\" r=\"40\" /><text x=\"346.0\" y=\"170.0\" >4</text><circle cx=\"400.0\" cy=\"136.0\" r=\"40\" /><text x=\"434.0\" y=\"170.0\" >0</text><circle cx=\"488.0\" cy=\"136.0\" r=\"40\" /><text x=\"522.0\" y=\"170.0\" >5</text>\n",
       "      <circle cx=\"51.52521904848266\" cy=\"57.77613577341349\" r=\"4\" class=\"bean\"/><circle cx=\"57.77613577341349\" cy=\"44.47478095151734\" r=\"4\" class=\"bean\"/><circle cx=\"44.47478095151734\" cy=\"38.22386422658651\" r=\"4\" class=\"bean\"/><circle cx=\"38.22386422658651\" cy=\"51.52521904848266\" r=\"4\" class=\"bean\"/><circle cx=\"140.00574411707757\" cy=\"38.410734435396094\" r=\"4\" class=\"bean\"/><circle cx=\"126.4107344353961\" cy=\"43.99425588292242\" r=\"4\" class=\"bean\"/><circle cx=\"131.99425588292243\" cy=\"57.589265564603906\" r=\"4\" class=\"bean\"/><circle cx=\"145.58926556460392\" cy=\"52.00574411707758\" r=\"4\" class=\"bean\"/><circle cx=\"233.2888314731568\" cy=\"52.660215645578184\" r=\"4\" class=\"bean\"/><circle cx=\"228.66021564557818\" cy=\"38.7111685268432\" r=\"4\" class=\"bean\"/><circle cx=\"214.7111685268432\" cy=\"43.339784354421816\" r=\"4\" class=\"bean\"/><circle cx=\"219.33978435442182\" cy=\"57.2888314731568\" r=\"4\" class=\"bean\"/><circle cx=\"322.2589132770463\" cy=\"54.22532717004036\" r=\"4\" class=\"bean\"/><circle cx=\"321.09081651756225\" cy=\"40.166925568844796\" r=\"4\" class=\"bean\"/><circle cx=\"307.3595203162961\" cy=\"36.93356659509798\" r=\"4\" class=\"bean\"/><circle cx=\"300.0412093138054\" cy=\"48.993642452688526\" r=\"4\" class=\"bean\"/><circle cx=\"309.2495405752899\" cy=\"59.68053821332834\" r=\"4\" class=\"bean\"/><circle cx=\"411.2049166414778\" cy=\"43.70467194995142\" r=\"4\" class=\"bean\"/><circle cx=\"399.3774099311472\" cy=\"36.01616164969813\" r=\"4\" class=\"bean\"/><circle cx=\"388.41030153491306\" cy=\"44.888908633877556\" r=\"4\" class=\"bean\"/><circle cx=\"393.45976249806654\" cy=\"58.06107814393186\" r=\"4\" class=\"bean\"/><circle cx=\"407.54760939439535\" cy=\"57.329179622541034\" r=\"4\" class=\"bean\"/><circle cx=\"499.43192664474134\" cy=\"44.35156839323343\" r=\"4\" class=\"bean\"/><circle cx=\"488.0627949578003\" cy=\"36.00016430140501\" r=\"4\" class=\"bean\"/><circle cx=\"476.60688277350135\" cy=\"44.232125285620526\" r=\"4\" class=\"bean\"/><circle cx=\"480.8958713584116\" cy=\"57.671161059757175\" r=\"4\" class=\"bean\"/><circle cx=\"495.0025242655454\" cy=\"57.74498095998386\" r=\"4\" class=\"bean\"/><circle cx=\"49.56932292445486\" cy=\"146.27313124411347\" r=\"4\" class=\"bean\"/><circle cx=\"58.27313124411347\" cy=\"134.43067707554513\" r=\"4\" class=\"bean\"/><circle cx=\"46.43067707554514\" cy=\"125.72686875588653\" r=\"4\" class=\"bean\"/><circle cx=\"37.72686875588653\" cy=\"137.56932292445487\" r=\"4\" class=\"bean\"/><circle cx=\"141.46626577745857\" cy=\"127.16145156430167\" r=\"4\" class=\"bean\"/><circle cx=\"127.16145156430167\" cy=\"130.53373422254143\" r=\"4\" class=\"bean\"/><circle cx=\"130.53373422254143\" cy=\"144.83854843569833\" r=\"4\" class=\"bean\"/><circle cx=\"144.83854843569833\" cy=\"141.46626577745857\" r=\"4\" class=\"bean\"/><circle cx=\"233.53804283290572\" cy=\"131.8737742527031\" r=\"4\" class=\"bean\"/><circle cx=\"219.8737742527031\" cy=\"126.46195716709428\" r=\"4\" class=\"bean\"/><circle cx=\"214.46195716709428\" cy=\"140.1262257472969\" r=\"4\" class=\"bean\"/><circle cx=\"228.1262257472969\" cy=\"145.53804283290572\" r=\"4\" class=\"bean\"/><circle cx=\"320.70991241431966\" cy=\"130.33101193025774\" r=\"4\" class=\"bean\"/><circle cx=\"306.3310119302578\" cy=\"127.29008758568033\" r=\"4\" class=\"bean\"/><circle cx=\"303.29008758568034\" cy=\"141.66898806974226\" r=\"4\" class=\"bean\"/><circle cx=\"317.6689880697422\" cy=\"144.7099124143197\" r=\"4\" class=\"bean\"/><circle cx=\"497.8379243360151\" cy=\"129.1286649944249\" r=\"4\" class=\"bean\"/><circle cx=\"484.50505787650434\" cy=\"124.52021866264799\" r=\"4\" class=\"bean\"/><circle cx=\"476.0020826429508\" cy=\"135.77643995567485\" r=\"4\" class=\"bean\"/><circle cx=\"484.079821402627\" cy=\"147.34161363143264\" r=\"4\" class=\"bean\"/><circle cx=\"497.5751137419027\" cy=\"143.23306275581965\" r=\"4\" class=\"bean\"/>\n",
       "    </svg>\n",
       "    "
      ],
      "text/plain": [
       "<Game current_player:1 captures:0/0>"
      ]
     },
     "execution_count": 27,
     "metadata": {},
     "output_type": "execute_result"
    }
   ],
   "source": [
    "g = Game.new() # Create a new game\n",
    "g, captures, done = g.step(4) # play the 5th pit (our implementation starts at 0)\n",
    "g # Display the resulting board inline"
   ]
  },
  {
   "cell_type": "raw",
   "metadata": {},
   "source": [
    "Formal properties and representation of Awale\n",
    "---------------------------------------------\n",
    "\n",
    "Now that we know the rules, we can see that Awale\n",
    "\n",
    "* is sequential: the opponents play one after the other;\n",
    "* hold no secret information: each player has the same information about\n",
    "  the game;\n",
    "* do not rely on randomness: the state of the game depends only on the actions\n",
    "  taken sequentially by each player and an action has a deterministic result.\n",
    "\n",
    "This type of game is called a sequential perfect information game\n",
    ":cite:`osborne1994course`.\n",
    "\n",
    "We can also see that the game is a two player zero-sum game.\n",
    "\n",
    "\n",
    "Convergence.\n",
    "We consider a game to be convergent when the size of the state space decreases as the game progresses. If the size of the state space increases, the game is said to be divergent.\n",
    "In some games games like Chess, Checkers and Awari the players may capture pieces in the course of the game and may never add them back these are called convergent games :cite:`vandenherik2002`.\n",
    "On the contrary, in some others the number of pieces on the board increases over time as a player’s move consists of putting a piece on the board. Examples of these games are Tic-Tac-Toe, Connect Four and Go. Those are divergent.\n",
    "\n",
    "\n",
    "Other games in this category are for example Chess, Go, Checkers or even\n",
    "Tic-tac-toe and Connect Four. Sequential perfect information games are particularly interesting\n",
    "in computer science and artificial intelligence as they are easy to simulate."
   ]
  },
  {
   "cell_type": "raw",
   "metadata": {},
   "source": [
    "Perfect information games as finite state machines\n",
    "~~~~~~~~~~~~~~~~~~~~~~~~~~~~~~~~~~~~~~~~~~~~~~~~~~\n",
    "\n",
    "When viewed from an external point of view, these types of games can be\n",
    "modelized as finite states machines with boards being states (the initial board\n",
    "is the initial state), each player's action being a transition and wins and draws\n",
    "being terminal states.\n",
    "\n",
    "It might be tempting to try to enumerate every possible play of those games by\n",
    "starting a game and recursively trying each legal action until the end of the game\n",
    "to find the best move for each state.\n",
    "\n",
    "Unfortunately, most of the time, this is not a feasible approach due to the size\n",
    "of the state space. As an example, Romein et al. claims that Awale has\n",
    "889,063,398,406 legal positions :cite:`romein2003solving` and the exact number\n",
    "(:math:`\\approx 2.08 \\times 10^{170}`) of legal positions in Go (another popular perfect information game)\n",
    "is so big that it has only recently been determined :cite:`tromp2016`. Such state space are too\n",
    "big to be quickly enumerated."
   ]
  },
  {
   "cell_type": "raw",
   "metadata": {},
   "source": [
    "Tree representation\n",
    "~~~~~~~~~~~~~~~~~~~\n",
    "\n",
    "A [combinatorial game XXX] like Awale can be represented as a tree in a straightforward way where every node is a state of the game.\n",
    "The root of the tree represents the initial state.\n",
    "If in a state :math:`s` the current player plays action :math:`i` resulting in state :math:`s'` then :math:`s'` will be the i-th child of the node representing :math:`s`.\n",
    "\n",
    "This results in the following properties:\n",
    "    - As the current player at the root node is South and that players alternate after each turn,\n",
    "      the tree containsalternating layers of current players:\n",
    "      the current player for nodes with an even depth is South and for odd depths is North;\n",
    "    - The leaf nodes of the tree correspond to final states;\n",
    "    - The path from the root to a leaf thus represents an instance of a full game.\n",
    "   \n",
    ".. todo:: Insert a figure of an tree here\n",
    "\n",
    "\n",
    "We can now define the branching factor: the maximum number of children of a node in the game.\n",
    "In Awale the player can choose to sow his seeds from one of his non-empty pits.\n",
    "As the player has 6 pits, the branching factor is 6.\n",
    "\n",
    "We now implement this tree representation in Python by inheriting from :code:`Game()` class previously defined so that a state can hold references to its parent and children."
   ]
  },
  {
   "cell_type": "code",
   "execution_count": 15,
   "metadata": {},
   "outputs": [],
   "source": [
    "from typing import Optional, List\n",
    "from dataclasses import field\n",
    "\n",
    "@dataclass\n",
    "class TreeGame(Game):\n",
    "    # Hold an optional reference to the parent state\n",
    "    parent: Optional[Game] = None\n",
    "    # Hold a list of 6 optional references to the children\n",
    "    children: List[Optional[Game]] = field(default_factory=lambda: [None] * 6)"
   ]
  },
  {
   "cell_type": "raw",
   "metadata": {},
   "source": [
    "Next, we overload the ``Game.step(i)`` method so that we do not compute twice state if it was already in the tree. If a new node was generated, we keep a reference to the parent when we create a new child."
   ]
  },
  {
   "cell_type": "code",
   "execution_count": 16,
   "metadata": {},
   "outputs": [],
   "source": [
    "class TreeGame(TreeGame):\n",
    "    ...\n",
    "    \n",
    "    def step(self, action):\n",
    "        # If we already did compute the children node, just return it\n",
    "        if self.children[action] is not None:\n",
    "            new_game = self.children[action]\n",
    "            captures = new_game.captures[self.current_player] - self.captures[self.current_player]\n",
    "            return new_game, captures, new_game.game_finished\n",
    "        # If not, call the original `step()` method and keep references in both directions\n",
    "        else:\n",
    "            new_game, captures, finished = super().step(action)\n",
    "            new_game.parent = self\n",
    "            self.children[action] = new_game\n",
    "            return new_game, captures, finished"
   ]
  },
  {
   "cell_type": "code",
   "execution_count": 17,
   "metadata": {},
   "outputs": [],
   "source": [
    "class TreeGame(TreeGame):\n",
    "    ...\n",
    "\n",
    "    @property\n",
    "    def successors(self):\n",
    "        children = [x for x in self.children if x is not None]\n",
    "        successors = children + list(itertools.chain(*[x.successors for x in children]))\n",
    "        return successors\n",
    "    \n",
    "    @property\n",
    "    def unvisited_actions(self):\n",
    "        return [i for i, x in enumerate(self.children) if x is None]\n",
    "\n",
    "    @property\n",
    "    def legal_unvisited_actions(self):\n",
    "        return list(set(self.unvisited_actions).intersection(set(self.legal_actions)))\n",
    "    \n",
    "    @property\n",
    "    def expanded_children(self):\n",
    "        return [x for x in self.children if x is not None]\n",
    "    \n",
    "    @property\n",
    "    def is_fully_expanded(self):\n",
    "        legal_actions = set(self.legal_actions)\n",
    "        unvisited_actions = set(self.unvisited_actions)\n",
    "        return len(legal_actions.intersection(unvisited_actions)) == 0\n",
    "    \n",
    "    @property\n",
    "    def is_leaf_game(self):\n",
    "        return self.children == [None] * 6\n",
    "    \n",
    "    @property\n",
    "    def depth(self):\n",
    "        if self.parent is None:\n",
    "            return 0\n",
    "        return 1 + self.parent.depth"
   ]
  },
  {
   "cell_type": "raw",
   "metadata": {},
   "source": [
    "================================================\n",
    "Artificial Intelligence approaches to play Awale\n",
    "================================================\n",
    "\n",
    "Many algorithms have been proposed and studied to play [sequential perfect information XXX] games.\n",
    "A few examples detailed here are retrograde analysis, Minimax, :math:`\\alpha-\\beta` pruning,\n",
    "Monte Carlo tree search (MCTS) and the new approch from Deepmind: Alpha Zero :cite:`AlphaGoZero`.\n",
    "\n",
    "We will quickly present those and then focus on MCTS and its variants as they are computationaly feasible and do not require expert knowledge about the given game to make reasonable decisions.\n",
    "\n",
    "Solving games\n",
    "-------------\n",
    "\n",
    "**Theorem** :cite:`neumann1928` In every two-player game (with perfect information) in which the set of outcomes is :math:`0 = \\{I \\, wins, II \\, wins, Draw\\}`, one and only one of the following three alternatives holds:\n",
    " 1. Player :math:`I` has a winning strategy\n",
    " 2. Player :math:`II` has a winning strategy\n",
    " 3. Each of the two players has a strategy guaranteeing at least a draw.\n",
    " \n",
    "Solve a position.\n",
    "\n",
    "A game where all positions are solved is a solved game\n",
    "\n",
    "Define:\n",
    " - agent policy\n",
    " \n",
    "As stated in Section XXX, the branching factor of Awale is 6. This is very small compared to the branching factor of 19 for the game of Go and makes Awale much easier to explore and play.\n",
    "\n",
    "If we build the complete tree, we compute every possible state in the game and every\n",
    "leaf of the tree is a final state (end of a game). As said, previously, computing the complete tree is not\n",
    "ideal for Awale (it has :math:`\\approx 8 \\times 10^{11}` nodes) and\n",
    "computationally impossible for games with a high branching factor (unless very shallow).\n",
    "\n",
    "\n",
    "\n",
    "A strongly solved game is defined by Allis :cite:`Allis94searchingfor` as:\n",
    "\n",
    "    For all legal positions, a strategy has been determined to\n",
    "    obtain the game-theoretic value of the position, for both players, under\n",
    "    reasonable resources.\n",
    "\n",
    "A solved game is, of course, much less interesting to study than an\n",
    "unsolved one as we could just create an agent that has the knowledge of each\n",
    "game-theoretic position values and can thus perfectly play.\n",
    "\n",
    "(:math:`m,n`)-Kalah is a game in the Mancala family with :math:`m` pits per\n",
    "side and :math:`n` seeds in each pit plus two extra pits with a special role.\n",
    "It has been solved in 2000 for :math:`m \\leq 6`  and :math:`n\n",
    "\\leq 6` except (:math:`6,6`) by :cite:`irving2000solving` and in\n",
    "2011 for :math:`n = 6, m=6` by :cite:`kalah66`.\n",
    "\n",
    "\n",
    "\n",
    "The above-mentioned results for Kalah and Awale both use an almost brute-force\n",
    "method to solve the game and use a database of all possible states. The database\n",
    "used by :cite:`romein2003solving` has 204 billion entries and weighs 178GiB.\n",
    "Such a huge database is of course not practical and  we thus think  there is still room for\n",
    "improvement if we can create an agent with a policy that does not need a\n",
    "exhaustive database, even if the agent is not capable of a perfect play.\n",
    "\n",
    "\n",
    "\n",
    "Retrograde analysis\n",
    "-------------------\n",
    "\n",
    "\n",
    "For both divergent and convergent games search algorithms can prove the game result for positions near\n",
    "the end of a game. However, for divergent games the number of endgame\n",
    "positions is so big that enumerating all of them is computationally impossible (except for trivial\n",
    "games like Tic-Tac-Toe). However, for convergent games, the number of positions\n",
    "near the end of the game is small. Usually small enough to traverse them all, and collect\n",
    "their game values in a database, a so called endgame database.\n",
    "\n",
    "Retrograde Analysis computes endgame databases by going backward from values of final\n",
    "positions towards the initial position :cite:`goot2001`.\n",
    "First, Retrograde Analysis identifies all final positions in which the game value is known.\n",
    "By making reverse moves from these final positions the game value of some non-final positions can be deduced. And by making reverse moves from these newly proven non-final positions, the game value of other non-final positions can be deduced. This can continue either by running of available memory or by having enumerated all the legal positions in the game.\n",
    "\n",
    "Ströhlein was the first researcher who came up with the idea to create endgame databases and applied his idea to chess :cite:`endgame1970`.\n",
    "The first endgame database for Awale was created by :cite:`allis1995` and was followed by many others, while the quest was ended by :cite:`romein2003solving` publishing a database for all legal positions.\n",
    "\n",
    "Their claim from :cite:`romein2003solving` has since been challenged by Víktor Bautista i Roca in a paper published in XXX.\n",
    "Bautista i Roca claims that several end states in the database are incorrect and that the proof is thus invalid.\n",
    "As both the database made by Romein and the paper by Bautista i Roca are not anymore available\n",
    "publicly, we cannot know who is right.\n",
    "\n",
    "Furthermore, Ramein makes in his paper an assumption without proof that \n",
    "\n",
    "    Although captured stones\n",
    "    contribute to a position's final outcome, the best\n",
    "    move from a position does not depend on them.\n",
    "\n",
    "We do not provide a proof that this assumption is false, but it seems incorrect to us and think it would deserve a more formal explanation. Indeed, we can think of a mind experiment where XXX\n",
    "\n",
    ".. todo:: Formal proof for Romein \n",
    "\n",
    "\n",
    "Minimax\n",
    "-------\n",
    "\n",
    "\n",
    "Monte Carlo Tree Search\n",
    "-----------------------\n",
    "\n",
    "In this subsection, we define Markov Decision Processes (MDP) and modelize Awale with this framework. We then describe and detail Monte Carlo Tree Search, a policy-optimization algorithm for finite-horizon, finite-size MDPs based on random episode sampling structured by a decision tree. \n",
    "\n",
    "Markov descision processes\n",
    "~~~~~~~~~~~~~~~~~~~~~~~~~~\n",
    "\n",
    "A Markov Decision Process is a stochastic model for reward-incentivized, memoryless, sequential decision-making.\n",
    "An MDP models a scenario in which an agent iteratively observes the\n",
    "current state, selects an action, observes a consequential probabilistic state transition, and receives a reward\n",
    "according to the outcome.\n",
    "Importantly, the agent decides each action based on the current state alone and not the full history of past states, providing a Markov independence property :cite:`markov1954`.\n",
    "\n",
    "Mathematically, an MDP consists of the following components:\n",
    " - a state space, :math:`X` ;\n",
    " - an action space, :math:`A`;\n",
    " - a transition probability function, :math:`P : X × A × X \\rightarrow [0, 1]`; and\n",
    " - a reward function, :math:`R : X × A \\rightarrow [0, 1]`.\n",
    "\n",
    "If all transitions from a state have zero probability, the state is called a terminal state. By analyst, states that are not terminal are called nonterminal.\n",
    "\n",
    "\n",
    "We can model a game of Awale from the point of view of South as a MDP like this:\n",
    " - :math:`X` is the set of game state where South is the current player;\n",
    " - :math:`A` is :math:`[1;6]`, South playing one of the 6 pits;\n",
    " - :math:`R` is :math:`0` for every nonterminal state, :math:`1` when South wins, :math:`-1` when he loses and :math:`0` for a draw.\n",
    "\n",
    ":math:`P` is :math:`0` for every state if the game is finished. Otherwise, :math:`P` is determined by the policy of North: XXX\n",
    "\n",
    "The same can be done for the point of view of North.\n",
    "\n",
    ".. TODO:: Vu qu'on a un MDP, on serait tenté du'iliser le framework classique de Q learning\n",
    "        mais vu la taille de l'espace, on ne peut pas -> MCTS résoud bien ça\n",
    "      \n",
    "        \n",
    "\n",
    "Monte Carlo Tree Search principle\n",
    "~~~~~~~~~~~~~~~\n",
    "\n",
    "\n",
    "\n",
    "To overcome this computational problem, the MCTS method constructs only a part\n",
    "of the tree by sampling and tries to estimate the chance of winning based on\n",
    "this information.\n",
    "\n",
    "Algorithm\n",
    "~~~~~~~~\n",
    "\n",
    ".. figure:: _static/mcts-algorithm.png\n",
    "\n",
    "   The 4 steps of MCTS :cite:`chaslot2008monte`\n",
    "\n",
    "\n",
    "The (partial) tree is constructed as follows:\n",
    "\n",
    "* Selection: starting at the root node, recursively choose a child until\n",
    "  a leaf :math:`L` is reached\n",
    "* Expansion: if :math:`L` is not a terminal node\\footnote{As the tree is\n",
    "  not complete, a leaf could be a node that is missing its children, not\n",
    "  necessarily a terminal state}, create a child :math:`C`\n",
    "* Simulation: run a playout from :math:`C` until a terminal node :math:`T` is\n",
    "  reached (play a full game)\n",
    "* Backpropagation: update the counters described below of each ancestor\n",
    "  of :math:`T`.\n",
    "\n",
    "\n",
    "Each node holds 3 counters : (:math:`W_S`), the number of simulations using this node ended that\n",
    "with a win for South;  and North (:math:`W_N`). From this\n",
    "counters, a probability of North winning conditional on a given action can be computed\n",
    "immediately: :math:`\\frac{W_N}{N}`.\n",
    "\n",
    "This sampling can be ran as many times as allowed (most of the\n",
    "time, the agent is time constrained). One can also stop the sampling earlier if\n",
    "\n",
    "each time refining the probability of\n",
    "winning when choosing a child of the root node. When we are done sampling, the\n",
    "agent chooses the child with the highest probability of winning and plays the\n",
    "corresponding action in the game.\n",
    "\n",
    "the total number of times a node has been played during a\n",
    "sampling iteration (:math:`N`)"
   ]
  },
  {
   "cell_type": "code",
   "execution_count": 28,
   "metadata": {},
   "outputs": [],
   "source": [
    "@dataclass\n",
    "class TreeStatsGame(TreeGame):\n",
    "    wins: np.array = field(default_factory=np.zeros(2, dtype=int))\n",
    "    n_playouts: int = 0\n",
    "    \n",
    "    \n",
    "    def update_stats(self, winner):\n",
    "        assert winner in [0, 1]\n",
    "        self.wins[winner] += 1\n",
    "        self.n_playouts += 1\n",
    "        if self.parent:\n",
    "            self.parent.update_stats(winner)"
   ]
  },
  {
   "cell_type": "raw",
   "metadata": {},
   "source": [
    "================================\n",
    "Monte Carlo tree search variants\n",
    "================================\n",
    "\n",
    "Node Selection\n",
    "--------------\n",
    "\n",
    "In step 1 and 3 of the algorithm, we have to choose nodes.\n",
    "There are multiples ways to choose those.\n",
    "\n",
    "In the original MCTS we take a child at random each time.\n",
    "This is easy to implement but it is not effective as it explores every part of the tree even if a part has no chance of leading to a win for the player."
   ]
  },
  {
   "cell_type": "raw",
   "metadata": {},
   "source": [
    "Upper Confidence Bounds for Trees\n",
    "---------------------------------\n",
    "\n",
    "A better method would be asymmetric and explore more often the interesting parts of the\n",
    "tree. Kocsis and Szepervari :cite:`kocsis2006bandit` defined Upper Confidence\n",
    "Bounds for Trees (UCT), a method mixing vanilla MCTS and Upper Confidence Bounds\n",
    "(UCB).\n",
    "\n",
    "Indeed, in step 1, selecting the node during the tree descent that maximizes the\n",
    "probability of winning is analogous to the multi-armed bandit problem in which a\n",
    "player has to choose the slot machine that maximizes the estimated reward.\n",
    "\n",
    "The UCB is \n",
    "\n",
    ".. math::\n",
    "\n",
    "    \\frac{W_1}{N} + c \\times \\sqrt{\\frac{ln N'}{N}},\n",
    "\n",
    "where :math:`N'` is the number of times the\n",
    "parent node has been visited and :math:`c` is a parameter that can be tuned to balance exploitation of known wins and exploration of\n",
    "less visited nodes. Kocsis et al. has shown that :math:`\\frac{\\sqrt{2}}{2}`\n",
    ":cite:`kocsis2006bandit` is a good value when rewards are in :math:`[0, 1]`.\n",
    "\n",
    "In step 3, the playouts are played at random as it is the first time these nodes\n",
    "are seen and we do not have a generic evaluation function do direct the playout\n",
    "towards 'better' states."
   ]
  },
  {
   "cell_type": "raw",
   "metadata": {},
   "source": [
    "Informed UCT\n",
    "------------\n",
    "\n",
    "Citation:\n",
    "\n",
    "> Surprisingly,\n",
    "> increasing the bias in the random play-outs can\n",
    "> occasionally weaken the strength of a program using the\n",
    "> UCT algorithm even when the bias is correlated with Go\n",
    "> playing strength. One instance of this was reported by Gelly\n",
    "> and Silver [#GS07]_, and our group observed a drop in strength\n",
    "> when the random play-outs were encouraged to form patterns\n",
    "> commonly occurring in computer Go games [#Fly08]_."
   ]
  },
  {
   "cell_type": "raw",
   "metadata": {},
   "source": [
    "Alpha Zero\n",
    "----------\n",
    "\n",
    "To replace the random play in step 3, D. Silver et al. propose\n",
    ":cite:`AlphaGoZero` to use a neural network to estimate the value of a\n",
    "game state without having to play it. This can greatly enhances the performance\n",
    "of the algorithm as much less playouts are required."
   ]
  },
  {
   "cell_type": "raw",
   "metadata": {},
   "source": [
    "=================\n",
    "Empirical results\n",
    "================="
   ]
  },
  {
   "cell_type": "raw",
   "metadata": {},
   "source": [
    "==========\n",
    "Conculsion\n",
    "=========="
   ]
  },
  {
   "cell_type": "raw",
   "metadata": {},
   "source": [
    "========\n",
    "Appendix\n",
    "========\n",
    "\n",
    "Bibliography\n",
    "------------\n",
    "\n",
    ".. bibliography:: refs.bib\n",
    "   :style: custom"
   ]
  },
  {
   "cell_type": "raw",
   "metadata": {},
   "source": [
    "Footnotes\n",
    "---------\n",
    "\n",
    ".. [#source_kalah] Picture by Adam Cohn under Creative Commonds license https://www.flickr.com/photos/adamcohn/3076571304/\n",
    "\n",
    ".. [#Fly08] Jennifer Flynn. Independent study quarterly reports.\n",
    " http://users.soe.ucsc.edu/~charlie/projects/SlugGo/, 2008\n",
    " \n",
    ".. [#GS07] Sylvain Gelly and David Silver. Combining online and offline\n",
    " knowledge in uct. In ICML ’07: Proceedings of the 24th\n",
    " Internatinoal Conference on Machine Learning, pages 273–280.\n",
    " ACM, 2007."
   ]
  },
  {
   "cell_type": "raw",
   "metadata": {},
   "source": [
    "..\n",
    ".. Although captured stones\n",
    ".. contribute to a position’s final outcome, the best\n",
    ".. move from a position does not depend on them.\n",
    ".. We therefore consider the distribution of only\n",
    ".. uncaptured stones [romein2003] -> false : need proof"
   ]
  }
 ],
 "metadata": {
  "celltoolbar": "Tags",
  "kernelspec": {
   "display_name": "Python 3",
   "language": "python",
   "name": "python3"
  },
  "language_info": {
   "codemirror_mode": {
    "name": "ipython",
    "version": 3
   },
   "file_extension": ".py",
   "mimetype": "text/x-python",
   "name": "python",
   "nbconvert_exporter": "python",
   "pygments_lexer": "ipython3",
   "version": "3.7.7"
  }
 },
 "nbformat": 4,
 "nbformat_minor": 2
}
