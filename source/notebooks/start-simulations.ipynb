{
 "cells": [
  {
   "cell_type": "code",
   "execution_count": 42,
   "metadata": {},
   "outputs": [],
   "source": [
    "import boto3\n",
    "import time\n",
    "import json\n",
    "\n",
    "session = boto3.Session(profile_name='nikita')\n",
    "\n",
    "client = session.client('batch')\n",
    "log_client = session.client('logs')\n",
    "\n",
    "\n",
    "import numpy as np\n",
    "import math"
   ]
  },
  {
   "cell_type": "code",
   "execution_count": 43,
   "metadata": {},
   "outputs": [],
   "source": [
    "def submit_job(a, b, pool, side, timeout):\n",
    "    return client.submit_job(\n",
    "        jobDefinition='simulate',\n",
    "        jobName=pool,\n",
    "        jobQueue='first-run-job-queue',\n",
    "        containerOverrides={\n",
    "            'command': [\"python\", \"simulate.py\"],\n",
    "            'environment': [\n",
    "                {'name': 'PLAYER_A', 'value': a % 0},\n",
    "                {'name': 'PLAYER_B', 'value': b % 1},\n",
    "                {'name': 'POOL','value': pool},\n",
    "                {'name': 'SIDE', 'value': str(side)},\n",
    "            ]\n",
    "        },\n",
    "        timeout={'attemptDurationSeconds': timeout},\n",
    "    )\n",
    "\n",
    "def sumbit_double(a, b, pool, timeout=600):\n",
    "    submit_job(a, b, pool, side=0, timeout=timeout)\n",
    "    submit_job(b, a, pool, side=1, timeout=timeout)"
   ]
  },
  {
   "cell_type": "markdown",
   "metadata": {},
   "source": [
    "## Compare the power of MCTS(5s) vs a wide range of values"
   ]
  },
  {
   "cell_type": "code",
   "execution_count": 34,
   "metadata": {},
   "outputs": [],
   "source": [
    "space = [0.5, 1, 1.5, 2, 3, 5, 7, 10, 15, 20, 30, 40]\n",
    "\n",
    "for i in range(5):\n",
    "    for time in space:\n",
    "            a = \"MCTSPlayer(%s, td(seconds=5))\"\n",
    "            b = f\"MCTSPlayer(%s, td(seconds={time}))\"\n",
    "\n",
    "            sumbit_double(a, b, \"mcts_5s_time_compare_longer\", timeout=60*100)"
   ]
  },
  {
   "cell_type": "markdown",
   "metadata": {},
   "source": [
    "## Compare UTC(c=sqrt(2)/2) vs a range of other values"
   ]
  },
  {
   "cell_type": "code",
   "execution_count": 14,
   "metadata": {},
   "outputs": [
    {
     "data": {
      "text/plain": [
       "array([0.2, 0.4, 0.6, 0.8, 1. , 1.2, 1.4, 1.6, 1.8, 2. , 2.2])"
      ]
     },
     "execution_count": 14,
     "metadata": {},
     "output_type": "execute_result"
    }
   ],
   "source": [
    "space = np.linspace(0, 2, 11) + 0.2\n",
    "space"
   ]
  },
  {
   "cell_type": "raw",
   "metadata": {},
   "source": [
    "for i in range(25):\n",
    "    for c in space:\n",
    "            a = \"UCTPlayer(%s, td(seconds=3), c=1.5)\"\n",
    "            b = f\"UCTPlayer(%s, td(seconds=3), c={c:.2f})\"\n",
    "\n",
    "            sumbit_double(a, b, \"uct(c=sqrt(2)/2)_vs_range\")"
   ]
  },
  {
   "cell_type": "markdown",
   "metadata": {},
   "source": [
    "## Compare UTC(c=1.5) vs a range of other values"
   ]
  },
  {
   "cell_type": "code",
   "execution_count": 17,
   "metadata": {},
   "outputs": [
    {
     "name": "stdout",
     "output_type": "stream",
     "text": [
      "[0.2 0.4 0.6 0.8 1.  1.2 1.4 1.6 1.8 2.  2.2]\n"
     ]
    }
   ],
   "source": [
    "space = np.linspace(0, 2, 11) + 0.2\n",
    "print(space)\n",
    "\n",
    "for i in range(25):\n",
    "    for c in space:\n",
    "            a = \"UCTPlayer(%s, td(seconds=3), c=1.5)\"\n",
    "            b = f\"UCTPlayer(%s, td(seconds=3), c={c:.2f})\"\n",
    "\n",
    "            sumbit_double(a, b, \"uct-1_5-vs-range\")\n",
    "\n",
    "print(\"Done\")"
   ]
  },
  {
   "cell_type": "markdown",
   "metadata": {},
   "source": [
    "## Tournament"
   ]
  },
  {
   "cell_type": "code",
   "execution_count": 50,
   "metadata": {},
   "outputs": [],
   "source": [
    "algos = [\n",
    "    \"RandomPlayer(%i)\",\n",
    "    \"GreedyPlayer(%i, 0.9)\",\n",
    "    \"MCTSPlayer(%i, td(seconds=5))\",\n",
    "    \"UCTPlayer(%i, td(seconds=5), c=math.sqrt(2)/2)\",\n",
    "    \"GreedyUCTPlayer(%i, td(seconds=5), c=math.sqrt(2)/2)\",\n",
    "]\n",
    "\n",
    "for i in range(10):\n",
    "    for a in algos:\n",
    "        for b in algos:\n",
    "            sumbit_double(a, b, \"tournament-1\")"
   ]
  },
  {
   "cell_type": "code",
   "execution_count": null,
   "metadata": {},
   "outputs": [],
   "source": []
  }
 ],
 "metadata": {
  "kernelspec": {
   "display_name": "Python 3",
   "language": "python",
   "name": "python3"
  },
  "language_info": {
   "codemirror_mode": {
    "name": "ipython",
    "version": 3
   },
   "file_extension": ".py",
   "mimetype": "text/x-python",
   "name": "python",
   "nbconvert_exporter": "python",
   "pygments_lexer": "ipython3",
   "version": "3.9.0"
  }
 },
 "nbformat": 4,
 "nbformat_minor": 2
}
