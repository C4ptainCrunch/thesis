{
 "cells": [
  {
   "cell_type": "code",
   "execution_count": 118,
   "metadata": {},
   "outputs": [],
   "source": [
    "from IPython.display import SVG\n",
    "import math\n",
    "import random\n",
    "import numpy as np"
   ]
  },
  {
   "cell_type": "markdown",
   "metadata": {},
   "source": [
    "Juptyper notebooks and sphinx are both capable of displaying SVG to the user. We will use this feature to display the board to the reader.\n",
    "Here is an example of a basic SVG file:"
   ]
  },
  {
   "cell_type": "code",
   "execution_count": 169,
   "metadata": {},
   "outputs": [
    {
     "data": {
      "image/svg+xml": [
       "<svg height=\"210\" width=\"210\">\n",
       "  <style>\n",
       "    circle {\n",
       "      fill: none;\n",
       "      stroke: #000;\n",
       "      stroke-width: 2;\n",
       "    }\n",
       "    .bean {\n",
       "      fill: #000\n",
       "    }\n",
       "  </style>\n",
       "  <circle cx=\"100\" cy=\"100\" r=\"50\"/>\n",
       "  <circle class=\"bean\" cx=\"100\" cy=\"100\" r=\"4\"/></svg>"
      ],
      "text/plain": [
       "<IPython.core.display.SVG object>"
      ]
     },
     "execution_count": 169,
     "metadata": {},
     "output_type": "execute_result"
    }
   ],
   "source": [
    "SVG(\"\"\"\n",
    "<svg width=\"210\" height=\"210\">\n",
    "  <style>\n",
    "    circle {\n",
    "      fill: none;\n",
    "      stroke: #000;\n",
    "      stroke-width: 2;\n",
    "    }\n",
    "    .bean {\n",
    "      fill: #000\n",
    "    }\n",
    "  </style>\n",
    "  <circle cx=\"100\" cy=\"100\" r=\"50\"/>\n",
    "  <circle cx=\"100\" cy=\"100\" r=\"4\" class=\"bean\"/></svg>\n",
    "\"\"\")"
   ]
  },
  {
   "cell_type": "markdown",
   "metadata": {},
   "source": [
    "We can now write a function that takes a board matrix as input and returns a string containing an SVG file"
   ]
  },
  {
   "cell_type": "code",
   "execution_count": 197,
   "metadata": {},
   "outputs": [],
   "source": [
    "radius = 40\n",
    "pit_size = radius*2.2\n",
    "bean_radius = 4\n",
    "bean_size = bean_radius * 2.2\n",
    "grid_bean_size = bean_radius * 3\n",
    "\n",
    "def board_to_svg(pits, show_count=False, highlight=None):\n",
    "    board = \"\"\n",
    "    beans = \"\"\n",
    "    if highlight is None:\n",
    "        highlight = set()\n",
    "\n",
    "    for player in range(pits.shape[0]):\n",
    "        for pit in range(pits.shape[1]):\n",
    "            cx = radius*1.2+pit*pit_size\n",
    "            cy = radius*1.2+player*pit_size\n",
    "            board += '<circle cx=\"{x}\" cy=\"{y}\" r=\"{r}\" {klass}/>'.format(\n",
    "                x=cx,\n",
    "                y=cy,\n",
    "                r=radius,\n",
    "                klass='class=\"highlight\"' if (player, pit) in highlight else ''\n",
    "            )\n",
    "            n_beans = pits[player][pit]\n",
    "            if show_count:\n",
    "                board += '<text x=\"{x}\" y=\"{y}\" >{n}</text>'.format(\n",
    "                    x=cx + radius * 0.85,\n",
    "                    y=cy + radius * 0.85,\n",
    "                    n=n_beans\n",
    "                )\n",
    "            if n_beans == 0:\n",
    "                pass\n",
    "            elif n_beans <= 6:\n",
    "                distance = math.sqrt(bean_radius * (n_beans - 1)) * 3\n",
    "                start_angle = random.random() * math.pi\n",
    "                for i in range(n_beans):\n",
    "                    angle = i * 2 * math.pi / n_beans\n",
    "                    bx = cx + math.sin(start_angle + angle) * distance\n",
    "                    by = cy + math.cos(start_angle + angle) * distance\n",
    "                    beans += '<circle cx=\"{x}\" cy=\"{y}\" r=\"{r}\" class=\"bean\"/>'.format(x=bx, y=by, r=bean_radius)\n",
    "            else:\n",
    "                grid_width = math.ceil(math.sqrt(n_beans))\n",
    "                offset = grid_bean_size * grid_width / 3\n",
    "                for i in range(n_beans):\n",
    "                    bx = cx - offset + (i % grid_width) * grid_bean_size\n",
    "                    by = cy - offset + (i // grid_width) * grid_bean_size\n",
    "                    beans += '<circle cx=\"{x}\" cy=\"{y}\" r=\"{r}\" class=\"bean\"/>'.format(x=bx, y=by, r=bean_radius)\n",
    "\n",
    "\n",
    "    return \"\"\"\n",
    "    <svg width=\"700\" height=\"240\">\n",
    "      <style>\n",
    "        circle {\n",
    "          fill: none;\n",
    "          stroke: #000;\n",
    "          stroke-width: 2;\n",
    "        }\n",
    "        .bean {\n",
    "          fill: #000\n",
    "        }\n",
    "        .highlight {\n",
    "          stroke: red;\n",
    "        }\n",
    "      </style>\n",
    "\n",
    "      %s\n",
    "      %s\n",
    "    </svg>\n",
    "    \"\"\" % (board, beans)"
   ]
  },
  {
   "cell_type": "markdown",
   "metadata": {},
   "source": [
    "Here is an example with a board generated at random"
   ]
  },
  {
   "cell_type": "code",
   "execution_count": 198,
   "metadata": {},
   "outputs": [
    {
     "data": {
      "image/svg+xml": [
       "<svg height=\"240\" width=\"700\">\n",
       "      <style>\n",
       "        circle {\n",
       "          fill: none;\n",
       "          stroke: #000;\n",
       "          stroke-width: 2;\n",
       "        }\n",
       "        .bean {\n",
       "          fill: #000\n",
       "        }\n",
       "        .highlight {\n",
       "          stroke: red;\n",
       "        }\n",
       "      </style>\n",
       "\n",
       "      <circle cx=\"48.0\" cy=\"48.0\" r=\"40\"/><text x=\"82.0\" y=\"82.0\">10</text><circle cx=\"136.0\" cy=\"48.0\" r=\"40\"/><text x=\"170.0\" y=\"82.0\">8</text><circle cx=\"224.0\" cy=\"48.0\" r=\"40\"/><text x=\"258.0\" y=\"82.0\">11</text><circle cx=\"312.0\" cy=\"48.0\" r=\"40\"/><text x=\"346.0\" y=\"82.0\">3</text><circle cx=\"400.0\" cy=\"48.0\" r=\"40\"/><text x=\"434.0\" y=\"82.0\">2</text><circle class=\"highlight\" cx=\"488.0\" cy=\"48.0\" r=\"40\"/><text x=\"522.0\" y=\"82.0\">0</text><circle cx=\"48.0\" cy=\"136.0\" r=\"40\"/><text x=\"82.0\" y=\"170.0\">4</text><circle cx=\"136.0\" cy=\"136.0\" r=\"40\"/><text x=\"170.0\" y=\"170.0\">6</text><circle cx=\"224.0\" cy=\"136.0\" r=\"40\"/><text x=\"258.0\" y=\"170.0\">3</text><circle cx=\"312.0\" cy=\"136.0\" r=\"40\"/><text x=\"346.0\" y=\"170.0\">2</text><circle cx=\"400.0\" cy=\"136.0\" r=\"40\"/><text x=\"434.0\" y=\"170.0\">0</text><circle cx=\"488.0\" cy=\"136.0\" r=\"40\"/><text x=\"522.0\" y=\"170.0\">12</text>\n",
       "      <circle class=\"bean\" cx=\"32.0\" cy=\"32.0\" r=\"4\"/><circle class=\"bean\" cx=\"44.0\" cy=\"32.0\" r=\"4\"/><circle class=\"bean\" cx=\"56.0\" cy=\"32.0\" r=\"4\"/><circle class=\"bean\" cx=\"68.0\" cy=\"32.0\" r=\"4\"/><circle class=\"bean\" cx=\"32.0\" cy=\"44.0\" r=\"4\"/><circle class=\"bean\" cx=\"44.0\" cy=\"44.0\" r=\"4\"/><circle class=\"bean\" cx=\"56.0\" cy=\"44.0\" r=\"4\"/><circle class=\"bean\" cx=\"68.0\" cy=\"44.0\" r=\"4\"/><circle class=\"bean\" cx=\"32.0\" cy=\"56.0\" r=\"4\"/><circle class=\"bean\" cx=\"44.0\" cy=\"56.0\" r=\"4\"/><circle class=\"bean\" cx=\"124.0\" cy=\"36.0\" r=\"4\"/><circle class=\"bean\" cx=\"136.0\" cy=\"36.0\" r=\"4\"/><circle class=\"bean\" cx=\"148.0\" cy=\"36.0\" r=\"4\"/><circle class=\"bean\" cx=\"124.0\" cy=\"48.0\" r=\"4\"/><circle class=\"bean\" cx=\"136.0\" cy=\"48.0\" r=\"4\"/><circle class=\"bean\" cx=\"148.0\" cy=\"48.0\" r=\"4\"/><circle class=\"bean\" cx=\"124.0\" cy=\"60.0\" r=\"4\"/><circle class=\"bean\" cx=\"136.0\" cy=\"60.0\" r=\"4\"/><circle class=\"bean\" cx=\"208.0\" cy=\"32.0\" r=\"4\"/><circle class=\"bean\" cx=\"220.0\" cy=\"32.0\" r=\"4\"/><circle class=\"bean\" cx=\"232.0\" cy=\"32.0\" r=\"4\"/><circle class=\"bean\" cx=\"244.0\" cy=\"32.0\" r=\"4\"/><circle class=\"bean\" cx=\"208.0\" cy=\"44.0\" r=\"4\"/><circle class=\"bean\" cx=\"220.0\" cy=\"44.0\" r=\"4\"/><circle class=\"bean\" cx=\"232.0\" cy=\"44.0\" r=\"4\"/><circle class=\"bean\" cx=\"244.0\" cy=\"44.0\" r=\"4\"/><circle class=\"bean\" cx=\"208.0\" cy=\"56.0\" r=\"4\"/><circle class=\"bean\" cx=\"220.0\" cy=\"56.0\" r=\"4\"/><circle class=\"bean\" cx=\"232.0\" cy=\"56.0\" r=\"4\"/><circle class=\"bean\" cx=\"312.5624211878406\" cy=\"56.46662166436342\" r=\"4\"/><circle class=\"bean\" cx=\"319.0510988516501\" cy=\"43.27961813152174\" r=\"4\"/><circle class=\"bean\" cx=\"304.3864799605093\" cy=\"44.25376020411484\" r=\"4\"/><circle class=\"bean\" cx=\"404.28642439939364\" cy=\"52.1984003939933\" r=\"4\"/><circle class=\"bean\" cx=\"395.71357560060636\" cy=\"43.8015996060067\" r=\"4\"/><circle class=\"bean\" cx=\"49.98393720939389\" cy=\"146.20117606696317\" r=\"4\"/><circle class=\"bean\" cx=\"58.20117606696318\" cy=\"134.0160627906061\" r=\"4\"/><circle class=\"bean\" cx=\"46.01606279060611\" cy=\"125.79882393303681\" r=\"4\"/><circle class=\"bean\" cx=\"37.798823933036815\" cy=\"137.9839372093939\" r=\"4\"/><circle class=\"bean\" cx=\"141.7855475225015\" cy=\"123.89514808579317\" r=\"4\"/><circle class=\"bean\" cx=\"128.40966449449894\" cy=\"124.93714291360816\" r=\"4\"/><circle class=\"bean\" cx=\"122.62411697199744\" cy=\"137.041994827815\" r=\"4\"/><circle class=\"bean\" cx=\"130.2144524774985\" cy=\"148.10485191420682\" r=\"4\"/><circle class=\"bean\" cx=\"143.59033550550103\" cy=\"147.06285708639183\" r=\"4\"/><circle class=\"bean\" cx=\"149.37588302800256\" cy=\"134.958005172185\" r=\"4\"/><circle class=\"bean\" cx=\"227.70358216270458\" cy=\"128.3656382608566\" r=\"4\"/><circle class=\"bean\" cx=\"215.53665771086958\" cy=\"136.6097846316666\" r=\"4\"/><circle class=\"bean\" cx=\"228.75976012642582\" cy=\"143.02457710747677\" r=\"4\"/><circle class=\"bean\" cx=\"314.5550013940708\" cy=\"130.57119093388835\" r=\"4\"/><circle class=\"bean\" cx=\"309.4449986059292\" cy=\"141.42880906611165\" r=\"4\"/><circle class=\"bean\" cx=\"472.0\" cy=\"120.0\" r=\"4\"/><circle class=\"bean\" cx=\"484.0\" cy=\"120.0\" r=\"4\"/><circle class=\"bean\" cx=\"496.0\" cy=\"120.0\" r=\"4\"/><circle class=\"bean\" cx=\"508.0\" cy=\"120.0\" r=\"4\"/><circle class=\"bean\" cx=\"472.0\" cy=\"132.0\" r=\"4\"/><circle class=\"bean\" cx=\"484.0\" cy=\"132.0\" r=\"4\"/><circle class=\"bean\" cx=\"496.0\" cy=\"132.0\" r=\"4\"/><circle class=\"bean\" cx=\"508.0\" cy=\"132.0\" r=\"4\"/><circle class=\"bean\" cx=\"472.0\" cy=\"144.0\" r=\"4\"/><circle class=\"bean\" cx=\"484.0\" cy=\"144.0\" r=\"4\"/><circle class=\"bean\" cx=\"496.0\" cy=\"144.0\" r=\"4\"/><circle class=\"bean\" cx=\"508.0\" cy=\"144.0\" r=\"4\"/>\n",
       "    </svg>"
      ],
      "text/plain": [
       "<IPython.core.display.SVG object>"
      ]
     },
     "execution_count": 198,
     "metadata": {},
     "output_type": "execute_result"
    }
   ],
   "source": [
    "random_board = np.random.randint(0, 15, (2, 6))\n",
    "SVG(board_to_svg(random_board, show_count=True, highlight=[(0, 5)]))"
   ]
  },
  {
   "cell_type": "code",
   "execution_count": null,
   "metadata": {},
   "outputs": [],
   "source": []
  }
 ],
 "metadata": {
  "kernelspec": {
   "display_name": "Python 3",
   "language": "python",
   "name": "python3"
  },
  "language_info": {
   "codemirror_mode": {
    "name": "ipython",
    "version": 3
   },
   "file_extension": ".py",
   "mimetype": "text/x-python",
   "name": "python",
   "nbconvert_exporter": "python",
   "pygments_lexer": "ipython3",
   "version": "3.7.7"
  }
 },
 "nbformat": 4,
 "nbformat_minor": 2
}
